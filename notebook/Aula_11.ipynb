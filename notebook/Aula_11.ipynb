{
  "cells": [
    {
      "cell_type": "markdown",
      "metadata": {
        "id": "ystYaKIiY2wS"
      },
      "source": [
        "# Aula 11 - Análise Fatorial"
      ]
    },
    {
      "cell_type": "markdown",
      "source": [
        "*Descobrir e analisar a estrutura de um conjunto de variáveis inter-relacionadas, de modo a construir uma escala de medida para fatores (intrínsecos) que, de alguma forma (mais ou menos explícita), controla as variáveis originais* (MAROCO, 2007).\n",
        "\n",
        "Busca sintetizar as relações observadas entre um conjunto de variáveis inter-relacionadas.\n",
        "\n",
        "Representa um conjunto de variáveis originais observadas por um meio de um menor número de fatores intrínsecos.\n",
        "\n",
        "Objetiva atribuir um escore a constructos (fatores).\n",
        "\n",
        "Reduz dos dados em fatores.\n",
        "- As variáveis que compõem um determinado fator devem ser altamente correlacionadas.\n",
        "- Fator é a combinação linear de variáveis originais.\n",
        "- Representam dimensões latentes (construtos) que resumem ou explicam o conjunto original de variáveis observadas.\n",
        "\n",
        "SUPOSIÇÕES:\n",
        "- **Normalidade (multivariada) e linearidade**: desvios na normalidade e na linearidade podem reduzir as correlações observadas entre as variáveis e prejudicar a solução\n",
        "- **Matriz de correlações com valores significativos (número substancial de valores superiores a 0,30)**: a matriz de correlações deve apresentar valores altos e significativos para justificar a análise fatorial.\n",
        "- **Tamanho de amostra**: mínimo de 5 observações por variável, sendo recomendado pelo menos 10 observações por variável analisada.\n",
        "\n",
        "ANTES DE INICIAR:\n",
        "- **Verificar viés e outliers**: Afetam a variância, desvio padrão, covariância e correlação.\n",
        "- **A amostra deve ser igual ou superior a 100 observações**: mínimo de 5 vezes mais observações do que o número de variáveis (recomendável 10 observações por variável).\n",
        "\n",
        "TIPOS DE ANÁLISES FATORIAIS:\n",
        "- **Análise exploratória**: o pesquisador tem pouco ou nenhum conhecimento prévio acerca da estrutura de fatores.\n",
        "- **Análise confirmatória**: caso particular de equações estruturais, já que o pesquisador possui algum conhecimento prévio sobre como as variáveis se comportam e relacionam, assim, assume que a estrutura de fatores é conhecida.\n",
        "\n",
        "ETAPAS:\n",
        "1. **Avaliação da adequação da análise**: verificação do cumprimento das suposições necessárias.\n",
        "2. **Extração dos Fatores**: aplicação de métodos de particionamento da variância como análise de componente principal e análise de fator comum para a extração dos fatores.\n",
        "3. **Rotação dos Fatores**: busca converter os fatores em fatores não correlacionados com o objetivo de melhorar a interpretação dos mesmos. Existem vários métodos de rotação (varimax, quartimax, promax...).\n",
        "4. **Interpretação dos Fatores**: "
      ],
      "metadata": {
        "id": "_O4ZCIL9JyaW"
      }
    },
    {
      "cell_type": "markdown",
      "source": [
        "**ROTAÇÃO**:\n",
        "Processo que busca facilitar a interpretação da análise fatorial.\n",
        "\n",
        "Todo tipo de rotação tem um propósito.\n",
        "Rotações Ortogonais requerem que os fatores não sejam correlacionados. O objetivo da rotação ortogonal é simplicidade e generalização.\n",
        "Rotações Oblíquas permite que fatores sejam mais correlacionados e busca obter o melhor ajuste aos dados.\n",
        "\n",
        "REGRAS PARA ROTAÇÃO:\n",
        "- Interpretação é mais fácil com cargas fatoriais maiores.\n",
        "- Cada linha em uma matriz de fatores deve conter, no mínimo, um zero.\n",
        "- Cada coluna deve conter, no mínimo, 'k' zeros.\n",
        "- cada par de colunas em uma matriz deve conter variáveis cujas cargas fatoriais são altas em uma coluna mas baixas em outra coluna.\n",
        "- Para situações com quatro ou mais fatores, todo par de colunas deve ter várias variáveis com cargas nulas em pares de colunas específicos.\n",
        "- Em todo par de colunas, poucas variáveis deve possuir cargas diferentes de zero."
      ],
      "metadata": {
        "id": "EMvcEVG3JguB"
      }
    },
    {
      "cell_type": "markdown",
      "source": [
        "## Exemplo de Análise Fatorial"
      ],
      "metadata": {
        "id": "cz6D9Ke9Maab"
      }
    },
    {
      "cell_type": "markdown",
      "source": [
        "1. Determine a adequação da utilização de análise fatorial:\n",
        "- 1.1 Apresente e interprete a Matriz de Correlações de Pearson.\n",
        "- 1.2 Apresente e interprete os testes de KMO e Bartlett.\n",
        "- 1.3 ~~Apresente e interprete as matrizes de anti-imagem~~.\n",
        "2. Determine o número adequado de fatores (extração dos fatores iniciais).\n",
        "3. Compare os resultados de rotações ortogonais e oblíquas.\n",
        "3. Denomine os fatores (qual a melhor descrição de cada fator definido?)."
      ],
      "metadata": {
        "id": "1bmMPIZ8o4bp"
      }
    },
    {
      "cell_type": "markdown",
      "source": [
        "### Análise da Matriz de correlações e adequação da análise"
      ],
      "metadata": {
        "id": "c3wKZbBS9y2m"
      }
    },
    {
      "cell_type": "markdown",
      "source": [
        "Para a Análise Fatorial, precisaremos do módulo FactorAnalyser. \n",
        "\n",
        "Para isso, instalaremos a biblioteca e importaremos o módulo."
      ],
      "metadata": {
        "id": "DRGxdh1nPMb_"
      }
    },
    {
      "cell_type": "code",
      "source": [
        "# Instalar biblioteca\n",
        "!pip install factor_analyzer\n",
        "\n",
        "# Importar Módulos\n",
        "import numpy as np\n",
        "import pandas as pd\n",
        "import matplotlib.pyplot as plt\n",
        "import seaborn as sns\n",
        "from factor_analyzer.factor_analyzer import FactorAnalyzer"
      ],
      "metadata": {
        "colab": {
          "base_uri": "https://localhost:8080/"
        },
        "id": "BjND-nFfBnNE",
        "outputId": "ab66b3d9-ad58-4f34-d114-3a1f7764a03e"
      },
      "execution_count": null,
      "outputs": [
        {
          "output_type": "stream",
          "name": "stdout",
          "text": [
            "Looking in indexes: https://pypi.org/simple, https://us-python.pkg.dev/colab-wheels/public/simple/\n",
            "Collecting factor_analyzer\n",
            "  Downloading factor_analyzer-0.4.1.tar.gz (41 kB)\n",
            "\u001b[K     |████████████████████████████████| 41 kB 282 kB/s \n",
            "\u001b[?25h  Installing build dependencies ... \u001b[?25l\u001b[?25hdone\n",
            "  Getting requirements to build wheel ... \u001b[?25l\u001b[?25hdone\n",
            "    Preparing wheel metadata ... \u001b[?25l\u001b[?25hdone\n",
            "Requirement already satisfied: scikit-learn in /usr/local/lib/python3.8/dist-packages (from factor_analyzer) (1.0.2)\n",
            "Collecting pre-commit\n",
            "  Downloading pre_commit-2.20.0-py2.py3-none-any.whl (199 kB)\n",
            "\u001b[K     |████████████████████████████████| 199 kB 8.0 MB/s \n",
            "\u001b[?25hRequirement already satisfied: numpy in /usr/local/lib/python3.8/dist-packages (from factor_analyzer) (1.21.6)\n",
            "Requirement already satisfied: pandas in /usr/local/lib/python3.8/dist-packages (from factor_analyzer) (1.3.5)\n",
            "Requirement already satisfied: scipy in /usr/local/lib/python3.8/dist-packages (from factor_analyzer) (1.7.3)\n",
            "Requirement already satisfied: pytz>=2017.3 in /usr/local/lib/python3.8/dist-packages (from pandas->factor_analyzer) (2022.6)\n",
            "Requirement already satisfied: python-dateutil>=2.7.3 in /usr/local/lib/python3.8/dist-packages (from pandas->factor_analyzer) (2.8.2)\n",
            "Requirement already satisfied: six>=1.5 in /usr/local/lib/python3.8/dist-packages (from python-dateutil>=2.7.3->pandas->factor_analyzer) (1.15.0)\n",
            "Collecting cfgv>=2.0.0\n",
            "  Downloading cfgv-3.3.1-py2.py3-none-any.whl (7.3 kB)\n",
            "Requirement already satisfied: pyyaml>=5.1 in /usr/local/lib/python3.8/dist-packages (from pre-commit->factor_analyzer) (6.0)\n",
            "Collecting nodeenv>=0.11.1\n",
            "  Downloading nodeenv-1.7.0-py2.py3-none-any.whl (21 kB)\n",
            "Collecting identify>=1.0.0\n",
            "  Downloading identify-2.5.9-py2.py3-none-any.whl (98 kB)\n",
            "\u001b[K     |████████████████████████████████| 98 kB 5.6 MB/s \n",
            "\u001b[?25hCollecting virtualenv>=20.0.8\n",
            "  Downloading virtualenv-20.17.1-py3-none-any.whl (8.8 MB)\n",
            "\u001b[K     |████████████████████████████████| 8.8 MB 27.7 MB/s \n",
            "\u001b[?25hRequirement already satisfied: toml in /usr/local/lib/python3.8/dist-packages (from pre-commit->factor_analyzer) (0.10.2)\n",
            "Requirement already satisfied: setuptools in /usr/local/lib/python3.8/dist-packages (from nodeenv>=0.11.1->pre-commit->factor_analyzer) (57.4.0)\n",
            "Requirement already satisfied: filelock<4,>=3.4.1 in /usr/local/lib/python3.8/dist-packages (from virtualenv>=20.0.8->pre-commit->factor_analyzer) (3.8.0)\n",
            "Collecting distlib<1,>=0.3.6\n",
            "  Downloading distlib-0.3.6-py2.py3-none-any.whl (468 kB)\n",
            "\u001b[K     |████████████████████████████████| 468 kB 40.1 MB/s \n",
            "\u001b[?25hRequirement already satisfied: platformdirs<3,>=2.4 in /usr/local/lib/python3.8/dist-packages (from virtualenv>=20.0.8->pre-commit->factor_analyzer) (2.5.4)\n",
            "Requirement already satisfied: threadpoolctl>=2.0.0 in /usr/local/lib/python3.8/dist-packages (from scikit-learn->factor_analyzer) (3.1.0)\n",
            "Requirement already satisfied: joblib>=0.11 in /usr/local/lib/python3.8/dist-packages (from scikit-learn->factor_analyzer) (1.2.0)\n",
            "Building wheels for collected packages: factor-analyzer\n",
            "  Building wheel for factor-analyzer (PEP 517) ... \u001b[?25l\u001b[?25hdone\n",
            "  Created wheel for factor-analyzer: filename=factor_analyzer-0.4.1-py2.py3-none-any.whl size=42034 sha256=6de5972effabf723787d5bd6c49425c88095c7279aaa7c1e70ce8b8dd0375254\n",
            "  Stored in directory: /root/.cache/pip/wheels/f5/8f/2e/a689c21bc4bf04f84ceebf4b1f5846cacc04bfe179e7ad5ab0\n",
            "Successfully built factor-analyzer\n",
            "Installing collected packages: distlib, virtualenv, nodeenv, identify, cfgv, pre-commit, factor-analyzer\n",
            "Successfully installed cfgv-3.3.1 distlib-0.3.6 factor-analyzer-0.4.1 identify-2.5.9 nodeenv-1.7.0 pre-commit-2.20.0 virtualenv-20.17.1\n"
          ]
        }
      ]
    },
    {
      "cell_type": "code",
      "source": [
        "from google.colab import drive\n",
        "drive.mount('/content/drive')"
      ],
      "metadata": {
        "colab": {
          "base_uri": "https://localhost:8080/"
        },
        "id": "G4DmYcYG9FEl",
        "outputId": "6ab213d3-e385-4cdf-ae1e-242edd084e1e"
      },
      "execution_count": null,
      "outputs": [
        {
          "output_type": "stream",
          "name": "stdout",
          "text": [
            "Mounted at /content/drive\n"
          ]
        }
      ]
    },
    {
      "cell_type": "code",
      "source": [
        "# Importar a base de dados 'crime_EUA'\n",
        "crime = pd.read_excel('/content/drive/MyDrive/!UFSM/Analise_Estatistica/dataset/crime_EUA.xlsx')"
      ],
      "metadata": {
        "id": "rIMvBGeH9VAc"
      },
      "execution_count": null,
      "outputs": []
    },
    {
      "cell_type": "code",
      "source": [
        "# Inspecionar dados (colunas e contagens)\n",
        "print(crime.info ())"
      ],
      "metadata": {
        "colab": {
          "base_uri": "https://localhost:8080/"
        },
        "id": "qBwgF_029iaT",
        "outputId": "5ca11989-480a-443e-a22c-d40a511f51f2"
      },
      "execution_count": null,
      "outputs": [
        {
          "output_type": "stream",
          "name": "stdout",
          "text": [
            "<class 'pandas.core.frame.DataFrame'>\n",
            "RangeIndex: 50 entries, 0 to 49\n",
            "Data columns (total 10 columns):\n",
            " #   Column             Non-Null Count  Dtype \n",
            "---  ------             --------------  ----- \n",
            " 0   Unnamed: 0         50 non-null     object\n",
            " 1   Violento           50 non-null     int64 \n",
            " 2   Lesapropriedade    50 non-null     int64 \n",
            " 3   Assassinato        50 non-null     int64 \n",
            " 4   Estupro            50 non-null     int64 \n",
            " 5   Roubo              50 non-null     int64 \n",
            " 6   Assalto            50 non-null     int64 \n",
            " 7   Invasão Domicilio  50 non-null     int64 \n",
            " 8   Furto              50 non-null     int64 \n",
            " 9   Roubo de carros    50 non-null     int64 \n",
            "dtypes: int64(9), object(1)\n",
            "memory usage: 4.0+ KB\n",
            "None\n"
          ]
        }
      ]
    },
    {
      "cell_type": "code",
      "source": [
        "# Inspecionar dados (amostra)\n",
        "print(crime.sample(10)) "
      ],
      "metadata": {
        "colab": {
          "base_uri": "https://localhost:8080/"
        },
        "id": "Lwt4GMHf90ta",
        "outputId": "31b2cb33-c404-4418-bc09-48bae2d67bfb"
      },
      "execution_count": null,
      "outputs": [
        {
          "output_type": "stream",
          "name": "stdout",
          "text": [
            "        Unnamed: 0  Violento  Lesapropriedade  Assassinato  Estupro  Roubo  \\\n",
            "47   WEST VIRGINIA       183             2367            7       15     48   \n",
            "38    RHODE ISLAND       408             5524            4       17    118   \n",
            "30      NEW MEXICO       615             5364           13       43    127   \n",
            "39  SOUTH CAROLINA       660             4779           11       37    118   \n",
            "26        NEBRASKA       224             4080            4       23     82   \n",
            "10          HAWAII       299             7182            8       34    190   \n",
            "48       WISCONSIN       182             4616            2       14     70   \n",
            "27          NEVADA       912             7941           20       67    460   \n",
            "49         WYOMING       392             4593            6       28     44   \n",
            "0          ALABAMA       448             4485           13       30    132   \n",
            "\n",
            "    Assalto  Invasão Domicilio  Furto  Roubo de carros  \n",
            "47      112                738   1429              199  \n",
            "38      493               1716   2964              843  \n",
            "30      430               1492   3521              350  \n",
            "39      493               1670   2803              306  \n",
            "26      114                915   2921              243  \n",
            "10       65               1847   4732              612  \n",
            "48       94               1079   3291              245  \n",
            "27      364               2906   4356              678  \n",
            "49      313                903   3344              345  \n",
            "0       273               1526   2642              316  \n"
          ]
        }
      ]
    },
    {
      "cell_type": "code",
      "source": [
        "# Matriz de Correlações de Pearson\n",
        "cor = crime.corr(method='pearson')\n",
        "cor"
      ],
      "metadata": {
        "colab": {
          "base_uri": "https://localhost:8080/",
          "height": 332
        },
        "id": "kufm-0LCpV35",
        "outputId": "f97b1bb7-6cbb-4827-d092-607a5f7ff173"
      },
      "execution_count": null,
      "outputs": [
        {
          "output_type": "execute_result",
          "data": {
            "text/plain": [
              "                   Violento  Lesapropriedade  Assassinato   Estupro     Roubo  \\\n",
              "Violento           1.000000         0.675840     0.732107  0.735634  0.882653   \n",
              "Lesapropriedade    0.675840         1.000000     0.344511  0.720467  0.598461   \n",
              "Assassinato        0.732107         0.344511     1.000000  0.671092  0.596073   \n",
              "Estupro            0.735634         0.720467     0.671092  1.000000  0.538898   \n",
              "Roubo              0.882653         0.598461     0.596073  0.538898  1.000000   \n",
              "Assalto            0.837873         0.563051     0.604058  0.638840  0.523039   \n",
              "Invasão Domicilio  0.820804         0.874248     0.575265  0.771475  0.744557   \n",
              "Furto              0.432233         0.901569     0.119201  0.613713  0.326511   \n",
              "Roubo de carros    0.606474         0.633503     0.254458  0.416652  0.666654   \n",
              "\n",
              "                    Assalto  Invasão Domicilio     Furto  Roubo de carros  \n",
              "Violento           0.837873           0.820804  0.432233         0.606474  \n",
              "Lesapropriedade    0.563051           0.874248  0.901569         0.633503  \n",
              "Assassinato        0.604058           0.575265  0.119201         0.254458  \n",
              "Estupro            0.638840           0.771475  0.613713         0.416652  \n",
              "Roubo              0.523039           0.744557  0.326511         0.666654  \n",
              "Assalto            1.000000           0.675419  0.389666         0.474731  \n",
              "Invasão Domicilio  0.675419           1.000000  0.659964         0.649253  \n",
              "Furto              0.389666           0.659964  1.000000         0.376516  \n",
              "Roubo de carros    0.474731           0.649253  0.376516         1.000000  "
            ],
            "text/html": [
              "\n",
              "  <div id=\"df-05788ec7-fe75-453c-a70a-fcae0307901b\">\n",
              "    <div class=\"colab-df-container\">\n",
              "      <div>\n",
              "<style scoped>\n",
              "    .dataframe tbody tr th:only-of-type {\n",
              "        vertical-align: middle;\n",
              "    }\n",
              "\n",
              "    .dataframe tbody tr th {\n",
              "        vertical-align: top;\n",
              "    }\n",
              "\n",
              "    .dataframe thead th {\n",
              "        text-align: right;\n",
              "    }\n",
              "</style>\n",
              "<table border=\"1\" class=\"dataframe\">\n",
              "  <thead>\n",
              "    <tr style=\"text-align: right;\">\n",
              "      <th></th>\n",
              "      <th>Violento</th>\n",
              "      <th>Lesapropriedade</th>\n",
              "      <th>Assassinato</th>\n",
              "      <th>Estupro</th>\n",
              "      <th>Roubo</th>\n",
              "      <th>Assalto</th>\n",
              "      <th>Invasão Domicilio</th>\n",
              "      <th>Furto</th>\n",
              "      <th>Roubo de carros</th>\n",
              "    </tr>\n",
              "  </thead>\n",
              "  <tbody>\n",
              "    <tr>\n",
              "      <th>Violento</th>\n",
              "      <td>1.000000</td>\n",
              "      <td>0.675840</td>\n",
              "      <td>0.732107</td>\n",
              "      <td>0.735634</td>\n",
              "      <td>0.882653</td>\n",
              "      <td>0.837873</td>\n",
              "      <td>0.820804</td>\n",
              "      <td>0.432233</td>\n",
              "      <td>0.606474</td>\n",
              "    </tr>\n",
              "    <tr>\n",
              "      <th>Lesapropriedade</th>\n",
              "      <td>0.675840</td>\n",
              "      <td>1.000000</td>\n",
              "      <td>0.344511</td>\n",
              "      <td>0.720467</td>\n",
              "      <td>0.598461</td>\n",
              "      <td>0.563051</td>\n",
              "      <td>0.874248</td>\n",
              "      <td>0.901569</td>\n",
              "      <td>0.633503</td>\n",
              "    </tr>\n",
              "    <tr>\n",
              "      <th>Assassinato</th>\n",
              "      <td>0.732107</td>\n",
              "      <td>0.344511</td>\n",
              "      <td>1.000000</td>\n",
              "      <td>0.671092</td>\n",
              "      <td>0.596073</td>\n",
              "      <td>0.604058</td>\n",
              "      <td>0.575265</td>\n",
              "      <td>0.119201</td>\n",
              "      <td>0.254458</td>\n",
              "    </tr>\n",
              "    <tr>\n",
              "      <th>Estupro</th>\n",
              "      <td>0.735634</td>\n",
              "      <td>0.720467</td>\n",
              "      <td>0.671092</td>\n",
              "      <td>1.000000</td>\n",
              "      <td>0.538898</td>\n",
              "      <td>0.638840</td>\n",
              "      <td>0.771475</td>\n",
              "      <td>0.613713</td>\n",
              "      <td>0.416652</td>\n",
              "    </tr>\n",
              "    <tr>\n",
              "      <th>Roubo</th>\n",
              "      <td>0.882653</td>\n",
              "      <td>0.598461</td>\n",
              "      <td>0.596073</td>\n",
              "      <td>0.538898</td>\n",
              "      <td>1.000000</td>\n",
              "      <td>0.523039</td>\n",
              "      <td>0.744557</td>\n",
              "      <td>0.326511</td>\n",
              "      <td>0.666654</td>\n",
              "    </tr>\n",
              "    <tr>\n",
              "      <th>Assalto</th>\n",
              "      <td>0.837873</td>\n",
              "      <td>0.563051</td>\n",
              "      <td>0.604058</td>\n",
              "      <td>0.638840</td>\n",
              "      <td>0.523039</td>\n",
              "      <td>1.000000</td>\n",
              "      <td>0.675419</td>\n",
              "      <td>0.389666</td>\n",
              "      <td>0.474731</td>\n",
              "    </tr>\n",
              "    <tr>\n",
              "      <th>Invasão Domicilio</th>\n",
              "      <td>0.820804</td>\n",
              "      <td>0.874248</td>\n",
              "      <td>0.575265</td>\n",
              "      <td>0.771475</td>\n",
              "      <td>0.744557</td>\n",
              "      <td>0.675419</td>\n",
              "      <td>1.000000</td>\n",
              "      <td>0.659964</td>\n",
              "      <td>0.649253</td>\n",
              "    </tr>\n",
              "    <tr>\n",
              "      <th>Furto</th>\n",
              "      <td>0.432233</td>\n",
              "      <td>0.901569</td>\n",
              "      <td>0.119201</td>\n",
              "      <td>0.613713</td>\n",
              "      <td>0.326511</td>\n",
              "      <td>0.389666</td>\n",
              "      <td>0.659964</td>\n",
              "      <td>1.000000</td>\n",
              "      <td>0.376516</td>\n",
              "    </tr>\n",
              "    <tr>\n",
              "      <th>Roubo de carros</th>\n",
              "      <td>0.606474</td>\n",
              "      <td>0.633503</td>\n",
              "      <td>0.254458</td>\n",
              "      <td>0.416652</td>\n",
              "      <td>0.666654</td>\n",
              "      <td>0.474731</td>\n",
              "      <td>0.649253</td>\n",
              "      <td>0.376516</td>\n",
              "      <td>1.000000</td>\n",
              "    </tr>\n",
              "  </tbody>\n",
              "</table>\n",
              "</div>\n",
              "      <button class=\"colab-df-convert\" onclick=\"convertToInteractive('df-05788ec7-fe75-453c-a70a-fcae0307901b')\"\n",
              "              title=\"Convert this dataframe to an interactive table.\"\n",
              "              style=\"display:none;\">\n",
              "        \n",
              "  <svg xmlns=\"http://www.w3.org/2000/svg\" height=\"24px\"viewBox=\"0 0 24 24\"\n",
              "       width=\"24px\">\n",
              "    <path d=\"M0 0h24v24H0V0z\" fill=\"none\"/>\n",
              "    <path d=\"M18.56 5.44l.94 2.06.94-2.06 2.06-.94-2.06-.94-.94-2.06-.94 2.06-2.06.94zm-11 1L8.5 8.5l.94-2.06 2.06-.94-2.06-.94L8.5 2.5l-.94 2.06-2.06.94zm10 10l.94 2.06.94-2.06 2.06-.94-2.06-.94-.94-2.06-.94 2.06-2.06.94z\"/><path d=\"M17.41 7.96l-1.37-1.37c-.4-.4-.92-.59-1.43-.59-.52 0-1.04.2-1.43.59L10.3 9.45l-7.72 7.72c-.78.78-.78 2.05 0 2.83L4 21.41c.39.39.9.59 1.41.59.51 0 1.02-.2 1.41-.59l7.78-7.78 2.81-2.81c.8-.78.8-2.07 0-2.86zM5.41 20L4 18.59l7.72-7.72 1.47 1.35L5.41 20z\"/>\n",
              "  </svg>\n",
              "      </button>\n",
              "      \n",
              "  <style>\n",
              "    .colab-df-container {\n",
              "      display:flex;\n",
              "      flex-wrap:wrap;\n",
              "      gap: 12px;\n",
              "    }\n",
              "\n",
              "    .colab-df-convert {\n",
              "      background-color: #E8F0FE;\n",
              "      border: none;\n",
              "      border-radius: 50%;\n",
              "      cursor: pointer;\n",
              "      display: none;\n",
              "      fill: #1967D2;\n",
              "      height: 32px;\n",
              "      padding: 0 0 0 0;\n",
              "      width: 32px;\n",
              "    }\n",
              "\n",
              "    .colab-df-convert:hover {\n",
              "      background-color: #E2EBFA;\n",
              "      box-shadow: 0px 1px 2px rgba(60, 64, 67, 0.3), 0px 1px 3px 1px rgba(60, 64, 67, 0.15);\n",
              "      fill: #174EA6;\n",
              "    }\n",
              "\n",
              "    [theme=dark] .colab-df-convert {\n",
              "      background-color: #3B4455;\n",
              "      fill: #D2E3FC;\n",
              "    }\n",
              "\n",
              "    [theme=dark] .colab-df-convert:hover {\n",
              "      background-color: #434B5C;\n",
              "      box-shadow: 0px 1px 3px 1px rgba(0, 0, 0, 0.15);\n",
              "      filter: drop-shadow(0px 1px 2px rgba(0, 0, 0, 0.3));\n",
              "      fill: #FFFFFF;\n",
              "    }\n",
              "  </style>\n",
              "\n",
              "      <script>\n",
              "        const buttonEl =\n",
              "          document.querySelector('#df-05788ec7-fe75-453c-a70a-fcae0307901b button.colab-df-convert');\n",
              "        buttonEl.style.display =\n",
              "          google.colab.kernel.accessAllowed ? 'block' : 'none';\n",
              "\n",
              "        async function convertToInteractive(key) {\n",
              "          const element = document.querySelector('#df-05788ec7-fe75-453c-a70a-fcae0307901b');\n",
              "          const dataTable =\n",
              "            await google.colab.kernel.invokeFunction('convertToInteractive',\n",
              "                                                     [key], {});\n",
              "          if (!dataTable) return;\n",
              "\n",
              "          const docLinkHtml = 'Like what you see? Visit the ' +\n",
              "            '<a target=\"_blank\" href=https://colab.research.google.com/notebooks/data_table.ipynb>data table notebook</a>'\n",
              "            + ' to learn more about interactive tables.';\n",
              "          element.innerHTML = '';\n",
              "          dataTable['output_type'] = 'display_data';\n",
              "          await google.colab.output.renderOutput(dataTable, element);\n",
              "          const docLink = document.createElement('div');\n",
              "          docLink.innerHTML = docLinkHtml;\n",
              "          element.appendChild(docLink);\n",
              "        }\n",
              "      </script>\n",
              "    </div>\n",
              "  </div>\n",
              "  "
            ]
          },
          "metadata": {},
          "execution_count": 6
        }
      ]
    },
    {
      "cell_type": "code",
      "source": [
        "# Matriz de correlação com mapa de calor.\n",
        "plt.figure(figsize=(15, 5)) # Tamanho da Figura\n",
        "heatmap = sns.heatmap(crime.corr(), vmin=-1, vmax=1, annot=True, cmap='YlGnBu') # Mapa de calor com variação da escala, descriminação do valor de correlação e padrão de cores\n",
        "heatmap.set_title('Matriz de Correlação', fontdict={'fontsize':12}, pad=12) # Título do Gráfico, tamanho de fonte e \n",
        "plt.show()"
      ],
      "metadata": {
        "colab": {
          "base_uri": "https://localhost:8080/",
          "height": 342
        },
        "id": "SOMou3Qw_DDW",
        "outputId": "cfda3ead-c415-417c-b663-3b1b78d4f4f6"
      },
      "execution_count": null,
      "outputs": [
        {
          "output_type": "display_data",
          "data": {
            "text/plain": [
              "<Figure size 1080x360 with 2 Axes>"
            ],
            "image/png": "[encoded data removed]"
          },
          "metadata": {
            "needs_background": "light"
          }
        }
      ]
    },
    {
      "cell_type": "markdown",
      "source": [
        "**Matriz de correlações com valores significativos**: Apresenta poucos valores abaixo de .3. A alta correlação entre as variáveis sugere que a análise fatorial é apropriada. \n",
        "\n",
        "**Tamanho da amostra é adequado**: há 9 variáveis com 50 observações, ou seja, pelo menos 5 observações por variável."
      ],
      "metadata": {
        "id": "PoYzxBdn_Ljx"
      }
    },
    {
      "cell_type": "code",
      "source": [
        "# Criar planilha sem a coluna 'O' (dados textuais)\n",
        "crime_var = crime.drop('Unnamed: 0', axis=1)"
      ],
      "metadata": {
        "id": "xYNNynEmMAV4"
      },
      "execution_count": null,
      "outputs": []
    },
    {
      "cell_type": "code",
      "source": [
        "# Inspecionar dados (colunas e contagens)\n",
        "print(crime_var.info ())"
      ],
      "metadata": {
        "colab": {
          "base_uri": "https://localhost:8080/"
        },
        "id": "oNi3Lm8uNcC8",
        "outputId": "b00b963a-0090-4790-90b7-14a2558b724e"
      },
      "execution_count": null,
      "outputs": [
        {
          "output_type": "stream",
          "name": "stdout",
          "text": [
            "<class 'pandas.core.frame.DataFrame'>\n",
            "RangeIndex: 50 entries, 0 to 49\n",
            "Data columns (total 9 columns):\n",
            " #   Column             Non-Null Count  Dtype\n",
            "---  ------             --------------  -----\n",
            " 0   Violento           50 non-null     int64\n",
            " 1   Lesapropriedade    50 non-null     int64\n",
            " 2   Assassinato        50 non-null     int64\n",
            " 3   Estupro            50 non-null     int64\n",
            " 4   Roubo              50 non-null     int64\n",
            " 5   Assalto            50 non-null     int64\n",
            " 6   Invasão Domicilio  50 non-null     int64\n",
            " 7   Furto              50 non-null     int64\n",
            " 8   Roubo de carros    50 non-null     int64\n",
            "dtypes: int64(9)\n",
            "memory usage: 3.6 KB\n",
            "None\n"
          ]
        }
      ]
    },
    {
      "cell_type": "markdown",
      "source": [
        "**TESTE DE ESFERICIDADE DE BARTLETT**\n",
        "\n",
        "O teste de Esfericidade de Bartlett testa a hipótese da matriz de correlações ser igual a matriz identidade (com determinantes = 1).\n",
        "\n",
        "Se isso ocorrer, não devemos utilizar análise Fatorial.\n",
        "\n",
        "H0 = a matriz de correlação é uma matriz identidade."
      ],
      "metadata": {
        "id": "lGGnoADcPbLl"
      }
    },
    {
      "cell_type": "code",
      "source": [
        "# Teste de Esfericidade de Bartlett\n",
        "from factor_analyzer.factor_analyzer import calculate_bartlett_sphericity\n",
        "\n",
        "chi_square_value,p_value=calculate_bartlett_sphericity(crime_var)\n",
        "chi_square_value, p_value"
      ],
      "metadata": {
        "colab": {
          "base_uri": "https://localhost:8080/"
        },
        "id": "lafuTqzDD722",
        "outputId": "d782be79-ea03-4653-8828-9b6c6247a0d4"
      },
      "execution_count": null,
      "outputs": [
        {
          "output_type": "execute_result",
          "data": {
            "text/plain": [
              "(594.1109771233596, 3.185010988854575e-102)"
            ]
          },
          "metadata": {},
          "execution_count": 10
        }
      ]
    },
    {
      "cell_type": "markdown",
      "source": [
        "Nesta situação, o teste permite o uso da análise fatorial, pois apresenta um alto valor de Qui-quadrado (594) com significância estatística ( p < .01). \n",
        "\n",
        "Ou seja, pode-se rejeitar a hipótese nula de que a matriz de correlações é uma matriz identidade."
      ],
      "metadata": {
        "id": "H_8j-nNPQBqL"
      }
    },
    {
      "cell_type": "markdown",
      "source": [
        "**TESTE KAISER-MEYER-OLKIN (KMO)**\n",
        "\n",
        "Avalia a adequação da amostra quanto ao grau de correlação parcial entre os valores, que deve ser pequeno.\n",
        "\n",
        "A estatística KMO, apresenta valores que variam de 0 a 1. \n",
        "- KMO abaixo de 0.6 indica que a análise fatorial pode não ser adequada (correlação fraca entre as variáveis)\n",
        "- Quanto mais próximo de 1, mais adequada é a utilização da técnica."
      ],
      "metadata": {
        "id": "Da5QWPdkOc8h"
      }
    },
    {
      "cell_type": "code",
      "source": [
        "# Teste de Kaiser-Meyer-Olkin (KMO)\n",
        "from factor_analyzer.factor_analyzer import calculate_kmo\n",
        "\n",
        "kmo_vars,kmo_model = calculate_kmo(crime_var)\n",
        "print(kmo_model) # KMO do modelo\n",
        "print(kmo_vars) # KMO por variável"
      ],
      "metadata": {
        "colab": {
          "base_uri": "https://localhost:8080/"
        },
        "id": "bO2HRBDwMhvp",
        "outputId": "2340bea5-6685-45ed-ef90-2269e326f38a"
      },
      "execution_count": null,
      "outputs": [
        {
          "output_type": "stream",
          "name": "stdout",
          "text": [
            "0.6785009513270187\n",
            "[0.64626622 0.71645968 0.85549898 0.72930851 0.57333309 0.56450538\n",
            " 0.84078221 0.62002747 0.64279473]\n"
          ]
        }
      ]
    },
    {
      "cell_type": "markdown",
      "source": [
        "Valor entre 0.6 e 0.7 indica uma adequação razoável dos dados a este tipo de análise."
      ],
      "metadata": {
        "id": "-5_dZ2FyRnuc"
      }
    },
    {
      "cell_type": "markdown",
      "source": [
        "**MATRIZ ANTI-IMAGEM**\n",
        "\n",
        "Apresenta os valores negativos das correlações parciais. \n",
        "\n",
        "É uma forma de obter indícios sobre a necessidade de eliminação de determinada variável do modelo.\n",
        "\n",
        "Produz uma Medida de Adequação da Amostra, ou *Measure of Sampling Adequacy*(MSA), para cada variável (valor, leitura e interpretação similar ao KMO).\n",
        "\n",
        "Análise:\n",
        "- Interpretar os valores de MSA para cada variável individualmente e excluir as que se encontram no domínio inaceitável.\n",
        "- Quanto maiores os valores, melhor.\n",
        "- Se alguma variável apresentar baixo valor na diagonal principal e alto valor fora dela, talvez haja necessidade de excluí-la.\n",
        "- Por vezes, a baixa correlação de determinada variável com as demais não necessariamente implica em sua eliminação, podendo representar um fator isoladamente."
      ],
      "metadata": {
        "id": "966jeJspSJOz"
      }
    },
    {
      "cell_type": "code",
      "source": [
        "# Matriz de Anti Imagem\n",
        "# Não necessário, pois o valor 'kmo_vars' acima é a diagonal da matriz que mostra o valor KMO por variável."
      ],
      "metadata": {
        "id": "FGYwCu4KpcD4"
      },
      "execution_count": null,
      "outputs": []
    },
    {
      "cell_type": "markdown",
      "source": [
        "### Extração dos fatores iniciais e determinação do número de fatores"
      ],
      "metadata": {
        "id": "bVxzWvdE99Zv"
      }
    },
    {
      "cell_type": "markdown",
      "source": [
        "Teste inicial, com uma análise fatorial sem rotação para verificar o número de fatores e a carga de cada variável.\n",
        "Nesta etapa, extrai-se 'eigenvalues' de cada variável e plota-se em um gráfico 'scree'. \n",
        "\n",
        "Ao comparar o número de variávies em relação ao 'eigenvalue'. Variáveis com valores 1 ou menor explicam pouca variância do modelo. A análise do gráfico indica o número de fatores que devemos adotar."
      ],
      "metadata": {
        "id": "F9KWSqXrWIY1"
      }
    },
    {
      "cell_type": "code",
      "source": [
        "# Análise Fatorial exploratória - extração dos fatores iniciais.\n",
        "fa = FactorAnalyzer(10, rotation=None)\n",
        "fa.fit(crime_var)"
      ],
      "metadata": {
        "id": "nnLmt-5DqqXD",
        "colab": {
          "base_uri": "https://localhost:8080/"
        },
        "outputId": "046351c6-d1d6-48fa-bee3-ed2987c36406"
      },
      "execution_count": null,
      "outputs": [
        {
          "output_type": "execute_result",
          "data": {
            "text/plain": [
              "FactorAnalyzer(n_factors=10, rotation=None, rotation_kwargs={})"
            ]
          },
          "metadata": {},
          "execution_count": 13
        }
      ]
    },
    {
      "cell_type": "code",
      "source": [
        "# Apresentar os 'Eigenvalues'\n",
        "ev, v = fa.get_eigenvalues()\n",
        "ev"
      ],
      "metadata": {
        "colab": {
          "base_uri": "https://localhost:8080/"
        },
        "id": "MkEtQImhbL4S",
        "outputId": "79c4c777-fc19-4574-b2a1-330450bc30d5"
      },
      "execution_count": null,
      "outputs": [
        {
          "output_type": "execute_result",
          "data": {
            "text/plain": [
              "array([5.89720358, 1.2566041 , 0.82067279, 0.43745844, 0.28361903,\n",
              "       0.15357738, 0.12371103, 0.02058611, 0.00656754])"
            ]
          },
          "metadata": {},
          "execution_count": 14
        }
      ]
    },
    {
      "cell_type": "code",
      "source": [
        "# Plotar os 'Eigenvalues' em um gráfico 'Scree'\n",
        "plt.scatter(range(1,crime_var.shape[1]+1), ev)\n",
        "plt.plot(range(1,crime_var.shape[1]+1), ev)\n",
        "plt.title('Scree Plot')\n",
        "plt.xlabel('Factors')\n",
        "plt.ylabel('Eigenvalue')\n",
        "plt.grid()\n",
        "plt.show()"
      ],
      "metadata": {
        "colab": {
          "base_uri": "https://localhost:8080/",
          "height": 295
        },
        "id": "rk5NIgVlbLrq",
        "outputId": "8bd15e25-dccd-4bf9-e1c1-e04a5a793add"
      },
      "execution_count": null,
      "outputs": [
        {
          "output_type": "display_data",
          "data": {
            "text/plain": [
              "<Figure size 432x288 with 1 Axes>"
            ],
            "image/png": "[encoded data removed]"
          },
          "metadata": {
            "needs_background": "light"
          }
        }
      ]
    },
    {
      "cell_type": "markdown",
      "source": [
        "**DETERMINAÇÃO DO NÚMERO DE FATORES**\n",
        "\n",
        "Com base no gráfico, deve-se buscar fazer uma análise com 2 fatores, visto que o terceiro fator já tem um 'eigenvalue' abaixo de '1' (0,82).\n",
        "\n",
        "Note que isso já era legível, numericamente, na linha anterior, embora o gráfico facilite a leitura.\n"
      ],
      "metadata": {
        "id": "wm5aCxd7d-ly"
      }
    },
    {
      "cell_type": "markdown",
      "source": [
        "### Rotação dos Fatores"
      ],
      "metadata": {
        "id": "c0lj52TY-DOl"
      }
    },
    {
      "cell_type": "markdown",
      "source": [
        "Análise Fatorial é um método interativo. Sugere-se, de maneira geral, seguir o seguinte processo:\n",
        "\n",
        "1. Começe com a rotação 'Varimax'\n",
        "2. O método pode ser: minres, Maximum Likelihood (ml), ou Principal Component (principal). Pode-se começar com 'minres' + 'Varimax'\n",
        "3. Mude para 'Maximum Likelihood' + 'varimax'\n",
        "4. Há duas opções lógicas para (não) usar 'squared multiple correlation' como ponto de partida para estimar os fatores. Pode-se começar adotando 'smc' (use_smc=True) e depois tentar 'maximum absolute correlation'.\n",
        "5. Compare os modelos e mantenha os melhores.\n",
        "6. Analise as cargas fatoriais e considere testar um modelo com +1 ou -1 fator."
      ],
      "metadata": {
        "id": "lQSDuaoAfTLS"
      }
    },
    {
      "cell_type": "code",
      "source": [
        "# Criação de um modelo de Análise Fatorial com rotação Ortogonal: Varimax + minres (use_smc=True)\n",
        "fa_1 = FactorAnalyzer(2, rotation=\"varimax\", method='minres', use_smc=True)\n",
        "fa_1.fit(crime_var)\n",
        "\n",
        "fa_1.loadings_"
      ],
      "metadata": {
        "id": "hJeH6JfKq4sJ",
        "colab": {
          "base_uri": "https://localhost:8080/"
        },
        "outputId": "63ab7250-8e6a-4a97-98bb-0315c4219862"
      },
      "execution_count": null,
      "outputs": [
        {
          "output_type": "execute_result",
          "data": {
            "text/plain": [
              "array([[0.94450283, 0.34322559],\n",
              "       [0.38732507, 0.93044805],\n",
              "       [0.79426379, 0.04736957],\n",
              "       [0.62473142, 0.51774513],\n",
              "       [0.75732166, 0.31384548],\n",
              "       [0.7059744 , 0.32344926],\n",
              "       [0.67595402, 0.65704505],\n",
              "       [0.10175082, 0.92241366],\n",
              "       [0.47376259, 0.43474544]])"
            ]
          },
          "metadata": {},
          "execution_count": 16
        }
      ]
    },
    {
      "cell_type": "code",
      "source": [
        "# Comunalidade (índice de variabilidade total explicada por todos os fatores para cada variável)\n",
        "fa_1.get_communalities()"
      ],
      "metadata": {
        "colab": {
          "base_uri": "https://localhost:8080/"
        },
        "id": "L5x3-cvxjDUa",
        "outputId": "b232205e-1e14-46a0-a0eb-a9d93169c07f"
      },
      "execution_count": null,
      "outputs": [
        {
          "output_type": "execute_result",
          "data": {
            "text/plain": [
              "array([1.00988939, 1.01575428, 0.63309884, 0.65834937, 0.67203509,\n",
              "       0.60301928, 0.88862203, 0.86120018, 0.41345459])"
            ]
          },
          "metadata": {},
          "execution_count": 17
        }
      ]
    },
    {
      "cell_type": "markdown",
      "source": [
        "Neste Caso, violento (100%), Lesapropriedade (100%), assassinanato (63%)...."
      ],
      "metadata": {
        "id": "rIHfAtDBo_uQ"
      }
    },
    {
      "cell_type": "code",
      "source": [
        "# Verificar a variância explicada por cada fator\n",
        "df_fa1 = fa_1.get_factor_variance()\n",
        "\n",
        "var_factor = pd.DataFrame(df_fa1, columns=['Fator 1', 'Fator 2'], index=['Variância (SS)', 'Variância Proporcional', 'Variância Cumulativa'])\n",
        "print(var_factor)"
      ],
      "metadata": {
        "colab": {
          "base_uri": "https://localhost:8080/"
        },
        "id": "p8k_fqEYpS5m",
        "outputId": "64398f10-4c48-41b5-a1a2-dff3f4844a3f"
      },
      "execution_count": null,
      "outputs": [
        {
          "output_type": "stream",
          "name": "stdout",
          "text": [
            "                         Fator 1   Fator 2\n",
            "Variância (SS)          3.826905  2.928518\n",
            "Variância Proporcional  0.425212  0.325391\n",
            "Variância Cumulativa    0.425212  0.750603\n"
          ]
        }
      ]
    },
    {
      "cell_type": "markdown",
      "source": [
        "No exemplo acima, os dois fatores, juntos, explicam **75% da variância dos dados**."
      ],
      "metadata": {
        "id": "xi8H27xiqauu"
      }
    },
    {
      "cell_type": "code",
      "source": [
        "# Criação de um modelo de Análise Fatorial com rotação Obliqua: Varimax + Maximum Likelihood (use_smc=True)\n",
        "fa_2 = FactorAnalyzer(2, rotation=\"oblimin\", method='ml', use_smc=True)\n",
        "fa_2.fit(crime_var)\n",
        "\n",
        "fa_2.loadings_"
      ],
      "metadata": {
        "colab": {
          "base_uri": "https://localhost:8080/"
        },
        "id": "J7ym9AgDniN9",
        "outputId": "5741e1fe-6e02-4ed4-eaea-4551013f1f3a"
      },
      "execution_count": null,
      "outputs": [
        {
          "output_type": "execute_result",
          "data": {
            "text/plain": [
              "array([[ 0.97036955,  0.04952229],\n",
              "       [ 0.17050252,  0.89657743],\n",
              "       [ 0.85391029, -0.20922258],\n",
              "       [ 0.51439848,  0.39479265],\n",
              "       [ 0.85902827,  0.04195249],\n",
              "       [ 0.81363554,  0.03904017],\n",
              "       [ 0.51668578,  0.54519754],\n",
              "       [-0.13447846,  1.00019455],\n",
              "       [ 0.39780625,  0.37559998]])"
            ]
          },
          "metadata": {},
          "execution_count": 19
        }
      ]
    },
    {
      "cell_type": "code",
      "source": [
        "# Criação de um modelo de Análise Fatorial com rotação Oblíuqa - Rotação oblimin, método minres, use_smc=True\n",
        "fa_3 = FactorAnalyzer(2, rotation=\"oblimin\", method='minres', use_smc=True)\n",
        "fa_3.fit(crime_var)\n",
        "\n",
        "fa_3.loadings_\n"
      ],
      "metadata": {
        "colab": {
          "base_uri": "https://localhost:8080/"
        },
        "id": "iZy46EXGmlQP",
        "outputId": "e1859064-fa3d-439c-fa9f-ad48fba8dd47"
      },
      "execution_count": null,
      "outputs": [
        {
          "output_type": "execute_result",
          "data": {
            "text/plain": [
              "array([[ 0.99051872,  0.027467  ],\n",
              "       [ 0.20917878,  0.8840928 ],\n",
              "       [ 0.89315062, -0.24356001],\n",
              "       [ 0.58263764,  0.33949456],\n",
              "       [ 0.78457804,  0.06473149],\n",
              "       [ 0.72367799,  0.09447654],\n",
              "       [ 0.60624658,  0.47437487],\n",
              "       [-0.11419447,  0.98160807],\n",
              "       [ 0.43133381,  0.30400336]])"
            ]
          },
          "metadata": {},
          "execution_count": 20
        }
      ]
    },
    {
      "cell_type": "markdown",
      "source": [
        "### Interpretação dos fatores"
      ],
      "metadata": {
        "id": "sYlRItxo-HnC"
      }
    },
    {
      "cell_type": "markdown",
      "source": [
        "1. Denomine os fatores (qual a melhor descrição de cada fator definido?)."
      ],
      "metadata": {
        "id": "XeZHpTqNrVAW"
      }
    },
    {
      "cell_type": "code",
      "source": [
        "# Plot da matrix de cargas dos fatores com nome nas variáveis [MODELO 1]\n",
        "loadings = pd.DataFrame(fa_1.loadings_, columns=['Fator 1', 'Fator 2'], index=crime_var.columns)\n",
        "loadings['Contribui F1'] = ['Sim' if var > 0.5 else '' for var in loadings['Fator 1']]\n",
        "loadings['Contribui F2'] = ['Sim' if var > 0.5 else '' for var in loadings['Fator 2']]\n",
        "\n",
        "print('Cargas Fatoriais \\n%s' %loadings)"
      ],
      "metadata": {
        "colab": {
          "base_uri": "https://localhost:8080/"
        },
        "id": "rNmwuNxikwOI",
        "outputId": "280f0c77-977a-46ea-f96f-f7d991319ce7"
      },
      "execution_count": null,
      "outputs": [
        {
          "output_type": "stream",
          "name": "stdout",
          "text": [
            "Cargas Fatoriais \n",
            "                    Fator 1   Fator 2 Contribui F1 Contribui F2\n",
            "Violento           0.944503  0.343226          Sim             \n",
            "Lesapropriedade    0.387325  0.930448                       Sim\n",
            "Assassinato        0.794264  0.047370          Sim             \n",
            "Estupro            0.624731  0.517745          Sim          Sim\n",
            "Roubo              0.757322  0.313845          Sim             \n",
            "Assalto            0.705974  0.323449          Sim             \n",
            "Invasão Domicilio  0.675954  0.657045          Sim          Sim\n",
            "Furto              0.101751  0.922414                       Sim\n",
            "Roubo de carros    0.473763  0.434745                          \n"
          ]
        }
      ]
    },
    {
      "cell_type": "code",
      "source": [
        "# Plot da matrix de cargas dos fatores com nome nas variáveis [MODELO 3]\n",
        "loadings = pd.DataFrame(fa_3.loadings_, columns=['Fator 1', 'Fator 2'], index=crime_var.columns)\n",
        "loadings['Contribui F1'] = ['Sim' if var > 0.5 else '' for var in loadings['Fator 1']]\n",
        "loadings['Contribui F2'] = ['Sim' if var > 0.5 else '' for var in loadings['Fator 2']]\n",
        "\n",
        "print('Cargas Fatoriais \\n%s' %loadings)"
      ],
      "metadata": {
        "colab": {
          "base_uri": "https://localhost:8080/"
        },
        "outputId": "99711300-7f2f-4186-a544-338180af9fe7",
        "id": "GhoFkAVOaqFB"
      },
      "execution_count": null,
      "outputs": [
        {
          "output_type": "stream",
          "name": "stdout",
          "text": [
            "Cargas Fatoriais \n",
            "                    Fator 1   Fator 2 Contribui F1 Contribui F2\n",
            "Violento           0.990519  0.027467          Sim             \n",
            "Lesapropriedade    0.209179  0.884093                       Sim\n",
            "Assassinato        0.893151 -0.243560          Sim             \n",
            "Estupro            0.582638  0.339495          Sim             \n",
            "Roubo              0.784578  0.064731          Sim             \n",
            "Assalto            0.723678  0.094477          Sim             \n",
            "Invasão Domicilio  0.606247  0.474375          Sim             \n",
            "Furto             -0.114194  0.981608                       Sim\n",
            "Roubo de carros    0.431334  0.304003                          \n"
          ]
        }
      ]
    },
    {
      "cell_type": "markdown",
      "source": [
        "Fator 1: violento, assassinato, estupro, roubo, assalto, invasão domicílio, roubo de carros\n",
        "\n",
        "Fator 2: lesapropriedade, furto, invasão a domicílio.\n",
        "\n",
        "NOMECLATURA: \n",
        "- Fator 1 = crimes com presença de vítimas. / Crimes\n",
        "- Fator 2 = crimes sem a presença de vítimas. / Furtos"
      ],
      "metadata": {
        "id": "IBxe10lAldcX"
      }
    },
    {
      "cell_type": "markdown",
      "source": [
        "# Atividade"
      ],
      "metadata": {
        "id": "itUhcJYIEd1W"
      }
    },
    {
      "cell_type": "markdown",
      "source": [
        "Utilizando os mesmos dados apresentados em sala, **faça um modelo com 3 fatores**.\n",
        "\n",
        "1. Determine a adequação da utilização de análise fatorial:\n",
        "- 1.1 Apresente e interprete a Matriz de Correlações de Pearson.\n",
        "- 1.2 Apresente e interprete os testes de KMO e Bartlett.\n",
        "\n",
        "2. Determine o número adequado de fatores (extração dos fatores iniciais).\n",
        "3. Teste modelos com rotações ortogonais e obliquas, e os métodos ml e principal.\n",
        "3. Denomine os fatores (qual a melhor descrição de cada fator definido?)."
      ],
      "metadata": {
        "id": "1AZScVI2o-OF"
      }
    },
    {
      "cell_type": "code",
      "source": [
        "# Matriz de Correlações de Pearson\n",
        "cor2 = crime.corr(method='pearson')\n",
        "cor2"
      ],
      "metadata": {
        "colab": {
          "base_uri": "https://localhost:8080/",
          "height": 332
        },
        "id": "XSXj1bIntEZX",
        "outputId": "a344723f-be66-44e4-ebc8-c03a15d5160d"
      },
      "execution_count": null,
      "outputs": [
        {
          "output_type": "execute_result",
          "data": {
            "text/plain": [
              "                   Violento  Lesapropriedade  Assassinato   Estupro     Roubo  \\\n",
              "Violento           1.000000         0.675840     0.732107  0.735634  0.882653   \n",
              "Lesapropriedade    0.675840         1.000000     0.344511  0.720467  0.598461   \n",
              "Assassinato        0.732107         0.344511     1.000000  0.671092  0.596073   \n",
              "Estupro            0.735634         0.720467     0.671092  1.000000  0.538898   \n",
              "Roubo              0.882653         0.598461     0.596073  0.538898  1.000000   \n",
              "Assalto            0.837873         0.563051     0.604058  0.638840  0.523039   \n",
              "Invasão Domicilio  0.820804         0.874248     0.575265  0.771475  0.744557   \n",
              "Furto              0.432233         0.901569     0.119201  0.613713  0.326511   \n",
              "Roubo de carros    0.606474         0.633503     0.254458  0.416652  0.666654   \n",
              "\n",
              "                    Assalto  Invasão Domicilio     Furto  Roubo de carros  \n",
              "Violento           0.837873           0.820804  0.432233         0.606474  \n",
              "Lesapropriedade    0.563051           0.874248  0.901569         0.633503  \n",
              "Assassinato        0.604058           0.575265  0.119201         0.254458  \n",
              "Estupro            0.638840           0.771475  0.613713         0.416652  \n",
              "Roubo              0.523039           0.744557  0.326511         0.666654  \n",
              "Assalto            1.000000           0.675419  0.389666         0.474731  \n",
              "Invasão Domicilio  0.675419           1.000000  0.659964         0.649253  \n",
              "Furto              0.389666           0.659964  1.000000         0.376516  \n",
              "Roubo de carros    0.474731           0.649253  0.376516         1.000000  "
            ],
            "text/html": [
              "\n",
              "  <div id=\"df-b04ef945-a365-4740-9c2c-d443f5df6f01\">\n",
              "    <div class=\"colab-df-container\">\n",
              "      <div>\n",
              "<style scoped>\n",
              "    .dataframe tbody tr th:only-of-type {\n",
              "        vertical-align: middle;\n",
              "    }\n",
              "\n",
              "    .dataframe tbody tr th {\n",
              "        vertical-align: top;\n",
              "    }\n",
              "\n",
              "    .dataframe thead th {\n",
              "        text-align: right;\n",
              "    }\n",
              "</style>\n",
              "<table border=\"1\" class=\"dataframe\">\n",
              "  <thead>\n",
              "    <tr style=\"text-align: right;\">\n",
              "      <th></th>\n",
              "      <th>Violento</th>\n",
              "      <th>Lesapropriedade</th>\n",
              "      <th>Assassinato</th>\n",
              "      <th>Estupro</th>\n",
              "      <th>Roubo</th>\n",
              "      <th>Assalto</th>\n",
              "      <th>Invasão Domicilio</th>\n",
              "      <th>Furto</th>\n",
              "      <th>Roubo de carros</th>\n",
              "    </tr>\n",
              "  </thead>\n",
              "  <tbody>\n",
              "    <tr>\n",
              "      <th>Violento</th>\n",
              "      <td>1.000000</td>\n",
              "      <td>0.675840</td>\n",
              "      <td>0.732107</td>\n",
              "      <td>0.735634</td>\n",
              "      <td>0.882653</td>\n",
              "      <td>0.837873</td>\n",
              "      <td>0.820804</td>\n",
              "      <td>0.432233</td>\n",
              "      <td>0.606474</td>\n",
              "    </tr>\n",
              "    <tr>\n",
              "      <th>Lesapropriedade</th>\n",
              "      <td>0.675840</td>\n",
              "      <td>1.000000</td>\n",
              "      <td>0.344511</td>\n",
              "      <td>0.720467</td>\n",
              "      <td>0.598461</td>\n",
              "      <td>0.563051</td>\n",
              "      <td>0.874248</td>\n",
              "      <td>0.901569</td>\n",
              "      <td>0.633503</td>\n",
              "    </tr>\n",
              "    <tr>\n",
              "      <th>Assassinato</th>\n",
              "      <td>0.732107</td>\n",
              "      <td>0.344511</td>\n",
              "      <td>1.000000</td>\n",
              "      <td>0.671092</td>\n",
              "      <td>0.596073</td>\n",
              "      <td>0.604058</td>\n",
              "      <td>0.575265</td>\n",
              "      <td>0.119201</td>\n",
              "      <td>0.254458</td>\n",
              "    </tr>\n",
              "    <tr>\n",
              "      <th>Estupro</th>\n",
              "      <td>0.735634</td>\n",
              "      <td>0.720467</td>\n",
              "      <td>0.671092</td>\n",
              "      <td>1.000000</td>\n",
              "      <td>0.538898</td>\n",
              "      <td>0.638840</td>\n",
              "      <td>0.771475</td>\n",
              "      <td>0.613713</td>\n",
              "      <td>0.416652</td>\n",
              "    </tr>\n",
              "    <tr>\n",
              "      <th>Roubo</th>\n",
              "      <td>0.882653</td>\n",
              "      <td>0.598461</td>\n",
              "      <td>0.596073</td>\n",
              "      <td>0.538898</td>\n",
              "      <td>1.000000</td>\n",
              "      <td>0.523039</td>\n",
              "      <td>0.744557</td>\n",
              "      <td>0.326511</td>\n",
              "      <td>0.666654</td>\n",
              "    </tr>\n",
              "    <tr>\n",
              "      <th>Assalto</th>\n",
              "      <td>0.837873</td>\n",
              "      <td>0.563051</td>\n",
              "      <td>0.604058</td>\n",
              "      <td>0.638840</td>\n",
              "      <td>0.523039</td>\n",
              "      <td>1.000000</td>\n",
              "      <td>0.675419</td>\n",
              "      <td>0.389666</td>\n",
              "      <td>0.474731</td>\n",
              "    </tr>\n",
              "    <tr>\n",
              "      <th>Invasão Domicilio</th>\n",
              "      <td>0.820804</td>\n",
              "      <td>0.874248</td>\n",
              "      <td>0.575265</td>\n",
              "      <td>0.771475</td>\n",
              "      <td>0.744557</td>\n",
              "      <td>0.675419</td>\n",
              "      <td>1.000000</td>\n",
              "      <td>0.659964</td>\n",
              "      <td>0.649253</td>\n",
              "    </tr>\n",
              "    <tr>\n",
              "      <th>Furto</th>\n",
              "      <td>0.432233</td>\n",
              "      <td>0.901569</td>\n",
              "      <td>0.119201</td>\n",
              "      <td>0.613713</td>\n",
              "      <td>0.326511</td>\n",
              "      <td>0.389666</td>\n",
              "      <td>0.659964</td>\n",
              "      <td>1.000000</td>\n",
              "      <td>0.376516</td>\n",
              "    </tr>\n",
              "    <tr>\n",
              "      <th>Roubo de carros</th>\n",
              "      <td>0.606474</td>\n",
              "      <td>0.633503</td>\n",
              "      <td>0.254458</td>\n",
              "      <td>0.416652</td>\n",
              "      <td>0.666654</td>\n",
              "      <td>0.474731</td>\n",
              "      <td>0.649253</td>\n",
              "      <td>0.376516</td>\n",
              "      <td>1.000000</td>\n",
              "    </tr>\n",
              "  </tbody>\n",
              "</table>\n",
              "</div>\n",
              "      <button class=\"colab-df-convert\" onclick=\"convertToInteractive('df-b04ef945-a365-4740-9c2c-d443f5df6f01')\"\n",
              "              title=\"Convert this dataframe to an interactive table.\"\n",
              "              style=\"display:none;\">\n",
              "        \n",
              "  <svg xmlns=\"http://www.w3.org/2000/svg\" height=\"24px\"viewBox=\"0 0 24 24\"\n",
              "       width=\"24px\">\n",
              "    <path d=\"M0 0h24v24H0V0z\" fill=\"none\"/>\n",
              "    <path d=\"M18.56 5.44l.94 2.06.94-2.06 2.06-.94-2.06-.94-.94-2.06-.94 2.06-2.06.94zm-11 1L8.5 8.5l.94-2.06 2.06-.94-2.06-.94L8.5 2.5l-.94 2.06-2.06.94zm10 10l.94 2.06.94-2.06 2.06-.94-2.06-.94-.94-2.06-.94 2.06-2.06.94z\"/><path d=\"M17.41 7.96l-1.37-1.37c-.4-.4-.92-.59-1.43-.59-.52 0-1.04.2-1.43.59L10.3 9.45l-7.72 7.72c-.78.78-.78 2.05 0 2.83L4 21.41c.39.39.9.59 1.41.59.51 0 1.02-.2 1.41-.59l7.78-7.78 2.81-2.81c.8-.78.8-2.07 0-2.86zM5.41 20L4 18.59l7.72-7.72 1.47 1.35L5.41 20z\"/>\n",
              "  </svg>\n",
              "      </button>\n",
              "      \n",
              "  <style>\n",
              "    .colab-df-container {\n",
              "      display:flex;\n",
              "      flex-wrap:wrap;\n",
              "      gap: 12px;\n",
              "    }\n",
              "\n",
              "    .colab-df-convert {\n",
              "      background-color: #E8F0FE;\n",
              "      border: none;\n",
              "      border-radius: 50%;\n",
              "      cursor: pointer;\n",
              "      display: none;\n",
              "      fill: #1967D2;\n",
              "      height: 32px;\n",
              "      padding: 0 0 0 0;\n",
              "      width: 32px;\n",
              "    }\n",
              "\n",
              "    .colab-df-convert:hover {\n",
              "      background-color: #E2EBFA;\n",
              "      box-shadow: 0px 1px 2px rgba(60, 64, 67, 0.3), 0px 1px 3px 1px rgba(60, 64, 67, 0.15);\n",
              "      fill: #174EA6;\n",
              "    }\n",
              "\n",
              "    [theme=dark] .colab-df-convert {\n",
              "      background-color: #3B4455;\n",
              "      fill: #D2E3FC;\n",
              "    }\n",
              "\n",
              "    [theme=dark] .colab-df-convert:hover {\n",
              "      background-color: #434B5C;\n",
              "      box-shadow: 0px 1px 3px 1px rgba(0, 0, 0, 0.15);\n",
              "      filter: drop-shadow(0px 1px 2px rgba(0, 0, 0, 0.3));\n",
              "      fill: #FFFFFF;\n",
              "    }\n",
              "  </style>\n",
              "\n",
              "      <script>\n",
              "        const buttonEl =\n",
              "          document.querySelector('#df-b04ef945-a365-4740-9c2c-d443f5df6f01 button.colab-df-convert');\n",
              "        buttonEl.style.display =\n",
              "          google.colab.kernel.accessAllowed ? 'block' : 'none';\n",
              "\n",
              "        async function convertToInteractive(key) {\n",
              "          const element = document.querySelector('#df-b04ef945-a365-4740-9c2c-d443f5df6f01');\n",
              "          const dataTable =\n",
              "            await google.colab.kernel.invokeFunction('convertToInteractive',\n",
              "                                                     [key], {});\n",
              "          if (!dataTable) return;\n",
              "\n",
              "          const docLinkHtml = 'Like what you see? Visit the ' +\n",
              "            '<a target=\"_blank\" href=https://colab.research.google.com/notebooks/data_table.ipynb>data table notebook</a>'\n",
              "            + ' to learn more about interactive tables.';\n",
              "          element.innerHTML = '';\n",
              "          dataTable['output_type'] = 'display_data';\n",
              "          await google.colab.output.renderOutput(dataTable, element);\n",
              "          const docLink = document.createElement('div');\n",
              "          docLink.innerHTML = docLinkHtml;\n",
              "          element.appendChild(docLink);\n",
              "        }\n",
              "      </script>\n",
              "    </div>\n",
              "  </div>\n",
              "  "
            ]
          },
          "metadata": {},
          "execution_count": 23
        }
      ]
    },
    {
      "cell_type": "code",
      "source": [
        "# Matriz de correlação com mapa de calor.\n",
        "plt.figure(figsize=(15, 5)) # Tamanho da Figura\n",
        "heatmap = sns.heatmap(crime.corr(), vmin=-1, vmax=1, annot=True, cmap='YlGnBu') # Mapa de calor com variação da escala, descriminação do valor de correlação e padrão de cores\n",
        "heatmap.set_title('Matriz de Correlação', fontdict={'fontsize':12}, pad=12) # Título do Gráfico, tamanho de fonte e \n",
        "plt.show()"
      ],
      "metadata": {
        "colab": {
          "base_uri": "https://localhost:8080/",
          "height": 342
        },
        "id": "lJhEeTq3tFfQ",
        "outputId": "e5dc93f2-2310-4491-ba72-8579f3f32b33"
      },
      "execution_count": null,
      "outputs": [
        {
          "output_type": "display_data",
          "data": {
            "text/plain": [
              "<Figure size 1080x360 with 2 Axes>"
            ],
            "image/png": "[encoded data removed]"
          },
          "metadata": {
            "needs_background": "light"
          }
        }
      ]
    },
    {
      "cell_type": "markdown",
      "source": [
        "**Análise:**"
      ],
      "metadata": {
        "id": "UlMwh3KjtItW"
      }
    },
    {
      "cell_type": "code",
      "source": [
        "# Teste de Esfericidade de Bartlett\n",
        "from factor_analyzer.factor_analyzer import calculate_bartlett_sphericity\n",
        "\n",
        "chi_square_value,p_value=calculate_bartlett_sphericity(crime_var)\n",
        "chi_square_value, p_value"
      ],
      "metadata": {
        "colab": {
          "base_uri": "https://localhost:8080/"
        },
        "id": "XIAIunoVtFZP",
        "outputId": "2c2248ee-0497-4897-b04a-e39bb930d51b"
      },
      "execution_count": null,
      "outputs": [
        {
          "output_type": "execute_result",
          "data": {
            "text/plain": [
              "(594.1109771233596, 3.185010988854575e-102)"
            ]
          },
          "metadata": {},
          "execution_count": 25
        }
      ]
    },
    {
      "cell_type": "code",
      "source": [
        "# Teste de Kaiser-Meyer-Olkin (KMO)\n",
        "from factor_analyzer.factor_analyzer import calculate_kmo\n",
        "\n",
        "kmo_vars,kmo_model = calculate_kmo(crime_var)\n",
        "print(kmo_model) # KMO do modelo\n",
        "print(kmo_vars) # KMO por variável"
      ],
      "metadata": {
        "colab": {
          "base_uri": "https://localhost:8080/"
        },
        "id": "xpd-8KA0tFVT",
        "outputId": "97ef751c-8485-4969-90f2-6dfb90875c3b"
      },
      "execution_count": null,
      "outputs": [
        {
          "output_type": "stream",
          "name": "stdout",
          "text": [
            "0.6785009513270187\n",
            "[0.64626622 0.71645968 0.85549898 0.72930851 0.57333309 0.56450538\n",
            " 0.84078221 0.62002747 0.64279473]\n"
          ]
        }
      ]
    },
    {
      "cell_type": "markdown",
      "source": [
        "**Análise:**"
      ],
      "metadata": {
        "id": "84IMwRYYvwf7"
      }
    },
    {
      "cell_type": "code",
      "source": [
        "# Análise Fatorial exploratória - extração dos fatores iniciais.\n",
        "fe = FactorAnalyzer(10, rotation=None)\n",
        "fe.fit(crime_var)"
      ],
      "metadata": {
        "colab": {
          "base_uri": "https://localhost:8080/"
        },
        "id": "-a3NTtMGtFQ7",
        "outputId": "714b9ad1-314b-4574-dcd9-0c185fcb687d"
      },
      "execution_count": null,
      "outputs": [
        {
          "output_type": "execute_result",
          "data": {
            "text/plain": [
              "FactorAnalyzer(n_factors=10, rotation=None, rotation_kwargs={})"
            ]
          },
          "metadata": {},
          "execution_count": 27
        }
      ]
    },
    {
      "cell_type": "code",
      "source": [
        "# Apresentar os 'Eigenvalues'\n",
        "ev, v = fe.get_eigenvalues()\n",
        "ev"
      ],
      "metadata": {
        "colab": {
          "base_uri": "https://localhost:8080/"
        },
        "id": "aie-UKxatFNX",
        "outputId": "58a4467c-d10d-4b25-dfd1-ca656cf00d2f"
      },
      "execution_count": null,
      "outputs": [
        {
          "output_type": "execute_result",
          "data": {
            "text/plain": [
              "array([5.89720358, 1.2566041 , 0.82067279, 0.43745844, 0.28361903,\n",
              "       0.15357738, 0.12371103, 0.02058611, 0.00656754])"
            ]
          },
          "metadata": {},
          "execution_count": 28
        }
      ]
    },
    {
      "cell_type": "code",
      "source": [
        "# Plotar os 'Eigenvalues' em um gráfico 'Scree'\n",
        "plt.scatter(range(1,crime_var.shape[1]+1), ev)\n",
        "plt.plot(range(1,crime_var.shape[1]+1), ev)\n",
        "plt.title('Scree Plot')\n",
        "plt.xlabel('Factors')\n",
        "plt.ylabel('Eigenvalue')\n",
        "plt.grid()\n",
        "plt.show()"
      ],
      "metadata": {
        "colab": {
          "base_uri": "https://localhost:8080/",
          "height": 295
        },
        "id": "X7nPtIuQtFBG",
        "outputId": "fe86188f-db63-430d-e52f-93e421f1d766"
      },
      "execution_count": null,
      "outputs": [
        {
          "output_type": "display_data",
          "data": {
            "text/plain": [
              "<Figure size 432x288 with 1 Axes>"
            ],
            "image/png": "[encoded data removed]"
          },
          "metadata": {
            "needs_background": "light"
          }
        }
      ]
    },
    {
      "cell_type": "code",
      "source": [
        "# Criação de um modelo de Análise Fatorial com rotação Ortogonal: Varimax + minres (use_smc=True)\n",
        "fe_1 = FactorAnalyzer(3, rotation=\"varimax\", method='ml', use_smc=True)\n",
        "fe_1.fit(crime_var)\n",
        "\n",
        "fe_1.loadings_"
      ],
      "metadata": {
        "colab": {
          "base_uri": "https://localhost:8080/"
        },
        "id": "4msjqrxZvPSs",
        "outputId": "2f5fb569-ef7c-4fb3-c0fb-81cec398e3d7"
      },
      "execution_count": null,
      "outputs": [
        {
          "output_type": "execute_result",
          "data": {
            "text/plain": [
              "array([[0.30293447, 0.72211917, 0.61812168],\n",
              "       [0.8969854 , 0.25896197, 0.35139796],\n",
              "       [0.04135281, 0.65779821, 0.39077992],\n",
              "       [0.54210646, 0.56981552, 0.24938631],\n",
              "       [0.20833682, 0.35759706, 0.90767901],\n",
              "       [0.30752632, 0.89702477, 0.15385499],\n",
              "       [0.64992745, 0.44138396, 0.49707333],\n",
              "       [0.93035981, 0.11884911, 0.0998793 ],\n",
              "       [0.42646441, 0.19602152, 0.55549036]])"
            ]
          },
          "metadata": {},
          "execution_count": 38
        }
      ]
    },
    {
      "cell_type": "code",
      "source": [
        "# Plot da matrix de cargas dos fatores com nome nas variáveis\n",
        "loadings = pd.DataFrame(fe_1.loadings_, columns=['Fator 1', 'Fator 2', 'Fator 3'], index=crime_var.columns)\n",
        "loadings['In F1'] = ['Sim' if var > 0.5 else '' for var in loadings['Fator 1']]\n",
        "loadings['In F2'] = ['Sim' if var > 0.5 else '' for var in loadings['Fator 2']]\n",
        "loadings['In F3'] = ['Sim' if var > 0.5 else '' for var in loadings['Fator 3']]\n",
        "print('Cargas Fatoriais \\n%s' %loadings)"
      ],
      "metadata": {
        "colab": {
          "base_uri": "https://localhost:8080/"
        },
        "id": "XpmV-loj2d_-",
        "outputId": "9aab65ef-9256-4ec9-ef4d-d5476a1c93e4"
      },
      "execution_count": null,
      "outputs": [
        {
          "output_type": "stream",
          "name": "stdout",
          "text": [
            "Cargas Fatoriais \n",
            "                    Fator 1   Fator 2   Fator 3 In F1 In F2 In F3\n",
            "Violento           0.302934  0.722119  0.618122         Sim   Sim\n",
            "Lesapropriedade    0.896985  0.258962  0.351398   Sim            \n",
            "Assassinato        0.041353  0.657798  0.390780         Sim      \n",
            "Estupro            0.542106  0.569816  0.249386   Sim   Sim      \n",
            "Roubo              0.208337  0.357597  0.907679               Sim\n",
            "Assalto            0.307526  0.897025  0.153855         Sim      \n",
            "Invasão Domicilio  0.649927  0.441384  0.497073   Sim            \n",
            "Furto              0.930360  0.118849  0.099879   Sim            \n",
            "Roubo de carros    0.426464  0.196022  0.555490               Sim\n"
          ]
        }
      ]
    },
    {
      "cell_type": "code",
      "source": [
        "# Comunalidade (índice de variabilidade total explicada por todos os fatores para cada variável)\n",
        "fe_1.get_communalities()"
      ],
      "metadata": {
        "colab": {
          "base_uri": "https://localhost:8080/"
        },
        "id": "qEV4Ewnav7VF",
        "outputId": "5eeb7082-7743-4123-a7b4-1f31977d8736"
      },
      "execution_count": null,
      "outputs": [
        {
          "output_type": "execute_result",
          "data": {
            "text/plain": [
              "array([0.9952998 , 0.99512463, 0.58711749, 0.68076267, 0.99516108,\n",
              "       0.92289724, 0.86430738, 0.88967036, 0.52886587])"
            ]
          },
          "metadata": {},
          "execution_count": 41
        }
      ]
    },
    {
      "cell_type": "code",
      "source": [
        "# Verificar a variância explicada por cada fator\n",
        "df_fe1 = fe_1.get_factor_variance()\n",
        "\n",
        "var_factor = pd.DataFrame(df_fe1, columns=['Fator 1', 'Fator 2', 'Fator 3'], index=['Variância (SS)', 'Variância Proporcional', 'Variância Cumulativa'])\n",
        "print(var_factor)"
      ],
      "metadata": {
        "colab": {
          "base_uri": "https://localhost:8080/"
        },
        "id": "kwggGCcP6kc6",
        "outputId": "de8c7445-58cb-4263-cba7-ae8295d7f643"
      },
      "execution_count": null,
      "outputs": [
        {
          "output_type": "stream",
          "name": "stdout",
          "text": [
            "                         Fator 1   Fator 2   Fator 3\n",
            "Variância (SS)          2.799765  2.525804  2.133637\n",
            "Variância Proporcional  0.311085  0.280645  0.237071\n",
            "Variância Cumulativa    0.311085  0.591730  0.828801\n"
          ]
        }
      ]
    },
    {
      "cell_type": "markdown",
      "source": [
        "**ANÁLISE**"
      ],
      "metadata": {
        "id": "qMLMmk4L2dqo"
      }
    },
    {
      "cell_type": "markdown",
      "source": [
        "# Referências:"
      ],
      "metadata": {
        "id": "H6ERNX-gZWgp"
      }
    },
    {
      "cell_type": "markdown",
      "source": [
        "[Análise Fatorial - DATASKLR](https://www.datasklr.com/principal-component-analysis-and-factor-analysis/factor-analysis)\n",
        "\n",
        "[Introduction to Factor Analysis in Python](https://www.datacamp.com/tutorial/introduction-factor-analysis)\n",
        "\n",
        "[Factor Analyzer](https://factor-analyzer.readthedocs.io/en/latest/index.html)\n",
        "\n",
        "[NumPy User Guide](https://numpy.org/doc/stable/user/index.html)\n",
        "\n",
        "[Pandas User Guide](https://pandas.pydata.org/docs/user_guide/index.html)\n",
        "\n",
        "[Seaborn User Guide](https://seaborn.pydata.org/index.html)\n",
        "\n",
        "\n",
        "[Decomposing signals in components (matrix factorization problems)](https://scikit-learn.org/stable/modules/decomposition.html?highlight=factor)\n",
        "\n",
        "https://pypi.org/project/factor-analyzer/\n",
        "\n",
        "https://github.com/Sarmentor/KMO-Bartlett-Tests-Python\n",
        "\n",
        "\n",
        "\n"
      ],
      "metadata": {
        "id": "q0SebLqnZcQA"
      }
    }
  ],
  "metadata": {
    "kernelspec": {
      "display_name": "Python 3.10.6 ('venv': venv)",
      "language": "python",
      "name": "python3"
    },
    "language_info": {
      "codemirror_mode": {
        "name": "ipython",
        "version": 3
      },
      "file_extension": ".py",
      "mimetype": "text/x-python",
      "name": "python",
      "nbconvert_exporter": "python",
      "pygments_lexer": "ipython3",
      "version": "3.10.6"
    },
    "orig_nbformat": 4,
    "vscode": {
      "interpreter": {
        "hash": "17a21100134af3592d09988eee871935e79466d45670c914d929fa5f969b25f9"
      }
    },
    "colab": {
      "provenance": [],
      "toc_visible": true
    }
  },
  "nbformat": 4,
  "nbformat_minor": 0
}

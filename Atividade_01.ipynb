{
  "nbformat": 4,
  "nbformat_minor": 0,
  "metadata": {
    "colab": {
      "provenance": [],
      "collapsed_sections": [],
      "include_colab_link": true
    },
    "kernelspec": {
      "name": "python3",
      "display_name": "Python 3"
    },
    "language_info": {
      "name": "python"
    }
  },
  "cells": [
    {
      "cell_type": "markdown",
      "metadata": {
        "id": "view-in-github",
        "colab_type": "text"
      },
      "source": [
        "<a href=\"https://colab.research.google.com/github/nanipumpkin/Analise_Estatistica/blob/main/Atividade_01.ipynb\" target=\"_parent\"><img src=\"https://colab.research.google.com/assets/colab-badge.svg\" alt=\"Open In Colab\"/></a>"
      ]
    },
    {
      "cell_type": "code",
      "execution_count": null,
      "metadata": {
        "id": "3rvr_KGYGys5"
      },
      "outputs": [],
      "source": [
        "# Importar bibliotecas\n",
        "import pandas as pd\n",
        "import numpy as np\n",
        "import matplotlib.pyplot as plt"
      ]
    },
    {
      "cell_type": "code",
      "source": [
        "from google.colab import drive\n",
        "drive.mount('/content/drive')"
      ],
      "metadata": {
        "colab": {
          "base_uri": "https://localhost:8080/"
        },
        "id": "cb_exMgOSNqk",
        "outputId": "b11f1e72-c9f5-427b-dbb4-33e35b7a781a"
      },
      "execution_count": null,
      "outputs": [
        {
          "output_type": "stream",
          "name": "stdout",
          "text": [
            "Mounted at /content/drive\n"
          ]
        }
      ]
    },
    {
      "cell_type": "code",
      "source": [
        "# Ler base de dados (atualize o caminho para a pasta do seu drive (no drive clique com o botão direito e 'copiar caminho'))\n",
        "restaurants = pd.read_csv('/content/drive/MyDrive/Analise_Estatistica/dataset/restaurant-tips.csv', sep=',', decimal=',')"
      ],
      "metadata": {
        "id": "osXFETShHDEL"
      },
      "execution_count": null,
      "outputs": []
    },
    {
      "cell_type": "code",
      "source": [
        "# Informação geral e tipos de dados\n",
        "restaurants.info()"
      ],
      "metadata": {
        "colab": {
          "base_uri": "https://localhost:8080/"
        },
        "id": "4m64oKxrH3i1",
        "outputId": "150b1cbb-cad5-48ca-bcd5-ad4ef58d00d4"
      },
      "execution_count": null,
      "outputs": [
        {
          "output_type": "stream",
          "name": "stdout",
          "text": [
            "<class 'pandas.core.frame.DataFrame'>\n",
            "RangeIndex: 157 entries, 0 to 156\n",
            "Data columns (total 7 columns):\n",
            " #   Column            Non-Null Count  Dtype  \n",
            "---  ------            --------------  -----  \n",
            " 0   Bill Amount       157 non-null    float64\n",
            " 1   Tip Amount        157 non-null    float64\n",
            " 2   Credit Card       157 non-null    object \n",
            " 3   Number of Guests  157 non-null    int64  \n",
            " 4   Day of Week       157 non-null    object \n",
            " 5   Server            157 non-null    object \n",
            " 6   Tip Percentage    157 non-null    float64\n",
            "dtypes: float64(3), int64(1), object(3)\n",
            "memory usage: 8.7+ KB\n"
          ]
        }
      ]
    },
    {
      "cell_type": "code",
      "source": [
        "restaurants['Day of Week'] = restaurants['Day of Week'].astype(str)"
      ],
      "metadata": {
        "id": "4rPBlrlYQL7L"
      },
      "execution_count": null,
      "outputs": []
    },
    {
      "cell_type": "code",
      "source": [
        "# Estatísticas descritivas\n",
        "restaurants.describe()"
      ],
      "metadata": {
        "colab": {
          "base_uri": "https://localhost:8080/",
          "height": 300
        },
        "id": "Tpf6A5sHHsZC",
        "outputId": "93b7f28f-3f8c-42a8-8542-daba6131114f"
      },
      "execution_count": null,
      "outputs": [
        {
          "output_type": "execute_result",
          "data": {
            "text/plain": [
              "       Bill Amount  Tip Amount  Number of Guests  Tip Percentage\n",
              "count   157.000000  157.000000        157.000000      157.000000\n",
              "mean     22.729045    3.849299          2.095541       16.619108\n",
              "std      12.157234    2.420857          0.932212        4.386067\n",
              "min       1.660000    0.250000          1.000000        6.700000\n",
              "25%      15.190000    2.100000          2.000000       14.300000\n",
              "50%      20.220000    3.350000          2.000000       16.200000\n",
              "75%      28.840000    5.000000          2.000000       18.200000\n",
              "max      70.510000   15.000000          7.000000       42.200000"
            ],
            "text/html": [
              "\n",
              "  <div id=\"df-b5eac152-9a7d-44e6-908b-55ba5d7eee45\">\n",
              "    <div class=\"colab-df-container\">\n",
              "      <div>\n",
              "<style scoped>\n",
              "    .dataframe tbody tr th:only-of-type {\n",
              "        vertical-align: middle;\n",
              "    }\n",
              "\n",
              "    .dataframe tbody tr th {\n",
              "        vertical-align: top;\n",
              "    }\n",
              "\n",
              "    .dataframe thead th {\n",
              "        text-align: right;\n",
              "    }\n",
              "</style>\n",
              "<table border=\"1\" class=\"dataframe\">\n",
              "  <thead>\n",
              "    <tr style=\"text-align: right;\">\n",
              "      <th></th>\n",
              "      <th>Bill Amount</th>\n",
              "      <th>Tip Amount</th>\n",
              "      <th>Number of Guests</th>\n",
              "      <th>Tip Percentage</th>\n",
              "    </tr>\n",
              "  </thead>\n",
              "  <tbody>\n",
              "    <tr>\n",
              "      <th>count</th>\n",
              "      <td>157.000000</td>\n",
              "      <td>157.000000</td>\n",
              "      <td>157.000000</td>\n",
              "      <td>157.000000</td>\n",
              "    </tr>\n",
              "    <tr>\n",
              "      <th>mean</th>\n",
              "      <td>22.729045</td>\n",
              "      <td>3.849299</td>\n",
              "      <td>2.095541</td>\n",
              "      <td>16.619108</td>\n",
              "    </tr>\n",
              "    <tr>\n",
              "      <th>std</th>\n",
              "      <td>12.157234</td>\n",
              "      <td>2.420857</td>\n",
              "      <td>0.932212</td>\n",
              "      <td>4.386067</td>\n",
              "    </tr>\n",
              "    <tr>\n",
              "      <th>min</th>\n",
              "      <td>1.660000</td>\n",
              "      <td>0.250000</td>\n",
              "      <td>1.000000</td>\n",
              "      <td>6.700000</td>\n",
              "    </tr>\n",
              "    <tr>\n",
              "      <th>25%</th>\n",
              "      <td>15.190000</td>\n",
              "      <td>2.100000</td>\n",
              "      <td>2.000000</td>\n",
              "      <td>14.300000</td>\n",
              "    </tr>\n",
              "    <tr>\n",
              "      <th>50%</th>\n",
              "      <td>20.220000</td>\n",
              "      <td>3.350000</td>\n",
              "      <td>2.000000</td>\n",
              "      <td>16.200000</td>\n",
              "    </tr>\n",
              "    <tr>\n",
              "      <th>75%</th>\n",
              "      <td>28.840000</td>\n",
              "      <td>5.000000</td>\n",
              "      <td>2.000000</td>\n",
              "      <td>18.200000</td>\n",
              "    </tr>\n",
              "    <tr>\n",
              "      <th>max</th>\n",
              "      <td>70.510000</td>\n",
              "      <td>15.000000</td>\n",
              "      <td>7.000000</td>\n",
              "      <td>42.200000</td>\n",
              "    </tr>\n",
              "  </tbody>\n",
              "</table>\n",
              "</div>\n",
              "      <button class=\"colab-df-convert\" onclick=\"convertToInteractive('df-b5eac152-9a7d-44e6-908b-55ba5d7eee45')\"\n",
              "              title=\"Convert this dataframe to an interactive table.\"\n",
              "              style=\"display:none;\">\n",
              "        \n",
              "  <svg xmlns=\"http://www.w3.org/2000/svg\" height=\"24px\"viewBox=\"0 0 24 24\"\n",
              "       width=\"24px\">\n",
              "    <path d=\"M0 0h24v24H0V0z\" fill=\"none\"/>\n",
              "    <path d=\"M18.56 5.44l.94 2.06.94-2.06 2.06-.94-2.06-.94-.94-2.06-.94 2.06-2.06.94zm-11 1L8.5 8.5l.94-2.06 2.06-.94-2.06-.94L8.5 2.5l-.94 2.06-2.06.94zm10 10l.94 2.06.94-2.06 2.06-.94-2.06-.94-.94-2.06-.94 2.06-2.06.94z\"/><path d=\"M17.41 7.96l-1.37-1.37c-.4-.4-.92-.59-1.43-.59-.52 0-1.04.2-1.43.59L10.3 9.45l-7.72 7.72c-.78.78-.78 2.05 0 2.83L4 21.41c.39.39.9.59 1.41.59.51 0 1.02-.2 1.41-.59l7.78-7.78 2.81-2.81c.8-.78.8-2.07 0-2.86zM5.41 20L4 18.59l7.72-7.72 1.47 1.35L5.41 20z\"/>\n",
              "  </svg>\n",
              "      </button>\n",
              "      \n",
              "  <style>\n",
              "    .colab-df-container {\n",
              "      display:flex;\n",
              "      flex-wrap:wrap;\n",
              "      gap: 12px;\n",
              "    }\n",
              "\n",
              "    .colab-df-convert {\n",
              "      background-color: #E8F0FE;\n",
              "      border: none;\n",
              "      border-radius: 50%;\n",
              "      cursor: pointer;\n",
              "      display: none;\n",
              "      fill: #1967D2;\n",
              "      height: 32px;\n",
              "      padding: 0 0 0 0;\n",
              "      width: 32px;\n",
              "    }\n",
              "\n",
              "    .colab-df-convert:hover {\n",
              "      background-color: #E2EBFA;\n",
              "      box-shadow: 0px 1px 2px rgba(60, 64, 67, 0.3), 0px 1px 3px 1px rgba(60, 64, 67, 0.15);\n",
              "      fill: #174EA6;\n",
              "    }\n",
              "\n",
              "    [theme=dark] .colab-df-convert {\n",
              "      background-color: #3B4455;\n",
              "      fill: #D2E3FC;\n",
              "    }\n",
              "\n",
              "    [theme=dark] .colab-df-convert:hover {\n",
              "      background-color: #434B5C;\n",
              "      box-shadow: 0px 1px 3px 1px rgba(0, 0, 0, 0.15);\n",
              "      filter: drop-shadow(0px 1px 2px rgba(0, 0, 0, 0.3));\n",
              "      fill: #FFFFFF;\n",
              "    }\n",
              "  </style>\n",
              "\n",
              "      <script>\n",
              "        const buttonEl =\n",
              "          document.querySelector('#df-b5eac152-9a7d-44e6-908b-55ba5d7eee45 button.colab-df-convert');\n",
              "        buttonEl.style.display =\n",
              "          google.colab.kernel.accessAllowed ? 'block' : 'none';\n",
              "\n",
              "        async function convertToInteractive(key) {\n",
              "          const element = document.querySelector('#df-b5eac152-9a7d-44e6-908b-55ba5d7eee45');\n",
              "          const dataTable =\n",
              "            await google.colab.kernel.invokeFunction('convertToInteractive',\n",
              "                                                     [key], {});\n",
              "          if (!dataTable) return;\n",
              "\n",
              "          const docLinkHtml = 'Like what you see? Visit the ' +\n",
              "            '<a target=\"_blank\" href=https://colab.research.google.com/notebooks/data_table.ipynb>data table notebook</a>'\n",
              "            + ' to learn more about interactive tables.';\n",
              "          element.innerHTML = '';\n",
              "          dataTable['output_type'] = 'display_data';\n",
              "          await google.colab.output.renderOutput(dataTable, element);\n",
              "          const docLink = document.createElement('div');\n",
              "          docLink.innerHTML = docLinkHtml;\n",
              "          element.appendChild(docLink);\n",
              "        }\n",
              "      </script>\n",
              "    </div>\n",
              "  </div>\n",
              "  "
            ]
          },
          "metadata": {},
          "execution_count": 11
        }
      ]
    },
    {
      "cell_type": "code",
      "source": [
        "# Ler amostra aleatória de 10 itens\n",
        "restaurants.sample(10)"
      ],
      "metadata": {
        "colab": {
          "base_uri": "https://localhost:8080/"
        },
        "id": "i4txgxajHm--",
        "outputId": "1733b203-1c18-4570-ba09-afc9707992b8"
      },
      "execution_count": null,
      "outputs": [
        {
          "output_type": "stream",
          "name": "stdout",
          "text": [
            "     Bill Amount  Tip Amount Credit Card  Number of Guests Day of Week Server  \\\n",
            "121        17.82        3.18           y                 2           w      C   \n",
            "155        51.68       10.00           y                 6           m      B   \n",
            "25         22.68        3.55           n                 2          th      A   \n",
            "86         23.00        3.75           n                 1           w      A   \n",
            "3          17.39        3.61           y                 2           f      B   \n",
            "57         23.43        4.00           n                 2           w      C   \n",
            "65          8.29        1.00           y                 2          th      A   \n",
            "7          19.58        2.42           n                 2           f      A   \n",
            "53          7.97        1.03           n                 2           w      C   \n",
            "12          8.08        1.00           n                 1           f      B   \n",
            "\n",
            "     Tip Percentage  \n",
            "121            17.8  \n",
            "155            19.3  \n",
            "25             15.7  \n",
            "86             16.3  \n",
            "3              20.8  \n",
            "57             17.1  \n",
            "65             12.1  \n",
            "7              12.4  \n",
            "53             12.9  \n",
            "12             12.4  \n"
          ]
        }
      ]
    },
    {
      "cell_type": "code",
      "source": [
        "# Plotar histograma\n",
        "restaurants['Bill Amount'].hist()\n",
        "print(restaurants['Bill Amount'].agg([np.mean, np.median]))\n"
      ],
      "metadata": {
        "colab": {
          "base_uri": "https://localhost:8080/",
          "height": 317
        },
        "id": "RYvGSiA8KjJr",
        "outputId": "508b4198-02d8-4919-edf8-c5b182135cda"
      },
      "execution_count": null,
      "outputs": [
        {
          "output_type": "stream",
          "name": "stdout",
          "text": [
            "mean      22.729045\n",
            "median    20.220000\n",
            "Name: Bill Amount, dtype: float64\n"
          ]
        },
        {
          "output_type": "display_data",
          "data": {
            "text/plain": [
              "<Figure size 432x288 with 1 Axes>"
            ],
            "image/png": "[encoded data removed]"
          },
          "metadata": {
            "needs_background": "light"
          }
        }
      ]
    },
    {
      "cell_type": "markdown",
      "source": [
        "# Atividade\n",
        "\n",
        "1. Importe a base de dados restaurant-tips.csv\n",
        "2. Identifique as colunas e seus respectivos tipos de dados e responda:\n",
        "  <br>2.1 Qual o tipo de Dado da Coluna 'Tipo Amount'?\n",
        "  <br>2.2 Qual o tipo de dado da Coluna 'Number of Guests'?.\n",
        "3. Plote um histograma das colunas de dados numéricos, indicando as médias e medianas.\n",
        "4. Salve o arquivo .ipynb e submeta como entrega da atividade. Nomeie o arquivo com: 'Nome_Sobrenome_Atv_01.ipynb'"
      ],
      "metadata": {
        "id": "LqXGIVT8NI_1"
      }
    }
  ]
}
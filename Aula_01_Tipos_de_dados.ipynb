{
  "nbformat": 4,
  "nbformat_minor": 0,
  "metadata": {
    "colab": {
      "provenance": [],
      "collapsed_sections": [],
      "include_colab_link": true
    },
    "kernelspec": {
      "name": "python3",
      "display_name": "Python 3"
    },
    "language_info": {
      "name": "python"
    }
  },
  "cells": [
    {
      "cell_type": "markdown",
      "metadata": {
        "id": "view-in-github",
        "colab_type": "text"
      },
      "source": [
        "<a href=\"https://colab.research.google.com/github/nanipumpkin/Analise_Estatistica/blob/main/Aula_01_Tipos_de_dados.ipynb\" target=\"_parent\"><img src=\"https://colab.research.google.com/assets/colab-badge.svg\" alt=\"Open In Colab\"/></a>"
      ]
    },
    {
      "cell_type": "markdown",
      "source": [
        "#Aula 1 - Noções Básicas"
      ],
      "metadata": {
        "id": "PSy4U2h3jBrb"
      }
    },
    {
      "cell_type": "markdown",
      "source": [
        "## Comunique-se com seu computador"
      ],
      "metadata": {
        "id": "e2p_snFGjL-R"
      }
    },
    {
      "cell_type": "code",
      "execution_count": null,
      "metadata": {
        "colab": {
          "base_uri": "https://localhost:8080/"
        },
        "id": "0i0xJOK6hZV7",
        "outputId": "0acd3274-1c50-442b-9b5a-b681d5476341"
      },
      "outputs": [
        {
          "output_type": "stream",
          "name": "stdout",
          "text": [
            "Olá!\n"
          ]
        }
      ],
      "source": [
        "# Diga olá para sua máquina e ela responderá\n",
        "print('Olá!')"
      ]
    },
    {
      "cell_type": "markdown",
      "source": [
        "## TIPOS DE DADOS\n",
        "### Dados Numéricos (quantitativos)"
      ],
      "metadata": {
        "id": "o1iG-cFojb6G"
      }
    },
    {
      "cell_type": "code",
      "source": [
        "# Dados Numéricos Discretos (valores integrais - INT)\n",
        "x = 5"
      ],
      "metadata": {
        "id": "a05aP_h1h0Zb"
      },
      "execution_count": null,
      "outputs": []
    },
    {
      "cell_type": "code",
      "source": [
        "print(x)"
      ],
      "metadata": {
        "colab": {
          "base_uri": "https://localhost:8080/"
        },
        "id": "lVoAFAWxilY4",
        "outputId": "6ca4aa3c-3b15-4c75-ef6b-fc2e8824f23e"
      },
      "execution_count": null,
      "outputs": [
        {
          "output_type": "stream",
          "name": "stdout",
          "text": [
            "5\n"
          ]
        }
      ]
    },
    {
      "cell_type": "code",
      "source": [
        "print(type(x))"
      ],
      "metadata": {
        "colab": {
          "base_uri": "https://localhost:8080/"
        },
        "id": "wiL8cogYiyqx",
        "outputId": "bd65ff2d-0f13-4c7f-f283-0fe3e002395e"
      },
      "execution_count": null,
      "outputs": [
        {
          "output_type": "stream",
          "name": "stdout",
          "text": [
            "<class 'int'>\n"
          ]
        }
      ]
    },
    {
      "cell_type": "code",
      "source": [
        "# Dados Numéricos Contínuos (valores flutuantes, razão - FLOAT)\n",
        "preco = 19.99"
      ],
      "metadata": {
        "id": "Ql1j7KIxiq-n"
      },
      "execution_count": null,
      "outputs": []
    },
    {
      "cell_type": "code",
      "source": [
        "print(preco, type(preco))"
      ],
      "metadata": {
        "colab": {
          "base_uri": "https://localhost:8080/"
        },
        "id": "2XV6saEmkUTI",
        "outputId": "52a58085-62f6-4476-839e-f51a2468074d"
      },
      "execution_count": null,
      "outputs": [
        {
          "output_type": "stream",
          "name": "stdout",
          "text": [
            "19.99 <class 'float'>\n"
          ]
        }
      ]
    },
    {
      "cell_type": "markdown",
      "source": [
        "### Dados Categóricos (qualitativos)"
      ],
      "metadata": {
        "id": "Dnmf0JvQkk7u"
      }
    },
    {
      "cell_type": "code",
      "source": [
        "# Dados Categóricos Nominais (valores textuais, string - STR)\n",
        "cidade = \"Porto Alegre\"\n",
        "print(cidade, type(cidade))"
      ],
      "metadata": {
        "colab": {
          "base_uri": "https://localhost:8080/"
        },
        "id": "iD2jFAzBkgy-",
        "outputId": "a90fbb40-5e0c-413d-9fa5-de704e4864bb"
      },
      "execution_count": null,
      "outputs": [
        {
          "output_type": "stream",
          "name": "stdout",
          "text": [
            "Porto Alegre <class 'str'>\n"
          ]
        }
      ]
    },
    {
      "cell_type": "code",
      "source": [
        "cidade = 'Porto Alegre'\n",
        "print(cidade, type(cidade))"
      ],
      "metadata": {
        "colab": {
          "base_uri": "https://localhost:8080/"
        },
        "id": "pCjtMFHVlqC9",
        "outputId": "3ff04eeb-0cf9-4aea-8c1b-1eec3070544c"
      },
      "execution_count": null,
      "outputs": [
        {
          "output_type": "stream",
          "name": "stdout",
          "text": [
            "Porto Alegre <class 'str'>\n"
          ]
        }
      ]
    },
    {
      "cell_type": "code",
      "source": [
        "# Dados Categóricos Ordinais (valores de ordenação - BOOL, ENUM*)\n",
        "disponivel = True\n",
        "print(disponivel)"
      ],
      "metadata": {
        "colab": {
          "base_uri": "https://localhost:8080/"
        },
        "id": "ATFJbWtjlv_Y",
        "outputId": "460bd2ed-bde8-4d59-9108-24146285a3ef"
      },
      "execution_count": null,
      "outputs": [
        {
          "output_type": "stream",
          "name": "stdout",
          "text": [
            "True\n"
          ]
        }
      ]
    },
    {
      "cell_type": "code",
      "source": [
        "disponivel = False\n",
        "print(disponivel, type(disponivel))"
      ],
      "metadata": {
        "colab": {
          "base_uri": "https://localhost:8080/"
        },
        "id": "tkJPe8Qdm2hk",
        "outputId": "880105b9-66cd-4744-d43b-8acabe6af303"
      },
      "execution_count": null,
      "outputs": [
        {
          "output_type": "stream",
          "name": "stdout",
          "text": [
            "False <class 'bool'>\n"
          ]
        }
      ]
    },
    {
      "cell_type": "markdown",
      "source": [
        "## OPERADORES"
      ],
      "metadata": {
        "id": "oTfCM_udn9PI"
      }
    },
    {
      "cell_type": "code",
      "source": [
        "# Dados numéricos inteiros\n",
        "x = 50\n",
        "y = 2"
      ],
      "metadata": {
        "id": "1f7Sj-HYoAQm"
      },
      "execution_count": null,
      "outputs": []
    },
    {
      "cell_type": "code",
      "source": [
        "#Operadores Aritméticos\n",
        "\n",
        "## Adição\n",
        "print(x + y)\n",
        "\n",
        "## Subtração\n",
        "print(x - y)\n",
        "\n",
        "## Multiplicação\n",
        "print(x * y)\n",
        "\n",
        "## Divisão\n",
        "print(x / y)"
      ],
      "metadata": {
        "colab": {
          "base_uri": "https://localhost:8080/"
        },
        "id": "bt_T3GIfoHyZ",
        "outputId": "a9c0227e-17fb-4669-9b96-e697634a98c2"
      },
      "execution_count": null,
      "outputs": [
        {
          "output_type": "stream",
          "name": "stdout",
          "text": [
            "52\n",
            "48\n",
            "100\n",
            "25.0\n"
          ]
        }
      ]
    },
    {
      "cell_type": "code",
      "source": [
        "# Potenciação\n",
        "print(x ** y)\n",
        "\n",
        "# Divisão inteira\n",
        "print(x // y)\n",
        "\n",
        "# Resto da divisão\n",
        "print(x % y)"
      ],
      "metadata": {
        "colab": {
          "base_uri": "https://localhost:8080/"
        },
        "id": "BtpHmUUromZa",
        "outputId": "0ef65c0e-f596-4258-f6d4-a1299442591b"
      },
      "execution_count": null,
      "outputs": [
        {
          "output_type": "stream",
          "name": "stdout",
          "text": [
            "2500\n",
            "25\n",
            "0\n"
          ]
        }
      ]
    },
    {
      "cell_type": "code",
      "source": [
        "# Divisão inteira\n",
        "print(3 // 4)"
      ],
      "metadata": {
        "colab": {
          "base_uri": "https://localhost:8080/"
        },
        "id": "XTW_eeWIpJfN",
        "outputId": "42bacfb5-2859-41d9-d573-3a0fd85de0a9"
      },
      "execution_count": null,
      "outputs": [
        {
          "output_type": "stream",
          "name": "stdout",
          "text": [
            "0\n"
          ]
        }
      ]
    },
    {
      "cell_type": "code",
      "source": [
        "# Dados categóricos\n",
        "tem_cafe = True\n",
        "tem_pao = False"
      ],
      "metadata": {
        "id": "upx_GkpXpSok"
      },
      "execution_count": null,
      "outputs": []
    },
    {
      "cell_type": "code",
      "source": [
        "# Operadores Lógicos\n",
        "\n",
        "# Altera ou inverte o valor lógico da expressão\n",
        "print(not tem_cafe)\n",
        "\n",
        "# Resulta verdadeiro se pelo menos uma das expressões for verdadeira\n",
        "print(tem_cafe or tem_pao)\n",
        "\n",
        "# Resulta verdadeiro apenas se ambas expressões forem verdadeiras\n",
        "print(tem_cafe and tem_pao)"
      ],
      "metadata": {
        "colab": {
          "base_uri": "https://localhost:8080/"
        },
        "id": "yWhq32TOpX2L",
        "outputId": "8add3ba0-f946-494d-aefe-6feb16817f7f"
      },
      "execution_count": null,
      "outputs": [
        {
          "output_type": "stream",
          "name": "stdout",
          "text": [
            "False\n",
            "True\n",
            "False\n"
          ]
        }
      ]
    },
    {
      "cell_type": "code",
      "source": [
        "# Dados numéricos\n",
        "dolar = 5.3\n",
        "real = 1"
      ],
      "metadata": {
        "id": "s4Oy8b4RsP8c"
      },
      "execution_count": null,
      "outputs": []
    },
    {
      "cell_type": "code",
      "source": [
        "# Operadores relacionais\n",
        "\n",
        "# Maior que\n",
        "print(dolar > real)\n",
        "\n",
        "# Menor que\n",
        "print(dolar < real)\n",
        "\n",
        "# Igual a\n",
        "print(dolar == real)\n",
        "\n",
        "# Maior ou igual\n",
        "print(dolar >= real)\n",
        "\n",
        "# Menor ou igual\n",
        "print(dolar <= real)\n",
        "\n",
        "# Diferente de\n",
        "print(dolar != real)"
      ],
      "metadata": {
        "colab": {
          "base_uri": "https://localhost:8080/"
        },
        "id": "slvTmhyap_zL",
        "outputId": "57cb6a4d-b478-4afb-b1d2-b2f1cfe68d06"
      },
      "execution_count": null,
      "outputs": [
        {
          "output_type": "stream",
          "name": "stdout",
          "text": [
            "True\n",
            "False\n",
            "False\n",
            "True\n",
            "False\n",
            "True\n"
          ]
        }
      ]
    },
    {
      "cell_type": "code",
      "source": [
        "# Exemplo de algoritmo - estruturas sequenciais\n",
        "salario_mensal = input('Digite o valor do seu salario mensal: ')\n",
        "salario_mensal = float(salario_mensal)\n",
        "\n",
        "gasto_mensal = input('Digite o valor do seu gasto mensal médio: ')\n",
        "gasto_mensal = float(gasto_mensal)\n",
        "\n",
        "salario_total = salario_mensal * 12\n",
        "gasto_total = gasto_mensal * 12\n",
        "\n",
        "montante_economizado = salario_total - gasto_total\n",
        "print('O montante que voce pode economizar ao fim do ano é de: ', montante_economizado)"
      ],
      "metadata": {
        "colab": {
          "base_uri": "https://localhost:8080/"
        },
        "id": "hxROT8hMv3SJ",
        "outputId": "1d78a321-8fe3-431a-b8c5-ef21b42790be"
      },
      "execution_count": null,
      "outputs": [
        {
          "output_type": "stream",
          "name": "stdout",
          "text": [
            "Digite o valor do seu salario mensal: 100\n",
            "Digite o valor do seu gasto mensal médio: 99.5\n",
            "O montante que voce pode economizar ao fim do ano é de:  6.0\n"
          ]
        }
      ]
    }
  ]
}
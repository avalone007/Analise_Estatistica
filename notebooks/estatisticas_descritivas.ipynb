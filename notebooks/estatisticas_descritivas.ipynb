{
  "nbformat": 4,
  "nbformat_minor": 0,
  "metadata": {
    "colab": {
      "provenance": [],
      "collapsed_sections": []
    },
    "kernelspec": {
      "name": "python3",
      "display_name": "Python 3"
    },
    "language_info": {
      "name": "python"
    }
  },
  "cells": [
    {
      "cell_type": "markdown",
      "source": [
        "# **Introdução à Análise Estatística em Python**\n",
        "\n",
        "*Marianne Costa Avalone*\n",
        "\n",
        "*Olavo Avalone Neto*\n",
        "<br>\n",
        "<br>\n",
        "\n",
        "## **Descrição do curso**\n",
        "Estatística é o estudo de como coletar, analisar e obter conclusões a partir de dados. É uma ferramenta valiosa que permite fazer projeções e inferir respostas para diversas questões. Por exemplo:\n",
        "- Qual a probabilidade de alguém comprar um produto?\n",
        "- Quantas reclamações uma equipe de suporte vai receber?\n",
        "- Quantos tamanhos de jeans são necessários para vestir 95% da população?\n",
        "\n",
        "Nesse curso, você vai descobrir como responder questões como essas à medida que desenvolver habilidades estatísticas e aprender a calcular médias, usar gráficos de dispersão e mostrar a relação entre variáveis numéricas e calcular sua correlação. Você também aprenderá a calcular probabilidades, um eixo importante do raciocínio estatístico e aprenderá a utilizar Python para conduzir um estudo e obter suas próprias conclusões a partir de dados. \n",
        "Em caso de dúvidas, sugestões, por favor entre em contato conosco por e-mail:\n",
        "\n",
        "marianne.avalone@gmail.com\n",
        "\n",
        "avalone@gmail.com"
      ],
      "metadata": {
        "id": "NZopVpPRu-cd"
      }
    },
    {
      "cell_type": "markdown",
      "source": [
        "## 1 Estatísticas Descritivas\n",
        "Estatísticas descritivas fornecem as ferramentas necessárias para análise exploratórias de dados que possam revelar objetos de interesse. Neste capítulo, você vai explorar estatísticas descritivas que incluem, média, mediana, desvio padrão e aprender como interpretá-las de forma adequada. Ao desenvolver estas habilidades, você saberá escolher as estatísticas que descrevem melhor seus dados."
      ],
      "metadata": {
        "id": "ahQDGHSxRApK"
      }
    },
    {
      "cell_type": "markdown",
      "source": [],
      "metadata": {
        "id": "5_RZm0npRXgY"
      }
    },
    {
      "cell_type": "markdown",
      "source": [
        "### **1.1 O que é Estatística?**"
      ],
      "metadata": {
        "id": "PyO-0WGaRQKm"
      }
    },
    {
      "cell_type": "markdown",
      "source": [
        "#### **1.1.1 Estatística Descritiva e Inferencial**\n",
        "Estatísticas podem ser utilizadas para responder diversos tipos de questões, mas antes disso, é preciso identificar qual o tipo de estatística mais adequado para obter conclusões acuradas. Neste exercício, você vai afinar suas habilidades identificando qual o tipo de estatística adequado para responder cada questão.\n",
        "\n",
        "[Exercício 1](https://jamboard.google.com/d/1MHGJ1vpsIpDsdXkQ34Qw3neR6kaObpiVcFOKtfKnOeA/edit?usp=sharing)"
      ],
      "metadata": {
        "id": "d7SkTmOIRWA1"
      }
    },
    {
      "cell_type": "markdown",
      "source": [
        "#### **1.1.2 Tipos de Dados**\n",
        "Existem dois tipos de dados: quantitativos (numéricos) e qualitativos (categóricos). Variáveis numéricas podem ser classificadas em discretas (contáveis) ou contínuas (mensuráveis), e variáveis categóricas podem ser classificadas como nominais (valores textuais) ou ordinais (valores booleanos). Essas características ajudam a determinar quais estatísticas descrevem melhor seus dados.\n",
        "\n",
        "[Exercício 2](https://jamboard.google.com/d/1MHGJ1vpsIpDsdXkQ34Qw3neR6kaObpiVcFOKtfKnOeA/edit?usp=sharing)"
      ],
      "metadata": {
        "id": "ezY-_dt8ReaL"
      }
    },
    {
      "cell_type": "markdown",
      "source": [
        "**Dados Numéricos (quantitativos)**"
      ],
      "metadata": {
        "id": "o1iG-cFojb6G"
      }
    },
    {
      "cell_type": "code",
      "source": [
        "# Dados Numéricos Discretos (valores integrais - INT)\n",
        "x = 5"
      ],
      "metadata": {
        "id": "a05aP_h1h0Zb"
      },
      "execution_count": 1,
      "outputs": []
    },
    {
      "cell_type": "code",
      "source": [
        "print(x)"
      ],
      "metadata": {
        "colab": {
          "base_uri": "https://localhost:8080/"
        },
        "id": "lVoAFAWxilY4",
        "outputId": "ef1dc053-7af9-419f-9c89-20546d8d9171"
      },
      "execution_count": 2,
      "outputs": [
        {
          "output_type": "stream",
          "name": "stdout",
          "text": [
            "5\n"
          ]
        }
      ]
    },
    {
      "cell_type": "code",
      "source": [
        "print(type(x))"
      ],
      "metadata": {
        "colab": {
          "base_uri": "https://localhost:8080/"
        },
        "id": "wiL8cogYiyqx",
        "outputId": "097f8ac4-3873-4c9b-ee5f-00850351aa7e"
      },
      "execution_count": 3,
      "outputs": [
        {
          "output_type": "stream",
          "name": "stdout",
          "text": [
            "<class 'int'>\n"
          ]
        }
      ]
    },
    {
      "cell_type": "code",
      "source": [
        "# Dados Numéricos Contínuos (valores flutuantes, razão - FLOAT)\n",
        "preco = 19.99"
      ],
      "metadata": {
        "id": "Ql1j7KIxiq-n"
      },
      "execution_count": 4,
      "outputs": []
    },
    {
      "cell_type": "code",
      "source": [
        "print(preco, type(preco))"
      ],
      "metadata": {
        "colab": {
          "base_uri": "https://localhost:8080/"
        },
        "id": "2XV6saEmkUTI",
        "outputId": "449b31ce-cdd0-4134-89c5-1e622129c50b"
      },
      "execution_count": 5,
      "outputs": [
        {
          "output_type": "stream",
          "name": "stdout",
          "text": [
            "19.99 <class 'float'>\n"
          ]
        }
      ]
    },
    {
      "cell_type": "markdown",
      "source": [
        "**Dados Categóricos (qualitativos)**"
      ],
      "metadata": {
        "id": "Dnmf0JvQkk7u"
      }
    },
    {
      "cell_type": "code",
      "source": [
        "# Dados Categóricos Nominais (valores textuais, string - STR)\n",
        "cidade = \"Porto Alegre\"\n",
        "print(cidade, type(cidade))"
      ],
      "metadata": {
        "colab": {
          "base_uri": "https://localhost:8080/"
        },
        "id": "iD2jFAzBkgy-",
        "outputId": "c6a77e3f-4beb-43b8-e602-287cfc7075f9"
      },
      "execution_count": 6,
      "outputs": [
        {
          "output_type": "stream",
          "name": "stdout",
          "text": [
            "Porto Alegre <class 'str'>\n"
          ]
        }
      ]
    },
    {
      "cell_type": "code",
      "source": [
        "cidade = 'Porto Alegre'\n",
        "print(cidade, type(cidade))"
      ],
      "metadata": {
        "colab": {
          "base_uri": "https://localhost:8080/"
        },
        "id": "pCjtMFHVlqC9",
        "outputId": "32749290-b31e-4759-ab5f-23bbfe91579d"
      },
      "execution_count": 7,
      "outputs": [
        {
          "output_type": "stream",
          "name": "stdout",
          "text": [
            "Porto Alegre <class 'str'>\n"
          ]
        }
      ]
    },
    {
      "cell_type": "code",
      "source": [
        "# Dados Categóricos Ordinais (valores de ordenação - BOOL)\n",
        "disponivel = True\n",
        "print(disponivel)"
      ],
      "metadata": {
        "colab": {
          "base_uri": "https://localhost:8080/"
        },
        "id": "ATFJbWtjlv_Y",
        "outputId": "5a87d70f-18d3-4786-baee-bb6d569996b4"
      },
      "execution_count": 8,
      "outputs": [
        {
          "output_type": "stream",
          "name": "stdout",
          "text": [
            "True\n"
          ]
        }
      ]
    },
    {
      "cell_type": "code",
      "source": [
        "disponivel = False\n",
        "print(disponivel, type(disponivel))"
      ],
      "metadata": {
        "colab": {
          "base_uri": "https://localhost:8080/"
        },
        "id": "tkJPe8Qdm2hk",
        "outputId": "894f1455-67bf-4436-9a29-07ee32cd71c3"
      },
      "execution_count": 9,
      "outputs": [
        {
          "output_type": "stream",
          "name": "stdout",
          "text": [
            "False <class 'bool'>\n"
          ]
        }
      ]
    },
    {
      "cell_type": "markdown",
      "source": [
        "**Operadores Aritméticos, Lógicos e Relacionais**"
      ],
      "metadata": {
        "id": "oTfCM_udn9PI"
      }
    },
    {
      "cell_type": "code",
      "source": [
        "# Dados numéricos inteiros\n",
        "x = 50\n",
        "y = 2"
      ],
      "metadata": {
        "id": "1f7Sj-HYoAQm"
      },
      "execution_count": null,
      "outputs": []
    },
    {
      "cell_type": "code",
      "source": [
        "#Operadores Aritméticos\n",
        "\n",
        "## Adição\n",
        "print(x + y)\n",
        "\n",
        "## Subtração\n",
        "print(x - y)\n",
        "\n",
        "## Multiplicação\n",
        "print(x * y)\n",
        "\n",
        "## Divisão\n",
        "print(x / y)"
      ],
      "metadata": {
        "colab": {
          "base_uri": "https://localhost:8080/"
        },
        "id": "bt_T3GIfoHyZ",
        "outputId": "a9c0227e-17fb-4669-9b96-e697634a98c2"
      },
      "execution_count": null,
      "outputs": [
        {
          "output_type": "stream",
          "name": "stdout",
          "text": [
            "52\n",
            "48\n",
            "100\n",
            "25.0\n"
          ]
        }
      ]
    },
    {
      "cell_type": "code",
      "source": [
        "# Potenciação\n",
        "print(x ** y)\n",
        "\n",
        "# Divisão inteira\n",
        "print(x // y)\n",
        "\n",
        "# Resto da divisão\n",
        "print(x % y)"
      ],
      "metadata": {
        "colab": {
          "base_uri": "https://localhost:8080/"
        },
        "id": "BtpHmUUromZa",
        "outputId": "0ef65c0e-f596-4258-f6d4-a1299442591b"
      },
      "execution_count": null,
      "outputs": [
        {
          "output_type": "stream",
          "name": "stdout",
          "text": [
            "2500\n",
            "25\n",
            "0\n"
          ]
        }
      ]
    },
    {
      "cell_type": "code",
      "source": [
        "# Divisão inteira\n",
        "print(3 // 4)"
      ],
      "metadata": {
        "colab": {
          "base_uri": "https://localhost:8080/"
        },
        "id": "XTW_eeWIpJfN",
        "outputId": "42bacfb5-2859-41d9-d573-3a0fd85de0a9"
      },
      "execution_count": null,
      "outputs": [
        {
          "output_type": "stream",
          "name": "stdout",
          "text": [
            "0\n"
          ]
        }
      ]
    },
    {
      "cell_type": "code",
      "source": [
        "# Dados categóricos\n",
        "tem_cafe = True\n",
        "tem_pao = False"
      ],
      "metadata": {
        "id": "upx_GkpXpSok"
      },
      "execution_count": null,
      "outputs": []
    },
    {
      "cell_type": "code",
      "source": [
        "# Operadores Lógicos\n",
        "\n",
        "# Altera ou inverte o valor lógico da expressão\n",
        "print(not tem_cafe)\n",
        "\n",
        "# Resulta verdadeiro se pelo menos uma das expressões for verdadeira\n",
        "print(tem_cafe or tem_pao)\n",
        "\n",
        "# Resulta verdadeiro apenas se ambas expressões forem verdadeiras\n",
        "print(tem_cafe and tem_pao)"
      ],
      "metadata": {
        "colab": {
          "base_uri": "https://localhost:8080/"
        },
        "id": "yWhq32TOpX2L",
        "outputId": "8add3ba0-f946-494d-aefe-6feb16817f7f"
      },
      "execution_count": null,
      "outputs": [
        {
          "output_type": "stream",
          "name": "stdout",
          "text": [
            "False\n",
            "True\n",
            "False\n"
          ]
        }
      ]
    },
    {
      "cell_type": "code",
      "source": [
        "# Dados numéricos\n",
        "dolar = 5.3\n",
        "real = 1"
      ],
      "metadata": {
        "id": "s4Oy8b4RsP8c"
      },
      "execution_count": null,
      "outputs": []
    },
    {
      "cell_type": "code",
      "source": [
        "# Operadores relacionais\n",
        "\n",
        "# Maior que\n",
        "print(dolar > real)\n",
        "\n",
        "# Menor que\n",
        "print(dolar < real)\n",
        "\n",
        "# Igual a\n",
        "print(dolar == real)\n",
        "\n",
        "# Maior ou igual\n",
        "print(dolar >= real)\n",
        "\n",
        "# Menor ou igual\n",
        "print(dolar <= real)\n",
        "\n",
        "# Diferente de\n",
        "print(dolar != real)"
      ],
      "metadata": {
        "colab": {
          "base_uri": "https://localhost:8080/"
        },
        "id": "slvTmhyap_zL",
        "outputId": "57cb6a4d-b478-4afb-b1d2-b2f1cfe68d06"
      },
      "execution_count": null,
      "outputs": [
        {
          "output_type": "stream",
          "name": "stdout",
          "text": [
            "True\n",
            "False\n",
            "False\n",
            "True\n",
            "False\n",
            "True\n"
          ]
        }
      ]
    },
    {
      "cell_type": "markdown",
      "source": [
        "### **1.2 Medidas de Centralidade**"
      ],
      "metadata": {
        "id": "hxZ_sny3sD6o"
      }
    },
    {
      "cell_type": "markdown",
      "source": [
        "#### **1.2.1 Média e Mediana**\n",
        "**Média** é a soma de todas as entradas numéricas dividida pelo numero total de entradas.\n",
        "\n",
        "**Mediana** é o valor central da amostra. Portanto, as entradas devem ser ordenadas de forma crescente ou decrescente. Assim, se houver uma quantidade ímpar de entradas numéricas, a mediana será o valor central do conjunto. Caso a quantidade de entradas seja um número par, devemos fazer uma média aritmética dos dois números centrais, e esse resultado será o valor da mediana.\n",
        "\n",
        "Neste capítulo, vamos utilizar o banco de dados [Food Carbon Footprint Index]('https://www.nu3.de/blogs/nutrition/food-carbon-footprint-index-2018'), de 2018, da nu3.\n",
        "\n",
        "O banco de dados food_consumption contém informações sobre a quantidade de alimentos em quilogramas consumidas por pessoa/ano/país em cada categoria de alimento, assim como as emissões de carbono de cada categoria de alimento, medida em quilogramas de dióxido de carbono (CO2) por pessoa/ano em cada país.\n",
        "Nesse exercício você vai computar as medidas de centralidade para comparar o consumo de alimentos no Brasil e nos Estados Unidos utilizando as bibliotecas pandas e numpy."
      ],
      "metadata": {
        "id": "tG51qk15R5NR"
      }
    },
    {
      "cell_type": "code",
      "source": [
        "# Importar bibliotecas\n",
        "import pandas as pd\n",
        "import numpy as np\n",
        "import matplotlib.pyplot as plt"
      ],
      "metadata": {
        "id": "Yevj0tvtVcXU"
      },
      "execution_count": 1,
      "outputs": []
    },
    {
      "cell_type": "code",
      "source": [
        "# Ler banco de dados\n",
        "food_consumption = pd.read_csv('https://assets.datacamp.com/production/repositories/5786/datasets/49f6356966016c70a9f63a0474942675377bdcf2/food_consumption.csv')"
      ],
      "metadata": {
        "id": "JKIBkd2IVl1U"
      },
      "execution_count": 2,
      "outputs": []
    },
    {
      "cell_type": "markdown",
      "source": [
        "Método de filtragem por subconjunto:\n",
        "- subconjunto = bancodados[bancodados['coluna'] == 'valor de interesse']\n",
        "\n",
        "Obtenção de médias e medianas utilizando o numpy:\n",
        "- np.mean(conjunto)\n",
        "- np.median(conjunto)"
      ],
      "metadata": {
        "id": "07uSQLD9rE_o"
      }
    },
    {
      "cell_type": "code",
      "source": [
        "# Filtrar dados do Brasil\n",
        "br_consumption = food_consumption[food_consumption['country'] == 'Brazil']\n",
        "\n",
        "# Filtrar dados dos Estados Unidos\n",
        "usa_consumption = food_consumption[food_consumption['country'] == 'USA']\n",
        "\n",
        "# Calculate mean and median consumption in Belgium\n",
        "print('Média do consumo de alimentos no Brasil: ', np.mean(br_consumption['consumption']), 'Kg/pessoa/ano')\n",
        "print('Mediana do consumo de alimentos no Brasil: ', np.median(br_consumption['consumption']), 'Kg/pessoa/ano')\n",
        "\n",
        "# Calculate mean and median consumption in USA\n",
        "print('Média do consumo de alimentos nos Estados Unidos: ', np.mean(usa_consumption['consumption']), 'Kg/pessoa/ano')\n",
        "print('Mediana do consumo de alimentos nos Estados Unidos: ', np.median(usa_consumption['consumption']), 'Kg/pessoa/ano')"
      ],
      "metadata": {
        "colab": {
          "base_uri": "https://localhost:8080/"
        },
        "id": "qyRwl-H0rP5E",
        "outputId": "6831f59e-39e5-4434-c1fb-11f11b8f2fa1"
      },
      "execution_count": 3,
      "outputs": [
        {
          "output_type": "stream",
          "name": "stdout",
          "text": [
            "Média do consumo de alimentos no Brasil:  32.28727272727273 Kg/pessoa/ano\n",
            "Mediana do consumo de alimentos no Brasil:  12.6 Kg/pessoa/ano\n",
            "Média do consumo de alimentos nos Estados Unidos:  44.650000000000006 Kg/pessoa/ano\n",
            "Mediana do consumo de alimentos nos Estados Unidos:  14.58 Kg/pessoa/ano\n"
          ]
        }
      ]
    },
    {
      "cell_type": "markdown",
      "source": [
        "Método simplificado utilizando funções:\n",
        "- Utilize o operador | para unir dois conjuntos de dados;\n",
        "- Utilize a função .groupby() para agrupar os dados por categoria nominal;\n",
        "- Utilize a função .agg() agregar os valores numéricos e calcular as médias e medianas."
      ],
      "metadata": {
        "id": "OmSgQncmvLSk"
      }
    },
    {
      "cell_type": "code",
      "source": [
        "# Agrupe os dados para filtrar informações apenas do Brasil e dos Estados Unidos\n",
        "br_and_usa = food_consumption[(food_consumption['country'] == 'Brazil') | (food_consumption['country'] == 'USA')]\n",
        "\n",
        "# Agrupe os dados por país, selecione a coluna consumo e calcule as médias e medianas\n",
        "print(br_and_usa.groupby('country')['consumption'].agg([np.mean, np.median]))"
      ],
      "metadata": {
        "colab": {
          "base_uri": "https://localhost:8080/"
        },
        "id": "R1AWLuv6wBC8",
        "outputId": "0bda503a-42a9-4489-ef67-190fac075f61"
      },
      "execution_count": 4,
      "outputs": [
        {
          "output_type": "stream",
          "name": "stdout",
          "text": [
            "              mean  median\n",
            "country                   \n",
            "Brazil   32.287273   12.60\n",
            "USA      44.650000   14.58\n"
          ]
        }
      ]
    },
    {
      "cell_type": "markdown",
      "source": [
        "#### 1.2.2 Média ou Mediana?\n",
        "\n",
        "Quando utilizar uma ou a outra? \n",
        "\n",
        "No exercício a seguir vamos comparar as duas medidas de centralidade."
      ],
      "metadata": {
        "id": "cZ3eyXFAwlJi"
      }
    },
    {
      "cell_type": "markdown",
      "source": [
        "Plotagem de histograma utilizando matplotlib\n",
        "- conjuntodados.hist()\n",
        "- plt.show()"
      ],
      "metadata": {
        "id": "TeEM5AY0wDOg"
      }
    },
    {
      "cell_type": "code",
      "source": [
        "# Filtragem de alimentos do tipo arroz\n",
        "rice_consumption = food_consumption[food_consumption['food_category'] == 'rice']\n",
        "\n",
        "# Histograma de emissões de carbono por Kg/pessoa/ano relativa ao consumo de arroz\n",
        "rice_consumption['co2_emission'].hist()\n",
        "plt.show()"
      ],
      "metadata": {
        "colab": {
          "base_uri": "https://localhost:8080/",
          "height": 267
        },
        "id": "VXHbuCqww65N",
        "outputId": "e6fad8ac-ca19-459b-a3a6-e6218d0a7809"
      },
      "execution_count": 5,
      "outputs": [
        {
          "output_type": "display_data",
          "data": {
            "text/plain": [
              "<Figure size 432x288 with 1 Axes>"
            ],
            "image/png": "[encoded data removed]"
          },
          "metadata": {
            "needs_background": "light"
          }
        }
      ]
    },
    {
      "cell_type": "markdown",
      "source": [
        "#### **1.2.3 Histogramas**\n",
        "\n",
        "Histograma é uma variação de um gráfico de barras no qual são agrupadas as frequências de dados numéricos.\n",
        "\n",
        "O histograma mostra graficamente o seguinte:\n",
        "- Frequência de diferentes pontos de dados no conjunto de dados.\n",
        "- Localização do centro de dados.\n",
        "- A disseminação do conjunto de dados.\n",
        "- Skewness / variância do conjunto de dados.\n",
        "- Presença de outliers no conjunto de dados.\n",
        "\n",
        "Os recursos fornecem uma forte indicação do modelo de distribuição adequado nos dados. O gráfico de probabilidade ou um teste de adequação pode ser usado para verificar o modelo de distribuição.\n",
        "\n",
        "O histograma contém os seguintes eixos:\n",
        "- Eixo vertical : frequência / contagem de cada compartimento.\n",
        "- Eixo horizontal : Lista de caixas / categorias.\n",
        "\n",
        "**Tipos de histograma (forma dos dados):**\n",
        "\n",
        "- **Simétrico:** é um histograma clássico em forma de sino com a maioria das contagens de frequência focadas no meio com caudas decrescentes e há simetria em relação à mediana. Como a distribuição normal é mais comumente observada em cenários do mundo real, é mais provável que você os encontre. No histograma normalmente distribuído, a média é quase igual à mediana.\n",
        "- **Assimétrico:** são aqueles que apresantam uma cauda mais longa de um lado. Um histograma inclinado para a direita significa que a cauda do lado direito do pico é mais esticada do que a esquerda e vice-versa para o lado esquerdo. Em um histograma inclinado para a esquerda, a média é sempre menor que a mediana, enquanto em um histograma inclinado para a direita a média é maior que o histograma.\n",
        "- **Achatado ou platô:** Esse gráfico pode apresentar frequências equivalentes bem próximas uma da outra. O modelo achatado representa barras constantes e de alturas similares.\n",
        "- **Bimodal ou de dois picos:** um modo de dados representa os valores mais comuns no histograma (ou seja, pico do histograma. Um histograma bimodal representa que há dois picos no histograma. O histograma pode ser usado para testar a unimodalidade dos dados. A bimodalidade ( ou, por exemplo, não unimodalidade) no conjunto de dados representa que há algo errado com o processo. Histograma bimodal com um ou ambos os caracteres: distribuição normal bimodal e distribuição simétrica\n",
        "- **Cauda curta / cauda longa não normal:** na distribuição de cauda curta se aproxima de 0 muito rápido, conforme nos movemos da mediana dos dados. No histograma de cauda longa, a cauda se aproxima de 0 lentamente conforme nos afastamos do mediana. Aqui, nos referimos à cauda como as regiões extremas no histograma onde a maioria dos dados não está concentrada e isso ocorre em ambos os lados do pico.\n",
        "- **Pico isolado:** Apresenta uma única barra em destaque dentre todas as outras. Pode ser utilizado quando há falhas na coleta de dados estatísticos que alimentam o gráfico.\n",
        "- **Distribuição normal com um outlier:** Semelhante ao histograma normal, exceto que contém um outlier onde a contagem / probabilidade de resultado é substantiva. Isso se deve principalmente a alguns erros de sistema no processo, que levaram à geração defeituosa de produtos, etc."
      ],
      "metadata": {
        "id": "Z1duYHi-x_pA"
      }
    },
    {
      "cell_type": "markdown",
      "source": [
        "**Pergunta:**\n",
        "\n",
        "Com base no histograma que você plotou para as emissões de carbono relativas ao consumo de arroz, qual alternativa represnta melhor a forma dos dados?\n",
        "\n",
        "- Simétrico\n",
        "- Assimétrico enviesado à esquerda\n",
        "- **Assimétrico enviesado à direita**"
      ],
      "metadata": {
        "id": "vG2NaP-KxCj6"
      }
    },
    {
      "cell_type": "markdown",
      "source": [
        "Use .agg() to calculate the mean and median of co2_emission for rice."
      ],
      "metadata": {
        "id": "8jyAt8tZxQ-L"
      }
    },
    {
      "cell_type": "code",
      "source": [
        "# Filtrar dados de consumo de alimentos do tipo arroz\n",
        "rice_consumption = food_consumption[food_consumption['food_category'] == 'rice']\n",
        "\n",
        "# Calcular a média e a mediana das emissões de dióxido de carbono utilizando a função .agg()\n",
        "print(rice_consumption['co2_emission'].agg([np.mean, np.median]))"
      ],
      "metadata": {
        "colab": {
          "base_uri": "https://localhost:8080/"
        },
        "id": "j1FUJZTHyIo8",
        "outputId": "313fa50b-9ed3-49aa-c5f0-d58da71833d1"
      },
      "execution_count": 6,
      "outputs": [
        {
          "output_type": "stream",
          "name": "stdout",
          "text": [
            "mean      37.591615\n",
            "median    15.200000\n",
            "Name: co2_emission, dtype: float64\n"
          ]
        }
      ]
    },
    {
      "cell_type": "markdown",
      "source": [
        "**Pergunta:**\n",
        "\n",
        "Dada a assimetria dos dados, qual das medidas de tendência central melhor sumariza as emissões de carbono por Kg/pessoa/ano relativas ao consumo de arroz?\n",
        "Possible Answers\n",
        "\n",
        "- Média\n",
        "- **Mediana**\n",
        "- Média e mediana\n"
      ],
      "metadata": {
        "id": "acobbMZ7yW6i"
      }
    },
    {
      "cell_type": "markdown",
      "source": [
        "### **1.3 Medidas de Dispersão**"
      ],
      "metadata": {
        "id": "mqdAVXmiaxAb"
      }
    },
    {
      "cell_type": "markdown",
      "source": [
        "#### **1.3.1 Quantis, Quartis, Quintis, Decis, e Percentis**\n",
        "\n",
        "Assim como a mediana, existem outros valores que separam os dados em partes iguais. Eles são chamados genericamente de quantis. Os quantis mais importantes e usados são:\n",
        "- **Quartis:** dividem os dados em quatro partes iguais (cada parte tem 25% dos dados). São indicados pela letra Q1, Q2=Md e Q3.\n",
        "- **Quintis:** dividem os dados em cinco partes iguais (cada parte tem 20% dos dados). São indicados por K1, K2, K3 e K4.\n",
        "- **Decis:** dividem os dados em décimas partes (cada parte tem 10% dos dados). São indicados por D1, D2, ..., D9.\n",
        "- **Percentis:** dividem os dados em centésimas partes (cada parte tem 1% dos dados). São indicados por P1, P2, ..., P99."
      ],
      "metadata": {
        "id": "fJ3QkD7Oyxo0"
      }
    },
    {
      "cell_type": "markdown",
      "source": [
        "Neste exercício vamos calcular quartis, quintis e decis, que dividem a base de dados em 4, 5, e 10 partes."
      ],
      "metadata": {
        "id": "wXZoxzHC0ZwH"
      }
    },
    {
      "cell_type": "code",
      "source": [
        "# Calcular quartis de emissão de dióxido de carbono\n",
        "print(np.quantile(food_consumption['co2_emission'], [0, 0.25, 0.5, 0.75, 1]))"
      ],
      "metadata": {
        "colab": {
          "base_uri": "https://localhost:8080/"
        },
        "id": "AjNYMHzu0Y1C",
        "outputId": "6be8cb51-1050-4156-a791-115a3f7da420"
      },
      "execution_count": 13,
      "outputs": [
        {
          "output_type": "stream",
          "name": "stdout",
          "text": [
            "[   0.        5.21     16.53     62.5975 1712.    ]\n"
          ]
        }
      ]
    },
    {
      "cell_type": "code",
      "source": [
        "# Calcular quintis de emissão de dióxido de carbono\n",
        "print(np.quantile(food_consumption['co2_emission'], [0, 0.2, 0.4, 0.6, 0.8, 1]))"
      ],
      "metadata": {
        "colab": {
          "base_uri": "https://localhost:8080/"
        },
        "id": "Iqdn-t-50zct",
        "outputId": "a7e3190b-9d20-4361-eb54-891f49849d9c"
      },
      "execution_count": 14,
      "outputs": [
        {
          "output_type": "stream",
          "name": "stdout",
          "text": [
            "[   0.       3.54    11.026   25.59    99.978 1712.   ]\n"
          ]
        }
      ]
    },
    {
      "cell_type": "code",
      "source": [
        "# Calcular decis de emissão de dióxido de carbono\n",
        "print(np.quantile(food_consumption['co2_emission'], [0, 0.1, 0.2, 0.3, 0.4, 0.5, 0.6, 0.7, 0.8, 0.9, 1]))"
      ],
      "metadata": {
        "colab": {
          "base_uri": "https://localhost:8080/"
        },
        "id": "sEhetFpQ1ClW",
        "outputId": "06c41ba8-3201-4efd-ab21-b4f9e0b3da59"
      },
      "execution_count": 17,
      "outputs": [
        {
          "output_type": "stream",
          "name": "stdout",
          "text": [
            "[0.00000e+00 6.68000e-01 3.54000e+00 7.04000e+00 1.10260e+01 1.65300e+01\n",
            " 2.55900e+01 4.42710e+01 9.99780e+01 2.03629e+02 1.71200e+03]\n"
          ]
        }
      ]
    },
    {
      "cell_type": "markdown",
      "source": [
        "#### **1.3.2 Variância e Desvio Padrão**\n",
        "Variância e desvio padrão são as duas maneiras mais comuns de medir a dispersão de uma amostra. As medidas de dispersão ajudam a ajustar expectativas. Por exemplo, um funcionário vende 20 produtos por dia, mas suas vendas possuem um desvio padrão de 10 produtos. Dessa forma, podem haver situações em que ele vende 40 produtos num dia, mas também haverão dias em que ele vende apenas um produto ou dois. Informações deste tipo são importantes, pois podem ajudar a fazer predições."
      ],
      "metadata": {
        "id": "0AlfRfF61JQK"
      }
    },
    {
      "cell_type": "code",
      "source": [
        "# Visualizar a variância e desvio padrão de emissões de dióxido de carbono para cada categoria de alimento\n",
        "print(food_consumption.groupby('food_category')['co2_emission'].agg([np.var, np.std]))\n",
        "\n",
        "# Gerar histograma de emissões de dióxido de carbono para o consumo de alimentos do tipo carne bovina\n",
        "food_consumption[food_consumption['food_category'] == 'beef']['co2_emission'].hist()\n",
        "\n",
        "# Mostrar gráfico\n",
        "plt.show()\n",
        "\n",
        "# Gerar histograma de emissões de dióxido de carbono para o consumo de alimentos do tipo ovos\n",
        "food_consumption[food_consumption['food_category'] == 'eggs']['co2_emission'].hist()\n",
        "\n",
        "# Mostrar gráfico\n",
        "plt.show()"
      ],
      "metadata": {
        "colab": {
          "base_uri": "https://localhost:8080/",
          "height": 739
        },
        "id": "kpp5bn9P2bEg",
        "outputId": "df7cf036-a12a-46e4-d755-ef8a400a5621"
      },
      "execution_count": 24,
      "outputs": [
        {
          "output_type": "stream",
          "name": "stdout",
          "text": [
            "                      var       std\n",
            "food_category                      \n",
            "beef          88748.40813 297.90671\n",
            "dairy         17671.89199 132.93567\n",
            "eggs             21.37182   4.62297\n",
            "fish            921.63735  30.35848\n",
            "lamb_goat     16475.51836 128.35700\n",
            "nuts             35.63965   5.96990\n",
            "pork           3094.96354  55.63240\n",
            "poultry         245.02680  15.65333\n",
            "rice           2281.37624  47.76375\n",
            "soybeans          0.87988   0.93802\n",
            "wheat            71.02394   8.42757\n"
          ]
        },
        {
          "output_type": "display_data",
          "data": {
            "text/plain": [
              "<Figure size 432x288 with 1 Axes>"
            ],
            "image/png": "[encoded data removed]"
          },
          "metadata": {
            "needs_background": "light"
          }
        },
        {
          "output_type": "display_data",
          "data": {
            "text/plain": [
              "<Figure size 432x288 with 1 Axes>"
            ],
            "image/png": "[encoded data removed]"
          },
          "metadata": {
            "needs_background": "light"
          }
        }
      ]
    },
    {
      "cell_type": "markdown",
      "source": [
        "#### **1.3.3 Intervalo Interquartil e Outliers (IIQ)**\n",
        "Em estatística descritiva, o intervalo interquartil, também denominado por média espalhada, média de 50% ou, mais tecnicamente, propagação de H, é uma medida de dispersão estatística igual à diferença entre os percentis 75 e 25 ou entre o quartil superior e o quartil inferior. Isto é, IIQ = Q3 - Q1. Em outras palavras, o intervalo interquartil é a diferença entre o primeiro quartil e o terceiro quartil.\n",
        "\n",
        "O intervalo interquartil pode ser usado para identificar outliers (pontos discrepantes em uma distribuição). Outliers tem grande impacto em estatísticas atreladas à média, ou que dependem dela, como variância e desvio padrão. Se uma entrada apresenta valor inferior a Q1 - 1.5 x IIQ ou superior a Q3 + 1.5 x IIQ, essa entrada é considerada um outlier."
      ],
      "metadata": {
        "id": "O5D92rVA2hT_"
      }
    },
    {
      "cell_type": "markdown",
      "source": [
        "![image.png](data:image/png;base64,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)"
      ],
      "metadata": {
        "id": "8fgrRM3zdkuT"
      }
    },
    {
      "cell_type": "markdown",
      "source": [
        "No próximo exercício vamos calcular o IIQ para encontrar outliers."
      ],
      "metadata": {
        "id": "1eHuZH4TeHOR"
      }
    },
    {
      "cell_type": "code",
      "source": [
        "# Calcular o total de emissões de dióxido de carbono por país\n",
        "emissions_by_country = food_consumption.groupby('country')['co2_emission'].sum()\n",
        "\n",
        "print(emissions_by_country)"
      ],
      "metadata": {
        "colab": {
          "base_uri": "https://localhost:8080/"
        },
        "id": "rGPpi0x82gnd",
        "outputId": "70a21d9e-dda3-484b-ef4e-1ef4747b5137"
      },
      "execution_count": 20,
      "outputs": [
        {
          "output_type": "stream",
          "name": "stdout",
          "text": [
            "country\n",
            "Albania     1777.85000\n",
            "Algeria      707.88000\n",
            "Angola       412.99000\n",
            "Argentina   2172.40000\n",
            "Armenia     1109.93000\n",
            "               ...    \n",
            "Uruguay     1634.91000\n",
            "Venezuela   1104.10000\n",
            "Vietnam      641.51000\n",
            "Zambia       225.30000\n",
            "Zimbabwe     350.33000\n",
            "Name: co2_emission, Length: 130, dtype: float64\n"
          ]
        }
      ]
    },
    {
      "cell_type": "code",
      "source": [
        "# Calcular o primeiro e terceiro quartis e o IIQ (IQR) das emissões por país\n",
        "q1 = np.quantile(emissions_by_country, 0.25)\n",
        "q3 = np.quantile(emissions_by_country, 0.75)\n",
        "iqr = q3 - q1"
      ],
      "metadata": {
        "id": "tA8b3vJQ2gvy"
      },
      "execution_count": 19,
      "outputs": []
    },
    {
      "cell_type": "code",
      "source": [
        "# Calcular os limites inferior e superior para identificar outliers\n",
        "lower = q1 - 1.5 * iqr\n",
        "upper = q3 + 1.5 * iqr"
      ],
      "metadata": {
        "id": "JVHHA1d334rW"
      },
      "execution_count": 21,
      "outputs": []
    },
    {
      "cell_type": "markdown",
      "source": [
        "Subset emissions_by_country to get countries with a total emission greater than the upper cutoff or a total emission less than the lower cutoff."
      ],
      "metadata": {
        "id": "7eUT1TCz4Gmg"
      }
    },
    {
      "cell_type": "code",
      "source": [
        "# Filtrar as emissões por país em busca de outliers\n",
        "outliers = emissions_by_country[(emissions_by_country < lower) | (emissions_by_country > upper)]\n",
        "print(outliers)"
      ],
      "metadata": {
        "colab": {
          "base_uri": "https://localhost:8080/"
        },
        "id": "WtQN9hKS4e6T",
        "outputId": "59a7d43c-9c16-45ab-b11c-239eddcec259"
      },
      "execution_count": 22,
      "outputs": [
        {
          "output_type": "stream",
          "name": "stdout",
          "text": [
            "country\n",
            "Argentina   2172.40000\n",
            "Name: co2_emission, dtype: float64\n"
          ]
        }
      ]
    },
    {
      "cell_type": "markdown",
      "source": [
        "## Referências\n",
        "- [MATSUI, Maggie. Introduction to Statistics in Python. DataCamp](https://app.datacamp.com/learn/courses/introduction-to-statistics-in-python)\n",
        "- [PORTO, Eder. Elements of a boxplot pt.svg](https://upload.wikimedia.org/wikipedia/commons/c/c9/Elements_of_a_boxplot_pt.svg)"
      ],
      "metadata": {
        "id": "995kj_KxvFim"
      }
    }
  ]
}
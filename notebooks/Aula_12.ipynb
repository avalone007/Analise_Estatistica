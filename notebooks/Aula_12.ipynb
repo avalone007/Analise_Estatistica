{
  "nbformat": 4,
  "nbformat_minor": 0,
  "metadata": {
    "colab": {
      "provenance": [],
      "collapsed_sections": [
        "2FhhQ_5lbaPy",
        "Y1Gw-5YNyv06"
      ],
      "toc_visible": true
    },
    "kernelspec": {
      "name": "python3",
      "display_name": "Python 3"
    },
    "language_info": {
      "name": "python"
    }
  },
  "cells": [
    {
      "cell_type": "markdown",
      "source": [
        "# Análise de Aglomerados (Cluster)\n"
      ],
      "metadata": {
        "id": "F6dja_MGWFA6"
      }
    },
    {
      "cell_type": "markdown",
      "source": [
        "Conjunto de técnicas multivariadas cujo objetivo principal é **agrupar objetos ou indivíduos baseado nas características que eles possuem**.\n",
        "\n",
        "Os objetos em um mesmo aglomerado (cluster) apresentam **similaridade entre si** (alta homogeneidade interna no grupo) e **diferem dos objetos em outros aglomerados**(heterogeneidade externa / entre grupos).\n",
        "\n",
        "Os objetos podem ser: *respondentes, produtos, empresas, ou outras entidades*.\n",
        "\n",
        "A análise de aglomerados também tem sido chamada de Q-analysis, Tipologia, Análise de classificação e taxonomia numérica.\n",
        "\n",
        "A variedade de nomes deve-se ao uso da análise de aglomerados em disciplinas muito diversas.\n",
        "\n",
        "É adequada para a classificação dos dados respeitando a natureza dos grupos existentes.\n",
        "\n",
        "Como a análise fatorial (factor analysis), é exploratória e busca acessar a natureza dos dados, nas é diferente da análise fatorial, já que **a análise de aglomerados agrupa objetos**, enquanto que **a análise fatorial agrupa variáveis**.\n",
        "\n",
        "Pode ser usada para:\n",
        "- Identificar grupos de usuários / consumidores.\n",
        "- Mineração de dados (classificar, distribuir e identificar características).\n",
        "- Classificação (clientes, comportamentos, plantas, animais).\n",
        "- Identificação e reconhecimento de padrões.\n",
        "\n",
        "A aplicação da técnica consiste em 5 passos:\n",
        "1. Análise das variáveis e dos objetos a serem agrupados (seleção das variáveis e padronização).\n",
        "2. Seleção da medida de distância ou similaridade.\n",
        "3. Seleção do algoritmo de agrupamento (hierárquico ou não hierárquico).\n",
        "4. Escolha da quantidade de agrupamentos formados.\n",
        "5. Interpretação e validação dos agrupamentos."
      ],
      "metadata": {
        "id": "EDj6NmYAWMlm"
      }
    },
    {
      "cell_type": "markdown",
      "source": [
        "## Análise das variáveis e dos objetos a serem agrupados"
      ],
      "metadata": {
        "id": "oyoqXX-3YWxq"
      }
    },
    {
      "cell_type": "markdown",
      "source": [
        "Deve-se escolher as variáveis que serão incluídas no estudo. Critérios de inclusão / exclusão devem considerar:\n",
        "- A técnica não distingue se variáveis são ou não relevantes ao estudo.\n",
        "- A técnica é altamente sensível a inclusão de variáveis com a presença de outliers.\n",
        "- Variáveis com medidas/escalas diferentes podem distorcer a estrutura dos agrupamentos.\n",
        "- As medidas de distância tendem a sofrer influencia das diferentes escalas/magnitudes das variáveis.\n",
        "- Deve-se fazer a padronização das variáveis para os Z-scores quando os dados apresentarem valores muito discrepantes (ex.: 10 e 10000)."
      ],
      "metadata": {
        "id": "frI_pscOZLHb"
      }
    },
    {
      "cell_type": "markdown",
      "source": [
        "## Seleção da Medida de Distância ou Similaridade"
      ],
      "metadata": {
        "id": "1ckNnOp3Yzr6"
      }
    },
    {
      "cell_type": "markdown",
      "source": [
        "As medidas de distância são consideradas medidas de dissimilaridades, pois **quanto maiores os valores menor é a semelhança entre os objetos**.\n",
        "\n",
        "As principais medidas de distância encontradas na literatura são:\n",
        "- **Distância Euclidiana**\n",
        "- **Distância Quadrática Euclidiana** (mais utilizada)\n",
        "- Distância de Minkoski\n",
        "- Distância Absoluta, Bloco, City-Block ou Manhattan\n",
        "- **Distância de Mahalanobis**\n",
        "- Distância de Chebychev\n",
        "- Medida de Jaccard (p/ dados binários onde dados ausentes não são importantes).\n"
      ],
      "metadata": {
        "id": "v0taLxc0ZLlp"
      }
    },
    {
      "cell_type": "markdown",
      "source": [
        "## Seleção do algoritmo de Agrupamento"
      ],
      "metadata": {
        "id": "RUUTcj1OY0HE"
      }
    },
    {
      "cell_type": "markdown",
      "source": [
        "**Método Hierárquico**:\n",
        "- **Aglomerativo**: cada elemento começa com o seu agrupamento e novos agrupamentos são realizados por similaridade (evolui da esquerda para a direita). \n",
        "- **Divisivo**: os elementos começam em um grande agregado e são separados até identificar os agrupamentos.\n",
        "\n",
        "Os métodos aglomerativo e divisivo são teoricamente equivalentes.\n",
        "\n",
        "O critério essencial de todos os algoritmos é maximizar a distância entre os aglomerados, comparada às variações dentro dos aglomerados.\n",
        "\n",
        "Métodos mais frequentes:\n",
        "- Menor Distância ou Ligação Individual (Single Linkage ou Nearest Neighbor). \n",
        "- **Maior Distância ou Ligação Completa** (Complete Linkage ou Furhest Neighbor). \n",
        "- Distância Média ou Ligação Média (Average Linkage ou Between Groups): tende a formar aglomerados com aproximadamente a mesma variância interna.\n",
        "- Centroide (Centroid): pode gerar resultados confusos, pois quando se agrupa dois aglomerados, o centróide se altera e isso pode modificar decisões anteriores; é menos afetado por dados atípicos.\n",
        "- Ward: busca minimizar a variância interna entre os elementos do agrupamento; tende a formar aglomerados com, aproximadamente, o mesmo número de indivíduos.\n",
        "\n",
        "**Método Não-Hierárquico**:\n",
        "\n",
        "Número inicial de clusters é definido pelo pesquisador. \n",
        "\n",
        "Processo dinâmico e interativo com objetivo de identificar a melhor solução.\n",
        "\n",
        "Os procedimentos não hierárquicos são métodos que tem como objetivo encontrar uma partição de n elementos em K grupos (clusters).\n",
        "\n",
        "\n"
      ],
      "metadata": {
        "id": "e39I_GfLZL_u"
      }
    },
    {
      "cell_type": "markdown",
      "source": [
        "##Escolha da quantidade de agrupamentos formados"
      ],
      "metadata": {
        "id": "UW5FnjdCY0hA"
      }
    },
    {
      "cell_type": "markdown",
      "source": [
        "Decisão do Pesquisador.\n",
        "\n",
        "Pode ser auxiliada por:\n",
        "- Dendogramas\n",
        "- Silhouette index\n"
      ],
      "metadata": {
        "id": "HEt3S0y-ZMa_"
      }
    },
    {
      "cell_type": "markdown",
      "source": [
        "##Interpretação e validação dos agrupamentos"
      ],
      "metadata": {
        "id": "6ib3kRd2Y1Vk"
      }
    },
    {
      "cell_type": "markdown",
      "source": [
        "# Exemplo de Análise de Cluster Hierárquico\n",
        "\n",
        "Foi realizado um levantamento com 157 veículos no mercado Americano no ano de 2014. \n",
        "\n",
        "Foram identificadas variáveis relacionadas a vendas, preço de revenda, potencia, peso e eficiência (milhas/galão). \n",
        "\n",
        "O objetivo da pesquisa é identificar grupos homogêneos de veículos que apresentem um comportamento semelhante em relação a potência e peso.\n",
        "\n",
        "**Identifique grupos homogêneos de veículos com capacidade semelhante de motor e potência**, para posteriormente relacionar com vendas e preço de revenda."
      ],
      "metadata": {
        "id": "OWpfe59Ll_7d"
      }
    },
    {
      "cell_type": "code",
      "source": [
        "!pip install pingouin\n",
        "\n",
        "# Bibliotecas a serem importadas nesta análise\n",
        "import pandas as pd\n",
        "import seaborn as sns\n",
        "import matplotlib.pyplot as plt\n",
        "import scipy.cluster.hierarchy as shc\n",
        "import pingouin as pg\n",
        "\n",
        "from sklearn.cluster import AgglomerativeClustering"
      ],
      "metadata": {
        "id": "pnd3a2RMRL-4"
      },
      "execution_count": null,
      "outputs": []
    },
    {
      "cell_type": "code",
      "source": [
        "# Permitir acesso ao Google Drive\n",
        "from google.colab import drive\n",
        "drive.mount('/content/drive')"
      ],
      "metadata": {
        "colab": {
          "base_uri": "https://localhost:8080/"
        },
        "id": "OrSOVBhStyw_",
        "outputId": "b73bac29-6b76-4288-86cc-44d0374aece8"
      },
      "execution_count": null,
      "outputs": [
        {
          "output_type": "stream",
          "name": "stdout",
          "text": [
            "Mounted at /content/drive\n"
          ]
        }
      ]
    },
    {
      "cell_type": "code",
      "source": [
        "#Ler os dados\n",
        "import pandas as pd\n",
        "\n",
        "veiculos = pd.read_excel('/content/drive/MyDrive/!UFSM/Analise_Estatistica/dataset/vendas_veiculos.xlsx')"
      ],
      "metadata": {
        "id": "w2C-6KiynK74"
      },
      "execution_count": null,
      "outputs": []
    },
    {
      "cell_type": "code",
      "source": [
        "veiculos.head()"
      ],
      "metadata": {
        "colab": {
          "base_uri": "https://localhost:8080/",
          "height": 206
        },
        "id": "IP3aVsg4nyAO",
        "outputId": "765dd1a2-51dd-4291-f393-6854eb1df17b"
      },
      "execution_count": null,
      "outputs": [
        {
          "output_type": "execute_result",
          "data": {
            "text/plain": [
              "  Montadora   Modelo   sales  resale  price  engine  horsepower  width  \\\n",
              "0     Acura  Integra  16.919  16.360  21.50     1.8       140.0   67.3   \n",
              "1     Acura       TL  39.384  19.875  28.40     3.2       225.0   70.3   \n",
              "2     Acura       CL  14.114  18.225  32.40     3.2       225.0   70.6   \n",
              "3     Acura       RL   8.588  29.725  42.00     3.5       210.0   71.4   \n",
              "4      Audi       A4  20.397  22.255  23.99     1.8       150.0   68.2   \n",
              "\n",
              "   length  curb_wgt  fuel_cap  fuel_effi_mpg  Sales - Resale  \n",
              "0   172.4     2.639      13.2           28.0           5.140  \n",
              "1   192.9     3.517      17.2           25.0           8.525  \n",
              "2   192.0     3.470      17.2           26.0          14.175  \n",
              "3   196.6     3.850      18.0           22.0          12.275  \n",
              "4   178.0     2.998      16.4           27.0           1.735  "
            ],
            "text/html": [
              "\n",
              "  <div id=\"df-69b85edc-0833-461a-a495-4428b2eeccc3\">\n",
              "    <div class=\"colab-df-container\">\n",
              "      <div>\n",
              "<style scoped>\n",
              "    .dataframe tbody tr th:only-of-type {\n",
              "        vertical-align: middle;\n",
              "    }\n",
              "\n",
              "    .dataframe tbody tr th {\n",
              "        vertical-align: top;\n",
              "    }\n",
              "\n",
              "    .dataframe thead th {\n",
              "        text-align: right;\n",
              "    }\n",
              "</style>\n",
              "<table border=\"1\" class=\"dataframe\">\n",
              "  <thead>\n",
              "    <tr style=\"text-align: right;\">\n",
              "      <th></th>\n",
              "      <th>Montadora</th>\n",
              "      <th>Modelo</th>\n",
              "      <th>sales</th>\n",
              "      <th>resale</th>\n",
              "      <th>price</th>\n",
              "      <th>engine</th>\n",
              "      <th>horsepower</th>\n",
              "      <th>width</th>\n",
              "      <th>length</th>\n",
              "      <th>curb_wgt</th>\n",
              "      <th>fuel_cap</th>\n",
              "      <th>fuel_effi_mpg</th>\n",
              "      <th>Sales - Resale</th>\n",
              "    </tr>\n",
              "  </thead>\n",
              "  <tbody>\n",
              "    <tr>\n",
              "      <th>0</th>\n",
              "      <td>Acura</td>\n",
              "      <td>Integra</td>\n",
              "      <td>16.919</td>\n",
              "      <td>16.360</td>\n",
              "      <td>21.50</td>\n",
              "      <td>1.8</td>\n",
              "      <td>140.0</td>\n",
              "      <td>67.3</td>\n",
              "      <td>172.4</td>\n",
              "      <td>2.639</td>\n",
              "      <td>13.2</td>\n",
              "      <td>28.0</td>\n",
              "      <td>5.140</td>\n",
              "    </tr>\n",
              "    <tr>\n",
              "      <th>1</th>\n",
              "      <td>Acura</td>\n",
              "      <td>TL</td>\n",
              "      <td>39.384</td>\n",
              "      <td>19.875</td>\n",
              "      <td>28.40</td>\n",
              "      <td>3.2</td>\n",
              "      <td>225.0</td>\n",
              "      <td>70.3</td>\n",
              "      <td>192.9</td>\n",
              "      <td>3.517</td>\n",
              "      <td>17.2</td>\n",
              "      <td>25.0</td>\n",
              "      <td>8.525</td>\n",
              "    </tr>\n",
              "    <tr>\n",
              "      <th>2</th>\n",
              "      <td>Acura</td>\n",
              "      <td>CL</td>\n",
              "      <td>14.114</td>\n",
              "      <td>18.225</td>\n",
              "      <td>32.40</td>\n",
              "      <td>3.2</td>\n",
              "      <td>225.0</td>\n",
              "      <td>70.6</td>\n",
              "      <td>192.0</td>\n",
              "      <td>3.470</td>\n",
              "      <td>17.2</td>\n",
              "      <td>26.0</td>\n",
              "      <td>14.175</td>\n",
              "    </tr>\n",
              "    <tr>\n",
              "      <th>3</th>\n",
              "      <td>Acura</td>\n",
              "      <td>RL</td>\n",
              "      <td>8.588</td>\n",
              "      <td>29.725</td>\n",
              "      <td>42.00</td>\n",
              "      <td>3.5</td>\n",
              "      <td>210.0</td>\n",
              "      <td>71.4</td>\n",
              "      <td>196.6</td>\n",
              "      <td>3.850</td>\n",
              "      <td>18.0</td>\n",
              "      <td>22.0</td>\n",
              "      <td>12.275</td>\n",
              "    </tr>\n",
              "    <tr>\n",
              "      <th>4</th>\n",
              "      <td>Audi</td>\n",
              "      <td>A4</td>\n",
              "      <td>20.397</td>\n",
              "      <td>22.255</td>\n",
              "      <td>23.99</td>\n",
              "      <td>1.8</td>\n",
              "      <td>150.0</td>\n",
              "      <td>68.2</td>\n",
              "      <td>178.0</td>\n",
              "      <td>2.998</td>\n",
              "      <td>16.4</td>\n",
              "      <td>27.0</td>\n",
              "      <td>1.735</td>\n",
              "    </tr>\n",
              "  </tbody>\n",
              "</table>\n",
              "</div>\n",
              "      <button class=\"colab-df-convert\" onclick=\"convertToInteractive('df-69b85edc-0833-461a-a495-4428b2eeccc3')\"\n",
              "              title=\"Convert this dataframe to an interactive table.\"\n",
              "              style=\"display:none;\">\n",
              "        \n",
              "  <svg xmlns=\"http://www.w3.org/2000/svg\" height=\"24px\"viewBox=\"0 0 24 24\"\n",
              "       width=\"24px\">\n",
              "    <path d=\"M0 0h24v24H0V0z\" fill=\"none\"/>\n",
              "    <path d=\"M18.56 5.44l.94 2.06.94-2.06 2.06-.94-2.06-.94-.94-2.06-.94 2.06-2.06.94zm-11 1L8.5 8.5l.94-2.06 2.06-.94-2.06-.94L8.5 2.5l-.94 2.06-2.06.94zm10 10l.94 2.06.94-2.06 2.06-.94-2.06-.94-.94-2.06-.94 2.06-2.06.94z\"/><path d=\"M17.41 7.96l-1.37-1.37c-.4-.4-.92-.59-1.43-.59-.52 0-1.04.2-1.43.59L10.3 9.45l-7.72 7.72c-.78.78-.78 2.05 0 2.83L4 21.41c.39.39.9.59 1.41.59.51 0 1.02-.2 1.41-.59l7.78-7.78 2.81-2.81c.8-.78.8-2.07 0-2.86zM5.41 20L4 18.59l7.72-7.72 1.47 1.35L5.41 20z\"/>\n",
              "  </svg>\n",
              "      </button>\n",
              "      \n",
              "  <style>\n",
              "    .colab-df-container {\n",
              "      display:flex;\n",
              "      flex-wrap:wrap;\n",
              "      gap: 12px;\n",
              "    }\n",
              "\n",
              "    .colab-df-convert {\n",
              "      background-color: #E8F0FE;\n",
              "      border: none;\n",
              "      border-radius: 50%;\n",
              "      cursor: pointer;\n",
              "      display: none;\n",
              "      fill: #1967D2;\n",
              "      height: 32px;\n",
              "      padding: 0 0 0 0;\n",
              "      width: 32px;\n",
              "    }\n",
              "\n",
              "    .colab-df-convert:hover {\n",
              "      background-color: #E2EBFA;\n",
              "      box-shadow: 0px 1px 2px rgba(60, 64, 67, 0.3), 0px 1px 3px 1px rgba(60, 64, 67, 0.15);\n",
              "      fill: #174EA6;\n",
              "    }\n",
              "\n",
              "    [theme=dark] .colab-df-convert {\n",
              "      background-color: #3B4455;\n",
              "      fill: #D2E3FC;\n",
              "    }\n",
              "\n",
              "    [theme=dark] .colab-df-convert:hover {\n",
              "      background-color: #434B5C;\n",
              "      box-shadow: 0px 1px 3px 1px rgba(0, 0, 0, 0.15);\n",
              "      filter: drop-shadow(0px 1px 2px rgba(0, 0, 0, 0.3));\n",
              "      fill: #FFFFFF;\n",
              "    }\n",
              "  </style>\n",
              "\n",
              "      <script>\n",
              "        const buttonEl =\n",
              "          document.querySelector('#df-69b85edc-0833-461a-a495-4428b2eeccc3 button.colab-df-convert');\n",
              "        buttonEl.style.display =\n",
              "          google.colab.kernel.accessAllowed ? 'block' : 'none';\n",
              "\n",
              "        async function convertToInteractive(key) {\n",
              "          const element = document.querySelector('#df-69b85edc-0833-461a-a495-4428b2eeccc3');\n",
              "          const dataTable =\n",
              "            await google.colab.kernel.invokeFunction('convertToInteractive',\n",
              "                                                     [key], {});\n",
              "          if (!dataTable) return;\n",
              "\n",
              "          const docLinkHtml = 'Like what you see? Visit the ' +\n",
              "            '<a target=\"_blank\" href=https://colab.research.google.com/notebooks/data_table.ipynb>data table notebook</a>'\n",
              "            + ' to learn more about interactive tables.';\n",
              "          element.innerHTML = '';\n",
              "          dataTable['output_type'] = 'display_data';\n",
              "          await google.colab.output.renderOutput(dataTable, element);\n",
              "          const docLink = document.createElement('div');\n",
              "          docLink.innerHTML = docLinkHtml;\n",
              "          element.appendChild(docLink);\n",
              "        }\n",
              "      </script>\n",
              "    </div>\n",
              "  </div>\n",
              "  "
            ]
          },
          "metadata": {},
          "execution_count": 3
        }
      ]
    },
    {
      "cell_type": "code",
      "source": [
        "veiculos.info()"
      ],
      "metadata": {
        "colab": {
          "base_uri": "https://localhost:8080/"
        },
        "id": "07kT3i6WwDbO",
        "outputId": "3d55bf4f-a552-4c60-cf1e-5a86a6a2ce5c"
      },
      "execution_count": null,
      "outputs": [
        {
          "output_type": "stream",
          "name": "stdout",
          "text": [
            "<class 'pandas.core.frame.DataFrame'>\n",
            "RangeIndex: 157 entries, 0 to 156\n",
            "Data columns (total 13 columns):\n",
            " #   Column          Non-Null Count  Dtype  \n",
            "---  ------          --------------  -----  \n",
            " 0   Montadora       157 non-null    object \n",
            " 1   Modelo          157 non-null    object \n",
            " 2   sales           157 non-null    float64\n",
            " 3   resale          157 non-null    float64\n",
            " 4   price           157 non-null    float64\n",
            " 5   engine          157 non-null    float64\n",
            " 6   horsepower      157 non-null    float64\n",
            " 7   width           157 non-null    float64\n",
            " 8   length          157 non-null    float64\n",
            " 9   curb_wgt        157 non-null    float64\n",
            " 10  fuel_cap        157 non-null    float64\n",
            " 11  fuel_effi_mpg   156 non-null    float64\n",
            " 12  Sales - Resale  157 non-null    float64\n",
            "dtypes: float64(11), object(2)\n",
            "memory usage: 16.1+ KB\n"
          ]
        }
      ]
    },
    {
      "cell_type": "code",
      "source": [
        "#Fazer um Dendograma\n",
        "import scipy.cluster.hierarchy as shc\n",
        "import matplotlib.pyplot as plt\n",
        "\n",
        "plt.figure(figsize=(15, 7))\n",
        "plt.title(\"Análise Hierárquica de Agrupamentos\")\n",
        "\n",
        "# Selecionando as variáveis de interesse: 'horsepower' e 'engine' e \n",
        "# criando uma análise de cluster com o método 'ward' e a distância 'euclidean'.\n",
        "selected_data = veiculos[['horsepower', 'engine']]\n",
        "clusters = shc.linkage(selected_data, \n",
        "            method='ward', \n",
        "            metric=\"euclidean\")\n",
        "shc.dendrogram(Z=clusters)\n",
        "plt.show()"
      ],
      "metadata": {
        "colab": {
          "base_uri": "https://localhost:8080/",
          "height": 444
        },
        "id": "Xr04cOY-Oce2",
        "outputId": "1ca55a1d-ddf5-49df-af84-885363f8dbf1"
      },
      "execution_count": null,
      "outputs": [
        {
          "output_type": "display_data",
          "data": {
            "text/plain": [
              "<Figure size 1080x504 with 1 Axes>"
            ],
            "image/png": "[encoded data removed]"
          },
          "metadata": {
            "needs_background": "light"
          }
        }
      ]
    },
    {
      "cell_type": "code",
      "source": [
        "# Mesma figura acima, mas com a 'linha de corte' representando a seleção do número de clusters.\n",
        "plt.figure(figsize=(15, 7))\n",
        "plt.title(\"Análise Hierárquica de Agrupamentos\")\n",
        "clusters = shc.linkage(selected_data, \n",
        "            method='ward', \n",
        "            metric=\"euclidean\")\n",
        "shc.dendrogram(clusters)\n",
        "plt.axhline(y = 220, color = 'r', linestyle = '-')"
      ],
      "metadata": {
        "colab": {
          "base_uri": "https://localhost:8080/",
          "height": 461
        },
        "outputId": "f7dc5c6c-6020-48a4-cf73-3c0b12c2b142",
        "id": "8WHiExwGPgxs"
      },
      "execution_count": null,
      "outputs": [
        {
          "output_type": "execute_result",
          "data": {
            "text/plain": [
              "<matplotlib.lines.Line2D at 0x7f18d36feca0>"
            ]
          },
          "metadata": {},
          "execution_count": 6
        },
        {
          "output_type": "display_data",
          "data": {
            "text/plain": [
              "<Figure size 1080x504 with 1 Axes>"
            ],
            "image/png": "[encoded data removed]"
          },
          "metadata": {
            "needs_background": "light"
          }
        }
      ]
    },
    {
      "cell_type": "code",
      "source": [
        "# Gráfico de dispersão das variáveis escolhidas com 'Sales - Resale' separado por cores.\n",
        "import seaborn as sns\n",
        "\n",
        "plt.figure(figsize=(15,7))\n",
        "sns.scatterplot(x='horsepower', y='engine', hue='Sales - Resale', palette='husl', alpha=0.4, data=veiculos)\n",
        "plt.show()"
      ],
      "metadata": {
        "colab": {
          "base_uri": "https://localhost:8080/",
          "height": 442
        },
        "id": "Sh9cTtZeoRt3",
        "outputId": "7d1a5377-5f1c-4471-c41f-5a934c882d3b"
      },
      "execution_count": null,
      "outputs": [
        {
          "output_type": "display_data",
          "data": {
            "text/plain": [
              "<Figure size 1080x504 with 1 Axes>"
            ],
            "image/png": "[encoded data removed]"
          },
          "metadata": {
            "needs_background": "light"
          }
        }
      ]
    },
    {
      "cell_type": "code",
      "source": [
        "# Criação de uma análise de cluster aglomerativa (4 clusters, distância 'euclidean', método 'ward')\n",
        "from sklearn.cluster import AgglomerativeClustering\n",
        "\n",
        "clustering_model = AgglomerativeClustering(n_clusters=4, affinity='euclidean', linkage='ward')\n",
        "clustering_model.fit(selected_data)\n",
        "clustering_model.labels_"
      ],
      "metadata": {
        "colab": {
          "base_uri": "https://localhost:8080/"
        },
        "id": "-7zsgRXPRRUt",
        "outputId": "22749ab0-fea9-4438-bbac-f410349052e4"
      },
      "execution_count": null,
      "outputs": [
        {
          "output_type": "execute_result",
          "data": {
            "text/plain": [
              "array([1, 2, 2, 2, 1, 2, 0, 1, 2, 2, 1, 2, 2, 2, 0, 0, 0, 2, 2, 3, 1, 1,\n",
              "       2, 2, 0, 3, 3, 2, 1, 1, 2, 1, 2, 2, 2, 1, 1, 1, 2, 0, 2, 1, 1, 3,\n",
              "       2, 1, 3, 2, 1, 1, 3, 2, 2, 1, 2, 3, 2, 3, 1, 1, 2, 2, 3, 1, 1, 2,\n",
              "       2, 3, 2, 2, 2, 2, 0, 0, 2, 2, 0, 2, 0, 3, 1, 1, 2, 1, 2, 1, 1, 1,\n",
              "       1, 2, 2, 1, 2, 2, 0, 0, 2, 2, 2, 0, 2, 1, 1, 2, 1, 1, 1, 1, 1, 2,\n",
              "       1, 2, 2, 2, 1, 1, 1, 2, 1, 1, 2, 2, 2, 2, 2, 0, 0, 1, 2, 3, 3, 1,\n",
              "       1, 1, 1, 1, 3, 1, 2, 1, 1, 2, 1, 1, 2, 3, 3, 1, 3, 3, 3, 1, 1, 1,\n",
              "       1, 2, 2])"
            ]
          },
          "metadata": {},
          "execution_count": 9
        }
      ]
    },
    {
      "cell_type": "code",
      "source": [
        "# Gráfico de dispersão das variáveis escolhidas com os grupos (clusters) separado por cores.\n",
        "data_labels = clustering_model.labels_\n",
        "plt.figure(figsize=(15,7))\n",
        "sns.scatterplot(x='horsepower', \n",
        "                y='engine', \n",
        "                data=selected_data, \n",
        "                hue=data_labels,\n",
        "                palette=\"rainbow\").set_title('Labeled Customer Data')\n",
        "plt.show()"
      ],
      "metadata": {
        "colab": {
          "base_uri": "https://localhost:8080/",
          "height": 458
        },
        "id": "D5vVBZfjRau7",
        "outputId": "84162cf5-7ee6-4b74-8686-2d6768396b6e"
      },
      "execution_count": null,
      "outputs": [
        {
          "output_type": "display_data",
          "data": {
            "text/plain": [
              "<Figure size 1080x504 with 1 Axes>"
            ],
            "image/png": "[encoded data removed]"
          },
          "metadata": {
            "needs_background": "light"
          }
        }
      ]
    },
    {
      "cell_type": "code",
      "source": [
        "# Incluir a classificação como uma nova coluna ('cluster') na tabela\n",
        "veiculos['cluster'] = data_labels\n",
        "veiculos.head()"
      ],
      "metadata": {
        "colab": {
          "base_uri": "https://localhost:8080/",
          "height": 305
        },
        "id": "QOfhYoOoSS4Z",
        "outputId": "8c7f6928-6587-4ea6-fc5f-4037e767f89f"
      },
      "execution_count": null,
      "outputs": [
        {
          "output_type": "execute_result",
          "data": {
            "text/plain": [
              "  Montadora   Modelo   sales  resale  price  engine  horsepower  width  \\\n",
              "0     Acura  Integra  16.919  16.360  21.50     1.8       140.0   67.3   \n",
              "1     Acura       TL  39.384  19.875  28.40     3.2       225.0   70.3   \n",
              "2     Acura       CL  14.114  18.225  32.40     3.2       225.0   70.6   \n",
              "3     Acura       RL   8.588  29.725  42.00     3.5       210.0   71.4   \n",
              "4      Audi       A4  20.397  22.255  23.99     1.8       150.0   68.2   \n",
              "\n",
              "   length  curb_wgt  fuel_cap  fuel_effi_mpg  Sales - Resale  cluster  \n",
              "0   172.4     2.639      13.2           28.0           5.140        1  \n",
              "1   192.9     3.517      17.2           25.0           8.525        2  \n",
              "2   192.0     3.470      17.2           26.0          14.175        2  \n",
              "3   196.6     3.850      18.0           22.0          12.275        2  \n",
              "4   178.0     2.998      16.4           27.0           1.735        1  "
            ],
            "text/html": [
              "\n",
              "  <div id=\"df-f2bad6f2-87dc-4593-84fb-42dec1e0a232\">\n",
              "    <div class=\"colab-df-container\">\n",
              "      <div>\n",
              "<style scoped>\n",
              "    .dataframe tbody tr th:only-of-type {\n",
              "        vertical-align: middle;\n",
              "    }\n",
              "\n",
              "    .dataframe tbody tr th {\n",
              "        vertical-align: top;\n",
              "    }\n",
              "\n",
              "    .dataframe thead th {\n",
              "        text-align: right;\n",
              "    }\n",
              "</style>\n",
              "<table border=\"1\" class=\"dataframe\">\n",
              "  <thead>\n",
              "    <tr style=\"text-align: right;\">\n",
              "      <th></th>\n",
              "      <th>Montadora</th>\n",
              "      <th>Modelo</th>\n",
              "      <th>sales</th>\n",
              "      <th>resale</th>\n",
              "      <th>price</th>\n",
              "      <th>engine</th>\n",
              "      <th>horsepower</th>\n",
              "      <th>width</th>\n",
              "      <th>length</th>\n",
              "      <th>curb_wgt</th>\n",
              "      <th>fuel_cap</th>\n",
              "      <th>fuel_effi_mpg</th>\n",
              "      <th>Sales - Resale</th>\n",
              "      <th>cluster</th>\n",
              "    </tr>\n",
              "  </thead>\n",
              "  <tbody>\n",
              "    <tr>\n",
              "      <th>0</th>\n",
              "      <td>Acura</td>\n",
              "      <td>Integra</td>\n",
              "      <td>16.919</td>\n",
              "      <td>16.360</td>\n",
              "      <td>21.50</td>\n",
              "      <td>1.8</td>\n",
              "      <td>140.0</td>\n",
              "      <td>67.3</td>\n",
              "      <td>172.4</td>\n",
              "      <td>2.639</td>\n",
              "      <td>13.2</td>\n",
              "      <td>28.0</td>\n",
              "      <td>5.140</td>\n",
              "      <td>1</td>\n",
              "    </tr>\n",
              "    <tr>\n",
              "      <th>1</th>\n",
              "      <td>Acura</td>\n",
              "      <td>TL</td>\n",
              "      <td>39.384</td>\n",
              "      <td>19.875</td>\n",
              "      <td>28.40</td>\n",
              "      <td>3.2</td>\n",
              "      <td>225.0</td>\n",
              "      <td>70.3</td>\n",
              "      <td>192.9</td>\n",
              "      <td>3.517</td>\n",
              "      <td>17.2</td>\n",
              "      <td>25.0</td>\n",
              "      <td>8.525</td>\n",
              "      <td>2</td>\n",
              "    </tr>\n",
              "    <tr>\n",
              "      <th>2</th>\n",
              "      <td>Acura</td>\n",
              "      <td>CL</td>\n",
              "      <td>14.114</td>\n",
              "      <td>18.225</td>\n",
              "      <td>32.40</td>\n",
              "      <td>3.2</td>\n",
              "      <td>225.0</td>\n",
              "      <td>70.6</td>\n",
              "      <td>192.0</td>\n",
              "      <td>3.470</td>\n",
              "      <td>17.2</td>\n",
              "      <td>26.0</td>\n",
              "      <td>14.175</td>\n",
              "      <td>2</td>\n",
              "    </tr>\n",
              "    <tr>\n",
              "      <th>3</th>\n",
              "      <td>Acura</td>\n",
              "      <td>RL</td>\n",
              "      <td>8.588</td>\n",
              "      <td>29.725</td>\n",
              "      <td>42.00</td>\n",
              "      <td>3.5</td>\n",
              "      <td>210.0</td>\n",
              "      <td>71.4</td>\n",
              "      <td>196.6</td>\n",
              "      <td>3.850</td>\n",
              "      <td>18.0</td>\n",
              "      <td>22.0</td>\n",
              "      <td>12.275</td>\n",
              "      <td>2</td>\n",
              "    </tr>\n",
              "    <tr>\n",
              "      <th>4</th>\n",
              "      <td>Audi</td>\n",
              "      <td>A4</td>\n",
              "      <td>20.397</td>\n",
              "      <td>22.255</td>\n",
              "      <td>23.99</td>\n",
              "      <td>1.8</td>\n",
              "      <td>150.0</td>\n",
              "      <td>68.2</td>\n",
              "      <td>178.0</td>\n",
              "      <td>2.998</td>\n",
              "      <td>16.4</td>\n",
              "      <td>27.0</td>\n",
              "      <td>1.735</td>\n",
              "      <td>1</td>\n",
              "    </tr>\n",
              "  </tbody>\n",
              "</table>\n",
              "</div>\n",
              "      <button class=\"colab-df-convert\" onclick=\"convertToInteractive('df-f2bad6f2-87dc-4593-84fb-42dec1e0a232')\"\n",
              "              title=\"Convert this dataframe to an interactive table.\"\n",
              "              style=\"display:none;\">\n",
              "        \n",
              "  <svg xmlns=\"http://www.w3.org/2000/svg\" height=\"24px\"viewBox=\"0 0 24 24\"\n",
              "       width=\"24px\">\n",
              "    <path d=\"M0 0h24v24H0V0z\" fill=\"none\"/>\n",
              "    <path d=\"M18.56 5.44l.94 2.06.94-2.06 2.06-.94-2.06-.94-.94-2.06-.94 2.06-2.06.94zm-11 1L8.5 8.5l.94-2.06 2.06-.94-2.06-.94L8.5 2.5l-.94 2.06-2.06.94zm10 10l.94 2.06.94-2.06 2.06-.94-2.06-.94-.94-2.06-.94 2.06-2.06.94z\"/><path d=\"M17.41 7.96l-1.37-1.37c-.4-.4-.92-.59-1.43-.59-.52 0-1.04.2-1.43.59L10.3 9.45l-7.72 7.72c-.78.78-.78 2.05 0 2.83L4 21.41c.39.39.9.59 1.41.59.51 0 1.02-.2 1.41-.59l7.78-7.78 2.81-2.81c.8-.78.8-2.07 0-2.86zM5.41 20L4 18.59l7.72-7.72 1.47 1.35L5.41 20z\"/>\n",
              "  </svg>\n",
              "      </button>\n",
              "      \n",
              "  <style>\n",
              "    .colab-df-container {\n",
              "      display:flex;\n",
              "      flex-wrap:wrap;\n",
              "      gap: 12px;\n",
              "    }\n",
              "\n",
              "    .colab-df-convert {\n",
              "      background-color: #E8F0FE;\n",
              "      border: none;\n",
              "      border-radius: 50%;\n",
              "      cursor: pointer;\n",
              "      display: none;\n",
              "      fill: #1967D2;\n",
              "      height: 32px;\n",
              "      padding: 0 0 0 0;\n",
              "      width: 32px;\n",
              "    }\n",
              "\n",
              "    .colab-df-convert:hover {\n",
              "      background-color: #E2EBFA;\n",
              "      box-shadow: 0px 1px 2px rgba(60, 64, 67, 0.3), 0px 1px 3px 1px rgba(60, 64, 67, 0.15);\n",
              "      fill: #174EA6;\n",
              "    }\n",
              "\n",
              "    [theme=dark] .colab-df-convert {\n",
              "      background-color: #3B4455;\n",
              "      fill: #D2E3FC;\n",
              "    }\n",
              "\n",
              "    [theme=dark] .colab-df-convert:hover {\n",
              "      background-color: #434B5C;\n",
              "      box-shadow: 0px 1px 3px 1px rgba(0, 0, 0, 0.15);\n",
              "      filter: drop-shadow(0px 1px 2px rgba(0, 0, 0, 0.3));\n",
              "      fill: #FFFFFF;\n",
              "    }\n",
              "  </style>\n",
              "\n",
              "      <script>\n",
              "        const buttonEl =\n",
              "          document.querySelector('#df-f2bad6f2-87dc-4593-84fb-42dec1e0a232 button.colab-df-convert');\n",
              "        buttonEl.style.display =\n",
              "          google.colab.kernel.accessAllowed ? 'block' : 'none';\n",
              "\n",
              "        async function convertToInteractive(key) {\n",
              "          const element = document.querySelector('#df-f2bad6f2-87dc-4593-84fb-42dec1e0a232');\n",
              "          const dataTable =\n",
              "            await google.colab.kernel.invokeFunction('convertToInteractive',\n",
              "                                                     [key], {});\n",
              "          if (!dataTable) return;\n",
              "\n",
              "          const docLinkHtml = 'Like what you see? Visit the ' +\n",
              "            '<a target=\"_blank\" href=https://colab.research.google.com/notebooks/data_table.ipynb>data table notebook</a>'\n",
              "            + ' to learn more about interactive tables.';\n",
              "          element.innerHTML = '';\n",
              "          dataTable['output_type'] = 'display_data';\n",
              "          await google.colab.output.renderOutput(dataTable, element);\n",
              "          const docLink = document.createElement('div');\n",
              "          docLink.innerHTML = docLinkHtml;\n",
              "          element.appendChild(docLink);\n",
              "        }\n",
              "      </script>\n",
              "    </div>\n",
              "  </div>\n",
              "  "
            ]
          },
          "metadata": {},
          "execution_count": 11
        }
      ]
    },
    {
      "cell_type": "code",
      "source": [
        "# ANOVA (one-way) para 'Sales - Resale' à partir dos clusters\n",
        "!pip install pingouin\n",
        "\n",
        "import pingouin as pg\n",
        "\n",
        "pg.anova(data=veiculos, dv='Sales - Resale', between='cluster', detailed=True).round(3)\n"
      ],
      "metadata": {
        "colab": {
          "base_uri": "https://localhost:8080/",
          "height": 112
        },
        "id": "Q3BNrFG-4XOy",
        "outputId": "60801e98-2b56-4c09-a5ff-2ccc0c0013b8"
      },
      "execution_count": null,
      "outputs": [
        {
          "output_type": "execute_result",
          "data": {
            "text/plain": [
              "    Source        SS   DF       MS      F  p-unc    np2\n",
              "0  cluster  1401.687    3  467.229  8.076    0.0  0.137\n",
              "1   Within  8851.846  153   57.855    NaN    NaN    NaN"
            ],
            "text/html": [
              "\n",
              "  <div id=\"df-84a60d49-9973-419e-9f33-98020fd10190\">\n",
              "    <div class=\"colab-df-container\">\n",
              "      <div>\n",
              "<style scoped>\n",
              "    .dataframe tbody tr th:only-of-type {\n",
              "        vertical-align: middle;\n",
              "    }\n",
              "\n",
              "    .dataframe tbody tr th {\n",
              "        vertical-align: top;\n",
              "    }\n",
              "\n",
              "    .dataframe thead th {\n",
              "        text-align: right;\n",
              "    }\n",
              "</style>\n",
              "<table border=\"1\" class=\"dataframe\">\n",
              "  <thead>\n",
              "    <tr style=\"text-align: right;\">\n",
              "      <th></th>\n",
              "      <th>Source</th>\n",
              "      <th>SS</th>\n",
              "      <th>DF</th>\n",
              "      <th>MS</th>\n",
              "      <th>F</th>\n",
              "      <th>p-unc</th>\n",
              "      <th>np2</th>\n",
              "    </tr>\n",
              "  </thead>\n",
              "  <tbody>\n",
              "    <tr>\n",
              "      <th>0</th>\n",
              "      <td>cluster</td>\n",
              "      <td>1401.687</td>\n",
              "      <td>3</td>\n",
              "      <td>467.229</td>\n",
              "      <td>8.076</td>\n",
              "      <td>0.0</td>\n",
              "      <td>0.137</td>\n",
              "    </tr>\n",
              "    <tr>\n",
              "      <th>1</th>\n",
              "      <td>Within</td>\n",
              "      <td>8851.846</td>\n",
              "      <td>153</td>\n",
              "      <td>57.855</td>\n",
              "      <td>NaN</td>\n",
              "      <td>NaN</td>\n",
              "      <td>NaN</td>\n",
              "    </tr>\n",
              "  </tbody>\n",
              "</table>\n",
              "</div>\n",
              "      <button class=\"colab-df-convert\" onclick=\"convertToInteractive('df-84a60d49-9973-419e-9f33-98020fd10190')\"\n",
              "              title=\"Convert this dataframe to an interactive table.\"\n",
              "              style=\"display:none;\">\n",
              "        \n",
              "  <svg xmlns=\"http://www.w3.org/2000/svg\" height=\"24px\"viewBox=\"0 0 24 24\"\n",
              "       width=\"24px\">\n",
              "    <path d=\"M0 0h24v24H0V0z\" fill=\"none\"/>\n",
              "    <path d=\"M18.56 5.44l.94 2.06.94-2.06 2.06-.94-2.06-.94-.94-2.06-.94 2.06-2.06.94zm-11 1L8.5 8.5l.94-2.06 2.06-.94-2.06-.94L8.5 2.5l-.94 2.06-2.06.94zm10 10l.94 2.06.94-2.06 2.06-.94-2.06-.94-.94-2.06-.94 2.06-2.06.94z\"/><path d=\"M17.41 7.96l-1.37-1.37c-.4-.4-.92-.59-1.43-.59-.52 0-1.04.2-1.43.59L10.3 9.45l-7.72 7.72c-.78.78-.78 2.05 0 2.83L4 21.41c.39.39.9.59 1.41.59.51 0 1.02-.2 1.41-.59l7.78-7.78 2.81-2.81c.8-.78.8-2.07 0-2.86zM5.41 20L4 18.59l7.72-7.72 1.47 1.35L5.41 20z\"/>\n",
              "  </svg>\n",
              "      </button>\n",
              "      \n",
              "  <style>\n",
              "    .colab-df-container {\n",
              "      display:flex;\n",
              "      flex-wrap:wrap;\n",
              "      gap: 12px;\n",
              "    }\n",
              "\n",
              "    .colab-df-convert {\n",
              "      background-color: #E8F0FE;\n",
              "      border: none;\n",
              "      border-radius: 50%;\n",
              "      cursor: pointer;\n",
              "      display: none;\n",
              "      fill: #1967D2;\n",
              "      height: 32px;\n",
              "      padding: 0 0 0 0;\n",
              "      width: 32px;\n",
              "    }\n",
              "\n",
              "    .colab-df-convert:hover {\n",
              "      background-color: #E2EBFA;\n",
              "      box-shadow: 0px 1px 2px rgba(60, 64, 67, 0.3), 0px 1px 3px 1px rgba(60, 64, 67, 0.15);\n",
              "      fill: #174EA6;\n",
              "    }\n",
              "\n",
              "    [theme=dark] .colab-df-convert {\n",
              "      background-color: #3B4455;\n",
              "      fill: #D2E3FC;\n",
              "    }\n",
              "\n",
              "    [theme=dark] .colab-df-convert:hover {\n",
              "      background-color: #434B5C;\n",
              "      box-shadow: 0px 1px 3px 1px rgba(0, 0, 0, 0.15);\n",
              "      filter: drop-shadow(0px 1px 2px rgba(0, 0, 0, 0.3));\n",
              "      fill: #FFFFFF;\n",
              "    }\n",
              "  </style>\n",
              "\n",
              "      <script>\n",
              "        const buttonEl =\n",
              "          document.querySelector('#df-84a60d49-9973-419e-9f33-98020fd10190 button.colab-df-convert');\n",
              "        buttonEl.style.display =\n",
              "          google.colab.kernel.accessAllowed ? 'block' : 'none';\n",
              "\n",
              "        async function convertToInteractive(key) {\n",
              "          const element = document.querySelector('#df-84a60d49-9973-419e-9f33-98020fd10190');\n",
              "          const dataTable =\n",
              "            await google.colab.kernel.invokeFunction('convertToInteractive',\n",
              "                                                     [key], {});\n",
              "          if (!dataTable) return;\n",
              "\n",
              "          const docLinkHtml = 'Like what you see? Visit the ' +\n",
              "            '<a target=\"_blank\" href=https://colab.research.google.com/notebooks/data_table.ipynb>data table notebook</a>'\n",
              "            + ' to learn more about interactive tables.';\n",
              "          element.innerHTML = '';\n",
              "          dataTable['output_type'] = 'display_data';\n",
              "          await google.colab.output.renderOutput(dataTable, element);\n",
              "          const docLink = document.createElement('div');\n",
              "          docLink.innerHTML = docLinkHtml;\n",
              "          element.appendChild(docLink);\n",
              "        }\n",
              "      </script>\n",
              "    </div>\n",
              "  </div>\n",
              "  "
            ]
          },
          "metadata": {},
          "execution_count": 28
        }
      ]
    },
    {
      "cell_type": "code",
      "source": [
        "# Teste Post-hoc para ver se há diferença entre cada grupo.\n",
        "pg.pairwise_tests(data=veiculos, dv='Sales - Resale', between='cluster', padjust='none')"
      ],
      "metadata": {
        "colab": {
          "base_uri": "https://localhost:8080/",
          "height": 406
        },
        "id": "bgq-NCPtinfD",
        "outputId": "4352a58a-4fee-4d30-98a1-f70a1a4c23dc"
      },
      "execution_count": null,
      "outputs": [
        {
          "output_type": "execute_result",
          "data": {
            "text/plain": [
              "  Contrast  A  B  Paired  Parametric         T        dof alternative  \\\n",
              "0  cluster  0  1   False        True  7.193199  18.226232   two-sided   \n",
              "1  cluster  0  2   False        True  4.204016  50.562440   two-sided   \n",
              "2  cluster  0  3   False        True  8.894152  15.982441   two-sided   \n",
              "3  cluster  1  2   False        True -1.307913  78.152906   two-sided   \n",
              "4  cluster  1  3   False        True  3.259773  72.590277   two-sided   \n",
              "5  cluster  2  3   False        True  2.700764  69.931444   two-sided   \n",
              "\n",
              "          p-unc       BF10    hedges  \n",
              "0  9.998897e-07  1.375e+07  2.437634  \n",
              "1  1.068575e-04    285.521  0.766517  \n",
              "2  1.378636e-07  1.738e+07  3.321830  \n",
              "3  1.947370e-01      0.416 -0.227055  \n",
              "4  1.698767e-03     19.815  0.573296  \n",
              "5  8.671584e-03      5.323  0.389505  "
            ],
            "text/html": [
              "\n",
              "  <div id=\"df-705bd123-f870-463a-ad85-1fe7ec536fad\">\n",
              "    <div class=\"colab-df-container\">\n",
              "      <div>\n",
              "<style scoped>\n",
              "    .dataframe tbody tr th:only-of-type {\n",
              "        vertical-align: middle;\n",
              "    }\n",
              "\n",
              "    .dataframe tbody tr th {\n",
              "        vertical-align: top;\n",
              "    }\n",
              "\n",
              "    .dataframe thead th {\n",
              "        text-align: right;\n",
              "    }\n",
              "</style>\n",
              "<table border=\"1\" class=\"dataframe\">\n",
              "  <thead>\n",
              "    <tr style=\"text-align: right;\">\n",
              "      <th></th>\n",
              "      <th>Contrast</th>\n",
              "      <th>A</th>\n",
              "      <th>B</th>\n",
              "      <th>Paired</th>\n",
              "      <th>Parametric</th>\n",
              "      <th>T</th>\n",
              "      <th>dof</th>\n",
              "      <th>alternative</th>\n",
              "      <th>p-unc</th>\n",
              "      <th>BF10</th>\n",
              "      <th>hedges</th>\n",
              "    </tr>\n",
              "  </thead>\n",
              "  <tbody>\n",
              "    <tr>\n",
              "      <th>0</th>\n",
              "      <td>cluster</td>\n",
              "      <td>0</td>\n",
              "      <td>1</td>\n",
              "      <td>False</td>\n",
              "      <td>True</td>\n",
              "      <td>7.193199</td>\n",
              "      <td>18.226232</td>\n",
              "      <td>two-sided</td>\n",
              "      <td>9.998897e-07</td>\n",
              "      <td>1.375e+07</td>\n",
              "      <td>2.437634</td>\n",
              "    </tr>\n",
              "    <tr>\n",
              "      <th>1</th>\n",
              "      <td>cluster</td>\n",
              "      <td>0</td>\n",
              "      <td>2</td>\n",
              "      <td>False</td>\n",
              "      <td>True</td>\n",
              "      <td>4.204016</td>\n",
              "      <td>50.562440</td>\n",
              "      <td>two-sided</td>\n",
              "      <td>1.068575e-04</td>\n",
              "      <td>285.521</td>\n",
              "      <td>0.766517</td>\n",
              "    </tr>\n",
              "    <tr>\n",
              "      <th>2</th>\n",
              "      <td>cluster</td>\n",
              "      <td>0</td>\n",
              "      <td>3</td>\n",
              "      <td>False</td>\n",
              "      <td>True</td>\n",
              "      <td>8.894152</td>\n",
              "      <td>15.982441</td>\n",
              "      <td>two-sided</td>\n",
              "      <td>1.378636e-07</td>\n",
              "      <td>1.738e+07</td>\n",
              "      <td>3.321830</td>\n",
              "    </tr>\n",
              "    <tr>\n",
              "      <th>3</th>\n",
              "      <td>cluster</td>\n",
              "      <td>1</td>\n",
              "      <td>2</td>\n",
              "      <td>False</td>\n",
              "      <td>True</td>\n",
              "      <td>-1.307913</td>\n",
              "      <td>78.152906</td>\n",
              "      <td>two-sided</td>\n",
              "      <td>1.947370e-01</td>\n",
              "      <td>0.416</td>\n",
              "      <td>-0.227055</td>\n",
              "    </tr>\n",
              "    <tr>\n",
              "      <th>4</th>\n",
              "      <td>cluster</td>\n",
              "      <td>1</td>\n",
              "      <td>3</td>\n",
              "      <td>False</td>\n",
              "      <td>True</td>\n",
              "      <td>3.259773</td>\n",
              "      <td>72.590277</td>\n",
              "      <td>two-sided</td>\n",
              "      <td>1.698767e-03</td>\n",
              "      <td>19.815</td>\n",
              "      <td>0.573296</td>\n",
              "    </tr>\n",
              "    <tr>\n",
              "      <th>5</th>\n",
              "      <td>cluster</td>\n",
              "      <td>2</td>\n",
              "      <td>3</td>\n",
              "      <td>False</td>\n",
              "      <td>True</td>\n",
              "      <td>2.700764</td>\n",
              "      <td>69.931444</td>\n",
              "      <td>two-sided</td>\n",
              "      <td>8.671584e-03</td>\n",
              "      <td>5.323</td>\n",
              "      <td>0.389505</td>\n",
              "    </tr>\n",
              "  </tbody>\n",
              "</table>\n",
              "</div>\n",
              "      <button class=\"colab-df-convert\" onclick=\"convertToInteractive('df-705bd123-f870-463a-ad85-1fe7ec536fad')\"\n",
              "              title=\"Convert this dataframe to an interactive table.\"\n",
              "              style=\"display:none;\">\n",
              "        \n",
              "  <svg xmlns=\"http://www.w3.org/2000/svg\" height=\"24px\"viewBox=\"0 0 24 24\"\n",
              "       width=\"24px\">\n",
              "    <path d=\"M0 0h24v24H0V0z\" fill=\"none\"/>\n",
              "    <path d=\"M18.56 5.44l.94 2.06.94-2.06 2.06-.94-2.06-.94-.94-2.06-.94 2.06-2.06.94zm-11 1L8.5 8.5l.94-2.06 2.06-.94-2.06-.94L8.5 2.5l-.94 2.06-2.06.94zm10 10l.94 2.06.94-2.06 2.06-.94-2.06-.94-.94-2.06-.94 2.06-2.06.94z\"/><path d=\"M17.41 7.96l-1.37-1.37c-.4-.4-.92-.59-1.43-.59-.52 0-1.04.2-1.43.59L10.3 9.45l-7.72 7.72c-.78.78-.78 2.05 0 2.83L4 21.41c.39.39.9.59 1.41.59.51 0 1.02-.2 1.41-.59l7.78-7.78 2.81-2.81c.8-.78.8-2.07 0-2.86zM5.41 20L4 18.59l7.72-7.72 1.47 1.35L5.41 20z\"/>\n",
              "  </svg>\n",
              "      </button>\n",
              "      \n",
              "  <style>\n",
              "    .colab-df-container {\n",
              "      display:flex;\n",
              "      flex-wrap:wrap;\n",
              "      gap: 12px;\n",
              "    }\n",
              "\n",
              "    .colab-df-convert {\n",
              "      background-color: #E8F0FE;\n",
              "      border: none;\n",
              "      border-radius: 50%;\n",
              "      cursor: pointer;\n",
              "      display: none;\n",
              "      fill: #1967D2;\n",
              "      height: 32px;\n",
              "      padding: 0 0 0 0;\n",
              "      width: 32px;\n",
              "    }\n",
              "\n",
              "    .colab-df-convert:hover {\n",
              "      background-color: #E2EBFA;\n",
              "      box-shadow: 0px 1px 2px rgba(60, 64, 67, 0.3), 0px 1px 3px 1px rgba(60, 64, 67, 0.15);\n",
              "      fill: #174EA6;\n",
              "    }\n",
              "\n",
              "    [theme=dark] .colab-df-convert {\n",
              "      background-color: #3B4455;\n",
              "      fill: #D2E3FC;\n",
              "    }\n",
              "\n",
              "    [theme=dark] .colab-df-convert:hover {\n",
              "      background-color: #434B5C;\n",
              "      box-shadow: 0px 1px 3px 1px rgba(0, 0, 0, 0.15);\n",
              "      filter: drop-shadow(0px 1px 2px rgba(0, 0, 0, 0.3));\n",
              "      fill: #FFFFFF;\n",
              "    }\n",
              "  </style>\n",
              "\n",
              "      <script>\n",
              "        const buttonEl =\n",
              "          document.querySelector('#df-705bd123-f870-463a-ad85-1fe7ec536fad button.colab-df-convert');\n",
              "        buttonEl.style.display =\n",
              "          google.colab.kernel.accessAllowed ? 'block' : 'none';\n",
              "\n",
              "        async function convertToInteractive(key) {\n",
              "          const element = document.querySelector('#df-705bd123-f870-463a-ad85-1fe7ec536fad');\n",
              "          const dataTable =\n",
              "            await google.colab.kernel.invokeFunction('convertToInteractive',\n",
              "                                                     [key], {});\n",
              "          if (!dataTable) return;\n",
              "\n",
              "          const docLinkHtml = 'Like what you see? Visit the ' +\n",
              "            '<a target=\"_blank\" href=https://colab.research.google.com/notebooks/data_table.ipynb>data table notebook</a>'\n",
              "            + ' to learn more about interactive tables.';\n",
              "          element.innerHTML = '';\n",
              "          dataTable['output_type'] = 'display_data';\n",
              "          await google.colab.output.renderOutput(dataTable, element);\n",
              "          const docLink = document.createElement('div');\n",
              "          docLink.innerHTML = docLinkHtml;\n",
              "          element.appendChild(docLink);\n",
              "        }\n",
              "      </script>\n",
              "    </div>\n",
              "  </div>\n",
              "  "
            ]
          },
          "metadata": {},
          "execution_count": 29
        }
      ]
    },
    {
      "cell_type": "code",
      "source": [
        "# Gráfico de barras mostrando a diferença de 'Sales - Resale' por grupo.\n",
        "plt.figure(figsize=(10,8))\n",
        "sns.set_theme(style='darkgrid')\n",
        "sns.barplot(data=veiculos, x='cluster', y='Sales - Resale', order=[0,2,1,3])\n",
        "plt.show()"
      ],
      "metadata": {
        "colab": {
          "base_uri": "https://localhost:8080/",
          "height": 502
        },
        "id": "u_W0uxbMl890",
        "outputId": "06313e76-4a81-4e5f-e062-f4479b1b8786"
      },
      "execution_count": null,
      "outputs": [
        {
          "output_type": "display_data",
          "data": {
            "text/plain": [
              "<Figure size 720x576 with 1 Axes>"
            ],
            "image/png": "[encoded data removed]"
          },
          "metadata": {}
        }
      ]
    },
    {
      "cell_type": "markdown",
      "source": [
        "# Atividade\n"
      ],
      "metadata": {
        "id": "hRuwtkUBqc32"
      }
    },
    {
      "cell_type": "markdown",
      "source": [
        "Repita a análise acima, separando em 5 grupos (Dendrograma com linha de corte = 10000). \n",
        "\n",
        "Utilize o método de Maior Distância ou Ligação Completa ('complete')\n",
        "\n",
        "Utilize a distância Quadrática euclidiana ('sqeuclidean')\n",
        "\n",
        "Compare os dois modelos em relação à capacidade de venda - revenda."
      ],
      "metadata": {
        "id": "EU5yAhn8qfl2"
      }
    },
    {
      "cell_type": "code",
      "source": [
        "#Fazer um Dendograma com a linha de corte em 10000\n",
        "\n",
        "plt.figure(figsize=(15, 7))\n",
        "plt.title(\"Análise Hierárquica de Agrupamentos\")\n",
        "\n",
        "# Selecionando as variáveis de interesse: 'horsepower' e 'engine' e \n",
        "# criando uma análise de cluster com o método 'ward' e a distância 'euclidean'.\n",
        "selected_data = veiculos[['horsepower', 'engine']]\n",
        "clusters = shc.linkage(selected_data, \n",
        "            method='complete', \n",
        "            metric= 'sqeuclidean')\n",
        "shc.dendrogram(clusters)\n",
        "plt.axhline(y = 10000, color = 'r', linestyle = '-')"
      ],
      "metadata": {
        "colab": {
          "base_uri": "https://localhost:8080/",
          "height": 461
        },
        "id": "BValZh2GSnwK",
        "outputId": "54893ac0-944b-490d-ad22-d4bb883bcb7b"
      },
      "execution_count": null,
      "outputs": [
        {
          "output_type": "execute_result",
          "data": {
            "text/plain": [
              "<matplotlib.lines.Line2D at 0x7f18cd827430>"
            ]
          },
          "metadata": {},
          "execution_count": 15
        },
        {
          "output_type": "display_data",
          "data": {
            "text/plain": [
              "<Figure size 1080x504 with 1 Axes>"
            ],
            "image/png": "[encoded data removed]"
          },
          "metadata": {
            "needs_background": "light"
          }
        }
      ]
    },
    {
      "cell_type": "code",
      "source": [
        "# Criação de uma análise de cluster aglomerativa (5 clusters, distância 'sqeuclidean', método 'complete')\n",
        "\n",
        "clustering_model_2 = AgglomerativeClustering(n_clusters=5, affinity='sqeuclidean', linkage='complete')\n",
        "clustering_model_2.fit(selected_data)\n",
        "clustering_model_2.labels_\n"
      ],
      "metadata": {
        "colab": {
          "base_uri": "https://localhost:8080/"
        },
        "outputId": "5ae2608f-d181-4382-854e-3f066bea58b9",
        "id": "AGskoBT4UjMf"
      },
      "execution_count": null,
      "outputs": [
        {
          "output_type": "execute_result",
          "data": {
            "text/plain": [
              "array([4, 0, 0, 0, 4, 0, 3, 4, 0, 0, 4, 0, 0, 0, 3, 3, 3, 0, 0, 1, 4, 4,\n",
              "       0, 0, 3, 1, 1, 0, 4, 4, 0, 4, 0, 0, 0, 4, 4, 4, 0, 2, 0, 4, 4, 1,\n",
              "       0, 4, 1, 0, 4, 4, 1, 0, 0, 4, 0, 1, 0, 1, 4, 4, 0, 0, 1, 4, 4, 0,\n",
              "       0, 1, 0, 0, 0, 0, 3, 3, 0, 0, 3, 0, 3, 1, 4, 4, 0, 4, 0, 4, 1, 1,\n",
              "       4, 0, 0, 4, 0, 0, 3, 3, 0, 0, 0, 3, 0, 1, 4, 0, 4, 4, 4, 4, 4, 0,\n",
              "       4, 0, 0, 0, 4, 4, 4, 0, 4, 4, 0, 0, 0, 0, 0, 3, 3, 4, 0, 1, 1, 1,\n",
              "       4, 4, 4, 4, 1, 4, 0, 4, 4, 0, 1, 4, 0, 1, 1, 4, 1, 1, 1, 4, 4, 4,\n",
              "       4, 0, 0])"
            ]
          },
          "metadata": {},
          "execution_count": 18
        }
      ]
    },
    {
      "cell_type": "code",
      "source": [
        "# Incluir a classificação como uma nova coluna ('cluster_2') na tabela\n",
        "cl_labels = clustering_model_2.labels_\n",
        "veiculos['cluster_2'] = cl_labels\n",
        "veiculos.head()"
      ],
      "metadata": {
        "colab": {
          "base_uri": "https://localhost:8080/",
          "height": 206
        },
        "outputId": "1adc66b6-adf1-4562-d7a6-6393310a3efa",
        "id": "Q1bbkfxnUjMn"
      },
      "execution_count": null,
      "outputs": [
        {
          "output_type": "execute_result",
          "data": {
            "text/plain": [
              "  Montadora   Modelo   sales  resale  price  engine  horsepower  width  \\\n",
              "0     Acura  Integra  16.919  16.360  21.50     1.8       140.0   67.3   \n",
              "1     Acura       TL  39.384  19.875  28.40     3.2       225.0   70.3   \n",
              "2     Acura       CL  14.114  18.225  32.40     3.2       225.0   70.6   \n",
              "3     Acura       RL   8.588  29.725  42.00     3.5       210.0   71.4   \n",
              "4      Audi       A4  20.397  22.255  23.99     1.8       150.0   68.2   \n",
              "\n",
              "   length  curb_wgt  fuel_cap  fuel_effi_mpg  Sales - Resale  cluster_2  \n",
              "0   172.4     2.639      13.2           28.0           5.140          4  \n",
              "1   192.9     3.517      17.2           25.0           8.525          0  \n",
              "2   192.0     3.470      17.2           26.0          14.175          0  \n",
              "3   196.6     3.850      18.0           22.0          12.275          0  \n",
              "4   178.0     2.998      16.4           27.0           1.735          4  "
            ],
            "text/html": [
              "\n",
              "  <div id=\"df-f57b7e6b-3bca-443a-aeb2-c25cb92695d8\">\n",
              "    <div class=\"colab-df-container\">\n",
              "      <div>\n",
              "<style scoped>\n",
              "    .dataframe tbody tr th:only-of-type {\n",
              "        vertical-align: middle;\n",
              "    }\n",
              "\n",
              "    .dataframe tbody tr th {\n",
              "        vertical-align: top;\n",
              "    }\n",
              "\n",
              "    .dataframe thead th {\n",
              "        text-align: right;\n",
              "    }\n",
              "</style>\n",
              "<table border=\"1\" class=\"dataframe\">\n",
              "  <thead>\n",
              "    <tr style=\"text-align: right;\">\n",
              "      <th></th>\n",
              "      <th>Montadora</th>\n",
              "      <th>Modelo</th>\n",
              "      <th>sales</th>\n",
              "      <th>resale</th>\n",
              "      <th>price</th>\n",
              "      <th>engine</th>\n",
              "      <th>horsepower</th>\n",
              "      <th>width</th>\n",
              "      <th>length</th>\n",
              "      <th>curb_wgt</th>\n",
              "      <th>fuel_cap</th>\n",
              "      <th>fuel_effi_mpg</th>\n",
              "      <th>Sales - Resale</th>\n",
              "      <th>cluster_2</th>\n",
              "    </tr>\n",
              "  </thead>\n",
              "  <tbody>\n",
              "    <tr>\n",
              "      <th>0</th>\n",
              "      <td>Acura</td>\n",
              "      <td>Integra</td>\n",
              "      <td>16.919</td>\n",
              "      <td>16.360</td>\n",
              "      <td>21.50</td>\n",
              "      <td>1.8</td>\n",
              "      <td>140.0</td>\n",
              "      <td>67.3</td>\n",
              "      <td>172.4</td>\n",
              "      <td>2.639</td>\n",
              "      <td>13.2</td>\n",
              "      <td>28.0</td>\n",
              "      <td>5.140</td>\n",
              "      <td>4</td>\n",
              "    </tr>\n",
              "    <tr>\n",
              "      <th>1</th>\n",
              "      <td>Acura</td>\n",
              "      <td>TL</td>\n",
              "      <td>39.384</td>\n",
              "      <td>19.875</td>\n",
              "      <td>28.40</td>\n",
              "      <td>3.2</td>\n",
              "      <td>225.0</td>\n",
              "      <td>70.3</td>\n",
              "      <td>192.9</td>\n",
              "      <td>3.517</td>\n",
              "      <td>17.2</td>\n",
              "      <td>25.0</td>\n",
              "      <td>8.525</td>\n",
              "      <td>0</td>\n",
              "    </tr>\n",
              "    <tr>\n",
              "      <th>2</th>\n",
              "      <td>Acura</td>\n",
              "      <td>CL</td>\n",
              "      <td>14.114</td>\n",
              "      <td>18.225</td>\n",
              "      <td>32.40</td>\n",
              "      <td>3.2</td>\n",
              "      <td>225.0</td>\n",
              "      <td>70.6</td>\n",
              "      <td>192.0</td>\n",
              "      <td>3.470</td>\n",
              "      <td>17.2</td>\n",
              "      <td>26.0</td>\n",
              "      <td>14.175</td>\n",
              "      <td>0</td>\n",
              "    </tr>\n",
              "    <tr>\n",
              "      <th>3</th>\n",
              "      <td>Acura</td>\n",
              "      <td>RL</td>\n",
              "      <td>8.588</td>\n",
              "      <td>29.725</td>\n",
              "      <td>42.00</td>\n",
              "      <td>3.5</td>\n",
              "      <td>210.0</td>\n",
              "      <td>71.4</td>\n",
              "      <td>196.6</td>\n",
              "      <td>3.850</td>\n",
              "      <td>18.0</td>\n",
              "      <td>22.0</td>\n",
              "      <td>12.275</td>\n",
              "      <td>0</td>\n",
              "    </tr>\n",
              "    <tr>\n",
              "      <th>4</th>\n",
              "      <td>Audi</td>\n",
              "      <td>A4</td>\n",
              "      <td>20.397</td>\n",
              "      <td>22.255</td>\n",
              "      <td>23.99</td>\n",
              "      <td>1.8</td>\n",
              "      <td>150.0</td>\n",
              "      <td>68.2</td>\n",
              "      <td>178.0</td>\n",
              "      <td>2.998</td>\n",
              "      <td>16.4</td>\n",
              "      <td>27.0</td>\n",
              "      <td>1.735</td>\n",
              "      <td>4</td>\n",
              "    </tr>\n",
              "  </tbody>\n",
              "</table>\n",
              "</div>\n",
              "      <button class=\"colab-df-convert\" onclick=\"convertToInteractive('df-f57b7e6b-3bca-443a-aeb2-c25cb92695d8')\"\n",
              "              title=\"Convert this dataframe to an interactive table.\"\n",
              "              style=\"display:none;\">\n",
              "        \n",
              "  <svg xmlns=\"http://www.w3.org/2000/svg\" height=\"24px\"viewBox=\"0 0 24 24\"\n",
              "       width=\"24px\">\n",
              "    <path d=\"M0 0h24v24H0V0z\" fill=\"none\"/>\n",
              "    <path d=\"M18.56 5.44l.94 2.06.94-2.06 2.06-.94-2.06-.94-.94-2.06-.94 2.06-2.06.94zm-11 1L8.5 8.5l.94-2.06 2.06-.94-2.06-.94L8.5 2.5l-.94 2.06-2.06.94zm10 10l.94 2.06.94-2.06 2.06-.94-2.06-.94-.94-2.06-.94 2.06-2.06.94z\"/><path d=\"M17.41 7.96l-1.37-1.37c-.4-.4-.92-.59-1.43-.59-.52 0-1.04.2-1.43.59L10.3 9.45l-7.72 7.72c-.78.78-.78 2.05 0 2.83L4 21.41c.39.39.9.59 1.41.59.51 0 1.02-.2 1.41-.59l7.78-7.78 2.81-2.81c.8-.78.8-2.07 0-2.86zM5.41 20L4 18.59l7.72-7.72 1.47 1.35L5.41 20z\"/>\n",
              "  </svg>\n",
              "      </button>\n",
              "      \n",
              "  <style>\n",
              "    .colab-df-container {\n",
              "      display:flex;\n",
              "      flex-wrap:wrap;\n",
              "      gap: 12px;\n",
              "    }\n",
              "\n",
              "    .colab-df-convert {\n",
              "      background-color: #E8F0FE;\n",
              "      border: none;\n",
              "      border-radius: 50%;\n",
              "      cursor: pointer;\n",
              "      display: none;\n",
              "      fill: #1967D2;\n",
              "      height: 32px;\n",
              "      padding: 0 0 0 0;\n",
              "      width: 32px;\n",
              "    }\n",
              "\n",
              "    .colab-df-convert:hover {\n",
              "      background-color: #E2EBFA;\n",
              "      box-shadow: 0px 1px 2px rgba(60, 64, 67, 0.3), 0px 1px 3px 1px rgba(60, 64, 67, 0.15);\n",
              "      fill: #174EA6;\n",
              "    }\n",
              "\n",
              "    [theme=dark] .colab-df-convert {\n",
              "      background-color: #3B4455;\n",
              "      fill: #D2E3FC;\n",
              "    }\n",
              "\n",
              "    [theme=dark] .colab-df-convert:hover {\n",
              "      background-color: #434B5C;\n",
              "      box-shadow: 0px 1px 3px 1px rgba(0, 0, 0, 0.15);\n",
              "      filter: drop-shadow(0px 1px 2px rgba(0, 0, 0, 0.3));\n",
              "      fill: #FFFFFF;\n",
              "    }\n",
              "  </style>\n",
              "\n",
              "      <script>\n",
              "        const buttonEl =\n",
              "          document.querySelector('#df-f57b7e6b-3bca-443a-aeb2-c25cb92695d8 button.colab-df-convert');\n",
              "        buttonEl.style.display =\n",
              "          google.colab.kernel.accessAllowed ? 'block' : 'none';\n",
              "\n",
              "        async function convertToInteractive(key) {\n",
              "          const element = document.querySelector('#df-f57b7e6b-3bca-443a-aeb2-c25cb92695d8');\n",
              "          const dataTable =\n",
              "            await google.colab.kernel.invokeFunction('convertToInteractive',\n",
              "                                                     [key], {});\n",
              "          if (!dataTable) return;\n",
              "\n",
              "          const docLinkHtml = 'Like what you see? Visit the ' +\n",
              "            '<a target=\"_blank\" href=https://colab.research.google.com/notebooks/data_table.ipynb>data table notebook</a>'\n",
              "            + ' to learn more about interactive tables.';\n",
              "          element.innerHTML = '';\n",
              "          dataTable['output_type'] = 'display_data';\n",
              "          await google.colab.output.renderOutput(dataTable, element);\n",
              "          const docLink = document.createElement('div');\n",
              "          docLink.innerHTML = docLinkHtml;\n",
              "          element.appendChild(docLink);\n",
              "        }\n",
              "      </script>\n",
              "    </div>\n",
              "  </div>\n",
              "  "
            ]
          },
          "metadata": {},
          "execution_count": 19
        }
      ]
    },
    {
      "cell_type": "code",
      "source": [
        "# Gráfico de dispersão das variáveis escolhidas com os grupos (clusters) separado por cores.\n",
        "plt.figure(figsize=(15,7))\n",
        "sns.scatterplot(x='horsepower', \n",
        "                y='engine', \n",
        "                data=selected_data, \n",
        "                hue=cl_labels,\n",
        "                palette=\"rainbow\").set_title('Labeled Customer Data')\n",
        "plt.show()"
      ],
      "metadata": {
        "colab": {
          "base_uri": "https://localhost:8080/",
          "height": 458
        },
        "outputId": "5ed6647a-91a9-4726-89b9-db50203fb376",
        "id": "HNhIuTPRUjMn"
      },
      "execution_count": null,
      "outputs": [
        {
          "output_type": "display_data",
          "data": {
            "text/plain": [
              "<Figure size 1080x504 with 1 Axes>"
            ],
            "image/png": "[encoded data removed]"
          },
          "metadata": {
            "needs_background": "light"
          }
        }
      ]
    },
    {
      "cell_type": "code",
      "source": [
        "!pip install pingouin\n",
        "\n",
        "# Importar bibliotecas\n",
        "import pingouin as pg"
      ],
      "metadata": {
        "colab": {
          "base_uri": "https://localhost:8080/",
          "height": 1000
        },
        "id": "AQLeJUcoXJnZ",
        "outputId": "691de254-5498-4be0-d5e6-8ae8ba38e436"
      },
      "execution_count": null,
      "outputs": [
        {
          "output_type": "stream",
          "name": "stdout",
          "text": [
            "Looking in indexes: https://pypi.org/simple, https://us-python.pkg.dev/colab-wheels/public/simple/\n",
            "Collecting pingouin\n",
            "  Downloading pingouin-0.5.3.tar.gz (187 kB)\n",
            "\u001b[2K     \u001b[90m━━━━━━━━━━━━━━━━━━━━━━━━━━━━━━━━━━━━━━━\u001b[0m \u001b[32m188.0/188.0 KB\u001b[0m \u001b[31m8.6 MB/s\u001b[0m eta \u001b[36m0:00:00\u001b[0m\n",
            "\u001b[?25h  Installing build dependencies ... \u001b[?25l\u001b[?25hdone\n",
            "  Getting requirements to build wheel ... \u001b[?25l\u001b[?25hdone\n",
            "  Preparing metadata (pyproject.toml) ... \u001b[?25l\u001b[?25hdone\n",
            "Requirement already satisfied: matplotlib>=3.0.2 in /usr/local/lib/python3.8/dist-packages (from pingouin) (3.2.2)\n",
            "Requirement already satisfied: pandas>=1.0 in /usr/local/lib/python3.8/dist-packages (from pingouin) (1.3.5)\n",
            "Collecting statsmodels>=0.13\n",
            "  Downloading statsmodels-0.13.5-cp38-cp38-manylinux_2_17_x86_64.manylinux2014_x86_64.whl (9.9 MB)\n",
            "\u001b[2K     \u001b[90m━━━━━━━━━━━━━━━━━━━━━━━━━━━━━━━━━━━━━━━━\u001b[0m \u001b[32m9.9/9.9 MB\u001b[0m \u001b[31m83.1 MB/s\u001b[0m eta \u001b[36m0:00:00\u001b[0m\n",
            "\u001b[?25hRequirement already satisfied: scikit-learn in /usr/local/lib/python3.8/dist-packages (from pingouin) (1.0.2)\n",
            "Requirement already satisfied: tabulate in /usr/local/lib/python3.8/dist-packages (from pingouin) (0.8.10)\n",
            "Requirement already satisfied: seaborn>=0.11 in /usr/local/lib/python3.8/dist-packages (from pingouin) (0.11.2)\n",
            "Collecting outdated\n",
            "  Downloading outdated-0.2.2-py2.py3-none-any.whl (7.5 kB)\n",
            "Requirement already satisfied: numpy>=1.19 in /usr/local/lib/python3.8/dist-packages (from pingouin) (1.21.6)\n",
            "Collecting pandas-flavor>=0.2.0\n",
            "  Downloading pandas_flavor-0.3.0-py3-none-any.whl (6.3 kB)\n",
            "Requirement already satisfied: scipy>=1.7 in /usr/local/lib/python3.8/dist-packages (from pingouin) (1.7.3)\n",
            "Requirement already satisfied: python-dateutil>=2.1 in /usr/local/lib/python3.8/dist-packages (from matplotlib>=3.0.2->pingouin) (2.8.2)\n",
            "Requirement already satisfied: kiwisolver>=1.0.1 in /usr/local/lib/python3.8/dist-packages (from matplotlib>=3.0.2->pingouin) (1.4.4)\n",
            "Requirement already satisfied: cycler>=0.10 in /usr/local/lib/python3.8/dist-packages (from matplotlib>=3.0.2->pingouin) (0.11.0)\n",
            "Requirement already satisfied: pyparsing!=2.0.4,!=2.1.2,!=2.1.6,>=2.0.1 in /usr/local/lib/python3.8/dist-packages (from matplotlib>=3.0.2->pingouin) (3.0.9)\n",
            "Requirement already satisfied: pytz>=2017.3 in /usr/local/lib/python3.8/dist-packages (from pandas>=1.0->pingouin) (2022.7)\n",
            "Requirement already satisfied: xarray in /usr/local/lib/python3.8/dist-packages (from pandas-flavor>=0.2.0->pingouin) (2022.12.0)\n",
            "Collecting lazy-loader==0.1rc2\n",
            "  Downloading lazy_loader-0.1rc2-py3-none-any.whl (5.1 kB)\n",
            "Requirement already satisfied: patsy>=0.5.2 in /usr/local/lib/python3.8/dist-packages (from statsmodels>=0.13->pingouin) (0.5.3)\n",
            "Requirement already satisfied: packaging>=21.3 in /usr/local/lib/python3.8/dist-packages (from statsmodels>=0.13->pingouin) (21.3)\n",
            "Collecting littleutils\n",
            "  Downloading littleutils-0.2.2.tar.gz (6.6 kB)\n",
            "  Preparing metadata (setup.py) ... \u001b[?25l\u001b[?25hdone\n",
            "Requirement already satisfied: requests in /usr/local/lib/python3.8/dist-packages (from outdated->pingouin) (2.25.1)\n",
            "Requirement already satisfied: setuptools>=44 in /usr/local/lib/python3.8/dist-packages (from outdated->pingouin) (57.4.0)\n",
            "Requirement already satisfied: joblib>=0.11 in /usr/local/lib/python3.8/dist-packages (from scikit-learn->pingouin) (1.2.0)\n",
            "Requirement already satisfied: threadpoolctl>=2.0.0 in /usr/local/lib/python3.8/dist-packages (from scikit-learn->pingouin) (3.1.0)\n",
            "Requirement already satisfied: six in /usr/local/lib/python3.8/dist-packages (from patsy>=0.5.2->statsmodels>=0.13->pingouin) (1.15.0)\n",
            "Requirement already satisfied: chardet<5,>=3.0.2 in /usr/local/lib/python3.8/dist-packages (from requests->outdated->pingouin) (4.0.0)\n",
            "Requirement already satisfied: idna<3,>=2.5 in /usr/local/lib/python3.8/dist-packages (from requests->outdated->pingouin) (2.10)\n",
            "Requirement already satisfied: certifi>=2017.4.17 in /usr/local/lib/python3.8/dist-packages (from requests->outdated->pingouin) (2022.12.7)\n",
            "Requirement already satisfied: urllib3<1.27,>=1.21.1 in /usr/local/lib/python3.8/dist-packages (from requests->outdated->pingouin) (1.24.3)\n",
            "Building wheels for collected packages: pingouin, littleutils\n",
            "  Building wheel for pingouin (pyproject.toml) ... \u001b[?25l\u001b[?25hdone\n",
            "  Created wheel for pingouin: filename=pingouin-0.5.3-py3-none-any.whl size=198588 sha256=a726019e90aeb209e960778d75d5774abc477c1b5d6e7ad2b1708d79f246acc8\n",
            "  Stored in directory: /root/.cache/pip/wheels/60/1e/21/710be95d0c93ea9ac3c0e6bacd8cce492ad5dd26bf3aedc4bf\n",
            "  Building wheel for littleutils (setup.py) ... \u001b[?25l\u001b[?25hdone\n",
            "  Created wheel for littleutils: filename=littleutils-0.2.2-py3-none-any.whl size=7047 sha256=aae9cb7285222d88accdc00a5f636af9e2945dad79787ec2550b3b30e85de251\n",
            "  Stored in directory: /root/.cache/pip/wheels/6a/33/c4/0ef84d7f5568c2823e3d63a6e08988852fb9e4bc822034870a\n",
            "Successfully built pingouin littleutils\n",
            "Installing collected packages: littleutils, lazy-loader, outdated, statsmodels, pandas-flavor, pingouin\n",
            "  Attempting uninstall: statsmodels\n",
            "    Found existing installation: statsmodels 0.12.2\n",
            "    Uninstalling statsmodels-0.12.2:\n",
            "      Successfully uninstalled statsmodels-0.12.2\n",
            "Successfully installed lazy-loader-0.1rc2 littleutils-0.2.2 outdated-0.2.2 pandas-flavor-0.3.0 pingouin-0.5.3 statsmodels-0.13.5\n"
          ]
        },
        {
          "output_type": "display_data",
          "data": {
            "application/vnd.colab-display-data+json": {
              "pip_warning": {
                "packages": [
                  "statsmodels"
                ]
              }
            }
          },
          "metadata": {}
        }
      ]
    },
    {
      "cell_type": "code",
      "source": [
        "# ANOVA (one-way) para 'Sales - Resale' à partir dos novos clusters\n",
        "pg.anova(data=veiculos, dv='Sales - Resale', between='cluster_2', detailed=True)"
      ],
      "metadata": {
        "colab": {
          "base_uri": "https://localhost:8080/",
          "height": 112
        },
        "id": "te0N-RfsSnqc",
        "outputId": "bfda129d-fbba-4fa5-ef34-58ca41c0fd8d"
      },
      "execution_count": null,
      "outputs": [
        {
          "output_type": "execute_result",
          "data": {
            "text/plain": [
              "      Source           SS   DF          MS         F     p-unc       np2\n",
              "0  cluster_2  1420.024080    4  355.006020  6.108662  0.000138  0.138491\n",
              "1     Within  8833.508399  152   58.115187       NaN       NaN       NaN"
            ],
            "text/html": [
              "\n",
              "  <div id=\"df-11d99a61-7d58-4d47-9222-7a909e4102fb\">\n",
              "    <div class=\"colab-df-container\">\n",
              "      <div>\n",
              "<style scoped>\n",
              "    .dataframe tbody tr th:only-of-type {\n",
              "        vertical-align: middle;\n",
              "    }\n",
              "\n",
              "    .dataframe tbody tr th {\n",
              "        vertical-align: top;\n",
              "    }\n",
              "\n",
              "    .dataframe thead th {\n",
              "        text-align: right;\n",
              "    }\n",
              "</style>\n",
              "<table border=\"1\" class=\"dataframe\">\n",
              "  <thead>\n",
              "    <tr style=\"text-align: right;\">\n",
              "      <th></th>\n",
              "      <th>Source</th>\n",
              "      <th>SS</th>\n",
              "      <th>DF</th>\n",
              "      <th>MS</th>\n",
              "      <th>F</th>\n",
              "      <th>p-unc</th>\n",
              "      <th>np2</th>\n",
              "    </tr>\n",
              "  </thead>\n",
              "  <tbody>\n",
              "    <tr>\n",
              "      <th>0</th>\n",
              "      <td>cluster_2</td>\n",
              "      <td>1420.024080</td>\n",
              "      <td>4</td>\n",
              "      <td>355.006020</td>\n",
              "      <td>6.108662</td>\n",
              "      <td>0.000138</td>\n",
              "      <td>0.138491</td>\n",
              "    </tr>\n",
              "    <tr>\n",
              "      <th>1</th>\n",
              "      <td>Within</td>\n",
              "      <td>8833.508399</td>\n",
              "      <td>152</td>\n",
              "      <td>58.115187</td>\n",
              "      <td>NaN</td>\n",
              "      <td>NaN</td>\n",
              "      <td>NaN</td>\n",
              "    </tr>\n",
              "  </tbody>\n",
              "</table>\n",
              "</div>\n",
              "      <button class=\"colab-df-convert\" onclick=\"convertToInteractive('df-11d99a61-7d58-4d47-9222-7a909e4102fb')\"\n",
              "              title=\"Convert this dataframe to an interactive table.\"\n",
              "              style=\"display:none;\">\n",
              "        \n",
              "  <svg xmlns=\"http://www.w3.org/2000/svg\" height=\"24px\"viewBox=\"0 0 24 24\"\n",
              "       width=\"24px\">\n",
              "    <path d=\"M0 0h24v24H0V0z\" fill=\"none\"/>\n",
              "    <path d=\"M18.56 5.44l.94 2.06.94-2.06 2.06-.94-2.06-.94-.94-2.06-.94 2.06-2.06.94zm-11 1L8.5 8.5l.94-2.06 2.06-.94-2.06-.94L8.5 2.5l-.94 2.06-2.06.94zm10 10l.94 2.06.94-2.06 2.06-.94-2.06-.94-.94-2.06-.94 2.06-2.06.94z\"/><path d=\"M17.41 7.96l-1.37-1.37c-.4-.4-.92-.59-1.43-.59-.52 0-1.04.2-1.43.59L10.3 9.45l-7.72 7.72c-.78.78-.78 2.05 0 2.83L4 21.41c.39.39.9.59 1.41.59.51 0 1.02-.2 1.41-.59l7.78-7.78 2.81-2.81c.8-.78.8-2.07 0-2.86zM5.41 20L4 18.59l7.72-7.72 1.47 1.35L5.41 20z\"/>\n",
              "  </svg>\n",
              "      </button>\n",
              "      \n",
              "  <style>\n",
              "    .colab-df-container {\n",
              "      display:flex;\n",
              "      flex-wrap:wrap;\n",
              "      gap: 12px;\n",
              "    }\n",
              "\n",
              "    .colab-df-convert {\n",
              "      background-color: #E8F0FE;\n",
              "      border: none;\n",
              "      border-radius: 50%;\n",
              "      cursor: pointer;\n",
              "      display: none;\n",
              "      fill: #1967D2;\n",
              "      height: 32px;\n",
              "      padding: 0 0 0 0;\n",
              "      width: 32px;\n",
              "    }\n",
              "\n",
              "    .colab-df-convert:hover {\n",
              "      background-color: #E2EBFA;\n",
              "      box-shadow: 0px 1px 2px rgba(60, 64, 67, 0.3), 0px 1px 3px 1px rgba(60, 64, 67, 0.15);\n",
              "      fill: #174EA6;\n",
              "    }\n",
              "\n",
              "    [theme=dark] .colab-df-convert {\n",
              "      background-color: #3B4455;\n",
              "      fill: #D2E3FC;\n",
              "    }\n",
              "\n",
              "    [theme=dark] .colab-df-convert:hover {\n",
              "      background-color: #434B5C;\n",
              "      box-shadow: 0px 1px 3px 1px rgba(0, 0, 0, 0.15);\n",
              "      filter: drop-shadow(0px 1px 2px rgba(0, 0, 0, 0.3));\n",
              "      fill: #FFFFFF;\n",
              "    }\n",
              "  </style>\n",
              "\n",
              "      <script>\n",
              "        const buttonEl =\n",
              "          document.querySelector('#df-11d99a61-7d58-4d47-9222-7a909e4102fb button.colab-df-convert');\n",
              "        buttonEl.style.display =\n",
              "          google.colab.kernel.accessAllowed ? 'block' : 'none';\n",
              "\n",
              "        async function convertToInteractive(key) {\n",
              "          const element = document.querySelector('#df-11d99a61-7d58-4d47-9222-7a909e4102fb');\n",
              "          const dataTable =\n",
              "            await google.colab.kernel.invokeFunction('convertToInteractive',\n",
              "                                                     [key], {});\n",
              "          if (!dataTable) return;\n",
              "\n",
              "          const docLinkHtml = 'Like what you see? Visit the ' +\n",
              "            '<a target=\"_blank\" href=https://colab.research.google.com/notebooks/data_table.ipynb>data table notebook</a>'\n",
              "            + ' to learn more about interactive tables.';\n",
              "          element.innerHTML = '';\n",
              "          dataTable['output_type'] = 'display_data';\n",
              "          await google.colab.output.renderOutput(dataTable, element);\n",
              "          const docLink = document.createElement('div');\n",
              "          docLink.innerHTML = docLinkHtml;\n",
              "          element.appendChild(docLink);\n",
              "        }\n",
              "      </script>\n",
              "    </div>\n",
              "  </div>\n",
              "  "
            ]
          },
          "metadata": {},
          "execution_count": 29
        }
      ]
    },
    {
      "cell_type": "code",
      "source": [
        "# Teste Post-hoc para ver se há diferença entre cada grupo.\n",
        "pg.pairwise_tests(data=veiculos, dv='Sales - Resale', between='cluster_2', padjust='none')"
      ],
      "metadata": {
        "colab": {
          "base_uri": "https://localhost:8080/",
          "height": 502
        },
        "id": "f3RBYC9GSnjn",
        "outputId": "03358fc3-6837-4d69-dcfc-68fac6d25e95"
      },
      "execution_count": null,
      "outputs": [
        {
          "output_type": "stream",
          "name": "stderr",
          "text": [
            "/usr/local/lib/python3.8/dist-packages/pingouin/parametric.py:257: RuntimeWarning: Degrees of freedom <= 0 for slice\n",
            "  vx, vy = x.var(ddof=1), y.var(ddof=1)\n",
            "/usr/local/lib/python3.8/dist-packages/numpy/core/_methods.py:254: RuntimeWarning: invalid value encountered in double_scalars\n",
            "  ret = ret.dtype.type(ret / rcount)\n",
            "/usr/local/lib/python3.8/dist-packages/numpy/core/fromnumeric.py:3723: RuntimeWarning: Degrees of freedom <= 0 for slice\n",
            "  return _methods._var(a, axis=axis, dtype=dtype, out=out, ddof=ddof,\n",
            "/usr/local/lib/python3.8/dist-packages/pingouin/effsize.py:803: RuntimeWarning: Degrees of freedom <= 0 for slice\n",
            "  poolsd = np.sqrt(((nx - 1) * x.var(ddof=1) + (ny - 1) * y.var(ddof=1)) / dof)\n"
          ]
        },
        {
          "output_type": "execute_result",
          "data": {
            "text/plain": [
              "    Contrast  A  B  Paired  Parametric          T        dof alternative  \\\n",
              "0  cluster_2  0  1   False        True   2.567833  69.468087   two-sided   \n",
              "1  cluster_2  0  2   False        True  -2.852101  63.000000   two-sided   \n",
              "2  cluster_2  0  3   False        True  -4.260555  44.977992   two-sided   \n",
              "3  cluster_2  0  4   False        True   1.235316  80.395775   two-sided   \n",
              "4  cluster_2  1  2   False        True -23.551419  23.000000   two-sided   \n",
              "5  cluster_2  1  3   False        True  -8.603345  14.522964   two-sided   \n",
              "6  cluster_2  1  4   False        True  -2.959230  75.720996   two-sided   \n",
              "7  cluster_2  2  3   False        True        NaN   1.000000   two-sided   \n",
              "8  cluster_2  2  4   False        True        NaN   1.000000   two-sided   \n",
              "9  cluster_2  3  4   False        True   6.975403  17.183356   two-sided   \n",
              "\n",
              "          p-unc       BF10    hedges  \n",
              "0  1.238788e-02      3.943  0.380292  \n",
              "1  5.867019e-03      5.436 -0.356513  \n",
              "2  1.027760e-04    333.921 -0.789544  \n",
              "3  2.203105e-01       0.39  0.212067  \n",
              "4  1.333582e-17  3.222e+14 -4.807413  \n",
              "5  4.430195e-07  2.152e+07 -3.553413  \n",
              "6  4.114515e-03      9.414 -0.541217  \n",
              "7           NaN        nan       NaN  \n",
              "8           NaN        nan       NaN  \n",
              "9  2.107893e-06  4.002e+06  2.416162  "
            ],
            "text/html": [
              "\n",
              "  <div id=\"df-ec27ecc9-7d3b-4894-875f-bfd85f794b69\">\n",
              "    <div class=\"colab-df-container\">\n",
              "      <div>\n",
              "<style scoped>\n",
              "    .dataframe tbody tr th:only-of-type {\n",
              "        vertical-align: middle;\n",
              "    }\n",
              "\n",
              "    .dataframe tbody tr th {\n",
              "        vertical-align: top;\n",
              "    }\n",
              "\n",
              "    .dataframe thead th {\n",
              "        text-align: right;\n",
              "    }\n",
              "</style>\n",
              "<table border=\"1\" class=\"dataframe\">\n",
              "  <thead>\n",
              "    <tr style=\"text-align: right;\">\n",
              "      <th></th>\n",
              "      <th>Contrast</th>\n",
              "      <th>A</th>\n",
              "      <th>B</th>\n",
              "      <th>Paired</th>\n",
              "      <th>Parametric</th>\n",
              "      <th>T</th>\n",
              "      <th>dof</th>\n",
              "      <th>alternative</th>\n",
              "      <th>p-unc</th>\n",
              "      <th>BF10</th>\n",
              "      <th>hedges</th>\n",
              "    </tr>\n",
              "  </thead>\n",
              "  <tbody>\n",
              "    <tr>\n",
              "      <th>0</th>\n",
              "      <td>cluster_2</td>\n",
              "      <td>0</td>\n",
              "      <td>1</td>\n",
              "      <td>False</td>\n",
              "      <td>True</td>\n",
              "      <td>2.567833</td>\n",
              "      <td>69.468087</td>\n",
              "      <td>two-sided</td>\n",
              "      <td>1.238788e-02</td>\n",
              "      <td>3.943</td>\n",
              "      <td>0.380292</td>\n",
              "    </tr>\n",
              "    <tr>\n",
              "      <th>1</th>\n",
              "      <td>cluster_2</td>\n",
              "      <td>0</td>\n",
              "      <td>2</td>\n",
              "      <td>False</td>\n",
              "      <td>True</td>\n",
              "      <td>-2.852101</td>\n",
              "      <td>63.000000</td>\n",
              "      <td>two-sided</td>\n",
              "      <td>5.867019e-03</td>\n",
              "      <td>5.436</td>\n",
              "      <td>-0.356513</td>\n",
              "    </tr>\n",
              "    <tr>\n",
              "      <th>2</th>\n",
              "      <td>cluster_2</td>\n",
              "      <td>0</td>\n",
              "      <td>3</td>\n",
              "      <td>False</td>\n",
              "      <td>True</td>\n",
              "      <td>-4.260555</td>\n",
              "      <td>44.977992</td>\n",
              "      <td>two-sided</td>\n",
              "      <td>1.027760e-04</td>\n",
              "      <td>333.921</td>\n",
              "      <td>-0.789544</td>\n",
              "    </tr>\n",
              "    <tr>\n",
              "      <th>3</th>\n",
              "      <td>cluster_2</td>\n",
              "      <td>0</td>\n",
              "      <td>4</td>\n",
              "      <td>False</td>\n",
              "      <td>True</td>\n",
              "      <td>1.235316</td>\n",
              "      <td>80.395775</td>\n",
              "      <td>two-sided</td>\n",
              "      <td>2.203105e-01</td>\n",
              "      <td>0.39</td>\n",
              "      <td>0.212067</td>\n",
              "    </tr>\n",
              "    <tr>\n",
              "      <th>4</th>\n",
              "      <td>cluster_2</td>\n",
              "      <td>1</td>\n",
              "      <td>2</td>\n",
              "      <td>False</td>\n",
              "      <td>True</td>\n",
              "      <td>-23.551419</td>\n",
              "      <td>23.000000</td>\n",
              "      <td>two-sided</td>\n",
              "      <td>1.333582e-17</td>\n",
              "      <td>3.222e+14</td>\n",
              "      <td>-4.807413</td>\n",
              "    </tr>\n",
              "    <tr>\n",
              "      <th>5</th>\n",
              "      <td>cluster_2</td>\n",
              "      <td>1</td>\n",
              "      <td>3</td>\n",
              "      <td>False</td>\n",
              "      <td>True</td>\n",
              "      <td>-8.603345</td>\n",
              "      <td>14.522964</td>\n",
              "      <td>two-sided</td>\n",
              "      <td>4.430195e-07</td>\n",
              "      <td>2.152e+07</td>\n",
              "      <td>-3.553413</td>\n",
              "    </tr>\n",
              "    <tr>\n",
              "      <th>6</th>\n",
              "      <td>cluster_2</td>\n",
              "      <td>1</td>\n",
              "      <td>4</td>\n",
              "      <td>False</td>\n",
              "      <td>True</td>\n",
              "      <td>-2.959230</td>\n",
              "      <td>75.720996</td>\n",
              "      <td>two-sided</td>\n",
              "      <td>4.114515e-03</td>\n",
              "      <td>9.414</td>\n",
              "      <td>-0.541217</td>\n",
              "    </tr>\n",
              "    <tr>\n",
              "      <th>7</th>\n",
              "      <td>cluster_2</td>\n",
              "      <td>2</td>\n",
              "      <td>3</td>\n",
              "      <td>False</td>\n",
              "      <td>True</td>\n",
              "      <td>NaN</td>\n",
              "      <td>1.000000</td>\n",
              "      <td>two-sided</td>\n",
              "      <td>NaN</td>\n",
              "      <td>nan</td>\n",
              "      <td>NaN</td>\n",
              "    </tr>\n",
              "    <tr>\n",
              "      <th>8</th>\n",
              "      <td>cluster_2</td>\n",
              "      <td>2</td>\n",
              "      <td>4</td>\n",
              "      <td>False</td>\n",
              "      <td>True</td>\n",
              "      <td>NaN</td>\n",
              "      <td>1.000000</td>\n",
              "      <td>two-sided</td>\n",
              "      <td>NaN</td>\n",
              "      <td>nan</td>\n",
              "      <td>NaN</td>\n",
              "    </tr>\n",
              "    <tr>\n",
              "      <th>9</th>\n",
              "      <td>cluster_2</td>\n",
              "      <td>3</td>\n",
              "      <td>4</td>\n",
              "      <td>False</td>\n",
              "      <td>True</td>\n",
              "      <td>6.975403</td>\n",
              "      <td>17.183356</td>\n",
              "      <td>two-sided</td>\n",
              "      <td>2.107893e-06</td>\n",
              "      <td>4.002e+06</td>\n",
              "      <td>2.416162</td>\n",
              "    </tr>\n",
              "  </tbody>\n",
              "</table>\n",
              "</div>\n",
              "      <button class=\"colab-df-convert\" onclick=\"convertToInteractive('df-ec27ecc9-7d3b-4894-875f-bfd85f794b69')\"\n",
              "              title=\"Convert this dataframe to an interactive table.\"\n",
              "              style=\"display:none;\">\n",
              "        \n",
              "  <svg xmlns=\"http://www.w3.org/2000/svg\" height=\"24px\"viewBox=\"0 0 24 24\"\n",
              "       width=\"24px\">\n",
              "    <path d=\"M0 0h24v24H0V0z\" fill=\"none\"/>\n",
              "    <path d=\"M18.56 5.44l.94 2.06.94-2.06 2.06-.94-2.06-.94-.94-2.06-.94 2.06-2.06.94zm-11 1L8.5 8.5l.94-2.06 2.06-.94-2.06-.94L8.5 2.5l-.94 2.06-2.06.94zm10 10l.94 2.06.94-2.06 2.06-.94-2.06-.94-.94-2.06-.94 2.06-2.06.94z\"/><path d=\"M17.41 7.96l-1.37-1.37c-.4-.4-.92-.59-1.43-.59-.52 0-1.04.2-1.43.59L10.3 9.45l-7.72 7.72c-.78.78-.78 2.05 0 2.83L4 21.41c.39.39.9.59 1.41.59.51 0 1.02-.2 1.41-.59l7.78-7.78 2.81-2.81c.8-.78.8-2.07 0-2.86zM5.41 20L4 18.59l7.72-7.72 1.47 1.35L5.41 20z\"/>\n",
              "  </svg>\n",
              "      </button>\n",
              "      \n",
              "  <style>\n",
              "    .colab-df-container {\n",
              "      display:flex;\n",
              "      flex-wrap:wrap;\n",
              "      gap: 12px;\n",
              "    }\n",
              "\n",
              "    .colab-df-convert {\n",
              "      background-color: #E8F0FE;\n",
              "      border: none;\n",
              "      border-radius: 50%;\n",
              "      cursor: pointer;\n",
              "      display: none;\n",
              "      fill: #1967D2;\n",
              "      height: 32px;\n",
              "      padding: 0 0 0 0;\n",
              "      width: 32px;\n",
              "    }\n",
              "\n",
              "    .colab-df-convert:hover {\n",
              "      background-color: #E2EBFA;\n",
              "      box-shadow: 0px 1px 2px rgba(60, 64, 67, 0.3), 0px 1px 3px 1px rgba(60, 64, 67, 0.15);\n",
              "      fill: #174EA6;\n",
              "    }\n",
              "\n",
              "    [theme=dark] .colab-df-convert {\n",
              "      background-color: #3B4455;\n",
              "      fill: #D2E3FC;\n",
              "    }\n",
              "\n",
              "    [theme=dark] .colab-df-convert:hover {\n",
              "      background-color: #434B5C;\n",
              "      box-shadow: 0px 1px 3px 1px rgba(0, 0, 0, 0.15);\n",
              "      filter: drop-shadow(0px 1px 2px rgba(0, 0, 0, 0.3));\n",
              "      fill: #FFFFFF;\n",
              "    }\n",
              "  </style>\n",
              "\n",
              "      <script>\n",
              "        const buttonEl =\n",
              "          document.querySelector('#df-ec27ecc9-7d3b-4894-875f-bfd85f794b69 button.colab-df-convert');\n",
              "        buttonEl.style.display =\n",
              "          google.colab.kernel.accessAllowed ? 'block' : 'none';\n",
              "\n",
              "        async function convertToInteractive(key) {\n",
              "          const element = document.querySelector('#df-ec27ecc9-7d3b-4894-875f-bfd85f794b69');\n",
              "          const dataTable =\n",
              "            await google.colab.kernel.invokeFunction('convertToInteractive',\n",
              "                                                     [key], {});\n",
              "          if (!dataTable) return;\n",
              "\n",
              "          const docLinkHtml = 'Like what you see? Visit the ' +\n",
              "            '<a target=\"_blank\" href=https://colab.research.google.com/notebooks/data_table.ipynb>data table notebook</a>'\n",
              "            + ' to learn more about interactive tables.';\n",
              "          element.innerHTML = '';\n",
              "          dataTable['output_type'] = 'display_data';\n",
              "          await google.colab.output.renderOutput(dataTable, element);\n",
              "          const docLink = document.createElement('div');\n",
              "          docLink.innerHTML = docLinkHtml;\n",
              "          element.appendChild(docLink);\n",
              "        }\n",
              "      </script>\n",
              "    </div>\n",
              "  </div>\n",
              "  "
            ]
          },
          "metadata": {},
          "execution_count": 30
        }
      ]
    },
    {
      "cell_type": "markdown",
      "source": [
        "Cluster 2 não mostra significância pois (provavelmente) só tem um objeto no grupo (insuficiente para a análise)."
      ],
      "metadata": {
        "id": "xBNCf3caYImb"
      }
    },
    {
      "cell_type": "code",
      "source": [
        "# Verificar número de objetos em cada grupo\n",
        "plt.figure(figsize=(10, 8))\n",
        "sns.set_theme(style='darkgrid')\n",
        "ax = sns.countplot(data = veiculos, x='cluster_2', order=[0,4,1,3,2])\n",
        "plt.show()"
      ],
      "metadata": {
        "colab": {
          "base_uri": "https://localhost:8080/",
          "height": 502
        },
        "id": "-vSkCoI0aA6S",
        "outputId": "3bf071a6-34ca-4730-b01f-be4dcb7627ee"
      },
      "execution_count": null,
      "outputs": [
        {
          "output_type": "display_data",
          "data": {
            "text/plain": [
              "<Figure size 720x576 with 1 Axes>"
            ],
            "image/png": "[encoded data removed]"
          },
          "metadata": {}
        }
      ]
    },
    {
      "cell_type": "code",
      "source": [
        "# Gráfico de barras mostrando a diferença de 'Sales - Resale' por grupo.\n",
        "plt.figure(figsize=(10,8))\n",
        "sns.set_theme(style='darkgrid')\n",
        "sns.barplot(data=veiculos, x='cluster_2', y='Sales - Resale', order=[3,2,0,4, 1])\n",
        "plt.show()"
      ],
      "metadata": {
        "colab": {
          "base_uri": "https://localhost:8080/",
          "height": 502
        },
        "id": "1B1QoDyGSndE",
        "outputId": "94db5cf6-1fab-4f98-904f-d05f01775a95"
      },
      "execution_count": null,
      "outputs": [
        {
          "output_type": "display_data",
          "data": {
            "text/plain": [
              "<Figure size 720x576 with 1 Axes>"
            ],
            "image/png": "[encoded data removed]"
          },
          "metadata": {}
        }
      ]
    },
    {
      "cell_type": "markdown",
      "source": [
        "# Exemplo de Análise de Cluster Não-Hierárquico"
      ],
      "metadata": {
        "id": "2FhhQ_5lbaPy"
      }
    },
    {
      "cell_type": "code",
      "execution_count": null,
      "metadata": {
        "id": "zzrGO-yil_RL"
      },
      "outputs": [],
      "source": [
        "!pip install pingouin\n",
        "# Importar bibliotecas\n",
        "import numpy as np\n",
        "import pandas as pd\n",
        "import matplotlib.pyplot as plt\n",
        "import seaborn as sns\n",
        "import pingouin as pg\n",
        "\n",
        "from sklearn.cluster import KMeans\n",
        "from sklearn.neighbors import KNeighborsRegressor\n",
        "from sklearn.datasets import make_blobs\n",
        "from scipy.cluster.hierarchy import dendrogram\n",
        "from sklearn import metrics\n",
        "from sklearn.cluster import AgglomerativeClustering, AffinityPropagation\n",
        "import statsmodels.formula.api as smf"
      ]
    },
    {
      "cell_type": "code",
      "source": [
        "# Criar arrays para as variáveis preditoras e variável dependente\n",
        "y = veiculos['Sales - Resale'].values # Variável dependente\n",
        "X = veiculos[['horsepower', 'engine']].values # Variáveis preditoras"
      ],
      "metadata": {
        "id": "aiGqmvuUu8wi"
      },
      "execution_count": null,
      "outputs": []
    },
    {
      "cell_type": "markdown",
      "source": [
        "- https://realpython.com/k-means-clustering-python/\n",
        "- https://stackabuse.com/hierarchical-clustering-with-python-and-scikit-learn/\n"
      ],
      "metadata": {
        "id": "WsIhA4W6CDcS"
      }
    },
    {
      "cell_type": "code",
      "source": [
        "kmeans_kwargs = {\n",
        "    \"init\": \"random\",\n",
        "    \"n_init\": 10,\n",
        "    \"max_iter\": 300,\n",
        "    \"random_state\": 42,\n",
        "    }\n",
        "   \n",
        "# A list holds the SSE values for each k\n",
        "sse = []\n",
        "for k in range(1, 11):\n",
        "  kmeans = KMeans(n_clusters=k, **kmeans_kwargs)\n",
        "  kmeans.fit(X)\n",
        "  sse.append(kmeans.inertia_)"
      ],
      "metadata": {
        "id": "f7zv-5wOCQrt"
      },
      "execution_count": null,
      "outputs": []
    },
    {
      "cell_type": "code",
      "source": [
        "sns.set()\n",
        "plt.plot(range(1, 11), sse)\n",
        "plt.title('Selecting the Number of Clusters using the Elbow Method')\n",
        "plt.xticks(range(1, 11))\n",
        "plt.xlabel(\"Number of Clusters\")\n",
        "plt.ylabel(\"SSE\")\n",
        "plt.show()"
      ],
      "metadata": {
        "colab": {
          "base_uri": "https://localhost:8080/",
          "height": 317
        },
        "id": "py-kPDsACqrB",
        "outputId": "ad461d5a-9f29-43e1-be1a-dc89056fcbf8"
      },
      "execution_count": null,
      "outputs": [
        {
          "output_type": "display_data",
          "data": {
            "text/plain": [
              "<Figure size 432x288 with 1 Axes>"
            ],
            "image/png": "[encoded data removed]"
          },
          "metadata": {}
        }
      ]
    },
    {
      "cell_type": "code",
      "source": [
        "kl = KneeLocator(\n",
        "    range(1, 11), sse, curve=\"convex\", direction=\"decreasing\"\n",
        "    )\n",
        "kl.elbow"
      ],
      "metadata": {
        "colab": {
          "base_uri": "https://localhost:8080/"
        },
        "id": "tOXIzEc-AZoo",
        "outputId": "8542f928-6b54-4c81-cf0b-d75cb9c638f0"
      },
      "execution_count": null,
      "outputs": [
        {
          "output_type": "execute_result",
          "data": {
            "text/plain": [
              "3"
            ]
          },
          "metadata": {},
          "execution_count": 107
        }
      ]
    },
    {
      "cell_type": "code",
      "source": [
        "# Classificar em agrupamentos com 7 vizinhanças\n",
        "neigh = KNeighborsRegressor(n_neighbors=7)"
      ],
      "metadata": {
        "id": "R6hLxVNivrev"
      },
      "execution_count": null,
      "outputs": []
    },
    {
      "cell_type": "code",
      "source": [
        "# Ajustar classificador\n",
        "neigh.fit(X, y)"
      ],
      "metadata": {
        "colab": {
          "base_uri": "https://localhost:8080/"
        },
        "id": "3ZLMTisqv49m",
        "outputId": "108b2bf2-7a4b-4cf0-aad0-f682083b079d"
      },
      "execution_count": null,
      "outputs": [
        {
          "output_type": "execute_result",
          "data": {
            "text/plain": [
              "KNeighborsRegressor(n_neighbors=7)"
            ]
          },
          "metadata": {},
          "execution_count": 111
        }
      ]
    },
    {
      "cell_type": "code",
      "source": [
        "neigh.get_params()"
      ],
      "metadata": {
        "colab": {
          "base_uri": "https://localhost:8080/"
        },
        "id": "Wqn8YYrY7sw0",
        "outputId": "c651d3de-8842-40fa-c944-d5594dd3037b"
      },
      "execution_count": null,
      "outputs": [
        {
          "output_type": "execute_result",
          "data": {
            "text/plain": [
              "{'algorithm': 'auto',\n",
              " 'leaf_size': 30,\n",
              " 'metric': 'minkowski',\n",
              " 'metric_params': None,\n",
              " 'n_jobs': None,\n",
              " 'n_neighbors': 7,\n",
              " 'p': 2,\n",
              " 'weights': 'uniform'}"
            ]
          },
          "metadata": {},
          "execution_count": 112
        }
      ]
    },
    {
      "cell_type": "code",
      "source": [
        "# Retorna o R2 do modelo\n",
        "neigh.score(X, y)"
      ],
      "metadata": {
        "colab": {
          "base_uri": "https://localhost:8080/"
        },
        "id": "shDbQ8vPIOTN",
        "outputId": "f14e6ac1-d22f-4b0e-c38b-3455d43e4790"
      },
      "execution_count": null,
      "outputs": [
        {
          "output_type": "execute_result",
          "data": {
            "text/plain": [
              "0.44669259257624594"
            ]
          },
          "metadata": {},
          "execution_count": 117
        }
      ]
    },
    {
      "cell_type": "code",
      "source": [
        "A = neigh.kneighbors_graph(X)\n",
        "A.toarray()"
      ],
      "metadata": {
        "colab": {
          "base_uri": "https://localhost:8080/"
        },
        "id": "kjA-5MKAK9Pz",
        "outputId": "bdec43e4-2bbe-44ab-b963-766ad7569ff9"
      },
      "execution_count": null,
      "outputs": [
        {
          "output_type": "execute_result",
          "data": {
            "text/plain": [
              "array([[1., 0., 0., ..., 0., 0., 0.],\n",
              "       [0., 1., 1., ..., 0., 0., 0.],\n",
              "       [0., 1., 1., ..., 0., 0., 0.],\n",
              "       ...,\n",
              "       [0., 0., 0., ..., 1., 0., 0.],\n",
              "       [0., 0., 0., ..., 0., 1., 0.],\n",
              "       [0., 0., 0., ..., 0., 0., 1.]])"
            ]
          },
          "metadata": {},
          "execution_count": 118
        }
      ]
    },
    {
      "cell_type": "code",
      "source": [
        "print(neigh.fit(X, y))"
      ],
      "metadata": {
        "colab": {
          "base_uri": "https://localhost:8080/"
        },
        "id": "7X6JfEvYzlFu",
        "outputId": "f51f48c1-e6b8-430c-bef2-1392f25ade69"
      },
      "execution_count": null,
      "outputs": [
        {
          "output_type": "stream",
          "name": "stdout",
          "text": [
            "KNeighborsRegressor(n_neighbors=7)\n"
          ]
        }
      ]
    }
  ]
}

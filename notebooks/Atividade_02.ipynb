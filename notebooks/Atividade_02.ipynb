{
 "cells": [
  {
   "cell_type": "markdown",
   "metadata": {},
   "source": [
    "# Atividade 2 - Histogramas"
   ]
  },
  {
   "cell_type": "markdown",
   "metadata": {},
   "source": [
    "## Objetivos\n",
    "1. praticar codificação de colunas.\n",
    "2. Extrair estatísticas de sumário.\n",
    "3. Examinar distribuições através de histogramas.\n",
    "\n",
    "Prática 01: Investigação dos efeitos de concussões relacionadas ao esporte.\n",
    "Os dados são baseados na ferramenta de avaliação [IMPACT](http://www.impacttest.com).\n",
    "\n",
    "A ferramenta IMPACT tem seis medidas primárias, sendo elas:\n",
    "- Composto de Memória Verbal\n",
    "- Composto de Memória Visual\n",
    "- Composto de Velocidade visual motora\n",
    "- Tempo de Reação\n",
    "- Composto de Controle de Impulso\n",
    "- Nota total do sintoma"
   ]
  },
  {
   "cell_type": "markdown",
   "metadata": {},
   "source": [
    "## Instruções\n",
    "\n",
    "1. Importe a base de dados impact.csv\n",
    "\n",
    "2. Confira o número de linhas, o número de colunas e responda:\n",
    "- 2.1 - Qual o tamanho da amostra (total de pessoas avaliadas)\n",
    "- 2.2 - Qual o tamanho da amostra em cada condição?\n",
    "- 2.3 - Quantas colunas utilizam dados em escalas numéricas contínuas?\n",
    "- 2.4 - Quantas colunas utilizam dados em escalas nominais?\n",
    "\n",
    "3. Crie (e salve para  submeter) o Histograma das seguintes Métricas, por condição (controle / concussão):\n",
    "- 3.1 Memória Verbal\n",
    "- 3.2 Memória Visual\n",
    "- 3.3 Velocidade Visual motora\n",
    "- 3.4 Tempo de Reação\n",
    "- 3.5 Controle de Impulso\n",
    "- 3.6 Nota total do Sintoma.\n",
    "\n",
    "4. Crie (e salve para  submeter) gráficos de relação entre 2 variáveis (Fit X by Y) - baseline e retest: \n",
    "- 4.1 Memória Verbal: (Y = retest; X=baseline; by = condition)\n",
    "- 4.2 Memória Visual\n",
    "- 4.3 Velocidade Visual motora"
   ]
  },
  {
   "cell_type": "code",
   "execution_count": 6,
   "metadata": {},
   "outputs": [],
   "source": [
    "# Importar bibliotecas\n",
    "import pandas as pd\n",
    "import numpy as np\n",
    "import seaborn as sns\n",
    "import matplotlib.pyplot as plt"
   ]
  },
  {
   "cell_type": "code",
   "execution_count": 2,
   "metadata": {},
   "outputs": [],
   "source": [
    "# Ler base de dados (atualize o caminho para a pasta do seu drive, basta clicar com o botão direito e acionar o botão 'copiar caminho')\n",
    "impact = pd.read_csv('../data/impact.csv')"
   ]
  },
  {
   "cell_type": "code",
   "execution_count": 3,
   "metadata": {},
   "outputs": [
    {
     "name": "stdout",
     "output_type": "stream",
     "text": [
      "<class 'pandas.core.frame.DataFrame'>\n",
      "RangeIndex: 40 entries, 0 to 39\n",
      "Data columns (total 14 columns):\n",
      " #   Column                       Non-Null Count  Dtype  \n",
      "---  ------                       --------------  -----  \n",
      " 0   subject                      40 non-null     int64  \n",
      " 1   condition                    40 non-null     object \n",
      " 2   verbal_memory_baseline       40 non-null     int64  \n",
      " 3   visual_memory_baseline       40 non-null     int64  \n",
      " 4   visual-motor_speed_baseline  40 non-null     float64\n",
      " 5   reaction_time_baseline       40 non-null     float64\n",
      " 6   impulse_control_baseline     40 non-null     int64  \n",
      " 7   total_symptom_baseline       40 non-null     int64  \n",
      " 8   verbal_memory_retest         40 non-null     int64  \n",
      " 9   visual_memory_retest         40 non-null     int64  \n",
      " 10  visual-motor_speed_retest    40 non-null     float64\n",
      " 11  reaction_time_retest         40 non-null     float64\n",
      " 12  impulse_control_retest       40 non-null     int64  \n",
      " 13  total_symptom_retest         40 non-null     int64  \n",
      "dtypes: float64(4), int64(9), object(1)\n",
      "memory usage: 4.5+ KB\n"
     ]
    }
   ],
   "source": [
    "# Informação geral e tipos de dados\n",
    "impact.info()"
   ]
  },
  {
   "cell_type": "code",
   "execution_count": 7,
   "metadata": {},
   "outputs": [
    {
     "name": "stdout",
     "output_type": "stream",
     "text": [
      "    subject  condition  verbal_memory_baseline  visual_memory_baseline  \\\n",
      "0         1    control                      95                      88   \n",
      "1         2    control                      90                      82   \n",
      "2         3    control                      87                      77   \n",
      "3         4    control                      84                      72   \n",
      "4         5    control                      92                      77   \n",
      "5         6    control                      89                      79   \n",
      "6         7    control                      78                      63   \n",
      "7         8    control                      97                      82   \n",
      "8         9    control                      93                      85   \n",
      "9        10    control                      90                      66   \n",
      "10       11    control                      89                      76   \n",
      "11       12    control                      97                      79   \n",
      "12       13    control                      79                      60   \n",
      "13       14    control                      86                      59   \n",
      "14       15    control                      85                      60   \n",
      "15       16    control                      85                      76   \n",
      "16       17    control                      98                      85   \n",
      "17       18    control                      95                      83   \n",
      "18       19    control                      96                      67   \n",
      "19       20    control                      92                      84   \n",
      "20       21  concussed                      79                      81   \n",
      "21       22  concussed                      85                      85   \n",
      "22       23  concussed                      97                      91   \n",
      "23       24  concussed                      89                      74   \n",
      "24       25  concussed                      75                      63   \n",
      "25       26  concussed                      75                      68   \n",
      "26       27  concussed                      84                      78   \n",
      "27       28  concussed                      93                      74   \n",
      "28       29  concussed                      88                      80   \n",
      "29       30  concussed                      97                      73   \n",
      "30       31  concussed                      93                      74   \n",
      "31       32  concussed                      96                      70   \n",
      "32       33  concussed                      84                      81   \n",
      "33       34  concussed                      89                      72   \n",
      "34       35  concussed                      95                      90   \n",
      "35       36  concussed                      95                      74   \n",
      "36       37  concussed                      97                      70   \n",
      "37       38  concussed                      95                      63   \n",
      "38       39  concussed                      92                      65   \n",
      "39       40  concussed                      95                      69   \n",
      "\n",
      "    visual-motor_speed_baseline  reaction_time_baseline  \\\n",
      "0                         35.29                    0.42   \n",
      "1                         31.47                    0.63   \n",
      "2                         30.87                    0.56   \n",
      "3                         41.87                    0.66   \n",
      "4                         33.28                    0.56   \n",
      "5                         40.73                    0.81   \n",
      "6                         38.09                    0.66   \n",
      "7                         31.65                    0.79   \n",
      "8                         39.59                    0.68   \n",
      "9                         30.53                    0.60   \n",
      "10                        33.65                    0.74   \n",
      "11                        37.51                    0.51   \n",
      "12                        40.39                    0.82   \n",
      "13                        32.88                    0.59   \n",
      "14                        33.39                    0.82   \n",
      "15                        35.13                    0.63   \n",
      "16                        38.51                    0.73   \n",
      "17                        29.64                    0.57   \n",
      "18                        35.32                    0.65   \n",
      "19                        27.36                    1.00   \n",
      "20                        27.19                    0.57   \n",
      "21                        32.66                    0.71   \n",
      "22                        26.29                    0.82   \n",
      "23                        28.92                    0.61   \n",
      "24                        32.77                    0.72   \n",
      "25                        32.92                    0.50   \n",
      "26                        34.26                    0.54   \n",
      "27                        36.08                    0.65   \n",
      "28                        31.63                    0.66   \n",
      "29                        28.89                    0.71   \n",
      "30                        35.81                    0.55   \n",
      "31                        33.61                    0.79   \n",
      "32                        34.46                    0.48   \n",
      "33                        39.18                    0.55   \n",
      "34                        33.14                    1.20   \n",
      "35                        33.03                    0.73   \n",
      "36                        39.01                    0.60   \n",
      "37                        35.06                    0.84   \n",
      "38                        30.58                    0.60   \n",
      "39                        38.45                    0.42   \n",
      "\n",
      "    impulse_control_baseline  total_symptom_baseline  verbal_memory_retest  \\\n",
      "0                         11                       0                    97   \n",
      "1                          7                       0                    86   \n",
      "2                          8                       0                    90   \n",
      "3                          7                       0                    85   \n",
      "4                          7                       1                    87   \n",
      "5                          6                       0                    91   \n",
      "6                          6                       0                    90   \n",
      "7                         10                       0                    94   \n",
      "8                          7                       0                    91   \n",
      "9                         10                       0                    93   \n",
      "10                         7                       0                    92   \n",
      "11                         7                       0                    89   \n",
      "12                        12                       0                    84   \n",
      "13                         2                       0                    81   \n",
      "14                         9                       0                    85   \n",
      "15                        10                       0                    87   \n",
      "16                        10                       0                    96   \n",
      "17                         8                       0                    93   \n",
      "18                         5                       0                    95   \n",
      "19                        11                       0                    93   \n",
      "20                         7                       0                    63   \n",
      "21                         9                       0                    79   \n",
      "22                         9                       0                    91   \n",
      "23                         9                       0                    85   \n",
      "24                         8                       0                    74   \n",
      "25                         9                       0                    72   \n",
      "26                         6                       0                    80   \n",
      "27                        10                       0                    59   \n",
      "28                         9                       0                    75   \n",
      "29                         7                       0                    90   \n",
      "30                         9                       0                    66   \n",
      "31                         7                       0                    85   \n",
      "32                         7                       0                    72   \n",
      "33                        10                       0                    82   \n",
      "34                        10                       0                    80   \n",
      "35                        11                       1                    59   \n",
      "36                        10                       0                    74   \n",
      "37                         5                       0                    62   \n",
      "38                         8                       0                    67   \n",
      "39                        11                       0                    66   \n",
      "\n",
      "    visual_memory_retest  visual-motor_speed_retest  reaction_time_retest  \\\n",
      "0                     86                      35.61                  0.65   \n",
      "1                     80                      37.01                  0.49   \n",
      "2                     79                      20.15                  0.75   \n",
      "3                     70                      33.26                  0.19   \n",
      "4                     77                      28.34                  0.59   \n",
      "5                     85                      33.47                  0.48   \n",
      "6                     60                      44.28                  0.77   \n",
      "7                     72                      36.14                  0.90   \n",
      "8                     83                      37.42                  0.65   \n",
      "9                     68                      25.19                  0.59   \n",
      "10                    72                      23.63                  0.55   \n",
      "11                    79                      26.32                  0.56   \n",
      "12                    67                      43.70                  0.57   \n",
      "13                    71                      32.40                  0.69   \n",
      "14                    61                      39.32                  0.73   \n",
      "15                    72                      35.62                  0.48   \n",
      "16                    78                      39.95                  0.43   \n",
      "17                    85                      35.62                  0.37   \n",
      "18                    67                      30.21                  0.47   \n",
      "19                    80                      30.37                  0.50   \n",
      "20                    75                      29.23                  0.61   \n",
      "21                    79                      44.45                  0.65   \n",
      "22                    80                      26.12                  1.12   \n",
      "23                    72                      27.98                  0.65   \n",
      "24                    56                      60.77                  0.71   \n",
      "25                    66                      31.91                  0.79   \n",
      "26                    74                      49.62                  0.64   \n",
      "27                    69                      35.68                  0.70   \n",
      "28                    79                      55.67                  0.68   \n",
      "29                    73                      25.70                  0.73   \n",
      "30                    69                      35.21                  0.58   \n",
      "31                    61                      33.01                  0.97   \n",
      "32                    79                      37.46                  0.56   \n",
      "33                    66                      53.20                  0.51   \n",
      "34                    80                      33.20                  1.30   \n",
      "35                    70                      34.59                  0.70   \n",
      "36                    62                      39.66                  0.74   \n",
      "37                    54                      35.09                  1.24   \n",
      "38                    57                      32.30                  0.65   \n",
      "39                    63                      44.49                  0.98   \n",
      "\n",
      "    impulse_control_retest  total_symptom_retest  \n",
      "0                       10                     0  \n",
      "1                        7                     0  \n",
      "2                        9                     0  \n",
      "3                        8                     0  \n",
      "4                        8                     1  \n",
      "5                        5                     0  \n",
      "6                        6                     0  \n",
      "7                       10                     0  \n",
      "8                        8                     0  \n",
      "9                       11                     0  \n",
      "10                       9                     0  \n",
      "11                       9                     1  \n",
      "12                      10                     0  \n",
      "13                       3                     0  \n",
      "14                      10                     0  \n",
      "15                      12                     0  \n",
      "16                      10                     0  \n",
      "17                       9                     0  \n",
      "18                       5                     0  \n",
      "19                      11                     0  \n",
      "20                       3                    26  \n",
      "21                       6                    34  \n",
      "22                       5                    27  \n",
      "23                       5                    22  \n",
      "24                       1                    26  \n",
      "25                       9                    35  \n",
      "26                       7                    43  \n",
      "27                      11                    31  \n",
      "28                       6                    39  \n",
      "29                       3                    25  \n",
      "30                       4                    31  \n",
      "31                       3                    38  \n",
      "32                       1                    14  \n",
      "33                       7                    16  \n",
      "34                       7                    33  \n",
      "35                       4                    13  \n",
      "36                       5                    27  \n",
      "37                       2                    15  \n",
      "38                       6                    19  \n",
      "39                       5                    39  \n"
     ]
    }
   ],
   "source": [
    "print(impact)"
   ]
  },
  {
   "cell_type": "code",
   "execution_count": 18,
   "metadata": {},
   "outputs": [
    {
     "data": {
      "image/png": "[encoded data removed]",
      "text/plain": [
       "<Figure size 720x576 with 1 Axes>"
      ]
     },
     "metadata": {},
     "output_type": "display_data"
    }
   ],
   "source": [
    "# Plotar histograma\n",
    "plt.figure(figsize=(10, 8))\n",
    "sns.set_theme(style='darkgrid')\n",
    "sns.histplot(data=impact, x ='verbal_memory_baseline', hue='condition')\n",
    "plt.show()"
   ]
  },
  {
   "cell_type": "code",
   "execution_count": 22,
   "metadata": {},
   "outputs": [
    {
     "data": {
      "image/png": "[encoded data removed]",
      "text/plain": [
       "<Figure size 1080x504 with 1 Axes>"
      ]
     },
     "metadata": {},
     "output_type": "display_data"
    }
   ],
   "source": [
    "# Plotar histograma\n",
    "plt.figure(figsize=(15, 7))\n",
    "sns.set_theme(style='white')\n",
    "sns.histplot(data=impact, x ='visual_memory_baseline', hue='condition')\n",
    "plt.show()"
   ]
  },
  {
   "cell_type": "code",
   "execution_count": 23,
   "metadata": {},
   "outputs": [
    {
     "data": {
      "text/plain": [
       "<AxesSubplot:xlabel='verbal_memory_baseline', ylabel='verbal_memory_retest'>"
      ]
     },
     "execution_count": 23,
     "metadata": {},
     "output_type": "execute_result"
    },
    {
     "data": {
      "image/png": "[encoded data removed]",
      "text/plain": [
       "<Figure size 720x576 with 1 Axes>"
      ]
     },
     "metadata": {},
     "output_type": "display_data"
    }
   ],
   "source": [
    "# Plotar gráfico de dispersão\n",
    "plt.figure(figsize=(10, 8))\n",
    "sns.set_theme(style='darkgrid')\n",
    "sns.scatterplot(data = impact, x='verbal_memory_baseline', y='verbal_memory_retest', hue='condition')"
   ]
  }
 ],
 "metadata": {
  "kernelspec": {
   "display_name": "Python 3.10.4 64-bit",
   "language": "python",
   "name": "python3"
  },
  "language_info": {
   "codemirror_mode": {
    "name": "ipython",
    "version": 3
   },
   "file_extension": ".py",
   "mimetype": "text/x-python",
   "name": "python",
   "nbconvert_exporter": "python",
   "pygments_lexer": "ipython3",
   "version": "3.10.4"
  },
  "orig_nbformat": 4,
  "vscode": {
   "interpreter": {
    "hash": "916dbcbb3f70747c44a77c7bcd40155683ae19c65e1c03b4aa3499c5328201f1"
   }
  }
 },
 "nbformat": 4,
 "nbformat_minor": 2
}

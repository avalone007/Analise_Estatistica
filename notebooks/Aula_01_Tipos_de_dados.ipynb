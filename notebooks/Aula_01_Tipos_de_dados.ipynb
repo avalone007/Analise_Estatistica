{
  "cells": [
    {
      "cell_type": "markdown",
      "metadata": {
        "colab_type": "text",
        "id": "view-in-github"
      },
      "source": [
        "<a href=\"https://colab.research.google.com/github/nanipumpkin/Analise_Estatistica/blob/main/Aula_01_Tipos_de_dados.ipynb\" target=\"_parent\"><img src=\"https://colab.research.google.com/assets/colab-badge.svg\" alt=\"Open In Colab\"/></a>"
      ]
    },
    {
      "cell_type": "markdown",
      "metadata": {
        "id": "PSy4U2h3jBrb"
      },
      "source": [
        "#Aula 1 - Noções Básicas"
      ]
    },
    {
      "cell_type": "markdown",
      "metadata": {
        "id": "e2p_snFGjL-R"
      },
      "source": [
        "## Comunique-se com seu computador"
      ]
    },
    {
      "cell_type": "code",
      "execution_count": null,
      "metadata": {
        "colab": {
          "base_uri": "https://localhost:8080/"
        },
        "id": "0i0xJOK6hZV7",
        "outputId": "0acd3274-1c50-442b-9b5a-b681d5476341"
      },
      "outputs": [
        {
          "name": "stdout",
          "output_type": "stream",
          "text": [
            "Olá!\n"
          ]
        }
      ],
      "source": [
        "# Diga olá para sua máquina e ela responderá\n",
        "print('Olá!')"
      ]
    },
    {
      "cell_type": "markdown",
      "metadata": {
        "id": "o1iG-cFojb6G"
      },
      "source": [
        "## TIPOS DE DADOS\n",
        "### Dados Numéricos (quantitativos)"
      ]
    },
    {
      "cell_type": "code",
      "execution_count": null,
      "metadata": {
        "id": "a05aP_h1h0Zb"
      },
      "outputs": [],
      "source": [
        "# Dados Numéricos Discretos (valores integrais - INT)\n",
        "x = 5"
      ]
    },
    {
      "cell_type": "code",
      "execution_count": null,
      "metadata": {
        "colab": {
          "base_uri": "https://localhost:8080/"
        },
        "id": "lVoAFAWxilY4",
        "outputId": "6ca4aa3c-3b15-4c75-ef6b-fc2e8824f23e"
      },
      "outputs": [
        {
          "name": "stdout",
          "output_type": "stream",
          "text": [
            "5\n"
          ]
        }
      ],
      "source": [
        "print(x)"
      ]
    },
    {
      "cell_type": "code",
      "execution_count": null,
      "metadata": {
        "colab": {
          "base_uri": "https://localhost:8080/"
        },
        "id": "wiL8cogYiyqx",
        "outputId": "bd65ff2d-0f13-4c7f-f283-0fe3e002395e"
      },
      "outputs": [
        {
          "name": "stdout",
          "output_type": "stream",
          "text": [
            "<class 'int'>\n"
          ]
        }
      ],
      "source": [
        "print(type(x))"
      ]
    },
    {
      "cell_type": "code",
      "execution_count": null,
      "metadata": {
        "id": "Ql1j7KIxiq-n"
      },
      "outputs": [],
      "source": [
        "# Dados Numéricos Contínuos (valores flutuantes, razão - FLOAT)\n",
        "preco = 19.99"
      ]
    },
    {
      "cell_type": "code",
      "execution_count": null,
      "metadata": {
        "colab": {
          "base_uri": "https://localhost:8080/"
        },
        "id": "2XV6saEmkUTI",
        "outputId": "52a58085-62f6-4476-839e-f51a2468074d"
      },
      "outputs": [
        {
          "name": "stdout",
          "output_type": "stream",
          "text": [
            "19.99 <class 'float'>\n"
          ]
        }
      ],
      "source": [
        "print(preco, type(preco))"
      ]
    },
    {
      "cell_type": "markdown",
      "metadata": {
        "id": "Dnmf0JvQkk7u"
      },
      "source": [
        "### Dados Categóricos (qualitativos)"
      ]
    },
    {
      "cell_type": "code",
      "execution_count": null,
      "metadata": {
        "colab": {
          "base_uri": "https://localhost:8080/"
        },
        "id": "iD2jFAzBkgy-",
        "outputId": "a90fbb40-5e0c-413d-9fa5-de704e4864bb"
      },
      "outputs": [
        {
          "name": "stdout",
          "output_type": "stream",
          "text": [
            "Porto Alegre <class 'str'>\n"
          ]
        }
      ],
      "source": [
        "# Dados Categóricos Nominais (valores textuais, string - STR)\n",
        "cidade = \"Porto Alegre\"\n",
        "print(cidade, type(cidade))"
      ]
    },
    {
      "cell_type": "code",
      "execution_count": null,
      "metadata": {
        "colab": {
          "base_uri": "https://localhost:8080/"
        },
        "id": "pCjtMFHVlqC9",
        "outputId": "3ff04eeb-0cf9-4aea-8c1b-1eec3070544c"
      },
      "outputs": [
        {
          "name": "stdout",
          "output_type": "stream",
          "text": [
            "Porto Alegre <class 'str'>\n"
          ]
        }
      ],
      "source": [
        "cidade = 'Porto Alegre'\n",
        "print(cidade, type(cidade))"
      ]
    },
    {
      "cell_type": "code",
      "execution_count": null,
      "metadata": {
        "colab": {
          "base_uri": "https://localhost:8080/"
        },
        "id": "ATFJbWtjlv_Y",
        "outputId": "460bd2ed-bde8-4d59-9108-24146285a3ef"
      },
      "outputs": [
        {
          "name": "stdout",
          "output_type": "stream",
          "text": [
            "True\n"
          ]
        }
      ],
      "source": [
        "# Dados Categóricos Ordinais (valores de ordenação - BOOL, ENUM*)\n",
        "disponivel = True\n",
        "print(disponivel)"
      ]
    },
    {
      "cell_type": "code",
      "execution_count": null,
      "metadata": {
        "colab": {
          "base_uri": "https://localhost:8080/"
        },
        "id": "tkJPe8Qdm2hk",
        "outputId": "880105b9-66cd-4744-d43b-8acabe6af303"
      },
      "outputs": [
        {
          "name": "stdout",
          "output_type": "stream",
          "text": [
            "False <class 'bool'>\n"
          ]
        }
      ],
      "source": [
        "disponivel = False\n",
        "print(disponivel, type(disponivel))"
      ]
    },
    {
      "cell_type": "markdown",
      "metadata": {
        "id": "oTfCM_udn9PI"
      },
      "source": [
        "## OPERADORES"
      ]
    },
    {
      "cell_type": "code",
      "execution_count": null,
      "metadata": {
        "id": "1f7Sj-HYoAQm"
      },
      "outputs": [],
      "source": [
        "# Dados numéricos inteiros\n",
        "x = 50\n",
        "y = 2"
      ]
    },
    {
      "cell_type": "code",
      "execution_count": null,
      "metadata": {
        "colab": {
          "base_uri": "https://localhost:8080/"
        },
        "id": "bt_T3GIfoHyZ",
        "outputId": "a9c0227e-17fb-4669-9b96-e697634a98c2"
      },
      "outputs": [
        {
          "name": "stdout",
          "output_type": "stream",
          "text": [
            "52\n",
            "48\n",
            "100\n",
            "25.0\n"
          ]
        }
      ],
      "source": [
        "#Operadores Aritméticos\n",
        "\n",
        "## Adição\n",
        "print(x + y)\n",
        "\n",
        "## Subtração\n",
        "print(x - y)\n",
        "\n",
        "## Multiplicação\n",
        "print(x * y)\n",
        "\n",
        "## Divisão\n",
        "print(x / y)"
      ]
    },
    {
      "cell_type": "code",
      "execution_count": null,
      "metadata": {
        "colab": {
          "base_uri": "https://localhost:8080/"
        },
        "id": "BtpHmUUromZa",
        "outputId": "0ef65c0e-f596-4258-f6d4-a1299442591b"
      },
      "outputs": [
        {
          "name": "stdout",
          "output_type": "stream",
          "text": [
            "2500\n",
            "25\n",
            "0\n"
          ]
        }
      ],
      "source": [
        "# Potenciação\n",
        "print(x ** y)\n",
        "\n",
        "# Divisão inteira\n",
        "print(x // y)\n",
        "\n",
        "# Resto da divisão\n",
        "print(x % y)"
      ]
    },
    {
      "cell_type": "code",
      "execution_count": null,
      "metadata": {
        "colab": {
          "base_uri": "https://localhost:8080/"
        },
        "id": "XTW_eeWIpJfN",
        "outputId": "42bacfb5-2859-41d9-d573-3a0fd85de0a9"
      },
      "outputs": [
        {
          "name": "stdout",
          "output_type": "stream",
          "text": [
            "0\n"
          ]
        }
      ],
      "source": [
        "# Divisão inteira\n",
        "print(3 // 4)"
      ]
    },
    {
      "cell_type": "code",
      "execution_count": null,
      "metadata": {
        "id": "upx_GkpXpSok"
      },
      "outputs": [],
      "source": [
        "# Dados categóricos\n",
        "tem_cafe = True\n",
        "tem_pao = False"
      ]
    },
    {
      "cell_type": "code",
      "execution_count": null,
      "metadata": {
        "colab": {
          "base_uri": "https://localhost:8080/"
        },
        "id": "yWhq32TOpX2L",
        "outputId": "8add3ba0-f946-494d-aefe-6feb16817f7f"
      },
      "outputs": [
        {
          "name": "stdout",
          "output_type": "stream",
          "text": [
            "False\n",
            "True\n",
            "False\n"
          ]
        }
      ],
      "source": [
        "# Operadores Lógicos\n",
        "\n",
        "# Altera ou inverte o valor lógico da expressão\n",
        "print(not tem_cafe)\n",
        "\n",
        "# Resulta verdadeiro se pelo menos uma das expressões for verdadeira\n",
        "print(tem_cafe or tem_pao)\n",
        "\n",
        "# Resulta verdadeiro apenas se ambas expressões forem verdadeiras\n",
        "print(tem_cafe and tem_pao)"
      ]
    },
    {
      "cell_type": "code",
      "execution_count": null,
      "metadata": {
        "id": "s4Oy8b4RsP8c"
      },
      "outputs": [],
      "source": [
        "# Dados numéricos\n",
        "dolar = 5.3\n",
        "real = 1"
      ]
    },
    {
      "cell_type": "code",
      "execution_count": null,
      "metadata": {
        "colab": {
          "base_uri": "https://localhost:8080/"
        },
        "id": "slvTmhyap_zL",
        "outputId": "57cb6a4d-b478-4afb-b1d2-b2f1cfe68d06"
      },
      "outputs": [
        {
          "name": "stdout",
          "output_type": "stream",
          "text": [
            "True\n",
            "False\n",
            "False\n",
            "True\n",
            "False\n",
            "True\n"
          ]
        }
      ],
      "source": [
        "# Operadores relacionais\n",
        "\n",
        "# Maior que\n",
        "print(dolar > real)\n",
        "\n",
        "# Menor que\n",
        "print(dolar < real)\n",
        "\n",
        "# Igual a\n",
        "print(dolar == real)\n",
        "\n",
        "# Maior ou igual\n",
        "print(dolar >= real)\n",
        "\n",
        "# Menor ou igual\n",
        "print(dolar <= real)\n",
        "\n",
        "# Diferente de\n",
        "print(dolar != real)"
      ]
    },
    {
      "cell_type": "code",
      "execution_count": null,
      "metadata": {
        "colab": {
          "base_uri": "https://localhost:8080/"
        },
        "id": "hxROT8hMv3SJ",
        "outputId": "1d78a321-8fe3-431a-b8c5-ef21b42790be"
      },
      "outputs": [
        {
          "name": "stdout",
          "output_type": "stream",
          "text": [
            "Digite o valor do seu salario mensal: 100\n",
            "Digite o valor do seu gasto mensal médio: 99.5\n",
            "O montante que voce pode economizar ao fim do ano é de:  6.0\n"
          ]
        }
      ],
      "source": [
        "# Exemplo de algoritmo - estruturas sequenciais\n",
        "salario_mensal = input('Digite o valor do seu salario mensal: ')\n",
        "salario_mensal = float(salario_mensal)\n",
        "\n",
        "gasto_mensal = input('Digite o valor do seu gasto mensal médio: ')\n",
        "gasto_mensal = float(gasto_mensal)\n",
        "\n",
        "salario_total = salario_mensal * 12\n",
        "gasto_total = gasto_mensal * 12\n",
        "\n",
        "montante_economizado = salario_total - gasto_total\n",
        "print('O montante que voce pode economizar ao fim do ano é de: ', montante_economizado)"
      ]
    }
  ],
  "metadata": {
    "colab": {
      "collapsed_sections": [],
      "include_colab_link": true,
      "provenance": []
    },
    "kernelspec": {
      "display_name": "Python 3.10.4 64-bit",
      "language": "python",
      "name": "python3"
    },
    "language_info": {
      "name": "python",
      "version": "3.10.4"
    },
    "vscode": {
      "interpreter": {
        "hash": "916dbcbb3f70747c44a77c7bcd40155683ae19c65e1c03b4aa3499c5328201f1"
      }
    }
  },
  "nbformat": 4,
  "nbformat_minor": 0
}

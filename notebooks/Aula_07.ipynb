{
  "cells": [
    {
      "cell_type": "markdown",
      "metadata": {
        "id": "ystYaKIiY2wS"
      },
      "source": [
        "# Aula 7 - Modelo Linear Genérico, codificação de variáveis e moderação/mediação"
      ]
    },
    {
      "cell_type": "markdown",
      "metadata": {
        "id": "D67fj2XRY2wa"
      },
      "source": [
        "## Modelo Linear Genérico (GLM)"
      ]
    },
    {
      "cell_type": "markdown",
      "metadata": {
        "id": "lLG2Yltn9yoM"
      },
      "source": [
        "Estrutura matemática utilizada em muitas análises estatísticas, incluindo Regressão Múltipla e ANOVA (normalmente representada como uma análise diferente, embora - na realidade - seja regressão múltipla).\n",
        "\n",
        "Características:\n",
        "\n",
        "**Linear**: pares de variáveis que (acredita-se) possuirem uma relação linear.\n",
        "**Aditivo**: se um conjunto de variáveis prevê outra variável, os efeitos são considerados como aditivos.\n",
        "\n",
        "MAS, isso *não elimina a necessidade do teste de efeitos causados por não linearidade ou não aditividade*. \n",
        "\n",
        "Permite a configuração de diversos testes:\n",
        "\n",
        "**Transformação de Variáveis**: transformar variáveis não lineares para lineares\n",
        "**Análises de moderação**: *simulação de um falso GLM* para testar efeitos não aditivos.\n",
        "\n"
      ]
    },
    {
      "cell_type": "markdown",
      "metadata": {
        "id": "a2ZkRCYB-jGk"
      },
      "source": [
        "Modelo de Regressão Linear simples = Modelo de one-way ANOVA:\n",
        "**Ŷ = B0 + B1X + Ɛ (erro aleatório)**\n",
        "\n",
        "- Ŷ = valor previsto para a variável de resposta Y\n",
        "- B0 = interseção (previsão do valor de Y quando X = 0)\n",
        "- B1 = coeficiente de regressão (inclinação da reta);\n",
        "- X  = variável de previsão (nominal em anova)"
      ]
    },
    {
      "cell_type": "markdown",
      "metadata": {
        "id": "ei8OH4lBG-Jc"
      },
      "source": [
        "Modelo de Regressão Múltipla = Modelo de ANOVA fatorial:\n",
        "\n",
        "Ŷ = B0 + B1X1 + B2X2 + B3X3 + ... + BkXk  + Ɛ \n",
        "\n",
        "**Ŷ = B0 + ∑(BkXk)**\n",
        "\n",
        "- Ŷ = valor previsto para a variável de resposta Y\n",
        "- B0 = previsão do valor de Y quando X = 0\n",
        "- Xk  = variáveis de previsão (nominais em ANOVA fatorial)\n",
        "- Bk = coeficientes de regressão não padronizados\n",
        "- Y – Ŷ = residuais (erro de predição)\n",
        "- K = número de variáveis de previsão"
      ]
    },
    {
      "cell_type": "markdown",
      "metadata": {
        "id": "vlBVCeVJ4OAf"
      },
      "source": [
        "Análise de Variância - ANOVA:\n",
        "Adequado quando os preditores (variáveis independentes) são **categóricas** e o resultado (variável dependente) é **contínua**.\n",
        "\n",
        "A aplicação mais comum é para a análise de dados de experimentos randomizados, principalmente aqueles que geram mais de duas médias.\n",
        "\n",
        "Quando somente 2 médias são geradas, utiliza-se testes-t.\n"
      ]
    },
    {
      "cell_type": "code",
      "execution_count": 1,
      "metadata": {
        "id": "w6nUyEYSY2wb"
      },
      "outputs": [],
      "source": [
        "# Importar bibliotecas\n",
        "import matplotlib.pyplot as plt\n",
        "import numpy as np\n",
        "import pandas as pd\n",
        "import seaborn as sns\n",
        "import statsmodels.formula.api as smf\n",
        "from scipy.stats import linregress"
      ]
    },
    {
      "cell_type": "markdown",
      "metadata": {
        "id": "PTFWekrn40Ca"
      },
      "source": [
        "## Codificação de variáveis"
      ]
    },
    {
      "cell_type": "markdown",
      "metadata": {
        "id": "2rf3leBI48uI"
      },
      "source": [
        "Sistema de codificação de **preditores categoricos** em análises de regressão.\n",
        "**Binário**: pode-se codificar diretamente na coluna como '0' (categoria padrão) e '1' (categoria de comparação).\n",
        "**Três categorias ou mais**: pode-se criar uma coluna para cada categoria (exceto uma, que será a padrão) e codificar de algumas maneiras:\n",
        "- **Codificação fictícia**: '1' (efeito presente) ou '0' (efeito ausente).\n",
        "- **Codificação de efeito sem pesos**: '-1' para a categoria padrão e '1' (efeito presente) ou '0' (efeito ausente). Esta codificação 'zera' cada coluna resultando no efeito de cada categoria sem o efeito da categoria padrão, mas não leva em consideração a diferença de amostragem de cada categoria. Bom quando todas as categorias tem o mesmo peso (n de observações).\n",
        "- **Codificação de efeitos com pesos**: \n",
        "-- Categoria padrão: -Ncat da coluna/N da categoria padrão.\n",
        "-- Para cada categoria: Ncat/Ncat padrão (quando presente) e '0' quando ausente."
      ]
    },
    {
      "cell_type": "markdown",
      "metadata": {
        "id": "eG-oRisI71ec"
      },
      "source": [
        "## Moderação "
      ]
    },
    {
      "cell_type": "markdown",
      "metadata": {
        "id": "V6f0cpC1_nKh"
      },
      "source": [
        "Podemos dizer que uma variável 'X' é moderada por uma segunda variável 'Z' quando a **inclusão da interação entre as duas resulta em uma melhora no modelo de regressão**. Isso acontece quando a relação entre as variáveis X e Y varia como uma função de Z, ou seja, **não é linear ao longo de 'Z'**.\n"
      ]
    },
    {
      "cell_type": "code",
      "execution_count": null,
      "metadata": {
        "id": "pQEDVRoq8NFy"
      },
      "outputs": [],
      "source": [
        "# Exemplo sem interação (linear ao longo de Z)"
      ]
    },
    {
      "cell_type": "code",
      "execution_count": null,
      "metadata": {
        "id": "GMliBPn78RuO"
      },
      "outputs": [],
      "source": [
        "# Exemplo com interação (não linear ao longo de Z)"
      ]
    },
    {
      "cell_type": "markdown",
      "metadata": {
        "id": "EaIszQNVjJNi"
      },
      "source": [
        "# Atividade"
      ]
    },
    {
      "cell_type": "markdown",
      "metadata": {
        "id": "UN_SpXV3A4XD"
      },
      "source": [
        "### Parte 01: Análise de Moderação"
      ]
    },
    {
      "cell_type": "code",
      "execution_count": 9,
      "metadata": {
        "id": "4XlqE5CYY2wd"
      },
      "outputs": [],
      "source": [
        "# Ler base de dados\n",
        "threats = pd.read_excel('../data/iq_threats.xlsx')"
      ]
    },
    {
      "cell_type": "markdown",
      "metadata": {
        "id": "GtQ2MSaCBBg6"
      },
      "source": [
        "Uma pesquisa experimental investiga os efeitos de ameaças de estereotipo em testes de inteligência.\n",
        "- A variável dependente (Y) é o escore no teste de inteligência.\n",
        "- A variável independente é a condição de tratamento (3 níveis: controle, ameaça explícita e ameaça implícita).\n",
        "- A variável de Moderação é o escore em tarefa de memória de trabalho.\n",
        "\n",
        "Tamanho da amostra N=150 (n=50).\n",
        "\n",
        "\\** a condição experimental é categórica, e já possui uma codificação fictícia: \n",
        "- Grupo de controle = referência\n",
        "- D1 = Ameaça Explícita\n",
        "- D2 = Ameaça Implícita"
      ]
    },
    {
      "cell_type": "code",
      "execution_count": 10,
      "metadata": {
        "colab": {
          "base_uri": "https://localhost:8080/"
        },
        "id": "gOW6qPjGL4VV",
        "outputId": "10f3ac05-fce8-439b-97ff-9072c0ec4fff"
      },
      "outputs": [
        {
          "name": "stdout",
          "output_type": "stream",
          "text": [
            "<class 'pandas.core.frame.DataFrame'>\n",
            "RangeIndex: 150 entries, 0 to 149\n",
            "Data columns (total 7 columns):\n",
            " #   Column       Non-Null Count  Dtype  \n",
            "---  ------       --------------  -----  \n",
            " 0   subject      150 non-null    int64  \n",
            " 1   condition    150 non-null    object \n",
            " 2   IQ           150 non-null    int64  \n",
            " 3   WM           150 non-null    int64  \n",
            " 4   WM.centered  150 non-null    float64\n",
            " 5   D1           150 non-null    int64  \n",
            " 6   D2           150 non-null    int64  \n",
            "dtypes: float64(1), int64(5), object(1)\n",
            "memory usage: 8.3+ KB\n"
          ]
        }
      ],
      "source": [
        "# Verifique as colunas dos dados\n",
        "threats.info()"
      ]
    },
    {
      "cell_type": "code",
      "execution_count": 11,
      "metadata": {
        "colab": {
          "base_uri": "https://localhost:8080/",
          "height": 300
        },
        "id": "4V0aGF6iCTMT",
        "outputId": "80be310a-89d2-4667-9cea-ffc889c38fdd"
      },
      "outputs": [
        {
          "data": {
            "text/html": [
              "<div>\n",
              "<style scoped>\n",
              "    .dataframe tbody tr th:only-of-type {\n",
              "        vertical-align: middle;\n",
              "    }\n",
              "\n",
              "    .dataframe tbody tr th {\n",
              "        vertical-align: top;\n",
              "    }\n",
              "\n",
              "    .dataframe thead th {\n",
              "        text-align: right;\n",
              "    }\n",
              "</style>\n",
              "<table border=\"1\" class=\"dataframe\">\n",
              "  <thead>\n",
              "    <tr style=\"text-align: right;\">\n",
              "      <th></th>\n",
              "      <th>subject</th>\n",
              "      <th>IQ</th>\n",
              "      <th>WM</th>\n",
              "      <th>WM.centered</th>\n",
              "      <th>D1</th>\n",
              "      <th>D2</th>\n",
              "    </tr>\n",
              "  </thead>\n",
              "  <tbody>\n",
              "    <tr>\n",
              "      <th>count</th>\n",
              "      <td>150.00</td>\n",
              "      <td>150.00</td>\n",
              "      <td>150.00</td>\n",
              "      <td>150.00</td>\n",
              "      <td>150.00</td>\n",
              "      <td>150.00</td>\n",
              "    </tr>\n",
              "    <tr>\n",
              "      <th>mean</th>\n",
              "      <td>75.50</td>\n",
              "      <td>66.02</td>\n",
              "      <td>99.08</td>\n",
              "      <td>0.00</td>\n",
              "      <td>0.33</td>\n",
              "      <td>0.33</td>\n",
              "    </tr>\n",
              "    <tr>\n",
              "      <th>std</th>\n",
              "      <td>43.45</td>\n",
              "      <td>27.78</td>\n",
              "      <td>18.37</td>\n",
              "      <td>18.37</td>\n",
              "      <td>0.47</td>\n",
              "      <td>0.47</td>\n",
              "    </tr>\n",
              "    <tr>\n",
              "      <th>min</th>\n",
              "      <td>1.00</td>\n",
              "      <td>21.00</td>\n",
              "      <td>55.00</td>\n",
              "      <td>-44.08</td>\n",
              "      <td>0.00</td>\n",
              "      <td>0.00</td>\n",
              "    </tr>\n",
              "    <tr>\n",
              "      <th>25%</th>\n",
              "      <td>38.25</td>\n",
              "      <td>44.25</td>\n",
              "      <td>86.00</td>\n",
              "      <td>-13.08</td>\n",
              "      <td>0.00</td>\n",
              "      <td>0.00</td>\n",
              "    </tr>\n",
              "    <tr>\n",
              "      <th>50%</th>\n",
              "      <td>75.50</td>\n",
              "      <td>58.50</td>\n",
              "      <td>96.50</td>\n",
              "      <td>-2.58</td>\n",
              "      <td>0.00</td>\n",
              "      <td>0.00</td>\n",
              "    </tr>\n",
              "    <tr>\n",
              "      <th>75%</th>\n",
              "      <td>112.75</td>\n",
              "      <td>81.00</td>\n",
              "      <td>111.00</td>\n",
              "      <td>11.92</td>\n",
              "      <td>1.00</td>\n",
              "      <td>1.00</td>\n",
              "    </tr>\n",
              "    <tr>\n",
              "      <th>max</th>\n",
              "      <td>150.00</td>\n",
              "      <td>141.00</td>\n",
              "      <td>159.00</td>\n",
              "      <td>59.92</td>\n",
              "      <td>1.00</td>\n",
              "      <td>1.00</td>\n",
              "    </tr>\n",
              "  </tbody>\n",
              "</table>\n",
              "</div>"
            ],
            "text/plain": [
              "       subject      IQ      WM  WM.centered      D1      D2\n",
              "count   150.00  150.00  150.00       150.00  150.00  150.00\n",
              "mean     75.50   66.02   99.08         0.00    0.33    0.33\n",
              "std      43.45   27.78   18.37        18.37    0.47    0.47\n",
              "min       1.00   21.00   55.00       -44.08    0.00    0.00\n",
              "25%      38.25   44.25   86.00       -13.08    0.00    0.00\n",
              "50%      75.50   58.50   96.50        -2.58    0.00    0.00\n",
              "75%     112.75   81.00  111.00        11.92    1.00    1.00\n",
              "max     150.00  141.00  159.00        59.92    1.00    1.00"
            ]
          },
          "execution_count": 11,
          "metadata": {},
          "output_type": "execute_result"
        }
      ],
      "source": [
        "#Vizualize as estatísticas de sumário \n",
        "threats.describe().round(2)"
      ]
    },
    {
      "cell_type": "code",
      "execution_count": 13,
      "metadata": {
        "colab": {
          "base_uri": "https://localhost:8080/",
          "height": 237
        },
        "id": "rqgY8mHKN3fK",
        "outputId": "55fa0fdb-9d84-4b89-e3fb-b05f44b8be22"
      },
      "outputs": [
        {
          "name": "stderr",
          "output_type": "stream",
          "text": [
            "/tmp/ipykernel_52752/2306592302.py:2: FutureWarning: The default value of numeric_only in DataFrame.corr is deprecated. In a future version, it will default to False. Select only valid columns or specify the value of numeric_only to silence this warning.\n",
            "  cor = threats.corr().round(2)\n"
          ]
        },
        {
          "data": {
            "text/html": [
              "<div>\n",
              "<style scoped>\n",
              "    .dataframe tbody tr th:only-of-type {\n",
              "        vertical-align: middle;\n",
              "    }\n",
              "\n",
              "    .dataframe tbody tr th {\n",
              "        vertical-align: top;\n",
              "    }\n",
              "\n",
              "    .dataframe thead th {\n",
              "        text-align: right;\n",
              "    }\n",
              "</style>\n",
              "<table border=\"1\" class=\"dataframe\">\n",
              "  <thead>\n",
              "    <tr style=\"text-align: right;\">\n",
              "      <th></th>\n",
              "      <th>subject</th>\n",
              "      <th>IQ</th>\n",
              "      <th>WM</th>\n",
              "      <th>WM.centered</th>\n",
              "      <th>D1</th>\n",
              "      <th>D2</th>\n",
              "    </tr>\n",
              "  </thead>\n",
              "  <tbody>\n",
              "    <tr>\n",
              "      <th>subject</th>\n",
              "      <td>1.00</td>\n",
              "      <td>-0.71</td>\n",
              "      <td>-0.16</td>\n",
              "      <td>-0.16</td>\n",
              "      <td>-0.00</td>\n",
              "      <td>0.82</td>\n",
              "    </tr>\n",
              "    <tr>\n",
              "      <th>IQ</th>\n",
              "      <td>-0.71</td>\n",
              "      <td>1.00</td>\n",
              "      <td>0.34</td>\n",
              "      <td>0.34</td>\n",
              "      <td>-0.35</td>\n",
              "      <td>-0.46</td>\n",
              "    </tr>\n",
              "    <tr>\n",
              "      <th>WM</th>\n",
              "      <td>-0.16</td>\n",
              "      <td>0.34</td>\n",
              "      <td>1.00</td>\n",
              "      <td>1.00</td>\n",
              "      <td>0.07</td>\n",
              "      <td>-0.19</td>\n",
              "    </tr>\n",
              "    <tr>\n",
              "      <th>WM.centered</th>\n",
              "      <td>-0.16</td>\n",
              "      <td>0.34</td>\n",
              "      <td>1.00</td>\n",
              "      <td>1.00</td>\n",
              "      <td>0.07</td>\n",
              "      <td>-0.19</td>\n",
              "    </tr>\n",
              "    <tr>\n",
              "      <th>D1</th>\n",
              "      <td>-0.00</td>\n",
              "      <td>-0.35</td>\n",
              "      <td>0.07</td>\n",
              "      <td>0.07</td>\n",
              "      <td>1.00</td>\n",
              "      <td>-0.50</td>\n",
              "    </tr>\n",
              "    <tr>\n",
              "      <th>D2</th>\n",
              "      <td>0.82</td>\n",
              "      <td>-0.46</td>\n",
              "      <td>-0.19</td>\n",
              "      <td>-0.19</td>\n",
              "      <td>-0.50</td>\n",
              "      <td>1.00</td>\n",
              "    </tr>\n",
              "  </tbody>\n",
              "</table>\n",
              "</div>"
            ],
            "text/plain": [
              "             subject    IQ    WM  WM.centered    D1    D2\n",
              "subject         1.00 -0.71 -0.16        -0.16 -0.00  0.82\n",
              "IQ             -0.71  1.00  0.34         0.34 -0.35 -0.46\n",
              "WM             -0.16  0.34  1.00         1.00  0.07 -0.19\n",
              "WM.centered    -0.16  0.34  1.00         1.00  0.07 -0.19\n",
              "D1             -0.00 -0.35  0.07         0.07  1.00 -0.50\n",
              "D2              0.82 -0.46 -0.19        -0.19 -0.50  1.00"
            ]
          },
          "execution_count": 13,
          "metadata": {},
          "output_type": "execute_result"
        }
      ],
      "source": [
        "# Verifique a correlação entre as Variáveis\n",
        "cor = threats.corr().round(2)\n",
        "cor"
      ]
    },
    {
      "cell_type": "markdown",
      "metadata": {
        "id": "pAtrnJY_FaGo"
      },
      "source": [
        "Há um efeito de Ameaça de estereótipo? \n",
        "\n",
        "Teste fazendo um modelo\n",
        "- Regressão linear Múltipla prevendo IQ à partir das condições de ameaça D1 e D2 (QI / D1+D2)."
      ]
    },
    {
      "cell_type": "code",
      "execution_count": 14,
      "metadata": {
        "colab": {
          "base_uri": "https://localhost:8080/"
        },
        "id": "tc59KPMo1iY0",
        "outputId": "8d7b307f-9cf4-4673-e598-fe1ebd69750e"
      },
      "outputs": [
        {
          "name": "stdout",
          "output_type": "stream",
          "text": [
            "Intercept    97.88\n",
            "D1          -45.72\n",
            "D2          -49.86\n",
            "dtype: float64\n",
            "                            OLS Regression Results                            \n",
            "==============================================================================\n",
            "Dep. Variable:                     IQ   R-squared:                       0.666\n",
            "Model:                            OLS   Adj. R-squared:                  0.661\n",
            "Method:                 Least Squares   F-statistic:                     146.6\n",
            "Date:                Mon, 31 Oct 2022   Prob (F-statistic):           9.88e-36\n",
            "Time:                        20:12:34   Log-Likelihood:                -628.72\n",
            "No. Observations:                 150   AIC:                             1263.\n",
            "Df Residuals:                     147   BIC:                             1272.\n",
            "Df Model:                           2                                         \n",
            "Covariance Type:            nonrobust                                         \n",
            "==============================================================================\n",
            "                 coef    std err          t      P>|t|      [0.025      0.975]\n",
            "------------------------------------------------------------------------------\n",
            "Intercept     97.8800      2.286     42.826      0.000      93.363     102.397\n",
            "D1           -45.7200      3.232    -14.145      0.000     -52.108     -39.332\n",
            "D2           -49.8600      3.232    -15.426      0.000     -56.248     -43.472\n",
            "==============================================================================\n",
            "Omnibus:                        1.182   Durbin-Watson:                   1.595\n",
            "Prob(Omnibus):                  0.554   Jarque-Bera (JB):                0.785\n",
            "Skew:                           0.126   Prob(JB):                        0.676\n",
            "Kurtosis:                       3.249   Cond. No.                         3.73\n",
            "==============================================================================\n",
            "\n",
            "Notes:\n",
            "[1] Standard Errors assume that the covariance matrix of the errors is correctly specified.\n"
          ]
        }
      ],
      "source": [
        "# Regressão Linear Múltipla IQ / D1 + D2:\n",
        "IQ_S = smf.ols('IQ ~ D1 + D2', data=threats).fit()\n",
        "print(IQ_S.params)\n",
        "print(IQ_S.summary())"
      ]
    },
    {
      "cell_type": "code",
      "execution_count": 15,
      "metadata": {
        "colab": {
          "base_uri": "https://localhost:8080/"
        },
        "id": "MAEDPQ1i3PzZ",
        "outputId": "b6c9c21d-d8cb-44e0-db45-d6a1a2157f5e"
      },
      "outputs": [
        {
          "name": "stdout",
          "output_type": "stream",
          "text": [
            "Intercept    97.88\n",
            "D1          -45.72\n",
            "D2          -49.86\n",
            "dtype: float64\n",
            "                 Generalized Linear Model Regression Results                  \n",
            "==============================================================================\n",
            "Dep. Variable:                     IQ   No. Observations:                  150\n",
            "Model:                            GLM   Df Residuals:                      147\n",
            "Model Family:                Gaussian   Df Model:                            2\n",
            "Link Function:               identity   Scale:                          261.18\n",
            "Method:                          IRLS   Log-Likelihood:                -628.72\n",
            "Date:                Mon, 31 Oct 2022   Deviance:                       38393.\n",
            "Time:                        20:12:45   Pearson chi2:                 3.84e+04\n",
            "No. Iterations:                     3   Pseudo R-squ. (CS):             0.8583\n",
            "Covariance Type:            nonrobust                                         \n",
            "==============================================================================\n",
            "                 coef    std err          z      P>|z|      [0.025      0.975]\n",
            "------------------------------------------------------------------------------\n",
            "Intercept     97.8800      2.286     42.826      0.000      93.400     102.360\n",
            "D1           -45.7200      3.232    -14.145      0.000     -52.055     -39.385\n",
            "D2           -49.8600      3.232    -15.426      0.000     -56.195     -43.525\n",
            "==============================================================================\n"
          ]
        }
      ],
      "source": [
        "# Regressão Linear Múltipla IQ / D1 + D2:\n",
        "IQ_S = smf.glm('IQ ~ D1 + D2', data=threats).fit()\n",
        "print(IQ_S.params)\n",
        "print(IQ_S.summary())"
      ]
    },
    {
      "cell_type": "markdown",
      "metadata": {
        "id": "04UUDQ3SCq4V"
      },
      "source": [
        "RESPOSTA (interpretação das análises acima): \n",
        "\n",
        "Sim, há efeito da ameaça de estereótipo. Isso pode ser visto nos coeficientes de regressão das duas condições de ameaça (ambos significativos) e no modelo (R2=0.67) e significância do mesmo (p<.01)."
      ]
    },
    {
      "cell_type": "markdown",
      "metadata": {
        "id": "ZQ2QzlWlDYMG"
      },
      "source": [
        "Há efeito de moderação da Memória de trabalho no tipo de ameaça?\n",
        "\n",
        "Teste (Modelo_1) para efeitos primários das variáves:\n",
        "- Regressão Linear Múltipla de IQ / WM+D1+D2.\n",
        "\n",
        "Teste (Modelo 2) para efeitos de moderação:\n",
        "- Regressão Linear Múltipla de IQ / WM+D1+D2+**WM\\*D1+WM\\*D2**."
      ]
    },
    {
      "cell_type": "code",
      "execution_count": 16,
      "metadata": {
        "colab": {
          "base_uri": "https://localhost:8080/"
        },
        "id": "ttoNab6nCt51",
        "outputId": "89091683-d30e-471c-ff68-086720eb8bae"
      },
      "outputs": [
        {
          "name": "stdout",
          "output_type": "stream",
          "text": [
            "Intercept    59.786350\n",
            "WM            0.372809\n",
            "D1          -45.205523\n",
            "D2          -46.907351\n",
            "dtype: float64\n",
            "                            OLS Regression Results                            \n",
            "==============================================================================\n",
            "Dep. Variable:                     IQ   R-squared:                       0.725\n",
            "Model:                            OLS   Adj. R-squared:                  0.719\n",
            "Method:                 Least Squares   F-statistic:                     128.1\n",
            "Date:                Mon, 31 Oct 2022   Prob (F-statistic):           1.08e-40\n",
            "Time:                        20:13:05   Log-Likelihood:                -614.24\n",
            "No. Observations:                 150   AIC:                             1236.\n",
            "Df Residuals:                     146   BIC:                             1249.\n",
            "Df Model:                           3                                         \n",
            "Covariance Type:            nonrobust                                         \n",
            "==============================================================================\n",
            "                 coef    std err          t      P>|t|      [0.025      0.975]\n",
            "------------------------------------------------------------------------------\n",
            "Intercept     59.7864      7.144      8.369      0.000      45.668      73.905\n",
            "WM             0.3728      0.067      5.575      0.000       0.241       0.505\n",
            "D1           -45.2055      2.946    -15.343      0.000     -51.029     -39.382\n",
            "D2           -46.9074      2.992    -15.677      0.000     -52.821     -40.994\n",
            "==============================================================================\n",
            "Omnibus:                        3.946   Durbin-Watson:                   1.444\n",
            "Prob(Omnibus):                  0.139   Jarque-Bera (JB):                4.598\n",
            "Skew:                          -0.108   Prob(JB):                        0.100\n",
            "Kurtosis:                       3.830   Cond. No.                         611.\n",
            "==============================================================================\n",
            "\n",
            "Notes:\n",
            "[1] Standard Errors assume that the covariance matrix of the errors is correctly specified.\n"
          ]
        }
      ],
      "source": [
        "# Teste (Modelo_1) para efeitos primários das variáveis\n",
        "Modelo_1 = smf.ols('IQ ~ WM + D1 + D2', threats).fit()\n",
        "print(Modelo_1.params)\n",
        "print(Modelo_1.summary())"
      ]
    },
    {
      "cell_type": "code",
      "execution_count": 17,
      "metadata": {
        "colab": {
          "base_uri": "https://localhost:8080/"
        },
        "id": "Fo-3KslRE27O",
        "outputId": "152461d6-40c6-43bc-cfa7-993dd126185a"
      },
      "outputs": [
        {
          "name": "stdout",
          "output_type": "stream",
          "text": [
            "Intercept    85.585112\n",
            "WM            0.120326\n",
            "D1          -93.095177\n",
            "D2          -79.897025\n",
            "WM:D1         0.471639\n",
            "WM:D2         0.328772\n",
            "dtype: float64\n",
            "                            OLS Regression Results                            \n",
            "==============================================================================\n",
            "Dep. Variable:                     IQ   R-squared:                       0.741\n",
            "Model:                            OLS   Adj. R-squared:                  0.732\n",
            "Method:                 Least Squares   F-statistic:                     82.35\n",
            "Date:                Mon, 31 Oct 2022   Prob (F-statistic):           1.78e-40\n",
            "Time:                        20:13:20   Log-Likelihood:                -609.67\n",
            "No. Observations:                 150   AIC:                             1231.\n",
            "Df Residuals:                     144   BIC:                             1249.\n",
            "Df Model:                           5                                         \n",
            "Covariance Type:            nonrobust                                         \n",
            "==============================================================================\n",
            "                 coef    std err          t      P>|t|      [0.025      0.975]\n",
            "------------------------------------------------------------------------------\n",
            "Intercept     85.5851     11.358      7.535      0.000      63.136     108.034\n",
            "WM             0.1203      0.109      1.100      0.273      -0.096       0.336\n",
            "D1           -93.0952     16.857     -5.523      0.000    -126.415     -59.775\n",
            "D2           -79.8970     15.477     -5.162      0.000    -110.489     -49.305\n",
            "WM:D1          0.4716      0.164      2.880      0.005       0.148       0.795\n",
            "WM:D2          0.3288      0.155      2.125      0.035       0.023       0.635\n",
            "==============================================================================\n",
            "Omnibus:                        5.452   Durbin-Watson:                   1.547\n",
            "Prob(Omnibus):                  0.065   Jarque-Bera (JB):                8.199\n",
            "Skew:                           0.001   Prob(JB):                       0.0166\n",
            "Kurtosis:                       4.145   Cond. No.                     2.10e+03\n",
            "==============================================================================\n",
            "\n",
            "Notes:\n",
            "[1] Standard Errors assume that the covariance matrix of the errors is correctly specified.\n",
            "[2] The condition number is large, 2.1e+03. This might indicate that there are\n",
            "strong multicollinearity or other numerical problems.\n"
          ]
        }
      ],
      "source": [
        "# Teste (Modelo_2) para efeitos de moderação\n",
        "Modelo_2 = smf.ols('IQ ~ WM + D1 + D2 + WM*D1 + WM*D2', threats).fit()\n",
        "print(Modelo_2.params)\n",
        "print(Modelo_2.summary())"
      ]
    },
    {
      "cell_type": "code",
      "execution_count": 18,
      "metadata": {
        "colab": {
          "base_uri": "https://localhost:8080/"
        },
        "id": "KtfaHqajBc5U",
        "outputId": "e41687d4-b565-40d9-e5a1-dc7878a0c64c"
      },
      "outputs": [
        {
          "name": "stdout",
          "output_type": "stream",
          "text": [
            "   df_resid           ssr  df_diff      ss_diff         F    Pr(>F)\n",
            "0     146.0  31655.041707      0.0          NaN       NaN       NaN\n",
            "1     144.0  29783.712093      2.0  1871.329614  4.523806  0.012433\n"
          ]
        }
      ],
      "source": [
        "# Comparando os modelos 1 e 2 acima:\n",
        "from statsmodels.stats.api import anova_lm\n",
        "\n",
        "mod_compare = anova_lm(Modelo_1, Modelo_2)\n",
        "print(mod_compare)"
      ]
    },
    {
      "cell_type": "code",
      "execution_count": 19,
      "metadata": {
        "colab": {
          "base_uri": "https://localhost:8080/",
          "height": 581
        },
        "id": "eL6hrMnwIvsm",
        "outputId": "9ef7b10d-3be4-4454-c572-c5c801505a80"
      },
      "outputs": [
        {
          "data": {
            "image/png": "[encoded data removed]",
            "text/plain": [
              "<Figure size 901.25x800 with 1 Axes>"
            ]
          },
          "metadata": {},
          "output_type": "display_data"
        }
      ],
      "source": [
        "# Gráfico de Dispersão por condição\n",
        "graph = sns.lmplot( data=threats, x='WM', y='IQ', hue='condition', height=8)\n",
        "# Nomeação dos eixos\n",
        "graph.set_axis_labels('Working Memory Score', 'IQ Score')\n",
        "plt.show()"
      ]
    },
    {
      "cell_type": "markdown",
      "metadata": {
        "id": "aDywIRgxEVyQ"
      },
      "source": [
        "Com base na interpretação dos modelos acima, responda: \n",
        "\n",
        "- 1. O 'Modelo_2' desempenha melhor que o 'Modelo_1'? Elabore.\n",
        "\n",
        "- 2. O coeficiente de regressão das variáveis de moderação (produtos) são significativos? O que isso significa? Elabore.\n",
        "\n",
        "- 3. Há moderação da ameaça? Elabore."
      ]
    },
    {
      "cell_type": "markdown",
      "metadata": {
        "id": "nzNHpL0v9nyg"
      },
      "source": [
        "R1. Em valores absolutos sim, embora ambos os modelos sejam bem similares. O modelo 1 apresenta todos os coeficientes de regressão com validade estatística, enquanto o modelo 2 tem o coeficiente de regressão de 'Working Memory' não significativo, mas as interações são significativas, indicando moderação da variável em questão.\n",
        "\n",
        "R2. Sim. Que a variável 'Ameaça (Threat)' não varia de maneira linear ao longo de 'WM'.\n",
        "\n",
        "R3. Sim. O modelo melhora com a inclusão da interação entre variáveis. Isso pode ser confirmado na comparação de modelos que mostra uma diferença estatisticamente significante (p<.01)."
      ]
    },
    {
      "cell_type": "markdown",
      "metadata": {
        "id": "NQH1jLjpBXib"
      },
      "source": [
        "### Parte 02: Análise de Mediação"
      ]
    },
    {
      "cell_type": "markdown",
      "metadata": {
        "id": "-j192erzBiIc"
      },
      "source": [
        "Uma pesquisa experimental investiga os efeitos de ameaças de estereotipo em testes de inteligência.\n",
        "- A variável dependente (Y) é o escore no teste de inteligência.\n",
        "- A variável independente (X) é a condição de tratamento (2 níveis: controle, ameaça)\n",
        "- A variável de mediação (M) é o escore em tarefa de memória de trabalho.\n",
        "\n",
        "Tamanho da amostra N=100 (n=50)."
      ]
    },
    {
      "cell_type": "code",
      "execution_count": null,
      "metadata": {
        "id": "y7GCCYUtARWv"
      },
      "outputs": [],
      "source": [
        "# Ler base de dados\n",
        "Threat = pd.read_excel('/content/drive/MyDrive/!UFSM/Analise_Estatistica/dataset/IQ_Threat_WM.xlsx')"
      ]
    },
    {
      "cell_type": "code",
      "execution_count": null,
      "metadata": {
        "colab": {
          "base_uri": "https://localhost:8080/"
        },
        "id": "47w7RL5pFJX2",
        "outputId": "b7cd6d01-968d-42ae-cffb-566fd147fd38"
      },
      "outputs": [
        {
          "name": "stdout",
          "output_type": "stream",
          "text": [
            "<class 'pandas.core.frame.DataFrame'>\n",
            "RangeIndex: 100 entries, 0 to 99\n",
            "Data columns (total 4 columns):\n",
            " #   Column     Non-Null Count  Dtype \n",
            "---  ------     --------------  ----- \n",
            " 0   subject    100 non-null    int64 \n",
            " 1   condition  100 non-null    object\n",
            " 2   IQ         100 non-null    int64 \n",
            " 3   WM         100 non-null    int64 \n",
            "dtypes: int64(3), object(1)\n",
            "memory usage: 3.2+ KB\n"
          ]
        }
      ],
      "source": [
        "# Vizualize as estatísticas de sumário (por condição de tratamento)\n",
        "Threat.info()"
      ]
    },
    {
      "cell_type": "markdown",
      "metadata": {
        "id": "xGGqPppyFJul"
      },
      "source": [
        "Analise o efeito de mediação através de 3 modelos de regressão linear:\n",
        "- Mod_01 (Y~X) - IQ / Condição\n",
        "- Mod_02 (Y~X+M) - IQ / Condição + WM\n",
        "- Mod_03 (M~X) - WM / condição"
      ]
    },
    {
      "cell_type": "code",
      "execution_count": null,
      "metadata": {
        "colab": {
          "base_uri": "https://localhost:8080/"
        },
        "id": "NMHtEN8_GVvg",
        "outputId": "0c98bf5b-79fd-4840-8ba5-8fac4f879aff"
      },
      "outputs": [
        {
          "name": "stdout",
          "output_type": "stream",
          "text": [
            "Intercept              97.32\n",
            "condition[T.threat]   -11.00\n",
            "dtype: float64\n",
            "                            OLS Regression Results                            \n",
            "==============================================================================\n",
            "Dep. Variable:                     IQ   R-squared:                       0.126\n",
            "Model:                            OLS   Adj. R-squared:                  0.117\n",
            "Method:                 Least Squares   F-statistic:                     14.11\n",
            "Date:                Fri, 28 Oct 2022   Prob (F-statistic):           0.000293\n",
            "Time:                        23:55:06   Log-Likelihood:                -409.27\n",
            "No. Observations:                 100   AIC:                             822.5\n",
            "Df Residuals:                      98   BIC:                             827.8\n",
            "Df Model:                           1                                         \n",
            "Covariance Type:            nonrobust                                         \n",
            "=======================================================================================\n",
            "                          coef    std err          t      P>|t|      [0.025      0.975]\n",
            "---------------------------------------------------------------------------------------\n",
            "Intercept              97.3200      2.071     46.999      0.000      93.211     101.429\n",
            "condition[T.threat]   -11.0000      2.928     -3.756      0.000     -16.811      -5.189\n",
            "==============================================================================\n",
            "Omnibus:                        1.433   Durbin-Watson:                   2.052\n",
            "Prob(Omnibus):                  0.488   Jarque-Bera (JB):                1.011\n",
            "Skew:                           0.232   Prob(JB):                        0.603\n",
            "Kurtosis:                       3.164   Cond. No.                         2.62\n",
            "==============================================================================\n",
            "\n",
            "Notes:\n",
            "[1] Standard Errors assume that the covariance matrix of the errors is correctly specified.\n"
          ]
        }
      ],
      "source": [
        "# Mod_01 (Y~X) - IQ / Condição\n",
        "Mod_1 = smf.ols('IQ ~ condition', data=Threat).fit()\n",
        "print(Mod_1.params)\n",
        "print(Mod_1.summary())"
      ]
    },
    {
      "cell_type": "code",
      "execution_count": null,
      "metadata": {
        "colab": {
          "base_uri": "https://localhost:8080/"
        },
        "id": "_-IBukCwGVq2",
        "outputId": "11439ab1-26b8-499a-abd1-3e79a0aa5e80"
      },
      "outputs": [
        {
          "name": "stdout",
          "output_type": "stream",
          "text": [
            "Intercept              55.997696\n",
            "condition[T.threat]    -2.407489\n",
            "WM                      0.752409\n",
            "dtype: float64\n",
            "                            OLS Regression Results                            \n",
            "==============================================================================\n",
            "Dep. Variable:                     IQ   R-squared:                       0.543\n",
            "Model:                            OLS   Adj. R-squared:                  0.533\n",
            "Method:                 Least Squares   F-statistic:                     57.59\n",
            "Date:                Sat, 29 Oct 2022   Prob (F-statistic):           3.27e-17\n",
            "Time:                        00:24:16   Log-Likelihood:                -376.86\n",
            "No. Observations:                 100   AIC:                             759.7\n",
            "Df Residuals:                      97   BIC:                             767.5\n",
            "Df Model:                           2                                         \n",
            "Covariance Type:            nonrobust                                         \n",
            "=======================================================================================\n",
            "                          coef    std err          t      P>|t|      [0.025      0.975]\n",
            "---------------------------------------------------------------------------------------\n",
            "Intercept              55.9977      4.644     12.058      0.000      46.781      65.215\n",
            "condition[T.threat]    -2.4075      2.316     -1.039      0.301      -7.005       2.190\n",
            "WM                      0.7524      0.080      9.406      0.000       0.594       0.911\n",
            "==============================================================================\n",
            "Omnibus:                        0.065   Durbin-Watson:                   2.189\n",
            "Prob(Omnibus):                  0.968   Jarque-Bera (JB):                0.004\n",
            "Skew:                          -0.002   Prob(JB):                        0.998\n",
            "Kurtosis:                       2.971   Cond. No.                         235.\n",
            "==============================================================================\n",
            "\n",
            "Notes:\n",
            "[1] Standard Errors assume that the covariance matrix of the errors is correctly specified.\n"
          ]
        }
      ],
      "source": [
        "# Mod_02 (Y~X+M) - IQ / Condição + WM\n",
        "Mod_2 = smf.ols('IQ ~ condition + WM', data=Threat).fit()\n",
        "print(Mod_2.params)\n",
        "print(Mod_2.summary())"
      ]
    },
    {
      "cell_type": "code",
      "execution_count": null,
      "metadata": {
        "colab": {
          "base_uri": "https://localhost:8080/"
        },
        "id": "PNHPIr0uGVmk",
        "outputId": "c9cd65f7-a309-481d-99f4-e2ced260f128"
      },
      "outputs": [
        {
          "name": "stdout",
          "output_type": "stream",
          "text": [
            "Intercept              54.92\n",
            "condition[T.threat]   -11.42\n",
            "dtype: float64\n",
            "                            OLS Regression Results                            \n",
            "==============================================================================\n",
            "Dep. Variable:                     WM   R-squared:                       0.156\n",
            "Model:                            OLS   Adj. R-squared:                  0.147\n",
            "Method:                 Least Squares   F-statistic:                     18.05\n",
            "Date:                Sat, 29 Oct 2022   Prob (F-statistic):           4.91e-05\n",
            "Time:                        00:24:47   Log-Likelihood:                -400.71\n",
            "No. Observations:                 100   AIC:                             805.4\n",
            "Df Residuals:                      98   BIC:                             810.6\n",
            "Df Model:                           1                                         \n",
            "Covariance Type:            nonrobust                                         \n",
            "=======================================================================================\n",
            "                          coef    std err          t      P>|t|      [0.025      0.975]\n",
            "---------------------------------------------------------------------------------------\n",
            "Intercept              54.9200      1.901     28.895      0.000      51.148      58.692\n",
            "condition[T.threat]   -11.4200      2.688     -4.249      0.000     -16.754      -6.086\n",
            "==============================================================================\n",
            "Omnibus:                        1.342   Durbin-Watson:                   2.252\n",
            "Prob(Omnibus):                  0.511   Jarque-Bera (JB):                1.180\n",
            "Skew:                          -0.086   Prob(JB):                        0.554\n",
            "Kurtosis:                       2.497   Cond. No.                         2.62\n",
            "==============================================================================\n",
            "\n",
            "Notes:\n",
            "[1] Standard Errors assume that the covariance matrix of the errors is correctly specified.\n"
          ]
        }
      ],
      "source": [
        "# Mod_03 (M~X) - WM / condição\n",
        "Mod_3 = smf.ols('WM ~ condition', data=Threat).fit()\n",
        "print(Mod_3.params)\n",
        "print(Mod_3.summary())"
      ]
    },
    {
      "cell_type": "code",
      "execution_count": null,
      "metadata": {
        "colab": {
          "base_uri": "https://localhost:8080/",
          "height": 581
        },
        "id": "go-TPjWZPF0M",
        "outputId": "45724bbd-0e3e-44f3-c455-437438e8ab5e"
      },
      "outputs": [
        {
          "data": {
            "image/png": "[encoded data removed]",
            "text/plain": [
              "<Figure size 654.1x576 with 1 Axes>"
            ]
          },
          "metadata": {},
          "output_type": "display_data"
        }
      ],
      "source": [
        "# Gráfico de Dispersão por condição\n",
        "graph2 = sns.lmplot( data=Threat, x='WM', y='IQ', hue='condition', height=8)\n",
        "# Nomeação dos eixos\n",
        "graph2.set_axis_labels('Working Memory Score', 'IQ Score')\n",
        "plt.show()"
      ]
    },
    {
      "cell_type": "markdown",
      "metadata": {
        "id": "4ARJ1wWqGm4r"
      },
      "source": [
        "\n",
        "Compare as estatísticas de sumário de cada modelo e responda: há mediação da memória de trabalho?"
      ]
    },
    {
      "cell_type": "markdown",
      "metadata": {
        "id": "M7cbizCrSGG4"
      },
      "source": [
        "Sim, Há mediação TOTAL de memória de trabalho. Isso porque, após a inserção da variável WM no modelo, o efeito da ameaça deixou de ser significativo. Além disso, um modelo de predição de 'WM' à partir da condição de ameaça pode ser feito. "
      ]
    },
    {
      "cell_type": "markdown",
      "metadata": {
        "id": "H6ERNX-gZWgp"
      },
      "source": [
        "# Referências:"
      ]
    },
    {
      "cell_type": "markdown",
      "metadata": {
        "id": "q0SebLqnZcQA"
      },
      "source": [
        "[The General Linear Model](https://statsthinking21.github.io/statsthinking21-python/13-GeneralLinearModel.html)\n",
        "\n",
        "[Generalized Linear Models - Statsmodels Documentation](https://www.statsmodels.org/stable/glm.html)\n",
        "\n",
        "[6 Ways to Encode Features for Machine Learning Algorithms](https://towardsdatascience.com/6-ways-to-encode-features-for-machine-learning-algorithms-21593f6238b0)\n",
        "\n",
        "[O que é Modelagem de Equações Estruturais?](https://statplace.com.br/blog/modelagem-de-equacoes-estruturais/)\n"
      ]
    }
  ],
  "metadata": {
    "colab": {
      "collapsed_sections": [],
      "provenance": [],
      "toc_visible": true
    },
    "kernelspec": {
      "display_name": "Python 3.10.6 ('venv': venv)",
      "language": "python",
      "name": "python3"
    },
    "language_info": {
      "codemirror_mode": {
        "name": "ipython",
        "version": 3
      },
      "file_extension": ".py",
      "mimetype": "text/x-python",
      "name": "python",
      "nbconvert_exporter": "python",
      "pygments_lexer": "ipython3",
      "version": "3.10.6"
    },
    "orig_nbformat": 4,
    "vscode": {
      "interpreter": {
        "hash": "17a21100134af3592d09988eee871935e79466d45670c914d929fa5f969b25f9"
      }
    }
  },
  "nbformat": 4,
  "nbformat_minor": 0
}

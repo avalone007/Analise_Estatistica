{
 "cells": [
  {
   "cell_type": "markdown",
   "metadata": {},
   "source": [
    "# Aula 8 - Testes T, Anova e Post-Hoc"
   ]
  },
  {
   "cell_type": "markdown",
   "metadata": {},
   "source": [
    "## Teste T para Amostras Dependentes\n",
    "\n",
    "Faremos o teste-t dependentes para a métria de Memória visual, verificando se há diferença entre o controle e as pessoas com concussão na situação de reteste.\n",
    "\n",
    "1.1 Verifique a aderencia dos dados à distribuição normal - apresente o histograma (com a linha de distribuição normal), o valor p<W e a análise para cada grupo: controle e concussão.\n",
    "(procedimento pode ser visto aqui: https://youtu.be/dOWZkghcTkM)\n",
    "1.2 Faça o Teste-t para a métrica 'visual_memory_retest' - apresente a análise e responda:\n",
    "\t1.2.1 Qual a difença média?\n",
    "\t1.2.2 Qual o valor t e o que isso significa?\n",
    "\t1.2.3 Qual a significância do resultado (p-value) e o que isso significa?\n",
    "\t1.2.4 Qual o intervalo de confiânça da diferença média? \n",
    "1.3 Faça um teste da homogeneidade da variância (Lavene): setinha vermelha > unequal variances: apresente o resultado (tabela com os testes O'Brien; Brown-Forsythe...)\n",
    "\t1.3.1 Qual o F ratio e o p-value? Qual o significado?"
   ]
  },
  {
   "cell_type": "markdown",
   "metadata": {},
   "source": [
    "### Teste de Hipótese\n",
    "Qual o impacto da concussão na memória verbal?\n",
    "- H0: verbal_memory_baseline - verbal_memory_retest = 0\n",
    "- HA: verbal_memory_baseline - verbal_memory_retest < 0\n",
    "\n",
    "- assumir grau de significância alpha = 0.05\n",
    "- amostras são dependentes: as entradas correspondem a antes e depois de uma mesma amostra"
   ]
  },
  {
   "cell_type": "code",
   "execution_count": 23,
   "metadata": {},
   "outputs": [],
   "source": [
    "# Importar bibliotecas\n",
    "import pandas as pd\n",
    "import matplotlib.pyplot as plt\n",
    "import numpy as np\n",
    "import pingouin\n",
    "from scipy.stats import t"
   ]
  },
  {
   "cell_type": "code",
   "execution_count": 5,
   "metadata": {},
   "outputs": [],
   "source": [
    "# Importar base de dados impact\n",
    "impact = pd.read_csv('../data/impact.csv')"
   ]
  },
  {
   "cell_type": "code",
   "execution_count": 6,
   "metadata": {},
   "outputs": [
    {
     "name": "stdout",
     "output_type": "stream",
     "text": [
      "<class 'pandas.core.frame.DataFrame'>\n",
      "RangeIndex: 40 entries, 0 to 39\n",
      "Data columns (total 14 columns):\n",
      " #   Column                       Non-Null Count  Dtype  \n",
      "---  ------                       --------------  -----  \n",
      " 0   subject                      40 non-null     int64  \n",
      " 1   condition                    40 non-null     object \n",
      " 2   verbal_memory_baseline       40 non-null     int64  \n",
      " 3   visual_memory_baseline       40 non-null     int64  \n",
      " 4   visual-motor_speed_baseline  40 non-null     float64\n",
      " 5   reaction_time_baseline       40 non-null     float64\n",
      " 6   impulse_control_baseline     40 non-null     int64  \n",
      " 7   total_symptom_baseline       40 non-null     int64  \n",
      " 8   verbal_memory_retest         40 non-null     int64  \n",
      " 9   visual_memory_retest         40 non-null     int64  \n",
      " 10  visual-motor_speed_retest    40 non-null     float64\n",
      " 11  reaction_time_retest         40 non-null     float64\n",
      " 12  impulse_control_retest       40 non-null     int64  \n",
      " 13  total_symptom_retest         40 non-null     int64  \n",
      "dtypes: float64(4), int64(9), object(1)\n",
      "memory usage: 4.5+ KB\n"
     ]
    }
   ],
   "source": [
    "# Informações gerais da base\n",
    "impact.info()"
   ]
  },
  {
   "cell_type": "code",
   "execution_count": 9,
   "metadata": {},
   "outputs": [
    {
     "data": {
      "text/plain": [
       "<AxesSubplot: >"
      ]
     },
     "execution_count": 9,
     "metadata": {},
     "output_type": "execute_result"
    },
    {
     "data": {
      "image/png": "[encoded data removed]",
      "text/plain": [
       "<Figure size 640x480 with 1 Axes>"
      ]
     },
     "metadata": {},
     "output_type": "display_data"
    }
   ],
   "source": [
    "# Teste-t para amostras dependentes, métrica de Memória visual, verificando se há diferença entre o controle e as pessoas com concussão na situação de reteste.\n",
    "impact['vbm_diff'] = impact['verbal_memory_baseline'] - impact['verbal_memory_retest']\n",
    "impact['vbm_diff'].hist()"
   ]
  },
  {
   "cell_type": "code",
   "execution_count": 19,
   "metadata": {},
   "outputs": [
    {
     "name": "stdout",
     "output_type": "stream",
     "text": [
      "7.75\n"
     ]
    }
   ],
   "source": [
    "# Cálculo da média das diferenças\n",
    "xbar_diff = impact['vbm_diff'].mean()\n",
    "print(xbar_diff)"
   ]
  },
  {
   "cell_type": "code",
   "execution_count": 21,
   "metadata": {},
   "outputs": [
    {
     "name": "stdout",
     "output_type": "stream",
     "text": [
      "n_diff:  40\n",
      "s_diff:  11.714006518606208\n",
      "degrees_of_freedom:  39\n",
      "p_value:  0.9999999989763807\n"
     ]
    }
   ],
   "source": [
    "# valor de n (tamanho da amostra)\n",
    "n_diff = len(impact)\n",
    "print('n_diff: ', n_diff)\n",
    "\n",
    "\n",
    "# desvio padrão da diferença (antes e depois)\n",
    "s_diff = impact['vbm_diff'].std()\n",
    "print('s_diff: ', s_diff)\n",
    "\n",
    "# t student\n",
    "t_stat = (xbar_diff-0 / np.sqrt(s_diff**2/n_diff))\n",
    "\n",
    "# graus de liberdade\n",
    "degrees_of_freedom = n_diff - 1\n",
    "print('degrees_of_freedom: ', degrees_of_freedom)\n",
    "\n",
    "# valor de p\n",
    "p_value = t.cdf(t_stat, df=n_diff-1)\n",
    "print('p_value: ', p_value)"
   ]
  },
  {
   "cell_type": "code",
   "execution_count": 24,
   "metadata": {},
   "outputs": [
    {
     "data": {
      "text/html": [
       "<div>\n",
       "<style scoped>\n",
       "    .dataframe tbody tr th:only-of-type {\n",
       "        vertical-align: middle;\n",
       "    }\n",
       "\n",
       "    .dataframe tbody tr th {\n",
       "        vertical-align: top;\n",
       "    }\n",
       "\n",
       "    .dataframe thead th {\n",
       "        text-align: right;\n",
       "    }\n",
       "</style>\n",
       "<table border=\"1\" class=\"dataframe\">\n",
       "  <thead>\n",
       "    <tr style=\"text-align: right;\">\n",
       "      <th></th>\n",
       "      <th>T</th>\n",
       "      <th>dof</th>\n",
       "      <th>alternative</th>\n",
       "      <th>p-val</th>\n",
       "      <th>CI95%</th>\n",
       "      <th>cohen-d</th>\n",
       "      <th>BF10</th>\n",
       "      <th>power</th>\n",
       "    </tr>\n",
       "  </thead>\n",
       "  <tbody>\n",
       "    <tr>\n",
       "      <th>T-test</th>\n",
       "      <td>4.184333</td>\n",
       "      <td>39</td>\n",
       "      <td>less</td>\n",
       "      <td>0.999921</td>\n",
       "      <td>[-inf, 10.87]</td>\n",
       "      <td>0.661601</td>\n",
       "      <td>0.003</td>\n",
       "      <td>3.205744e-09</td>\n",
       "    </tr>\n",
       "  </tbody>\n",
       "</table>\n",
       "</div>"
      ],
      "text/plain": [
       "               T  dof alternative     p-val          CI95%   cohen-d   BF10  \\\n",
       "T-test  4.184333   39        less  0.999921  [-inf, 10.87]  0.661601  0.003   \n",
       "\n",
       "               power  \n",
       "T-test  3.205744e-09  "
      ]
     },
     "execution_count": 24,
     "metadata": {},
     "output_type": "execute_result"
    }
   ],
   "source": [
    "pingouin.ttest(x=impact['vbm_diff'], y=0, alternative='less')"
   ]
  }
 ],
 "metadata": {
  "kernelspec": {
   "display_name": "Python 3.10.6 ('venv': venv)",
   "language": "python",
   "name": "python3"
  },
  "language_info": {
   "codemirror_mode": {
    "name": "ipython",
    "version": 3
   },
   "file_extension": ".py",
   "mimetype": "text/x-python",
   "name": "python",
   "nbconvert_exporter": "python",
   "pygments_lexer": "ipython3",
   "version": "3.10.6"
  },
  "orig_nbformat": 4,
  "vscode": {
   "interpreter": {
    "hash": "17a21100134af3592d09988eee871935e79466d45670c914d929fa5f969b25f9"
   }
  }
 },
 "nbformat": 4,
 "nbformat_minor": 2
}

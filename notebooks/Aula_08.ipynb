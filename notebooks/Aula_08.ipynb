{
 "cells": [
  {
   "cell_type": "markdown",
   "metadata": {},
   "source": [
    "# Aula 8 - Testes T, Anova e Post-Hoc"
   ]
  },
  {
   "cell_type": "markdown",
   "metadata": {},
   "source": [
    "## Teste T para Amostras Dependentes"
   ]
  },
  {
   "cell_type": "markdown",
   "metadata": {},
   "source": [
    "### Teste de Hipótese\n",
    "Qual o impacto da concussão na memória visual?\n",
    "- H0: visual_memory_baseline - visual_memory_retest == 0\n",
    "- HA: visual_memory_baseline - visual_memory_retest != 0\n",
    "\n",
    "- assumir grau de significância alpha = 0.05\n",
    "- amostras são dependentes: as entradas correspondem a antes e depois de uma mesma amostra"
   ]
  },
  {
   "cell_type": "code",
   "execution_count": 28,
   "metadata": {},
   "outputs": [],
   "source": [
    "# Importar bibliotecas\n",
    "import pandas as pd\n",
    "import matplotlib.pyplot as plt\n",
    "import numpy as np\n",
    "import pingouin\n",
    "import seaborn as sns\n",
    "from scipy.stats import t, levene"
   ]
  },
  {
   "cell_type": "code",
   "execution_count": 3,
   "metadata": {},
   "outputs": [],
   "source": [
    "# Importar base de dados impact\n",
    "impact = pd.read_csv('../data/impact.csv')"
   ]
  },
  {
   "cell_type": "code",
   "execution_count": 4,
   "metadata": {},
   "outputs": [
    {
     "name": "stdout",
     "output_type": "stream",
     "text": [
      "<class 'pandas.core.frame.DataFrame'>\n",
      "RangeIndex: 40 entries, 0 to 39\n",
      "Data columns (total 14 columns):\n",
      " #   Column                       Non-Null Count  Dtype  \n",
      "---  ------                       --------------  -----  \n",
      " 0   subject                      40 non-null     int64  \n",
      " 1   condition                    40 non-null     object \n",
      " 2   verbal_memory_baseline       40 non-null     int64  \n",
      " 3   visual_memory_baseline       40 non-null     int64  \n",
      " 4   visual-motor_speed_baseline  40 non-null     float64\n",
      " 5   reaction_time_baseline       40 non-null     float64\n",
      " 6   impulse_control_baseline     40 non-null     int64  \n",
      " 7   total_symptom_baseline       40 non-null     int64  \n",
      " 8   verbal_memory_retest         40 non-null     int64  \n",
      " 9   visual_memory_retest         40 non-null     int64  \n",
      " 10  visual-motor_speed_retest    40 non-null     float64\n",
      " 11  reaction_time_retest         40 non-null     float64\n",
      " 12  impulse_control_retest       40 non-null     int64  \n",
      " 13  total_symptom_retest         40 non-null     int64  \n",
      "dtypes: float64(4), int64(9), object(1)\n",
      "memory usage: 4.5+ KB\n"
     ]
    }
   ],
   "source": [
    "# Informações gerais da base\n",
    "impact.info()"
   ]
  },
  {
   "cell_type": "code",
   "execution_count": 11,
   "metadata": {},
   "outputs": [
    {
     "data": {
      "text/html": [
       "<div>\n",
       "<style scoped>\n",
       "    .dataframe tbody tr th:only-of-type {\n",
       "        vertical-align: middle;\n",
       "    }\n",
       "\n",
       "    .dataframe tbody tr th {\n",
       "        vertical-align: top;\n",
       "    }\n",
       "\n",
       "    .dataframe thead th {\n",
       "        text-align: right;\n",
       "    }\n",
       "</style>\n",
       "<table border=\"1\" class=\"dataframe\">\n",
       "  <thead>\n",
       "    <tr style=\"text-align: right;\">\n",
       "      <th></th>\n",
       "      <th>subject</th>\n",
       "      <th>condition</th>\n",
       "      <th>verbal_memory_baseline</th>\n",
       "      <th>visual_memory_baseline</th>\n",
       "      <th>visual-motor_speed_baseline</th>\n",
       "      <th>reaction_time_baseline</th>\n",
       "      <th>impulse_control_baseline</th>\n",
       "      <th>total_symptom_baseline</th>\n",
       "      <th>verbal_memory_retest</th>\n",
       "      <th>visual_memory_retest</th>\n",
       "      <th>visual-motor_speed_retest</th>\n",
       "      <th>reaction_time_retest</th>\n",
       "      <th>impulse_control_retest</th>\n",
       "      <th>total_symptom_retest</th>\n",
       "      <th>vbm_diff</th>\n",
       "    </tr>\n",
       "  </thead>\n",
       "  <tbody>\n",
       "    <tr>\n",
       "      <th>8</th>\n",
       "      <td>9</td>\n",
       "      <td>control</td>\n",
       "      <td>93</td>\n",
       "      <td>85</td>\n",
       "      <td>39.59</td>\n",
       "      <td>0.68</td>\n",
       "      <td>7</td>\n",
       "      <td>0</td>\n",
       "      <td>91</td>\n",
       "      <td>83</td>\n",
       "      <td>37.42</td>\n",
       "      <td>0.65</td>\n",
       "      <td>8</td>\n",
       "      <td>0</td>\n",
       "      <td>2</td>\n",
       "    </tr>\n",
       "    <tr>\n",
       "      <th>12</th>\n",
       "      <td>13</td>\n",
       "      <td>control</td>\n",
       "      <td>79</td>\n",
       "      <td>60</td>\n",
       "      <td>40.39</td>\n",
       "      <td>0.82</td>\n",
       "      <td>12</td>\n",
       "      <td>0</td>\n",
       "      <td>84</td>\n",
       "      <td>67</td>\n",
       "      <td>43.70</td>\n",
       "      <td>0.57</td>\n",
       "      <td>10</td>\n",
       "      <td>0</td>\n",
       "      <td>-5</td>\n",
       "    </tr>\n",
       "    <tr>\n",
       "      <th>13</th>\n",
       "      <td>14</td>\n",
       "      <td>control</td>\n",
       "      <td>86</td>\n",
       "      <td>59</td>\n",
       "      <td>32.88</td>\n",
       "      <td>0.59</td>\n",
       "      <td>2</td>\n",
       "      <td>0</td>\n",
       "      <td>81</td>\n",
       "      <td>71</td>\n",
       "      <td>32.40</td>\n",
       "      <td>0.69</td>\n",
       "      <td>3</td>\n",
       "      <td>0</td>\n",
       "      <td>5</td>\n",
       "    </tr>\n",
       "    <tr>\n",
       "      <th>29</th>\n",
       "      <td>30</td>\n",
       "      <td>concussed</td>\n",
       "      <td>97</td>\n",
       "      <td>73</td>\n",
       "      <td>28.89</td>\n",
       "      <td>0.71</td>\n",
       "      <td>7</td>\n",
       "      <td>0</td>\n",
       "      <td>90</td>\n",
       "      <td>73</td>\n",
       "      <td>25.70</td>\n",
       "      <td>0.73</td>\n",
       "      <td>3</td>\n",
       "      <td>25</td>\n",
       "      <td>7</td>\n",
       "    </tr>\n",
       "    <tr>\n",
       "      <th>37</th>\n",
       "      <td>38</td>\n",
       "      <td>concussed</td>\n",
       "      <td>95</td>\n",
       "      <td>63</td>\n",
       "      <td>35.06</td>\n",
       "      <td>0.84</td>\n",
       "      <td>5</td>\n",
       "      <td>0</td>\n",
       "      <td>62</td>\n",
       "      <td>54</td>\n",
       "      <td>35.09</td>\n",
       "      <td>1.24</td>\n",
       "      <td>2</td>\n",
       "      <td>15</td>\n",
       "      <td>33</td>\n",
       "    </tr>\n",
       "    <tr>\n",
       "      <th>32</th>\n",
       "      <td>33</td>\n",
       "      <td>concussed</td>\n",
       "      <td>84</td>\n",
       "      <td>81</td>\n",
       "      <td>34.46</td>\n",
       "      <td>0.48</td>\n",
       "      <td>7</td>\n",
       "      <td>0</td>\n",
       "      <td>72</td>\n",
       "      <td>79</td>\n",
       "      <td>37.46</td>\n",
       "      <td>0.56</td>\n",
       "      <td>1</td>\n",
       "      <td>14</td>\n",
       "      <td>12</td>\n",
       "    </tr>\n",
       "    <tr>\n",
       "      <th>36</th>\n",
       "      <td>37</td>\n",
       "      <td>concussed</td>\n",
       "      <td>97</td>\n",
       "      <td>70</td>\n",
       "      <td>39.01</td>\n",
       "      <td>0.60</td>\n",
       "      <td>10</td>\n",
       "      <td>0</td>\n",
       "      <td>74</td>\n",
       "      <td>62</td>\n",
       "      <td>39.66</td>\n",
       "      <td>0.74</td>\n",
       "      <td>5</td>\n",
       "      <td>27</td>\n",
       "      <td>23</td>\n",
       "    </tr>\n",
       "    <tr>\n",
       "      <th>26</th>\n",
       "      <td>27</td>\n",
       "      <td>concussed</td>\n",
       "      <td>84</td>\n",
       "      <td>78</td>\n",
       "      <td>34.26</td>\n",
       "      <td>0.54</td>\n",
       "      <td>6</td>\n",
       "      <td>0</td>\n",
       "      <td>80</td>\n",
       "      <td>74</td>\n",
       "      <td>49.62</td>\n",
       "      <td>0.64</td>\n",
       "      <td>7</td>\n",
       "      <td>43</td>\n",
       "      <td>4</td>\n",
       "    </tr>\n",
       "    <tr>\n",
       "      <th>3</th>\n",
       "      <td>4</td>\n",
       "      <td>control</td>\n",
       "      <td>84</td>\n",
       "      <td>72</td>\n",
       "      <td>41.87</td>\n",
       "      <td>0.66</td>\n",
       "      <td>7</td>\n",
       "      <td>0</td>\n",
       "      <td>85</td>\n",
       "      <td>70</td>\n",
       "      <td>33.26</td>\n",
       "      <td>0.19</td>\n",
       "      <td>8</td>\n",
       "      <td>0</td>\n",
       "      <td>-1</td>\n",
       "    </tr>\n",
       "    <tr>\n",
       "      <th>27</th>\n",
       "      <td>28</td>\n",
       "      <td>concussed</td>\n",
       "      <td>93</td>\n",
       "      <td>74</td>\n",
       "      <td>36.08</td>\n",
       "      <td>0.65</td>\n",
       "      <td>10</td>\n",
       "      <td>0</td>\n",
       "      <td>59</td>\n",
       "      <td>69</td>\n",
       "      <td>35.68</td>\n",
       "      <td>0.70</td>\n",
       "      <td>11</td>\n",
       "      <td>31</td>\n",
       "      <td>34</td>\n",
       "    </tr>\n",
       "  </tbody>\n",
       "</table>\n",
       "</div>"
      ],
      "text/plain": [
       "    subject  condition  verbal_memory_baseline  visual_memory_baseline  \\\n",
       "8         9    control                      93                      85   \n",
       "12       13    control                      79                      60   \n",
       "13       14    control                      86                      59   \n",
       "29       30  concussed                      97                      73   \n",
       "37       38  concussed                      95                      63   \n",
       "32       33  concussed                      84                      81   \n",
       "36       37  concussed                      97                      70   \n",
       "26       27  concussed                      84                      78   \n",
       "3         4    control                      84                      72   \n",
       "27       28  concussed                      93                      74   \n",
       "\n",
       "    visual-motor_speed_baseline  reaction_time_baseline  \\\n",
       "8                         39.59                    0.68   \n",
       "12                        40.39                    0.82   \n",
       "13                        32.88                    0.59   \n",
       "29                        28.89                    0.71   \n",
       "37                        35.06                    0.84   \n",
       "32                        34.46                    0.48   \n",
       "36                        39.01                    0.60   \n",
       "26                        34.26                    0.54   \n",
       "3                         41.87                    0.66   \n",
       "27                        36.08                    0.65   \n",
       "\n",
       "    impulse_control_baseline  total_symptom_baseline  verbal_memory_retest  \\\n",
       "8                          7                       0                    91   \n",
       "12                        12                       0                    84   \n",
       "13                         2                       0                    81   \n",
       "29                         7                       0                    90   \n",
       "37                         5                       0                    62   \n",
       "32                         7                       0                    72   \n",
       "36                        10                       0                    74   \n",
       "26                         6                       0                    80   \n",
       "3                          7                       0                    85   \n",
       "27                        10                       0                    59   \n",
       "\n",
       "    visual_memory_retest  visual-motor_speed_retest  reaction_time_retest  \\\n",
       "8                     83                      37.42                  0.65   \n",
       "12                    67                      43.70                  0.57   \n",
       "13                    71                      32.40                  0.69   \n",
       "29                    73                      25.70                  0.73   \n",
       "37                    54                      35.09                  1.24   \n",
       "32                    79                      37.46                  0.56   \n",
       "36                    62                      39.66                  0.74   \n",
       "26                    74                      49.62                  0.64   \n",
       "3                     70                      33.26                  0.19   \n",
       "27                    69                      35.68                  0.70   \n",
       "\n",
       "    impulse_control_retest  total_symptom_retest  vbm_diff  \n",
       "8                        8                     0         2  \n",
       "12                      10                     0        -5  \n",
       "13                       3                     0         5  \n",
       "29                       3                    25         7  \n",
       "37                       2                    15        33  \n",
       "32                       1                    14        12  \n",
       "36                       5                    27        23  \n",
       "26                       7                    43         4  \n",
       "3                        8                     0        -1  \n",
       "27                      11                    31        34  "
      ]
     },
     "execution_count": 11,
     "metadata": {},
     "output_type": "execute_result"
    }
   ],
   "source": [
    "# Amostra aleatória de 10 entradas\n",
    "impact.sample(10)"
   ]
  },
  {
   "cell_type": "markdown",
   "metadata": {},
   "source": [
    "Faremos o teste-t dependentes para a métrica de Memória visual, verificando se há diferença entre o controle e as pessoas com concussão na situação de reteste.\n",
    "\n",
    "Verifique a aderência dos dados à distribuição normal\n",
    "- apresente o histograma (com a linha de distribuição normal), o valor p < W e a análise para cada grupo: controle e concussão. O procedimento procedimento pode ser visto [aqui:]('https://youtu.be/dOWZkghcTkM')"
   ]
  },
  {
   "cell_type": "code",
   "execution_count": 38,
   "metadata": {},
   "outputs": [
    {
     "data": {
      "image/png": "[encoded data removed]",
      "text/plain": [
       "<Figure size 640x480 with 1 Axes>"
      ]
     },
     "metadata": {},
     "output_type": "display_data"
    }
   ],
   "source": [
    "# Teste-t para amostras dependentes, métrica de Memória visual, verificando se há diferença entre o controle e as pessoas com concussão na situação de reteste.\n",
    "impact['vbm_diff'] = impact['visual_memory_baseline'] - impact['visual_memory_retest']\n",
    "sns.set_theme(style='darkgrid')\n",
    "sns.histplot(data=impact, x='vbm_diff', kde=True)\n",
    "plt.show()"
   ]
  },
  {
   "cell_type": "code",
   "execution_count": 40,
   "metadata": {},
   "outputs": [
    {
     "data": {
      "image/png": "[encoded data removed]",
      "text/plain": [
       "<Figure size 640x480 with 1 Axes>"
      ]
     },
     "metadata": {},
     "output_type": "display_data"
    }
   ],
   "source": [
    "impact['vbm_diff'] = impact['visual_memory_baseline'] - impact['visual_memory_retest']\n",
    "sns.set_theme(style='darkgrid')\n",
    "sns.histplot(data=impact, x='vbm_diff', hue='condition',kde=True)\n",
    "plt.show()"
   ]
  },
  {
   "cell_type": "markdown",
   "metadata": {},
   "source": [
    "Faça o Teste-t para a métrica 'visual_memory_retest' - apresente a análise e responda:\n",
    "- Qual a difença média?\n",
    "- Qual o valor t e o que isso significa?\n",
    "- Qual a significância do resultado (p-value) e o que isso significa?\n",
    "- Qual o intervalo de confiança da diferença média? \n"
   ]
  },
  {
   "cell_type": "code",
   "execution_count": 23,
   "metadata": {},
   "outputs": [
    {
     "name": "stdout",
     "output_type": "stream",
     "text": [
      "2.975\n"
     ]
    }
   ],
   "source": [
    "# Cálculo da média das diferenças\n",
    "xbar_diff = impact['vbm_diff'].mean()\n",
    "print(xbar_diff)"
   ]
  },
  {
   "cell_type": "code",
   "execution_count": 24,
   "metadata": {},
   "outputs": [
    {
     "name": "stdout",
     "output_type": "stream",
     "text": [
      "n_diff:  40\n",
      "s_diff:  4.82773769814095\n",
      "degrees_of_freedom:  39\n",
      "p_value:  0.9974959655708271\n"
     ]
    }
   ],
   "source": [
    "# valor de n (tamanho da amostra)\n",
    "n_diff = len(impact)\n",
    "print('n_diff: ', n_diff)\n",
    "\n",
    "\n",
    "# desvio padrão da diferença (antes e depois)\n",
    "s_diff = impact['vbm_diff'].std()\n",
    "print('s_diff: ', s_diff)\n",
    "\n",
    "# t student\n",
    "t_stat = (xbar_diff-0 / np.sqrt(s_diff**2/n_diff))\n",
    "\n",
    "# graus de liberdade\n",
    "degrees_of_freedom = n_diff - 1\n",
    "print('degrees_of_freedom: ', degrees_of_freedom)\n",
    "\n",
    "# valor de p\n",
    "p_value = t.cdf(t_stat, df=n_diff-1)\n",
    "print('p_value: ', p_value)"
   ]
  },
  {
   "cell_type": "code",
   "execution_count": 64,
   "metadata": {},
   "outputs": [
    {
     "data": {
      "text/html": [
       "<div>\n",
       "<style scoped>\n",
       "    .dataframe tbody tr th:only-of-type {\n",
       "        vertical-align: middle;\n",
       "    }\n",
       "\n",
       "    .dataframe tbody tr th {\n",
       "        vertical-align: top;\n",
       "    }\n",
       "\n",
       "    .dataframe thead th {\n",
       "        text-align: right;\n",
       "    }\n",
       "</style>\n",
       "<table border=\"1\" class=\"dataframe\">\n",
       "  <thead>\n",
       "    <tr style=\"text-align: right;\">\n",
       "      <th></th>\n",
       "      <th>T</th>\n",
       "      <th>dof</th>\n",
       "      <th>alternative</th>\n",
       "      <th>p-val</th>\n",
       "      <th>CI95%</th>\n",
       "      <th>cohen-d</th>\n",
       "      <th>BF10</th>\n",
       "      <th>power</th>\n",
       "    </tr>\n",
       "  </thead>\n",
       "  <tbody>\n",
       "    <tr>\n",
       "      <th>T-test</th>\n",
       "      <td>3.897385</td>\n",
       "      <td>39</td>\n",
       "      <td>greater</td>\n",
       "      <td>0.000186</td>\n",
       "      <td>[1.69, inf]</td>\n",
       "      <td>0.616231</td>\n",
       "      <td>148.131</td>\n",
       "      <td>0.985507</td>\n",
       "    </tr>\n",
       "  </tbody>\n",
       "</table>\n",
       "</div>"
      ],
      "text/plain": [
       "               T  dof alternative     p-val        CI95%   cohen-d     BF10  \\\n",
       "T-test  3.897385   39     greater  0.000186  [1.69, inf]  0.616231  148.131   \n",
       "\n",
       "           power  \n",
       "T-test  0.985507  "
      ]
     },
     "execution_count": 64,
     "metadata": {},
     "output_type": "execute_result"
    }
   ],
   "source": [
    "# Testar diferenças entre as médias usando teste t\n",
    "pingouin.ttest(x=impact['vbm_diff'], y=0, alternative='greater')"
   ]
  },
  {
   "cell_type": "code",
   "execution_count": 65,
   "metadata": {},
   "outputs": [
    {
     "data": {
      "text/html": [
       "<div>\n",
       "<style scoped>\n",
       "    .dataframe tbody tr th:only-of-type {\n",
       "        vertical-align: middle;\n",
       "    }\n",
       "\n",
       "    .dataframe tbody tr th {\n",
       "        vertical-align: top;\n",
       "    }\n",
       "\n",
       "    .dataframe thead th {\n",
       "        text-align: right;\n",
       "    }\n",
       "</style>\n",
       "<table border=\"1\" class=\"dataframe\">\n",
       "  <thead>\n",
       "    <tr style=\"text-align: right;\">\n",
       "      <th></th>\n",
       "      <th>T</th>\n",
       "      <th>dof</th>\n",
       "      <th>alternative</th>\n",
       "      <th>p-val</th>\n",
       "      <th>CI95%</th>\n",
       "      <th>cohen-d</th>\n",
       "      <th>BF10</th>\n",
       "      <th>power</th>\n",
       "    </tr>\n",
       "  </thead>\n",
       "  <tbody>\n",
       "    <tr>\n",
       "      <th>T-test</th>\n",
       "      <td>4.184333</td>\n",
       "      <td>39</td>\n",
       "      <td>greater</td>\n",
       "      <td>0.000079</td>\n",
       "      <td>[4.63, inf]</td>\n",
       "      <td>0.858432</td>\n",
       "      <td>322.412</td>\n",
       "      <td>0.999887</td>\n",
       "    </tr>\n",
       "  </tbody>\n",
       "</table>\n",
       "</div>"
      ],
      "text/plain": [
       "               T  dof alternative     p-val        CI95%   cohen-d     BF10  \\\n",
       "T-test  4.184333   39     greater  0.000079  [4.63, inf]  0.858432  322.412   \n",
       "\n",
       "           power  \n",
       "T-test  0.999887  "
      ]
     },
     "execution_count": 65,
     "metadata": {},
     "output_type": "execute_result"
    }
   ],
   "source": [
    "# Testar diferenças com amostras dependentes (paired=True)\n",
    "pingouin.ttest(x=impact['verbal_memory_baseline'], y=impact['verbal_memory_retest'], paired=True, alternative='greater')"
   ]
  },
  {
   "cell_type": "code",
   "execution_count": 77,
   "metadata": {},
   "outputs": [
    {
     "data": {
      "text/html": [
       "<div>\n",
       "<style scoped>\n",
       "    .dataframe tbody tr th:only-of-type {\n",
       "        vertical-align: middle;\n",
       "    }\n",
       "\n",
       "    .dataframe tbody tr th {\n",
       "        vertical-align: top;\n",
       "    }\n",
       "\n",
       "    .dataframe thead th {\n",
       "        text-align: right;\n",
       "    }\n",
       "</style>\n",
       "<table border=\"1\" class=\"dataframe\">\n",
       "  <thead>\n",
       "    <tr style=\"text-align: right;\">\n",
       "      <th></th>\n",
       "      <th>T</th>\n",
       "      <th>dof</th>\n",
       "      <th>alternative</th>\n",
       "      <th>p-val</th>\n",
       "      <th>CI95%</th>\n",
       "      <th>cohen-d</th>\n",
       "      <th>BF10</th>\n",
       "      <th>power</th>\n",
       "    </tr>\n",
       "  </thead>\n",
       "  <tbody>\n",
       "    <tr>\n",
       "      <th>T-test</th>\n",
       "      <td>3.839024</td>\n",
       "      <td>78</td>\n",
       "      <td>greater</td>\n",
       "      <td>0.000125</td>\n",
       "      <td>[4.39, inf]</td>\n",
       "      <td>0.858432</td>\n",
       "      <td>199.918</td>\n",
       "      <td>0.984636</td>\n",
       "    </tr>\n",
       "  </tbody>\n",
       "</table>\n",
       "</div>"
      ],
      "text/plain": [
       "               T  dof alternative     p-val        CI95%   cohen-d     BF10  \\\n",
       "T-test  3.839024   78     greater  0.000125  [4.39, inf]  0.858432  199.918   \n",
       "\n",
       "           power  \n",
       "T-test  0.984636  "
      ]
     },
     "execution_count": 77,
     "metadata": {},
     "output_type": "execute_result"
    }
   ],
   "source": [
    "# Testar diferenças com amostras independentes\n",
    "pingouin.ttest(x=impact['verbal_memory_baseline'], y=impact['verbal_memory_retest'], paired=False, alternative='greater')"
   ]
  },
  {
   "cell_type": "code",
   "execution_count": 12,
   "metadata": {},
   "outputs": [
    {
     "data": {
      "text/plain": [
       "control      20\n",
       "concussed    20\n",
       "Name: condition, dtype: int64"
      ]
     },
     "execution_count": 12,
     "metadata": {},
     "output_type": "execute_result"
    }
   ],
   "source": [
    "# Verificar numero de entradas nas condições control e concussed,\n",
    "impact['condition'].value_counts()"
   ]
  },
  {
   "cell_type": "code",
   "execution_count": 37,
   "metadata": {},
   "outputs": [
    {
     "data": {
      "text/html": [
       "<div>\n",
       "<style scoped>\n",
       "    .dataframe tbody tr th:only-of-type {\n",
       "        vertical-align: middle;\n",
       "    }\n",
       "\n",
       "    .dataframe tbody tr th {\n",
       "        vertical-align: top;\n",
       "    }\n",
       "\n",
       "    .dataframe thead th {\n",
       "        text-align: right;\n",
       "    }\n",
       "</style>\n",
       "<table border=\"1\" class=\"dataframe\">\n",
       "  <thead>\n",
       "    <tr style=\"text-align: right;\">\n",
       "      <th></th>\n",
       "      <th>count</th>\n",
       "      <th>mean</th>\n",
       "      <th>std</th>\n",
       "      <th>min</th>\n",
       "      <th>25%</th>\n",
       "      <th>50%</th>\n",
       "      <th>75%</th>\n",
       "      <th>max</th>\n",
       "    </tr>\n",
       "    <tr>\n",
       "      <th>condition</th>\n",
       "      <th></th>\n",
       "      <th></th>\n",
       "      <th></th>\n",
       "      <th></th>\n",
       "      <th></th>\n",
       "      <th></th>\n",
       "      <th></th>\n",
       "      <th></th>\n",
       "    </tr>\n",
       "  </thead>\n",
       "  <tbody>\n",
       "    <tr>\n",
       "      <th>concussed</th>\n",
       "      <td>20.0</td>\n",
       "      <td>69.2</td>\n",
       "      <td>8.376659</td>\n",
       "      <td>54.0</td>\n",
       "      <td>62.75</td>\n",
       "      <td>69.5</td>\n",
       "      <td>76.0</td>\n",
       "      <td>80.0</td>\n",
       "    </tr>\n",
       "    <tr>\n",
       "      <th>control</th>\n",
       "      <td>20.0</td>\n",
       "      <td>74.6</td>\n",
       "      <td>7.755473</td>\n",
       "      <td>60.0</td>\n",
       "      <td>69.50</td>\n",
       "      <td>74.5</td>\n",
       "      <td>80.0</td>\n",
       "      <td>86.0</td>\n",
       "    </tr>\n",
       "  </tbody>\n",
       "</table>\n",
       "</div>"
      ],
      "text/plain": [
       "           count  mean       std   min    25%   50%   75%   max\n",
       "condition                                                      \n",
       "concussed   20.0  69.2  8.376659  54.0  62.75  69.5  76.0  80.0\n",
       "control     20.0  74.6  7.755473  60.0  69.50  74.5  80.0  86.0"
      ]
     },
     "execution_count": 37,
     "metadata": {},
     "output_type": "execute_result"
    }
   ],
   "source": [
    "# Visualizar estatísticas de sumário por grupo\n",
    "impact.groupby('condition')['visual_memory_retest'].describe()"
   ]
  },
  {
   "cell_type": "code",
   "execution_count": 17,
   "metadata": {},
   "outputs": [
    {
     "data": {
      "image/png": "[encoded data removed]",
      "text/plain": [
       "<Figure size 640x480 with 1 Axes>"
      ]
     },
     "metadata": {},
     "output_type": "display_data"
    }
   ],
   "source": [
    "# Visualizar distribuições nas duas condições\n",
    "sns.boxplot(x='verbal_memory_retest', y='condition', data=impact)\n",
    "plt.show()"
   ]
  },
  {
   "cell_type": "markdown",
   "metadata": {},
   "source": [
    "Teste de homoscedasticidade (homogeneidade da variância) (Levene). Qual o F ratio (W) e o p-value? Qual o significado?"
   ]
  },
  {
   "cell_type": "code",
   "execution_count": 36,
   "metadata": {},
   "outputs": [
    {
     "data": {
      "text/html": [
       "<div>\n",
       "<style scoped>\n",
       "    .dataframe tbody tr th:only-of-type {\n",
       "        vertical-align: middle;\n",
       "    }\n",
       "\n",
       "    .dataframe tbody tr th {\n",
       "        vertical-align: top;\n",
       "    }\n",
       "\n",
       "    .dataframe thead th {\n",
       "        text-align: right;\n",
       "    }\n",
       "</style>\n",
       "<table border=\"1\" class=\"dataframe\">\n",
       "  <thead>\n",
       "    <tr style=\"text-align: right;\">\n",
       "      <th></th>\n",
       "      <th>W</th>\n",
       "      <th>pval</th>\n",
       "      <th>equal_var</th>\n",
       "    </tr>\n",
       "  </thead>\n",
       "  <tbody>\n",
       "    <tr>\n",
       "      <th>levene</th>\n",
       "      <td>0.052246</td>\n",
       "      <td>0.820426</td>\n",
       "      <td>True</td>\n",
       "    </tr>\n",
       "  </tbody>\n",
       "</table>\n",
       "</div>"
      ],
      "text/plain": [
       "               W      pval  equal_var\n",
       "levene  0.052246  0.820426       True"
      ]
     },
     "execution_count": 36,
     "metadata": {},
     "output_type": "execute_result"
    }
   ],
   "source": [
    "pingouin.homoscedasticity(data=impact, dv='visual_memory_retest', group='condition', method='levene', alpha=0.05)"
   ]
  },
  {
   "cell_type": "markdown",
   "metadata": {},
   "source": [
    "Não há violação da homogeneidade (teste não significativo)."
   ]
  },
  {
   "cell_type": "markdown",
   "metadata": {},
   "source": [
    "## Testes T independentes\n",
    "\n",
    "Utilizaremos os dados 'Atividade 07 - IQ - Threat + working memory'. Utilize a aba \"sheet 2\" que possui duas condições de ameaça de estereótipo.\n",
    "Faremos testes-t independentes para a métrica de QI, verificando se há diferença entre o controle e as duas condições de ameaça de estereótipo."
   ]
  },
  {
   "cell_type": "code",
   "execution_count": 43,
   "metadata": {},
   "outputs": [],
   "source": [
    "iqthreats = pd.read_excel('../data/iq_threats.xlsx')"
   ]
  },
  {
   "cell_type": "code",
   "execution_count": 55,
   "metadata": {},
   "outputs": [
    {
     "name": "stdout",
     "output_type": "stream",
     "text": [
      "<class 'pandas.core.frame.DataFrame'>\n",
      "RangeIndex: 150 entries, 0 to 149\n",
      "Data columns (total 7 columns):\n",
      " #   Column       Non-Null Count  Dtype  \n",
      "---  ------       --------------  -----  \n",
      " 0   subject      150 non-null    int64  \n",
      " 1   condition    150 non-null    object \n",
      " 2   IQ           150 non-null    int64  \n",
      " 3   WM           150 non-null    int64  \n",
      " 4   WM.centered  150 non-null    float64\n",
      " 5   D1           150 non-null    int64  \n",
      " 6   D2           150 non-null    int64  \n",
      "dtypes: float64(1), int64(5), object(1)\n",
      "memory usage: 8.3+ KB\n"
     ]
    }
   ],
   "source": [
    "iqthreats.info()"
   ]
  },
  {
   "cell_type": "code",
   "execution_count": 53,
   "metadata": {},
   "outputs": [
    {
     "data": {
      "text/html": [
       "<div>\n",
       "<style scoped>\n",
       "    .dataframe tbody tr th:only-of-type {\n",
       "        vertical-align: middle;\n",
       "    }\n",
       "\n",
       "    .dataframe tbody tr th {\n",
       "        vertical-align: top;\n",
       "    }\n",
       "\n",
       "    .dataframe thead th {\n",
       "        text-align: right;\n",
       "    }\n",
       "</style>\n",
       "<table border=\"1\" class=\"dataframe\">\n",
       "  <thead>\n",
       "    <tr style=\"text-align: right;\">\n",
       "      <th></th>\n",
       "      <th>subject</th>\n",
       "      <th>condition</th>\n",
       "      <th>IQ</th>\n",
       "      <th>WM</th>\n",
       "      <th>WM.centered</th>\n",
       "      <th>D1</th>\n",
       "      <th>D2</th>\n",
       "    </tr>\n",
       "  </thead>\n",
       "  <tbody>\n",
       "    <tr>\n",
       "      <th>92</th>\n",
       "      <td>93</td>\n",
       "      <td>threat1</td>\n",
       "      <td>68</td>\n",
       "      <td>108</td>\n",
       "      <td>8.92</td>\n",
       "      <td>1</td>\n",
       "      <td>0</td>\n",
       "    </tr>\n",
       "    <tr>\n",
       "      <th>24</th>\n",
       "      <td>25</td>\n",
       "      <td>control</td>\n",
       "      <td>46</td>\n",
       "      <td>90</td>\n",
       "      <td>-9.08</td>\n",
       "      <td>0</td>\n",
       "      <td>0</td>\n",
       "    </tr>\n",
       "    <tr>\n",
       "      <th>86</th>\n",
       "      <td>87</td>\n",
       "      <td>threat1</td>\n",
       "      <td>55</td>\n",
       "      <td>111</td>\n",
       "      <td>11.92</td>\n",
       "      <td>1</td>\n",
       "      <td>0</td>\n",
       "    </tr>\n",
       "    <tr>\n",
       "      <th>6</th>\n",
       "      <td>7</td>\n",
       "      <td>control</td>\n",
       "      <td>100</td>\n",
       "      <td>99</td>\n",
       "      <td>-0.08</td>\n",
       "      <td>0</td>\n",
       "      <td>0</td>\n",
       "    </tr>\n",
       "    <tr>\n",
       "      <th>19</th>\n",
       "      <td>20</td>\n",
       "      <td>control</td>\n",
       "      <td>106</td>\n",
       "      <td>71</td>\n",
       "      <td>-28.08</td>\n",
       "      <td>0</td>\n",
       "      <td>0</td>\n",
       "    </tr>\n",
       "    <tr>\n",
       "      <th>72</th>\n",
       "      <td>73</td>\n",
       "      <td>threat1</td>\n",
       "      <td>37</td>\n",
       "      <td>92</td>\n",
       "      <td>-7.08</td>\n",
       "      <td>1</td>\n",
       "      <td>0</td>\n",
       "    </tr>\n",
       "    <tr>\n",
       "      <th>141</th>\n",
       "      <td>142</td>\n",
       "      <td>threat2</td>\n",
       "      <td>30</td>\n",
       "      <td>103</td>\n",
       "      <td>3.92</td>\n",
       "      <td>0</td>\n",
       "      <td>1</td>\n",
       "    </tr>\n",
       "    <tr>\n",
       "      <th>149</th>\n",
       "      <td>150</td>\n",
       "      <td>threat2</td>\n",
       "      <td>61</td>\n",
       "      <td>85</td>\n",
       "      <td>-14.08</td>\n",
       "      <td>0</td>\n",
       "      <td>1</td>\n",
       "    </tr>\n",
       "    <tr>\n",
       "      <th>101</th>\n",
       "      <td>102</td>\n",
       "      <td>threat2</td>\n",
       "      <td>59</td>\n",
       "      <td>86</td>\n",
       "      <td>-13.08</td>\n",
       "      <td>0</td>\n",
       "      <td>1</td>\n",
       "    </tr>\n",
       "    <tr>\n",
       "      <th>68</th>\n",
       "      <td>69</td>\n",
       "      <td>threat1</td>\n",
       "      <td>41</td>\n",
       "      <td>95</td>\n",
       "      <td>-4.08</td>\n",
       "      <td>1</td>\n",
       "      <td>0</td>\n",
       "    </tr>\n",
       "  </tbody>\n",
       "</table>\n",
       "</div>"
      ],
      "text/plain": [
       "     subject condition   IQ   WM  WM.centered  D1  D2\n",
       "92        93   threat1   68  108         8.92   1   0\n",
       "24        25   control   46   90        -9.08   0   0\n",
       "86        87   threat1   55  111        11.92   1   0\n",
       "6          7   control  100   99        -0.08   0   0\n",
       "19        20   control  106   71       -28.08   0   0\n",
       "72        73   threat1   37   92        -7.08   1   0\n",
       "141      142   threat2   30  103         3.92   0   1\n",
       "149      150   threat2   61   85       -14.08   0   1\n",
       "101      102   threat2   59   86       -13.08   0   1\n",
       "68        69   threat1   41   95        -4.08   1   0"
      ]
     },
     "execution_count": 53,
     "metadata": {},
     "output_type": "execute_result"
    }
   ],
   "source": [
    "iqthreats.sample(10)"
   ]
  },
  {
   "cell_type": "markdown",
   "metadata": {},
   "source": [
    "2.1 Verifique a aderência dos dados à distribuição normal - apresente o histograma (com a linha de distribuição normal), o valor p < W e a análise para cada um dos três grupos. Dica - peça o histograma de toda a coluna e utilize o 'local data filter'"
   ]
  },
  {
   "cell_type": "code",
   "execution_count": 67,
   "metadata": {},
   "outputs": [
    {
     "data": {
      "image/png": "[encoded data removed]",
      "text/plain": [
       "<Figure size 640x480 with 1 Axes>"
      ]
     },
     "metadata": {},
     "output_type": "display_data"
    }
   ],
   "source": [
    "sns.histplot(data=iqthreats, x='IQ', hue='condition', kde=True)\n",
    "plt.show()"
   ]
  },
  {
   "cell_type": "markdown",
   "metadata": {},
   "source": [
    "Faça o Teste-t para a métrica 'QI' - apresente a análise e responda:\n",
    "- Quais grupos possuem diferença significativa? \n",
    "- Qual o valor-t e valor-p do para controle e ameaça 1? Qual o intervalo de Confiança?\n",
    "- Qual o valor-t e valor-p do para controle e ameaça 2? Qual o intervalo de Confiança?\n",
    "- Qual o valor-t e valor-p do para ameaça 1e ameaça 2? Qual o intervalo de Confiança?"
   ]
  },
  {
   "cell_type": "code",
   "execution_count": 72,
   "metadata": {},
   "outputs": [],
   "source": [
    "controle = iqthreats[iqthreats['condition'] == 'control']\n",
    "ameaca1 = iqthreats[iqthreats['condition'] == 'threat1']\n",
    "ameaca2 = iqthreats[iqthreats['condition'] == 'threat2']"
   ]
  },
  {
   "cell_type": "code",
   "execution_count": 75,
   "metadata": {},
   "outputs": [
    {
     "data": {
      "text/html": [
       "<div>\n",
       "<style scoped>\n",
       "    .dataframe tbody tr th:only-of-type {\n",
       "        vertical-align: middle;\n",
       "    }\n",
       "\n",
       "    .dataframe tbody tr th {\n",
       "        vertical-align: top;\n",
       "    }\n",
       "\n",
       "    .dataframe thead th {\n",
       "        text-align: right;\n",
       "    }\n",
       "</style>\n",
       "<table border=\"1\" class=\"dataframe\">\n",
       "  <thead>\n",
       "    <tr style=\"text-align: right;\">\n",
       "      <th></th>\n",
       "      <th>T</th>\n",
       "      <th>dof</th>\n",
       "      <th>alternative</th>\n",
       "      <th>p-val</th>\n",
       "      <th>CI95%</th>\n",
       "      <th>cohen-d</th>\n",
       "      <th>BF10</th>\n",
       "      <th>power</th>\n",
       "    </tr>\n",
       "  </thead>\n",
       "  <tbody>\n",
       "    <tr>\n",
       "      <th>T-test</th>\n",
       "      <td>12.894779</td>\n",
       "      <td>98</td>\n",
       "      <td>greater</td>\n",
       "      <td>3.904659e-23</td>\n",
       "      <td>[39.83, inf]</td>\n",
       "      <td>2.578956</td>\n",
       "      <td>6.848e+19</td>\n",
       "      <td>1.0</td>\n",
       "    </tr>\n",
       "  </tbody>\n",
       "</table>\n",
       "</div>"
      ],
      "text/plain": [
       "                T  dof alternative         p-val         CI95%   cohen-d  \\\n",
       "T-test  12.894779   98     greater  3.904659e-23  [39.83, inf]  2.578956   \n",
       "\n",
       "             BF10  power  \n",
       "T-test  6.848e+19    1.0  "
      ]
     },
     "execution_count": 75,
     "metadata": {},
     "output_type": "execute_result"
    }
   ],
   "source": [
    "# Testar diferenças para controle e ameaça 1\n",
    "pingouin.ttest(x=controle['IQ'], y=ameaca1['IQ'], paired=False, alternative='greater')"
   ]
  },
  {
   "cell_type": "code",
   "execution_count": 74,
   "metadata": {},
   "outputs": [
    {
     "data": {
      "text/html": [
       "<div>\n",
       "<style scoped>\n",
       "    .dataframe tbody tr th:only-of-type {\n",
       "        vertical-align: middle;\n",
       "    }\n",
       "\n",
       "    .dataframe tbody tr th {\n",
       "        vertical-align: top;\n",
       "    }\n",
       "\n",
       "    .dataframe thead th {\n",
       "        text-align: right;\n",
       "    }\n",
       "</style>\n",
       "<table border=\"1\" class=\"dataframe\">\n",
       "  <thead>\n",
       "    <tr style=\"text-align: right;\">\n",
       "      <th></th>\n",
       "      <th>T</th>\n",
       "      <th>dof</th>\n",
       "      <th>alternative</th>\n",
       "      <th>p-val</th>\n",
       "      <th>CI95%</th>\n",
       "      <th>cohen-d</th>\n",
       "      <th>BF10</th>\n",
       "      <th>power</th>\n",
       "    </tr>\n",
       "  </thead>\n",
       "  <tbody>\n",
       "    <tr>\n",
       "      <th>T-test</th>\n",
       "      <td>14.475241</td>\n",
       "      <td>98</td>\n",
       "      <td>greater</td>\n",
       "      <td>2.233117e-26</td>\n",
       "      <td>[44.14, inf]</td>\n",
       "      <td>2.895048</td>\n",
       "      <td>9.982e+22</td>\n",
       "      <td>1.0</td>\n",
       "    </tr>\n",
       "  </tbody>\n",
       "</table>\n",
       "</div>"
      ],
      "text/plain": [
       "                T  dof alternative         p-val         CI95%   cohen-d  \\\n",
       "T-test  14.475241   98     greater  2.233117e-26  [44.14, inf]  2.895048   \n",
       "\n",
       "             BF10  power  \n",
       "T-test  9.982e+22    1.0  "
      ]
     },
     "execution_count": 74,
     "metadata": {},
     "output_type": "execute_result"
    }
   ],
   "source": [
    "# Testar diferenças para controle e ameaça 2\n",
    "pingouin.ttest(x=controle['IQ'], y=ameaca2['IQ'], paired=False, alternative='greater')"
   ]
  },
  {
   "cell_type": "code",
   "execution_count": 81,
   "metadata": {},
   "outputs": [
    {
     "data": {
      "text/html": [
       "<div>\n",
       "<style scoped>\n",
       "    .dataframe tbody tr th:only-of-type {\n",
       "        vertical-align: middle;\n",
       "    }\n",
       "\n",
       "    .dataframe tbody tr th {\n",
       "        vertical-align: top;\n",
       "    }\n",
       "\n",
       "    .dataframe thead th {\n",
       "        text-align: right;\n",
       "    }\n",
       "</style>\n",
       "<table border=\"1\" class=\"dataframe\">\n",
       "  <thead>\n",
       "    <tr style=\"text-align: right;\">\n",
       "      <th></th>\n",
       "      <th>T</th>\n",
       "      <th>dof</th>\n",
       "      <th>alternative</th>\n",
       "      <th>p-val</th>\n",
       "      <th>CI95%</th>\n",
       "      <th>cohen-d</th>\n",
       "      <th>BF10</th>\n",
       "      <th>power</th>\n",
       "    </tr>\n",
       "  </thead>\n",
       "  <tbody>\n",
       "    <tr>\n",
       "      <th>T-test</th>\n",
       "      <td>1.575479</td>\n",
       "      <td>98</td>\n",
       "      <td>greater</td>\n",
       "      <td>0.059184</td>\n",
       "      <td>[-0.22, inf]</td>\n",
       "      <td>0.315096</td>\n",
       "      <td>1.263</td>\n",
       "      <td>0.468015</td>\n",
       "    </tr>\n",
       "  </tbody>\n",
       "</table>\n",
       "</div>"
      ],
      "text/plain": [
       "               T  dof alternative     p-val         CI95%   cohen-d   BF10  \\\n",
       "T-test  1.575479   98     greater  0.059184  [-0.22, inf]  0.315096  1.263   \n",
       "\n",
       "           power  \n",
       "T-test  0.468015  "
      ]
     },
     "execution_count": 81,
     "metadata": {},
     "output_type": "execute_result"
    }
   ],
   "source": [
    "# Testar diferenças para ameaça 1 e ameaça 2\n",
    "pingouin.ttest(x=ameaca1['IQ'], y=ameaca2['IQ'], paired=False, alternative='greater')"
   ]
  },
  {
   "cell_type": "markdown",
   "metadata": {},
   "source": [
    "Faça um teste da homogeneidade da variância (Levene)\n",
    "- Qual o F ratio e o p-value? Qual o significado?"
   ]
  },
  {
   "cell_type": "code",
   "execution_count": 82,
   "metadata": {},
   "outputs": [
    {
     "data": {
      "text/html": [
       "<div>\n",
       "<style scoped>\n",
       "    .dataframe tbody tr th:only-of-type {\n",
       "        vertical-align: middle;\n",
       "    }\n",
       "\n",
       "    .dataframe tbody tr th {\n",
       "        vertical-align: top;\n",
       "    }\n",
       "\n",
       "    .dataframe thead th {\n",
       "        text-align: right;\n",
       "    }\n",
       "</style>\n",
       "<table border=\"1\" class=\"dataframe\">\n",
       "  <thead>\n",
       "    <tr style=\"text-align: right;\">\n",
       "      <th></th>\n",
       "      <th>W</th>\n",
       "      <th>pval</th>\n",
       "      <th>equal_var</th>\n",
       "    </tr>\n",
       "  </thead>\n",
       "  <tbody>\n",
       "    <tr>\n",
       "      <th>levene</th>\n",
       "      <td>7.320103</td>\n",
       "      <td>0.000932</td>\n",
       "      <td>False</td>\n",
       "    </tr>\n",
       "  </tbody>\n",
       "</table>\n",
       "</div>"
      ],
      "text/plain": [
       "               W      pval  equal_var\n",
       "levene  7.320103  0.000932      False"
      ]
     },
     "execution_count": 82,
     "metadata": {},
     "output_type": "execute_result"
    }
   ],
   "source": [
    "pingouin.homoscedasticity(data=iqthreats, dv='IQ', group='condition', method='levene', alpha=0.05)"
   ]
  },
  {
   "cell_type": "code",
   "execution_count": 59,
   "metadata": {},
   "outputs": [
    {
     "data": {
      "image/png": "[encoded data removed]",
      "text/plain": [
       "<Figure size 640x480 with 1 Axes>"
      ]
     },
     "metadata": {},
     "output_type": "display_data"
    }
   ],
   "source": [
    "# Visualizar distribuições nas três condições\n",
    "sns.boxplot(x='IQ', y='condition', data=iqthreats)\n",
    "plt.show()"
   ]
  },
  {
   "cell_type": "markdown",
   "metadata": {},
   "source": [
    "## ANOVA\n",
    "Utilizaremos os mesmos dados da 'Atividade 07 - IQ - Threat + working memory'. Utilize a aba \"sheet 2\" que possui duas condições de ameaça de estereótipo.\n",
    "Repetiremos a análise da parte 2, mas utilizando a ANOVA. Testaremos a métrica de QI, verificando se há efeito da ameaça de estereótipo e se há diferença os níveis de tratamento."
   ]
  },
  {
   "cell_type": "markdown",
   "metadata": {},
   "source": [
    "Faça uma ANOVA com a ameaça como preditor do IQ. (Fit Y by X). \n",
    "- Apresente o resultado e análise e responda: há efeito da ameaça? É significativo?\n",
    "- Quando da variância de IQ pode ser explicada pela ameaça neste modelo?"
   ]
  },
  {
   "cell_type": "code",
   "execution_count": 83,
   "metadata": {},
   "outputs": [
    {
     "name": "stderr",
     "output_type": "stream",
     "text": [
      "/home/marianne/code/Analise_Estatistica/venv/lib/python3.10/site-packages/pingouin/parametric.py:992: FutureWarning: Not prepending group keys to the result index of transform-like apply. In the future, the group keys will be included in the index, regardless of whether the applied function returns a like-indexed object.\n",
      "To preserve the previous behavior, use\n",
      "\n",
      "\t>>> .groupby(..., group_keys=False)\n",
      "\n",
      "To adopt the future behavior and silence this warning, use \n",
      "\n",
      "\t>>> .groupby(..., group_keys=True)\n",
      "  sserror = grp.apply(lambda x: (x - x.mean()) ** 2).sum()\n"
     ]
    },
    {
     "data": {
      "text/html": [
       "<div>\n",
       "<style scoped>\n",
       "    .dataframe tbody tr th:only-of-type {\n",
       "        vertical-align: middle;\n",
       "    }\n",
       "\n",
       "    .dataframe tbody tr th {\n",
       "        vertical-align: top;\n",
       "    }\n",
       "\n",
       "    .dataframe thead th {\n",
       "        text-align: right;\n",
       "    }\n",
       "</style>\n",
       "<table border=\"1\" class=\"dataframe\">\n",
       "  <thead>\n",
       "    <tr style=\"text-align: right;\">\n",
       "      <th></th>\n",
       "      <th>Source</th>\n",
       "      <th>ddof1</th>\n",
       "      <th>ddof2</th>\n",
       "      <th>F</th>\n",
       "      <th>p-unc</th>\n",
       "      <th>np2</th>\n",
       "    </tr>\n",
       "  </thead>\n",
       "  <tbody>\n",
       "    <tr>\n",
       "      <th>0</th>\n",
       "      <td>condition</td>\n",
       "      <td>2</td>\n",
       "      <td>147</td>\n",
       "      <td>146.563514</td>\n",
       "      <td>9.881849e-36</td>\n",
       "      <td>0.666006</td>\n",
       "    </tr>\n",
       "  </tbody>\n",
       "</table>\n",
       "</div>"
      ],
      "text/plain": [
       "      Source  ddof1  ddof2           F         p-unc       np2\n",
       "0  condition      2    147  146.563514  9.881849e-36  0.666006"
      ]
     },
     "execution_count": 83,
     "metadata": {},
     "output_type": "execute_result"
    }
   ],
   "source": [
    "alpha = 0.2\n",
    "pingouin.anova(data=iqthreats, dv='IQ', between='condition')"
   ]
  },
  {
   "cell_type": "code",
   "execution_count": 84,
   "metadata": {},
   "outputs": [
    {
     "data": {
      "text/html": [
       "<div>\n",
       "<style scoped>\n",
       "    .dataframe tbody tr th:only-of-type {\n",
       "        vertical-align: middle;\n",
       "    }\n",
       "\n",
       "    .dataframe tbody tr th {\n",
       "        vertical-align: top;\n",
       "    }\n",
       "\n",
       "    .dataframe thead th {\n",
       "        text-align: right;\n",
       "    }\n",
       "</style>\n",
       "<table border=\"1\" class=\"dataframe\">\n",
       "  <thead>\n",
       "    <tr style=\"text-align: right;\">\n",
       "      <th></th>\n",
       "      <th>Contrast</th>\n",
       "      <th>A</th>\n",
       "      <th>B</th>\n",
       "      <th>Paired</th>\n",
       "      <th>Parametric</th>\n",
       "      <th>T</th>\n",
       "      <th>dof</th>\n",
       "      <th>alternative</th>\n",
       "      <th>p-unc</th>\n",
       "      <th>BF10</th>\n",
       "      <th>hedges</th>\n",
       "    </tr>\n",
       "  </thead>\n",
       "  <tbody>\n",
       "    <tr>\n",
       "      <th>0</th>\n",
       "      <td>condition</td>\n",
       "      <td>control</td>\n",
       "      <td>threat1</td>\n",
       "      <td>False</td>\n",
       "      <td>True</td>\n",
       "      <td>12.894779</td>\n",
       "      <td>98.0</td>\n",
       "      <td>two-sided</td>\n",
       "      <td>7.809318e-23</td>\n",
       "      <td>3.424e+19</td>\n",
       "      <td>2.559168</td>\n",
       "    </tr>\n",
       "    <tr>\n",
       "      <th>1</th>\n",
       "      <td>condition</td>\n",
       "      <td>control</td>\n",
       "      <td>threat2</td>\n",
       "      <td>False</td>\n",
       "      <td>True</td>\n",
       "      <td>14.475241</td>\n",
       "      <td>98.0</td>\n",
       "      <td>two-sided</td>\n",
       "      <td>4.466234e-26</td>\n",
       "      <td>4.991e+22</td>\n",
       "      <td>2.872836</td>\n",
       "    </tr>\n",
       "    <tr>\n",
       "      <th>2</th>\n",
       "      <td>condition</td>\n",
       "      <td>threat1</td>\n",
       "      <td>threat2</td>\n",
       "      <td>False</td>\n",
       "      <td>True</td>\n",
       "      <td>1.575479</td>\n",
       "      <td>98.0</td>\n",
       "      <td>two-sided</td>\n",
       "      <td>1.183687e-01</td>\n",
       "      <td>0.632</td>\n",
       "      <td>0.312678</td>\n",
       "    </tr>\n",
       "  </tbody>\n",
       "</table>\n",
       "</div>"
      ],
      "text/plain": [
       "    Contrast        A        B  Paired  Parametric          T   dof  \\\n",
       "0  condition  control  threat1   False        True  12.894779  98.0   \n",
       "1  condition  control  threat2   False        True  14.475241  98.0   \n",
       "2  condition  threat1  threat2   False        True   1.575479  98.0   \n",
       "\n",
       "  alternative         p-unc       BF10    hedges  \n",
       "0   two-sided  7.809318e-23  3.424e+19  2.559168  \n",
       "1   two-sided  4.466234e-26  4.991e+22  2.872836  \n",
       "2   two-sided  1.183687e-01      0.632  0.312678  "
      ]
     },
     "execution_count": 84,
     "metadata": {},
     "output_type": "execute_result"
    }
   ],
   "source": [
    "# Teste em pares\n",
    "pingouin.pairwise_tests(data=iqthreats, dv='IQ', between='condition', padjust='none')"
   ]
  },
  {
   "cell_type": "code",
   "execution_count": 85,
   "metadata": {},
   "outputs": [
    {
     "data": {
      "text/html": [
       "<div>\n",
       "<style scoped>\n",
       "    .dataframe tbody tr th:only-of-type {\n",
       "        vertical-align: middle;\n",
       "    }\n",
       "\n",
       "    .dataframe tbody tr th {\n",
       "        vertical-align: top;\n",
       "    }\n",
       "\n",
       "    .dataframe thead th {\n",
       "        text-align: right;\n",
       "    }\n",
       "</style>\n",
       "<table border=\"1\" class=\"dataframe\">\n",
       "  <thead>\n",
       "    <tr style=\"text-align: right;\">\n",
       "      <th></th>\n",
       "      <th>Contrast</th>\n",
       "      <th>A</th>\n",
       "      <th>B</th>\n",
       "      <th>Paired</th>\n",
       "      <th>Parametric</th>\n",
       "      <th>T</th>\n",
       "      <th>dof</th>\n",
       "      <th>alternative</th>\n",
       "      <th>p-unc</th>\n",
       "      <th>p-corr</th>\n",
       "      <th>p-adjust</th>\n",
       "      <th>BF10</th>\n",
       "      <th>hedges</th>\n",
       "    </tr>\n",
       "  </thead>\n",
       "  <tbody>\n",
       "    <tr>\n",
       "      <th>0</th>\n",
       "      <td>condition</td>\n",
       "      <td>control</td>\n",
       "      <td>threat1</td>\n",
       "      <td>False</td>\n",
       "      <td>True</td>\n",
       "      <td>12.894779</td>\n",
       "      <td>98.0</td>\n",
       "      <td>two-sided</td>\n",
       "      <td>7.809318e-23</td>\n",
       "      <td>2.342795e-22</td>\n",
       "      <td>bonf</td>\n",
       "      <td>3.424e+19</td>\n",
       "      <td>2.559168</td>\n",
       "    </tr>\n",
       "    <tr>\n",
       "      <th>1</th>\n",
       "      <td>condition</td>\n",
       "      <td>control</td>\n",
       "      <td>threat2</td>\n",
       "      <td>False</td>\n",
       "      <td>True</td>\n",
       "      <td>14.475241</td>\n",
       "      <td>98.0</td>\n",
       "      <td>two-sided</td>\n",
       "      <td>4.466234e-26</td>\n",
       "      <td>1.339870e-25</td>\n",
       "      <td>bonf</td>\n",
       "      <td>4.991e+22</td>\n",
       "      <td>2.872836</td>\n",
       "    </tr>\n",
       "    <tr>\n",
       "      <th>2</th>\n",
       "      <td>condition</td>\n",
       "      <td>threat1</td>\n",
       "      <td>threat2</td>\n",
       "      <td>False</td>\n",
       "      <td>True</td>\n",
       "      <td>1.575479</td>\n",
       "      <td>98.0</td>\n",
       "      <td>two-sided</td>\n",
       "      <td>1.183687e-01</td>\n",
       "      <td>3.551060e-01</td>\n",
       "      <td>bonf</td>\n",
       "      <td>0.632</td>\n",
       "      <td>0.312678</td>\n",
       "    </tr>\n",
       "  </tbody>\n",
       "</table>\n",
       "</div>"
      ],
      "text/plain": [
       "    Contrast        A        B  Paired  Parametric          T   dof  \\\n",
       "0  condition  control  threat1   False        True  12.894779  98.0   \n",
       "1  condition  control  threat2   False        True  14.475241  98.0   \n",
       "2  condition  threat1  threat2   False        True   1.575479  98.0   \n",
       "\n",
       "  alternative         p-unc        p-corr p-adjust       BF10    hedges  \n",
       "0   two-sided  7.809318e-23  2.342795e-22     bonf  3.424e+19  2.559168  \n",
       "1   two-sided  4.466234e-26  1.339870e-25     bonf  4.991e+22  2.872836  \n",
       "2   two-sided  1.183687e-01  3.551060e-01     bonf      0.632  0.312678  "
      ]
     },
     "execution_count": 85,
     "metadata": {},
     "output_type": "execute_result"
    }
   ],
   "source": [
    "# Ajuste Bonferroni\n",
    "pingouin.pairwise_tests(data=iqthreats, dv='IQ', between='condition', padjust='bonf')"
   ]
  },
  {
   "cell_type": "markdown",
   "metadata": {},
   "source": [
    "Faça o teste post-hoc Tukey para todos os pares.\n",
    "- Há efeito de todos os níveis? Explique."
   ]
  },
  {
   "cell_type": "code",
   "execution_count": 86,
   "metadata": {},
   "outputs": [
    {
     "name": "stderr",
     "output_type": "stream",
     "text": [
      "/home/marianne/code/Analise_Estatistica/venv/lib/python3.10/site-packages/pingouin/parametric.py:992: FutureWarning: Not prepending group keys to the result index of transform-like apply. In the future, the group keys will be included in the index, regardless of whether the applied function returns a like-indexed object.\n",
      "To preserve the previous behavior, use\n",
      "\n",
      "\t>>> .groupby(..., group_keys=False)\n",
      "\n",
      "To adopt the future behavior and silence this warning, use \n",
      "\n",
      "\t>>> .groupby(..., group_keys=True)\n",
      "  sserror = grp.apply(lambda x: (x - x.mean()) ** 2).sum()\n"
     ]
    },
    {
     "data": {
      "text/html": [
       "<div>\n",
       "<style scoped>\n",
       "    .dataframe tbody tr th:only-of-type {\n",
       "        vertical-align: middle;\n",
       "    }\n",
       "\n",
       "    .dataframe tbody tr th {\n",
       "        vertical-align: top;\n",
       "    }\n",
       "\n",
       "    .dataframe thead th {\n",
       "        text-align: right;\n",
       "    }\n",
       "</style>\n",
       "<table border=\"1\" class=\"dataframe\">\n",
       "  <thead>\n",
       "    <tr style=\"text-align: right;\">\n",
       "      <th></th>\n",
       "      <th>A</th>\n",
       "      <th>B</th>\n",
       "      <th>mean(A)</th>\n",
       "      <th>mean(B)</th>\n",
       "      <th>diff</th>\n",
       "      <th>se</th>\n",
       "      <th>T</th>\n",
       "      <th>p-tukey</th>\n",
       "      <th>hedges</th>\n",
       "    </tr>\n",
       "  </thead>\n",
       "  <tbody>\n",
       "    <tr>\n",
       "      <th>0</th>\n",
       "      <td>control</td>\n",
       "      <td>threat1</td>\n",
       "      <td>97.88</td>\n",
       "      <td>52.16</td>\n",
       "      <td>45.72</td>\n",
       "      <td>3.232193</td>\n",
       "      <td>14.145196</td>\n",
       "      <td>2.153833e-14</td>\n",
       "      <td>2.807333</td>\n",
       "    </tr>\n",
       "    <tr>\n",
       "      <th>1</th>\n",
       "      <td>control</td>\n",
       "      <td>threat2</td>\n",
       "      <td>97.88</td>\n",
       "      <td>48.02</td>\n",
       "      <td>49.86</td>\n",
       "      <td>3.232193</td>\n",
       "      <td>15.426061</td>\n",
       "      <td>2.153833e-14</td>\n",
       "      <td>3.061540</td>\n",
       "    </tr>\n",
       "    <tr>\n",
       "      <th>2</th>\n",
       "      <td>threat1</td>\n",
       "      <td>threat2</td>\n",
       "      <td>52.16</td>\n",
       "      <td>48.02</td>\n",
       "      <td>4.14</td>\n",
       "      <td>3.232193</td>\n",
       "      <td>1.280864</td>\n",
       "      <td>4.082157e-01</td>\n",
       "      <td>0.254207</td>\n",
       "    </tr>\n",
       "  </tbody>\n",
       "</table>\n",
       "</div>"
      ],
      "text/plain": [
       "         A        B  mean(A)  mean(B)   diff        se          T  \\\n",
       "0  control  threat1    97.88    52.16  45.72  3.232193  14.145196   \n",
       "1  control  threat2    97.88    48.02  49.86  3.232193  15.426061   \n",
       "2  threat1  threat2    52.16    48.02   4.14  3.232193   1.280864   \n",
       "\n",
       "        p-tukey    hedges  \n",
       "0  2.153833e-14  2.807333  \n",
       "1  2.153833e-14  3.061540  \n",
       "2  4.082157e-01  0.254207  "
      ]
     },
     "execution_count": 86,
     "metadata": {},
     "output_type": "execute_result"
    }
   ],
   "source": [
    "pingouin.pairwise_tukey(data=iqthreats, dv='IQ', between='condition')"
   ]
  }
 ],
 "metadata": {
  "kernelspec": {
   "display_name": "Python 3.10.6 ('venv': venv)",
   "language": "python",
   "name": "python3"
  },
  "language_info": {
   "codemirror_mode": {
    "name": "ipython",
    "version": 3
   },
   "file_extension": ".py",
   "mimetype": "text/x-python",
   "name": "python",
   "nbconvert_exporter": "python",
   "pygments_lexer": "ipython3",
   "version": "3.10.6"
  },
  "orig_nbformat": 4,
  "vscode": {
   "interpreter": {
    "hash": "17a21100134af3592d09988eee871935e79466d45670c914d929fa5f969b25f9"
   }
  }
 },
 "nbformat": 4,
 "nbformat_minor": 2
}
